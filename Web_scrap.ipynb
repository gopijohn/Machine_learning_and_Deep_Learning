{
 "cells": [
  {
   "cell_type": "code",
   "execution_count": 1,
   "id": "9a244d11",
   "metadata": {},
   "outputs": [],
   "source": [
    "import requests \n",
    "from bs4 import BeautifulSoup\n",
    "import pandas as pd"
   ]
  },
  {
   "cell_type": "code",
   "execution_count": 56,
   "id": "dc24229d",
   "metadata": {},
   "outputs": [],
   "source": [
    "url='https://www.inshorts.com/en/read'\n",
    "data=requests.get(url)"
   ]
  },
  {
   "cell_type": "code",
   "execution_count": 57,
   "id": "85eef657",
   "metadata": {},
   "outputs": [
    {
     "data": {
      "text/plain": [
       "<Response [200]>"
      ]
     },
     "execution_count": 57,
     "metadata": {},
     "output_type": "execute_result"
    }
   ],
   "source": [
    "data"
   ]
  },
  {
   "cell_type": "code",
   "execution_count": 58,
   "id": "a89169ff",
   "metadata": {},
   "outputs": [],
   "source": [
    "soup=BeautifulSoup(data.content,'html.parser')"
   ]
  },
  {
   "cell_type": "code",
   "execution_count": 59,
   "id": "da65fd0f",
   "metadata": {},
   "outputs": [],
   "source": [
    "#soup"
   ]
  },
  {
   "cell_type": "code",
   "execution_count": 60,
   "id": "2feb66e0",
   "metadata": {},
   "outputs": [],
   "source": [
    "head=[]\n",
    "for i in soup.find_all('span',itemprop=['headline']):\n",
    "    head.append(i.text)"
   ]
  },
  {
   "cell_type": "code",
   "execution_count": 61,
   "id": "abef9e51",
   "metadata": {},
   "outputs": [
    {
     "data": {
      "text/plain": [
       "['ED raids 7 locations in Mumbai & Pune linked to Maharashtra minister Anil Parab',\n",
       " 'Infinity Learn announces the acquisition of Wizklub for $10 million',\n",
       " \"Devendra Fadnavis' wife Amruta walks Cannes red carpet, shares pics\",\n",
       " 'India reports 2,628 new COVID-19 cases, 18 deaths in last 24 hours',\n",
       " 'Musk pledges $6.25 billion more in equity to fund Twitter deal',\n",
       " \"What did court tell Yasin Malik when he claimed to be Mahatma Gandhi's follower?\",\n",
       " 'Bypolls to 3 Lok Sabha, 7 Assembly seats across 6 states on June 23: EC',\n",
       " \"Yasin Malik's crimes meant to strike at the heart of the idea of India: NIA court\",\n",
       " 'Messages sent by 18-year-old minutes before killing 19 kids at US school revealed',\n",
       " \"Work ethics in B'wood still slipshod, totally different in South: Dalip\",\n",
       " \"I'm his huge fan, I'm not planning to dethrone him: Siddhant on Varun Dhawan\",\n",
       " \"Can expect new film starring Dhanush's character in lead soon: Russo Brothers\",\n",
       " 'Karnataka reports 208 new COVID-19 cases; 197 in Bengaluru alone',\n",
       " 'It was a special day, guys put in a special performance: Du Plessis on win vs LSG',\n",
       " 'Mumbai records 295 new COVID-19 cases, highest in 3 months',\n",
       " 'Twitter investors vote against re-electing Musk-backer Durban to board',\n",
       " \"AIADMK 'weak opposition', people expect me to lead: Sasikala\",\n",
       " \"'Evidence too sketchy': HC grants PDP leader bail in terror case\",\n",
       " \"Boeing's Starliner capsule returns from ISS in key test mission\",\n",
       " 'Pedestrian stoned to death by 2 motorcycle-borne youths in Pune',\n",
       " 'Mumbai-Navi Mumbai water taxi service to halt at Gateway of India after monsoon',\n",
       " 'Stray dogs in Delhi a neglected lot, must look after them: HC',\n",
       " 'Hyd woman cheated of ₹10 lakh on pretext of getting medical seat, 1 held',\n",
       " \"BMC issues danger alert to slums in Mumbai's landslide-prone areas\",\n",
       " 'Verdict delivered, not justice: Gupkar alliance on life sentence to Yasin Malik']"
      ]
     },
     "execution_count": 61,
     "metadata": {},
     "output_type": "execute_result"
    }
   ],
   "source": [
    "head"
   ]
  },
  {
   "cell_type": "code",
   "execution_count": 64,
   "id": "141dd347",
   "metadata": {},
   "outputs": [],
   "source": [
    "article=[]\n",
    "for i in soup.find_all('div',itemprop=['articleBody']):\n",
    "    article.append(i.text)"
   ]
  },
  {
   "cell_type": "code",
   "execution_count": 65,
   "id": "cff46276",
   "metadata": {},
   "outputs": [
    {
     "data": {
      "text/plain": [
       "['Enforcement Directorate conducted raids at locations linked to Maharashtra Transport Minister and Shiv Sena leader Anil Parab in connection with alleged irregularities in land deal in coastal Dapoli area of Ratnagiri and other charges. Raids were conducted at seven locations in Pune and Mumbai after fresh case under criminal sections of Prevention of Money Laundering Act (PMLA) was filed. \\n\\n',\n",
       " \"Sri Chaitanya-backed Edtech startup Infinity Learn announced that it has acquired Wizklub, a startup that builds skills for children aged 6-14 with High Order Thinking Skills (HOTS) & SmarTech programs, for $10 million. Named 'Infinity Futurz', this vertical aims to help children develop active learning, critical thinking, innovation, & the ability to use technology to solve real-world problems.\",\n",
       " 'Former Maharashtra CM Devendra Fadnavis\\' wife, banker Amruta Fadnavis walked the red carpet at the Cannes Film Festival. Sharing pictures on Instagram, she wrote, \"Walked the [red carpet]...to raise awareness about food, health and sustainability.\" Amruta was accompanied by First Lady of Ivory Coast Dominique Ouattara, Lebanese-Jordanian Princess Ghida Talal and actor Stone among others.',\n",
       " 'India has reported 2,628 COVID-19 cases, 2,167 recoveries and 18 deaths in the last 24 hours, according to the Ministry of Health and Family Welfare. This comes a day after the country saw 2,124 COVID-19 cases and 17 deaths. Active cases in India stand at 15,414, while the death toll has risen to 5,24,525.',\n",
       " \"Tesla CEO Elon Musk has pledged an additional $6.25 billion in equity financing to fund the $44-billion offer for Twitter. He is also in talks with Twitter Co-founder Jack Dorsey and others to help finance the deal. Shares of Twitter rose more than 5% hours after the news of Musk's commitment broke, while Tesla shares dipped about 1%.\",\n",
       " \"Yasin Malik told NIA court he gave up violence in 1994 and declared he would follow Mahatma Gandhi's peaceful path. The court said Malik cannot claim to be Gandhi's follower. The court added that Gandhi called off entire non-cooperation movement after Chauri Chaura violence but Malik neither condemned violence nor withdrew his calendar of protest which led to the violence.\",\n",
       " \"Bypolls to three Lok Sabha seats and seven Assembly seats across six states will be held on June 23, the Election Commission said on Wednesday. The three Lok Sabha seats are Uttar Pradesh's Azamgarh and Rampur and Punjab's Sangrur. The seven Assembly seats are Delhi's Rajinder Nagar, Jharkhand's Mandar, Andhra Pradesh's Atmakur, Tripura's Agartala, Town Bordowali, Surma and Jubarajnagar.\",\n",
       " 'An NIA court in Delhi which handed life term to Kashmiri separatist Yasin Malik in a case related to terrorism and secessionist activities said that his crimes \"intended to strike at the heart of the idea of India\". \"The crime becomes more serious as it was committed with the assistance of foreign powers and designated terrorists,\" the court added.',\n",
       " 'The 18-year-old Texas gunman who killed 19 children and two teachers sent messages on Facebook minutes before he attacked, Texas Governor Greg Abbott said on Wednesday. The gunman first sent a message saying, \"I\\'m going to shoot my grandmother.\" \"I\\'ve shot my grandmother,\" he wrote in the second message. He then messaged, \"I\\'m going to shoot an elementary school.\"',\n",
       " 'Actor Dalip Tahil said the work ethics in Bollywood are still \"slipshod\", adding it\\'s totally different in the South Indian film industry. \"Scripts are not ready in time, the availability, changing schedules...they are all a part and parcel of films,\" stated Dalip. \"From my experience of working in South Indian films, it is a far better oiled machinery,\" he said.',\n",
       " 'When asked if he plans to dethrone actor Varun Dhawan, actor Siddhant Chaturvedi said, \"I\\'m his huge fan. It\\'s nothing that I\\'m planning to dethrone him. I\\'ve...few fans and he has a huge fan following, so we can go in for some barter.\" \"I think it\\'s not a fight of fans, it\\'s a fight for good content,\" he added.',\n",
       " 'After trailer launch of \\'The Gray Man\\', Joe and Anthony Russo said that fans can expect a new film starring actor Dhanush\\'s character in lead soon. While talking about his character, they said, \"He plays one of the...top assassins [in] the world and has two major fight blocks in the film...Dhanush has...great camera presence and we loved seeing him perform.\"',\n",
       " 'Karnataka on Wednesday recorded 208 new COVID-19 cases and zero coronavirus-related deaths. Of the total cases, 197 infections were reported from Bengaluru alone. The city also reported 118 recoveries the same day. The number of active cases in Bengaluru now stands at 1,730 with a positivity rate of 1.13%, according to data published by Bruhat Bengaluru Mahanagara Palike (BBMP).',\n",
       " 'RCB captain Faf Du Plessis said it was a \"special day\" as they defeated LSG in the IPL 2022 Eliminator. Praising batter Rajat Patidar for his unbeaten 112-run innings, Plessis said, \"His hundred was one of the best I\\'ve seen in the IPL.\" He added, \"We were very happy as a group...We didn\\'t feel like it was a big game.\"',\n",
       " \"Mumbai on Wednesday recorded 295 new COVID-19 infections, the highest in the last three months. Of the 295 new patients, 12 are admitted to hospitals, according to data by Brihanmumbai Municipal Corporation (BMC). With 1,531 active cases, Mumbai's test positivity rate (TPR) stood at 3.2%. However, no new death was reported due to the virus on Wednesday, data showed. \",\n",
       " \"Twitter investors on Wednesday voted against re-electing co-head of private equity firm Silver Lake Egon Durban, who has been a backer of Tesla CEO Elon Musk's firms, to the board at an annual meeting. They re-elected Patrick Pichette, a general partner at Inovia Capital, to the board. The shareholders also voted against annual elections for directors, or declassifying the board.\",\n",
       " 'VK Sasikala, aide of former Tamil Nadu CM J Jayalalithaa, on Wednesday described the AIADMK under present leadership as a \"weak opposition\". \"It\\'s been a year since they came to power and they have been fighting with the union government. They need to implement and execute projects,\" she stated. Sasikala added that people are expecting her to lead the party. ',\n",
       " 'PDP leader Waheed Para was granted bail in a terror conspiracy case by the High Court of Jammu & Kashmir and Ladakh on Wednesday. \"The evidence as is gathered by the prosecution is too sketchy to be believed prima facie true,\" said the court. The bench cited the Supreme Court\\'s recent ruling on sedition while granting the relief.',\n",
       " \"Boeing's Starliner capsule successfully returned to Earth from the International Space Station and landed in New Mexico on Wednesday, completing a key test flight. The test was to show if the spacecraft is capable of carrying humans to the International Space Station. The firm's previous two attempts to carry out the mission had ended in failure.\",\n",
       " 'A 30-year-old pedestrian in Pune was allegedly stoned to death by two youths on Hadapsar-Mundhwa road on Tuesday. According to police, the accused were riding a two-wheeler which hit the pedestrian from behind. Following this, the deceased and accused reportedly engaged in a verbal fight and one of the accused took a stone and hit the victim on the head. ',\n",
       " 'The water taxi services between Mumbai and Navi Mumbai, which started in February this year, will have a stoppage at the Gateway of India after monsoon, officials said. Currently, the Mumbai-Navi Mumbai water taxi service operates between Domestic Cruise Terminal (DCT) at Ferry Wharf in Mazgaon and Belapur jetty. This step is taken to attract higher footfall, an official said.',\n",
       " 'The Delhi High Court on Wednesday said that stray dogs in the national capital are a neglected lot and that it is necessary to look after them. Hearing a plea seeking regular supply of vaccines for stray dogs against diseases like canine distemper and parvovirus, the court asked the Delhi government to respond within six weeks.',\n",
       " 'Hyderabad Police arrested a man for cheating a woman of ₹10.16 lakh on the pretext of providing her medical seat at KIMS in Bengaluru. The accused was arrested in Bihar and has been brought to Hyderabad on a transit warrant, police added. \"After receiving the money, the accused switched off his mobile phone and cheated her,\" police further said.',\n",
       " \"Ahead of the monsoon, the Brihanmumbai Municipal Corporation (BMC) issued a danger alert to residents of the slums in Mumbai's S ward area and asked them to move to a safer place. In case of any accident or loss of life or property due to natural calamity, the BMC will not be responsible for it, a civic notice said.\",\n",
       " 'People\\'s Alliance for Gupkar Declaration (PAGD) said that the life sentence to J&K separatist leader Yasin Malik in a terror funding case is \"unfortunate\". PAGD added that the NIA court has \"delivered verdict but not justice\". \"We are afraid that this will further compound the uncertainties in the region and will only fuel more alienation and separatist feelings,\" PAGD stated.']"
      ]
     },
     "execution_count": 65,
     "metadata": {},
     "output_type": "execute_result"
    }
   ],
   "source": [
    "article"
   ]
  },
  {
   "cell_type": "code",
   "execution_count": 66,
   "id": "2c4a012d",
   "metadata": {},
   "outputs": [],
   "source": [
    "data_fetched=pd.DataFrame([head,article]).T"
   ]
  },
  {
   "cell_type": "code",
   "execution_count": 68,
   "id": "db410e2a",
   "metadata": {},
   "outputs": [],
   "source": [
    "data_fetched.columns=['head','article']"
   ]
  },
  {
   "cell_type": "code",
   "execution_count": 73,
   "id": "e6de75f6",
   "metadata": {},
   "outputs": [
    {
     "data": {
      "text/html": [
       "<div>\n",
       "<style scoped>\n",
       "    .dataframe tbody tr th:only-of-type {\n",
       "        vertical-align: middle;\n",
       "    }\n",
       "\n",
       "    .dataframe tbody tr th {\n",
       "        vertical-align: top;\n",
       "    }\n",
       "\n",
       "    .dataframe thead th {\n",
       "        text-align: right;\n",
       "    }\n",
       "</style>\n",
       "<table border=\"1\" class=\"dataframe\">\n",
       "  <thead>\n",
       "    <tr style=\"text-align: right;\">\n",
       "      <th></th>\n",
       "      <th>head</th>\n",
       "      <th>article</th>\n",
       "    </tr>\n",
       "  </thead>\n",
       "  <tbody>\n",
       "    <tr>\n",
       "      <th>0</th>\n",
       "      <td>ED raids 7 locations in Mumbai &amp; Pune linked t...</td>\n",
       "      <td>Enforcement Directorate conducted raids at loc...</td>\n",
       "    </tr>\n",
       "    <tr>\n",
       "      <th>1</th>\n",
       "      <td>Infinity Learn announces the acquisition of Wi...</td>\n",
       "      <td>Sri Chaitanya-backed Edtech startup Infinity L...</td>\n",
       "    </tr>\n",
       "    <tr>\n",
       "      <th>2</th>\n",
       "      <td>Devendra Fadnavis' wife Amruta walks Cannes re...</td>\n",
       "      <td>Former Maharashtra CM Devendra Fadnavis' wife,...</td>\n",
       "    </tr>\n",
       "    <tr>\n",
       "      <th>3</th>\n",
       "      <td>India reports 2,628 new COVID-19 cases, 18 dea...</td>\n",
       "      <td>India has reported 2,628 COVID-19 cases, 2,167...</td>\n",
       "    </tr>\n",
       "    <tr>\n",
       "      <th>4</th>\n",
       "      <td>Musk pledges $6.25 billion more in equity to f...</td>\n",
       "      <td>Tesla CEO Elon Musk has pledged an additional ...</td>\n",
       "    </tr>\n",
       "    <tr>\n",
       "      <th>5</th>\n",
       "      <td>What did court tell Yasin Malik when he claime...</td>\n",
       "      <td>Yasin Malik told NIA court he gave up violence...</td>\n",
       "    </tr>\n",
       "    <tr>\n",
       "      <th>6</th>\n",
       "      <td>Bypolls to 3 Lok Sabha, 7 Assembly seats acros...</td>\n",
       "      <td>Bypolls to three Lok Sabha seats and seven Ass...</td>\n",
       "    </tr>\n",
       "    <tr>\n",
       "      <th>7</th>\n",
       "      <td>Yasin Malik's crimes meant to strike at the he...</td>\n",
       "      <td>An NIA court in Delhi which handed life term t...</td>\n",
       "    </tr>\n",
       "    <tr>\n",
       "      <th>8</th>\n",
       "      <td>Messages sent by 18-year-old minutes before ki...</td>\n",
       "      <td>The 18-year-old Texas gunman who killed 19 chi...</td>\n",
       "    </tr>\n",
       "    <tr>\n",
       "      <th>9</th>\n",
       "      <td>Work ethics in B'wood still slipshod, totally ...</td>\n",
       "      <td>Actor Dalip Tahil said the work ethics in Boll...</td>\n",
       "    </tr>\n",
       "    <tr>\n",
       "      <th>10</th>\n",
       "      <td>I'm his huge fan, I'm not planning to dethrone...</td>\n",
       "      <td>When asked if he plans to dethrone actor Varun...</td>\n",
       "    </tr>\n",
       "    <tr>\n",
       "      <th>11</th>\n",
       "      <td>Can expect new film starring Dhanush's charact...</td>\n",
       "      <td>After trailer launch of 'The Gray Man', Joe an...</td>\n",
       "    </tr>\n",
       "    <tr>\n",
       "      <th>12</th>\n",
       "      <td>Karnataka reports 208 new COVID-19 cases; 197 ...</td>\n",
       "      <td>Karnataka on Wednesday recorded 208 new COVID-...</td>\n",
       "    </tr>\n",
       "    <tr>\n",
       "      <th>13</th>\n",
       "      <td>It was a special day, guys put in a special pe...</td>\n",
       "      <td>RCB captain Faf Du Plessis said it was a \"spec...</td>\n",
       "    </tr>\n",
       "    <tr>\n",
       "      <th>14</th>\n",
       "      <td>Mumbai records 295 new COVID-19 cases, highest...</td>\n",
       "      <td>Mumbai on Wednesday recorded 295 new COVID-19 ...</td>\n",
       "    </tr>\n",
       "    <tr>\n",
       "      <th>15</th>\n",
       "      <td>Twitter investors vote against re-electing Mus...</td>\n",
       "      <td>Twitter investors on Wednesday voted against r...</td>\n",
       "    </tr>\n",
       "    <tr>\n",
       "      <th>16</th>\n",
       "      <td>AIADMK 'weak opposition', people expect me to ...</td>\n",
       "      <td>VK Sasikala, aide of former Tamil Nadu CM J Ja...</td>\n",
       "    </tr>\n",
       "    <tr>\n",
       "      <th>17</th>\n",
       "      <td>'Evidence too sketchy': HC grants PDP leader b...</td>\n",
       "      <td>PDP leader Waheed Para was granted bail in a t...</td>\n",
       "    </tr>\n",
       "    <tr>\n",
       "      <th>18</th>\n",
       "      <td>Boeing's Starliner capsule returns from ISS in...</td>\n",
       "      <td>Boeing's Starliner capsule successfully return...</td>\n",
       "    </tr>\n",
       "    <tr>\n",
       "      <th>19</th>\n",
       "      <td>Pedestrian stoned to death by 2 motorcycle-bor...</td>\n",
       "      <td>A 30-year-old pedestrian in Pune was allegedly...</td>\n",
       "    </tr>\n",
       "    <tr>\n",
       "      <th>20</th>\n",
       "      <td>Mumbai-Navi Mumbai water taxi service to halt ...</td>\n",
       "      <td>The water taxi services between Mumbai and Nav...</td>\n",
       "    </tr>\n",
       "    <tr>\n",
       "      <th>21</th>\n",
       "      <td>Stray dogs in Delhi a neglected lot, must look...</td>\n",
       "      <td>The Delhi High Court on Wednesday said that st...</td>\n",
       "    </tr>\n",
       "    <tr>\n",
       "      <th>22</th>\n",
       "      <td>Hyd woman cheated of ₹10 lakh on pretext of ge...</td>\n",
       "      <td>Hyderabad Police arrested a man for cheating a...</td>\n",
       "    </tr>\n",
       "    <tr>\n",
       "      <th>23</th>\n",
       "      <td>BMC issues danger alert to slums in Mumbai's l...</td>\n",
       "      <td>Ahead of the monsoon, the Brihanmumbai Municip...</td>\n",
       "    </tr>\n",
       "    <tr>\n",
       "      <th>24</th>\n",
       "      <td>Verdict delivered, not justice: Gupkar allianc...</td>\n",
       "      <td>People's Alliance for Gupkar Declaration (PAGD...</td>\n",
       "    </tr>\n",
       "  </tbody>\n",
       "</table>\n",
       "</div>"
      ],
      "text/plain": [
       "                                                 head  \\\n",
       "0   ED raids 7 locations in Mumbai & Pune linked t...   \n",
       "1   Infinity Learn announces the acquisition of Wi...   \n",
       "2   Devendra Fadnavis' wife Amruta walks Cannes re...   \n",
       "3   India reports 2,628 new COVID-19 cases, 18 dea...   \n",
       "4   Musk pledges $6.25 billion more in equity to f...   \n",
       "5   What did court tell Yasin Malik when he claime...   \n",
       "6   Bypolls to 3 Lok Sabha, 7 Assembly seats acros...   \n",
       "7   Yasin Malik's crimes meant to strike at the he...   \n",
       "8   Messages sent by 18-year-old minutes before ki...   \n",
       "9   Work ethics in B'wood still slipshod, totally ...   \n",
       "10  I'm his huge fan, I'm not planning to dethrone...   \n",
       "11  Can expect new film starring Dhanush's charact...   \n",
       "12  Karnataka reports 208 new COVID-19 cases; 197 ...   \n",
       "13  It was a special day, guys put in a special pe...   \n",
       "14  Mumbai records 295 new COVID-19 cases, highest...   \n",
       "15  Twitter investors vote against re-electing Mus...   \n",
       "16  AIADMK 'weak opposition', people expect me to ...   \n",
       "17  'Evidence too sketchy': HC grants PDP leader b...   \n",
       "18  Boeing's Starliner capsule returns from ISS in...   \n",
       "19  Pedestrian stoned to death by 2 motorcycle-bor...   \n",
       "20  Mumbai-Navi Mumbai water taxi service to halt ...   \n",
       "21  Stray dogs in Delhi a neglected lot, must look...   \n",
       "22  Hyd woman cheated of ₹10 lakh on pretext of ge...   \n",
       "23  BMC issues danger alert to slums in Mumbai's l...   \n",
       "24  Verdict delivered, not justice: Gupkar allianc...   \n",
       "\n",
       "                                              article  \n",
       "0   Enforcement Directorate conducted raids at loc...  \n",
       "1   Sri Chaitanya-backed Edtech startup Infinity L...  \n",
       "2   Former Maharashtra CM Devendra Fadnavis' wife,...  \n",
       "3   India has reported 2,628 COVID-19 cases, 2,167...  \n",
       "4   Tesla CEO Elon Musk has pledged an additional ...  \n",
       "5   Yasin Malik told NIA court he gave up violence...  \n",
       "6   Bypolls to three Lok Sabha seats and seven Ass...  \n",
       "7   An NIA court in Delhi which handed life term t...  \n",
       "8   The 18-year-old Texas gunman who killed 19 chi...  \n",
       "9   Actor Dalip Tahil said the work ethics in Boll...  \n",
       "10  When asked if he plans to dethrone actor Varun...  \n",
       "11  After trailer launch of 'The Gray Man', Joe an...  \n",
       "12  Karnataka on Wednesday recorded 208 new COVID-...  \n",
       "13  RCB captain Faf Du Plessis said it was a \"spec...  \n",
       "14  Mumbai on Wednesday recorded 295 new COVID-19 ...  \n",
       "15  Twitter investors on Wednesday voted against r...  \n",
       "16  VK Sasikala, aide of former Tamil Nadu CM J Ja...  \n",
       "17  PDP leader Waheed Para was granted bail in a t...  \n",
       "18  Boeing's Starliner capsule successfully return...  \n",
       "19  A 30-year-old pedestrian in Pune was allegedly...  \n",
       "20  The water taxi services between Mumbai and Nav...  \n",
       "21  The Delhi High Court on Wednesday said that st...  \n",
       "22  Hyderabad Police arrested a man for cheating a...  \n",
       "23  Ahead of the monsoon, the Brihanmumbai Municip...  \n",
       "24  People's Alliance for Gupkar Declaration (PAGD...  "
      ]
     },
     "execution_count": 73,
     "metadata": {},
     "output_type": "execute_result"
    }
   ],
   "source": [
    "data_fetched"
   ]
  },
  {
   "cell_type": "code",
   "execution_count": null,
   "id": "967b1e11",
   "metadata": {},
   "outputs": [],
   "source": []
  }
 ],
 "metadata": {
  "kernelspec": {
   "display_name": "Python 3 (ipykernel)",
   "language": "python",
   "name": "python3"
  },
  "language_info": {
   "codemirror_mode": {
    "name": "ipython",
    "version": 3
   },
   "file_extension": ".py",
   "mimetype": "text/x-python",
   "name": "python",
   "nbconvert_exporter": "python",
   "pygments_lexer": "ipython3",
   "version": "3.8.12"
  }
 },
 "nbformat": 4,
 "nbformat_minor": 5
}
