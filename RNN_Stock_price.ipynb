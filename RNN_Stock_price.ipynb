{
 "cells": [
  {
   "cell_type": "code",
   "execution_count": 1,
   "id": "b6ab4866",
   "metadata": {},
   "outputs": [],
   "source": [
    "import pandas as pd"
   ]
  },
  {
   "cell_type": "code",
   "execution_count": 2,
   "id": "da339c34",
   "metadata": {},
   "outputs": [],
   "source": [
    "tr=pd.read_csv('C:/Users/cmscomputers/Downloads/Skype/Datasets/Google_Stock_Price_Train.csv')"
   ]
  },
  {
   "cell_type": "code",
   "execution_count": 3,
   "id": "680110b4",
   "metadata": {},
   "outputs": [],
   "source": [
    "ts =pd.read_csv('C:/Users/cmscomputers/Downloads/Skype/Datasets/Google_Stock_Price_Test.csv')"
   ]
  },
  {
   "cell_type": "markdown",
   "id": "3bbba356",
   "metadata": {},
   "source": [
    "# Creation of data"
   ]
  },
  {
   "cell_type": "code",
   "execution_count": 4,
   "id": "43210bdf",
   "metadata": {},
   "outputs": [],
   "source": [
    "data=pd.concat([tr,ts])"
   ]
  },
  {
   "cell_type": "code",
   "execution_count": 5,
   "id": "676549f8",
   "metadata": {},
   "outputs": [],
   "source": [
    "data.index=range(0,1278)"
   ]
  },
  {
   "cell_type": "code",
   "execution_count": 6,
   "id": "7feda501",
   "metadata": {},
   "outputs": [
    {
     "data": {
      "text/html": [
       "<div>\n",
       "<style scoped>\n",
       "    .dataframe tbody tr th:only-of-type {\n",
       "        vertical-align: middle;\n",
       "    }\n",
       "\n",
       "    .dataframe tbody tr th {\n",
       "        vertical-align: top;\n",
       "    }\n",
       "\n",
       "    .dataframe thead th {\n",
       "        text-align: right;\n",
       "    }\n",
       "</style>\n",
       "<table border=\"1\" class=\"dataframe\">\n",
       "  <thead>\n",
       "    <tr style=\"text-align: right;\">\n",
       "      <th></th>\n",
       "      <th>Date</th>\n",
       "      <th>Open</th>\n",
       "      <th>High</th>\n",
       "      <th>Low</th>\n",
       "      <th>Close</th>\n",
       "      <th>Volume</th>\n",
       "    </tr>\n",
       "  </thead>\n",
       "  <tbody>\n",
       "    <tr>\n",
       "      <th>0</th>\n",
       "      <td>1/3/2012</td>\n",
       "      <td>325.25</td>\n",
       "      <td>332.83</td>\n",
       "      <td>324.97</td>\n",
       "      <td>663.59</td>\n",
       "      <td>7,380,500</td>\n",
       "    </tr>\n",
       "    <tr>\n",
       "      <th>1</th>\n",
       "      <td>1/4/2012</td>\n",
       "      <td>331.27</td>\n",
       "      <td>333.87</td>\n",
       "      <td>329.08</td>\n",
       "      <td>666.45</td>\n",
       "      <td>5,749,400</td>\n",
       "    </tr>\n",
       "    <tr>\n",
       "      <th>2</th>\n",
       "      <td>1/5/2012</td>\n",
       "      <td>329.83</td>\n",
       "      <td>330.75</td>\n",
       "      <td>326.89</td>\n",
       "      <td>657.21</td>\n",
       "      <td>6,590,300</td>\n",
       "    </tr>\n",
       "    <tr>\n",
       "      <th>3</th>\n",
       "      <td>1/6/2012</td>\n",
       "      <td>328.34</td>\n",
       "      <td>328.77</td>\n",
       "      <td>323.68</td>\n",
       "      <td>648.24</td>\n",
       "      <td>5,405,900</td>\n",
       "    </tr>\n",
       "    <tr>\n",
       "      <th>4</th>\n",
       "      <td>1/9/2012</td>\n",
       "      <td>322.04</td>\n",
       "      <td>322.29</td>\n",
       "      <td>309.46</td>\n",
       "      <td>620.76</td>\n",
       "      <td>11,688,800</td>\n",
       "    </tr>\n",
       "    <tr>\n",
       "      <th>...</th>\n",
       "      <td>...</td>\n",
       "      <td>...</td>\n",
       "      <td>...</td>\n",
       "      <td>...</td>\n",
       "      <td>...</td>\n",
       "      <td>...</td>\n",
       "    </tr>\n",
       "    <tr>\n",
       "      <th>1273</th>\n",
       "      <td>1/25/2017</td>\n",
       "      <td>829.62</td>\n",
       "      <td>835.77</td>\n",
       "      <td>825.06</td>\n",
       "      <td>835.67</td>\n",
       "      <td>1,494,500</td>\n",
       "    </tr>\n",
       "    <tr>\n",
       "      <th>1274</th>\n",
       "      <td>1/26/2017</td>\n",
       "      <td>837.81</td>\n",
       "      <td>838.00</td>\n",
       "      <td>827.01</td>\n",
       "      <td>832.15</td>\n",
       "      <td>2,973,900</td>\n",
       "    </tr>\n",
       "    <tr>\n",
       "      <th>1275</th>\n",
       "      <td>1/27/2017</td>\n",
       "      <td>834.71</td>\n",
       "      <td>841.95</td>\n",
       "      <td>820.44</td>\n",
       "      <td>823.31</td>\n",
       "      <td>2,965,800</td>\n",
       "    </tr>\n",
       "    <tr>\n",
       "      <th>1276</th>\n",
       "      <td>1/30/2017</td>\n",
       "      <td>814.66</td>\n",
       "      <td>815.84</td>\n",
       "      <td>799.80</td>\n",
       "      <td>802.32</td>\n",
       "      <td>3,246,600</td>\n",
       "    </tr>\n",
       "    <tr>\n",
       "      <th>1277</th>\n",
       "      <td>1/31/2017</td>\n",
       "      <td>796.86</td>\n",
       "      <td>801.25</td>\n",
       "      <td>790.52</td>\n",
       "      <td>796.79</td>\n",
       "      <td>2,160,600</td>\n",
       "    </tr>\n",
       "  </tbody>\n",
       "</table>\n",
       "<p>1278 rows × 6 columns</p>\n",
       "</div>"
      ],
      "text/plain": [
       "           Date    Open    High     Low   Close      Volume\n",
       "0      1/3/2012  325.25  332.83  324.97  663.59   7,380,500\n",
       "1      1/4/2012  331.27  333.87  329.08  666.45   5,749,400\n",
       "2      1/5/2012  329.83  330.75  326.89  657.21   6,590,300\n",
       "3      1/6/2012  328.34  328.77  323.68  648.24   5,405,900\n",
       "4      1/9/2012  322.04  322.29  309.46  620.76  11,688,800\n",
       "...         ...     ...     ...     ...     ...         ...\n",
       "1273  1/25/2017  829.62  835.77  825.06  835.67   1,494,500\n",
       "1274  1/26/2017  837.81  838.00  827.01  832.15   2,973,900\n",
       "1275  1/27/2017  834.71  841.95  820.44  823.31   2,965,800\n",
       "1276  1/30/2017  814.66  815.84  799.80  802.32   3,246,600\n",
       "1277  1/31/2017  796.86  801.25  790.52  796.79   2,160,600\n",
       "\n",
       "[1278 rows x 6 columns]"
      ]
     },
     "execution_count": 6,
     "metadata": {},
     "output_type": "execute_result"
    }
   ],
   "source": [
    "data"
   ]
  },
  {
   "cell_type": "code",
   "execution_count": 7,
   "id": "09cb1657",
   "metadata": {},
   "outputs": [],
   "source": [
    "data=data[['Open']]"
   ]
  },
  {
   "cell_type": "code",
   "execution_count": 8,
   "id": "6e080277",
   "metadata": {},
   "outputs": [],
   "source": [
    "train=data.iloc[:1178]\n",
    "test=data.iloc[1178:]"
   ]
  },
  {
   "cell_type": "markdown",
   "id": "d52d9bb3",
   "metadata": {},
   "source": [
    "# Standerdisation"
   ]
  },
  {
   "cell_type": "code",
   "execution_count": 9,
   "id": "8548d19e",
   "metadata": {},
   "outputs": [],
   "source": [
    "from sklearn.preprocessing import MinMaxScaler\n",
    "mm=MinMaxScaler()\n",
    "mm.fit(train)\n",
    "scaled_train=mm.fit_transform(train)\n",
    "scaled_test=mm.fit_transform(test)"
   ]
  },
  {
   "cell_type": "markdown",
   "id": "99903737",
   "metadata": {},
   "source": [
    "# Preparing data Sequence for RNN"
   ]
  },
  {
   "cell_type": "code",
   "execution_count": 10,
   "id": "94163fc0",
   "metadata": {},
   "outputs": [],
   "source": [
    "xtrain=[]\n",
    "for i in range(50,1178,1):\n",
    "    xtrain.append(scaled_train[i-50:i])"
   ]
  },
  {
   "cell_type": "code",
   "execution_count": 11,
   "id": "70c9eb44",
   "metadata": {},
   "outputs": [],
   "source": [
    "ytrain=[]\n",
    "for i in range(50,1178,1):\n",
    "    ytrain.append(scaled_train[i:i+1])"
   ]
  },
  {
   "cell_type": "code",
   "execution_count": 12,
   "id": "231906f0",
   "metadata": {},
   "outputs": [],
   "source": [
    "import numpy as np\n",
    "xtrain1=np.array(xtrain)\n",
    "ytrain1=np.array(ytrain)"
   ]
  },
  {
   "cell_type": "code",
   "execution_count": 13,
   "id": "4999754e",
   "metadata": {},
   "outputs": [
    {
     "data": {
      "text/plain": [
       "(1128, 50, 1)"
      ]
     },
     "execution_count": 13,
     "metadata": {},
     "output_type": "execute_result"
    }
   ],
   "source": [
    "xtrain1.shape"
   ]
  },
  {
   "cell_type": "code",
   "execution_count": 14,
   "id": "d2036776",
   "metadata": {},
   "outputs": [
    {
     "data": {
      "text/plain": [
       "(1128, 1, 1)"
      ]
     },
     "execution_count": 14,
     "metadata": {},
     "output_type": "execute_result"
    }
   ],
   "source": [
    "ytrain1.shape"
   ]
  },
  {
   "cell_type": "code",
   "execution_count": 15,
   "id": "8e4b8842",
   "metadata": {},
   "outputs": [
    {
     "data": {
      "text/plain": [
       "(100, 1)"
      ]
     },
     "execution_count": 15,
     "metadata": {},
     "output_type": "execute_result"
    }
   ],
   "source": [
    "scaled_test.shape"
   ]
  },
  {
   "cell_type": "code",
   "execution_count": 16,
   "id": "83bd9e0d",
   "metadata": {},
   "outputs": [],
   "source": [
    "xtest=[]\n",
    "ytest=[]\n",
    "for i in range(50,100,1):\n",
    "    xtest.append(scaled_test[i-50:i])\n",
    "    ytest.append(scaled_test[i:i+1])"
   ]
  },
  {
   "cell_type": "code",
   "execution_count": 17,
   "id": "2fe29458",
   "metadata": {},
   "outputs": [],
   "source": [
    "xtest1=np.array(xtest)\n",
    "ytest1=np.array(ytest)"
   ]
  },
  {
   "cell_type": "code",
   "execution_count": 18,
   "id": "d28a585a",
   "metadata": {},
   "outputs": [
    {
     "data": {
      "text/plain": [
       "(50, 50, 1)"
      ]
     },
     "execution_count": 18,
     "metadata": {},
     "output_type": "execute_result"
    }
   ],
   "source": [
    "xtest1.shape"
   ]
  },
  {
   "cell_type": "code",
   "execution_count": 19,
   "id": "ba4b65d7",
   "metadata": {},
   "outputs": [
    {
     "data": {
      "text/plain": [
       "(50, 1, 1)"
      ]
     },
     "execution_count": 19,
     "metadata": {},
     "output_type": "execute_result"
    }
   ],
   "source": [
    "ytest1.shape"
   ]
  },
  {
   "cell_type": "markdown",
   "id": "f360888d",
   "metadata": {},
   "source": [
    "# Creating a RNN "
   ]
  },
  {
   "cell_type": "code",
   "execution_count": 20,
   "id": "a71e7c87",
   "metadata": {},
   "outputs": [],
   "source": [
    "from keras.models import Sequential\n",
    "from keras.layers import Dense,LSTM,Dropout"
   ]
  },
  {
   "cell_type": "code",
   "execution_count": 21,
   "id": "60b741ba",
   "metadata": {},
   "outputs": [],
   "source": [
    "nn=Sequential()\n",
    "\n",
    "nn.add(LSTM(100,return_sequences=True,input_shape=(50,1)))                     #input layer\n",
    "\n",
    "nn.add(LSTM(100,return_sequences=True))                                         #Hidden layer\n",
    "\n",
    "nn.add(Dense(1))"
   ]
  },
  {
   "cell_type": "code",
   "execution_count": 239,
   "id": "7ae91b2e",
   "metadata": {},
   "outputs": [],
   "source": [
    "nn.compile(optimizer='adam',loss='mean_absolute_error')\n",
    "model=nn.fit(xtrain1,ytrain1,epochs=5000,initial_epoch=5000,batch_size=128)"
   ]
  },
  {
   "cell_type": "markdown",
   "id": "46839b37",
   "metadata": {},
   "source": [
    "# Predictions"
   ]
  },
  {
   "cell_type": "code",
   "execution_count": 204,
   "id": "ec19770a",
   "metadata": {},
   "outputs": [],
   "source": [
    "pred_tr=nn.predict(xtrain1)\n",
    "pred_ts=nn.predict(xtest1)"
   ]
  },
  {
   "cell_type": "code",
   "execution_count": 205,
   "id": "8d4339ea",
   "metadata": {},
   "outputs": [
    {
     "name": "stdout",
     "output_type": "stream",
     "text": [
      "(1128, 50, 1)\n",
      "(50, 50, 1)\n"
     ]
    }
   ],
   "source": [
    "print(pred_tr.shape)\n",
    "print(pred_ts.shape)"
   ]
  },
  {
   "cell_type": "code",
   "execution_count": 206,
   "id": "bb47e472",
   "metadata": {},
   "outputs": [],
   "source": [
    "ytr=ytrain1.reshape((1128,1))\n",
    "yts=ytest1.reshape(50,1)"
   ]
  },
  {
   "cell_type": "code",
   "execution_count": 207,
   "id": "a865819d",
   "metadata": {},
   "outputs": [],
   "source": [
    "pr=pred_tr[:,0].reshape((1128,1))\n",
    "ps=pred_ts[0].reshape((50,1))          #selectig a chunk for Error prediction"
   ]
  },
  {
   "cell_type": "markdown",
   "id": "9f01bf65",
   "metadata": {},
   "source": [
    "# Destanderdisation"
   ]
  },
  {
   "cell_type": "code",
   "execution_count": 208,
   "id": "9c32ba4c",
   "metadata": {},
   "outputs": [],
   "source": [
    "tr=mm.inverse_transform(pr)\n",
    "ts=mm.inverse_transform(ps)              #predicted"
   ]
  },
  {
   "cell_type": "code",
   "execution_count": 209,
   "id": "dbcd43b0",
   "metadata": {},
   "outputs": [],
   "source": [
    "ytr=mm.inverse_transform(ytr)\n",
    "yts=mm.inverse_transform(yts)                 #target feature"
   ]
  },
  {
   "cell_type": "markdown",
   "id": "3f9f2f73",
   "metadata": {},
   "source": [
    "# Error calculation"
   ]
  },
  {
   "cell_type": "code",
   "execution_count": 210,
   "id": "10eb48e0",
   "metadata": {},
   "outputs": [],
   "source": [
    "from sklearn.metrics import mean_absolute_error\n",
    "err_tr=mean_absolute_error(tr,ytr)\n",
    "err_ts=mean_absolute_error(ts,yts)"
   ]
  },
  {
   "cell_type": "code",
   "execution_count": 211,
   "id": "ff46c0d6",
   "metadata": {},
   "outputs": [
    {
     "data": {
      "text/plain": [
       "5.278690002008975"
      ]
     },
     "execution_count": 211,
     "metadata": {},
     "output_type": "execute_result"
    }
   ],
   "source": [
    "err_tr"
   ]
  },
  {
   "cell_type": "code",
   "execution_count": 212,
   "id": "0fef69d8",
   "metadata": {},
   "outputs": [
    {
     "data": {
      "text/plain": [
       "13.813420019531245"
      ]
     },
     "execution_count": 212,
     "metadata": {},
     "output_type": "execute_result"
    }
   ],
   "source": [
    "err_ts"
   ]
  },
  {
   "cell_type": "code",
   "execution_count": null,
   "id": "fa4c7641",
   "metadata": {},
   "outputs": [],
   "source": []
  },
  {
   "cell_type": "code",
   "execution_count": null,
   "id": "5c6c3b68",
   "metadata": {},
   "outputs": [],
   "source": []
  }
 ],
 "metadata": {
  "kernelspec": {
   "display_name": "Python 3 (ipykernel)",
   "language": "python",
   "name": "python3"
  },
  "language_info": {
   "codemirror_mode": {
    "name": "ipython",
    "version": 3
   },
   "file_extension": ".py",
   "mimetype": "text/x-python",
   "name": "python",
   "nbconvert_exporter": "python",
   "pygments_lexer": "ipython3",
   "version": "3.8.12"
  }
 },
 "nbformat": 4,
 "nbformat_minor": 5
}
