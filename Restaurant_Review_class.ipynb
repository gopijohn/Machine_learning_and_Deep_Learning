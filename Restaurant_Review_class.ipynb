{
 "cells": [
  {
   "cell_type": "markdown",
   "id": "59dc2120",
   "metadata": {},
   "source": [
    "# Restaunrant Review Classification"
   ]
  },
  {
   "cell_type": "code",
   "execution_count": 1,
   "id": "b0f5bfdf",
   "metadata": {},
   "outputs": [],
   "source": [
    "import pandas as pd"
   ]
  },
  {
   "cell_type": "code",
   "execution_count": 2,
   "id": "4bfda15c",
   "metadata": {},
   "outputs": [],
   "source": [
    "A=pd.read_csv('C:/Users/cmscomputers/Downloads/Skype/Restaurant_Reviews.tsv',sep=\"\\t\")"
   ]
  },
  {
   "cell_type": "code",
   "execution_count": 3,
   "id": "ccd2027e",
   "metadata": {},
   "outputs": [
    {
     "data": {
      "text/html": [
       "<div>\n",
       "<style scoped>\n",
       "    .dataframe tbody tr th:only-of-type {\n",
       "        vertical-align: middle;\n",
       "    }\n",
       "\n",
       "    .dataframe tbody tr th {\n",
       "        vertical-align: top;\n",
       "    }\n",
       "\n",
       "    .dataframe thead th {\n",
       "        text-align: right;\n",
       "    }\n",
       "</style>\n",
       "<table border=\"1\" class=\"dataframe\">\n",
       "  <thead>\n",
       "    <tr style=\"text-align: right;\">\n",
       "      <th></th>\n",
       "      <th>Review</th>\n",
       "      <th>Liked</th>\n",
       "    </tr>\n",
       "  </thead>\n",
       "  <tbody>\n",
       "    <tr>\n",
       "      <th>0</th>\n",
       "      <td>Wow... Loved this place.</td>\n",
       "      <td>1</td>\n",
       "    </tr>\n",
       "    <tr>\n",
       "      <th>1</th>\n",
       "      <td>Crust is not good.</td>\n",
       "      <td>0</td>\n",
       "    </tr>\n",
       "    <tr>\n",
       "      <th>2</th>\n",
       "      <td>Not tasty and the texture was just nasty.</td>\n",
       "      <td>0</td>\n",
       "    </tr>\n",
       "    <tr>\n",
       "      <th>3</th>\n",
       "      <td>Stopped by during the late May bank holiday of...</td>\n",
       "      <td>1</td>\n",
       "    </tr>\n",
       "    <tr>\n",
       "      <th>4</th>\n",
       "      <td>The selection on the menu was great and so wer...</td>\n",
       "      <td>1</td>\n",
       "    </tr>\n",
       "    <tr>\n",
       "      <th>...</th>\n",
       "      <td>...</td>\n",
       "      <td>...</td>\n",
       "    </tr>\n",
       "    <tr>\n",
       "      <th>995</th>\n",
       "      <td>I think food should have flavor and texture an...</td>\n",
       "      <td>0</td>\n",
       "    </tr>\n",
       "    <tr>\n",
       "      <th>996</th>\n",
       "      <td>Appetite instantly gone.</td>\n",
       "      <td>0</td>\n",
       "    </tr>\n",
       "    <tr>\n",
       "      <th>997</th>\n",
       "      <td>Overall I was not impressed and would not go b...</td>\n",
       "      <td>0</td>\n",
       "    </tr>\n",
       "    <tr>\n",
       "      <th>998</th>\n",
       "      <td>The whole experience was underwhelming, and I ...</td>\n",
       "      <td>0</td>\n",
       "    </tr>\n",
       "    <tr>\n",
       "      <th>999</th>\n",
       "      <td>Then, as if I hadn't wasted enough of my life ...</td>\n",
       "      <td>0</td>\n",
       "    </tr>\n",
       "  </tbody>\n",
       "</table>\n",
       "<p>1000 rows × 2 columns</p>\n",
       "</div>"
      ],
      "text/plain": [
       "                                                Review  Liked\n",
       "0                             Wow... Loved this place.      1\n",
       "1                                   Crust is not good.      0\n",
       "2            Not tasty and the texture was just nasty.      0\n",
       "3    Stopped by during the late May bank holiday of...      1\n",
       "4    The selection on the menu was great and so wer...      1\n",
       "..                                                 ...    ...\n",
       "995  I think food should have flavor and texture an...      0\n",
       "996                           Appetite instantly gone.      0\n",
       "997  Overall I was not impressed and would not go b...      0\n",
       "998  The whole experience was underwhelming, and I ...      0\n",
       "999  Then, as if I hadn't wasted enough of my life ...      0\n",
       "\n",
       "[1000 rows x 2 columns]"
      ]
     },
     "execution_count": 3,
     "metadata": {},
     "output_type": "execute_result"
    }
   ],
   "source": [
    "A"
   ]
  },
  {
   "cell_type": "code",
   "execution_count": 4,
   "id": "a358a79d",
   "metadata": {},
   "outputs": [],
   "source": [
    "Q=[]\n",
    "for i in A.Review:\n",
    "    Q.append(i)"
   ]
  },
  {
   "cell_type": "code",
   "execution_count": 5,
   "id": "e3c7480c",
   "metadata": {},
   "outputs": [
    {
     "data": {
      "text/plain": [
       "['Wow... Loved this place.',\n",
       " 'Crust is not good.',\n",
       " 'Not tasty and the texture was just nasty.']"
      ]
     },
     "execution_count": 5,
     "metadata": {},
     "output_type": "execute_result"
    }
   ],
   "source": [
    "Q[0:3]"
   ]
  },
  {
   "cell_type": "markdown",
   "id": "eefcdac5",
   "metadata": {},
   "source": [
    "# Text Processing"
   ]
  },
  {
   "cell_type": "code",
   "execution_count": 6,
   "id": "3f2c1c11",
   "metadata": {},
   "outputs": [],
   "source": [
    "Q=[]\n",
    "for i in A.Review:\n",
    "    Q.append(i.upper())"
   ]
  },
  {
   "cell_type": "code",
   "execution_count": 7,
   "id": "63214f68",
   "metadata": {},
   "outputs": [
    {
     "data": {
      "text/plain": [
       "['WOW... LOVED THIS PLACE.',\n",
       " 'CRUST IS NOT GOOD.',\n",
       " 'NOT TASTY AND THE TEXTURE WAS JUST NASTY.']"
      ]
     },
     "execution_count": 7,
     "metadata": {},
     "output_type": "execute_result"
    }
   ],
   "source": [
    "Q[0:3]"
   ]
  },
  {
   "cell_type": "markdown",
   "id": "a8c8298e",
   "metadata": {},
   "source": [
    "Removing special characters"
   ]
  },
  {
   "cell_type": "code",
   "execution_count": 8,
   "id": "daaa65ca",
   "metadata": {},
   "outputs": [],
   "source": [
    "from re import sub\n",
    "Q=[]\n",
    "for i in A.Review:\n",
    "    Q.append(sub('[^A-Z0-9 ]','',i.upper()))"
   ]
  },
  {
   "cell_type": "code",
   "execution_count": 9,
   "id": "4b91c440",
   "metadata": {},
   "outputs": [
    {
     "data": {
      "text/plain": [
       "['WOW LOVED THIS PLACE',\n",
       " 'CRUST IS NOT GOOD',\n",
       " 'NOT TASTY AND THE TEXTURE WAS JUST NASTY']"
      ]
     },
     "execution_count": 9,
     "metadata": {},
     "output_type": "execute_result"
    }
   ],
   "source": [
    "Q[0:3]"
   ]
  },
  {
   "cell_type": "code",
   "execution_count": null,
   "id": "3c2266a6",
   "metadata": {},
   "outputs": [],
   "source": []
  },
  {
   "cell_type": "markdown",
   "id": "34a23455",
   "metadata": {},
   "source": [
    "CountVectorization | TF IDF Vectorization"
   ]
  },
  {
   "cell_type": "code",
   "execution_count": 10,
   "id": "39aeb9fd",
   "metadata": {},
   "outputs": [],
   "source": [
    "from sklearn.feature_extraction.text import CountVectorizer\n",
    "cv=CountVectorizer()\n",
    "vect_word=cv.fit_transform(Q).toarray()"
   ]
  },
  {
   "cell_type": "code",
   "execution_count": 11,
   "id": "827a35fd",
   "metadata": {},
   "outputs": [
    {
     "name": "stderr",
     "output_type": "stream",
     "text": [
      "C:\\Users\\cmscomputers\\anaconda3\\envs\\Deep_Learning\\lib\\site-packages\\sklearn\\utils\\deprecation.py:87: FutureWarning: Function get_feature_names is deprecated; get_feature_names is deprecated in 1.0 and will be removed in 1.2. Please use get_feature_names_out instead.\n",
      "  warnings.warn(msg, category=FutureWarning)\n"
     ]
    }
   ],
   "source": [
    "feature_words=cv.get_feature_names()"
   ]
  },
  {
   "cell_type": "code",
   "execution_count": 12,
   "id": "348f4a64",
   "metadata": {},
   "outputs": [
    {
     "data": {
      "text/plain": [
       "['10', '100', '1199', '12', '15', '15lb', '17', '1979', '20', '2007']"
      ]
     },
     "execution_count": 12,
     "metadata": {},
     "output_type": "execute_result"
    }
   ],
   "source": [
    "feature_words[0:10]"
   ]
  },
  {
   "cell_type": "code",
   "execution_count": 13,
   "id": "13c6cc15",
   "metadata": {},
   "outputs": [],
   "source": [
    "X=vect_word\n",
    "Y=A.Liked"
   ]
  },
  {
   "cell_type": "code",
   "execution_count": 14,
   "id": "4ad1f4e5",
   "metadata": {},
   "outputs": [],
   "source": [
    "from sklearn.model_selection import train_test_split\n",
    "xtrain,xtest,ytrain,ytest=train_test_split(X,Y,test_size=0.2,random_state=31)"
   ]
  },
  {
   "cell_type": "code",
   "execution_count": 15,
   "id": "e1734237",
   "metadata": {},
   "outputs": [
    {
     "data": {
      "text/plain": [
       "(1000, 2067)"
      ]
     },
     "execution_count": 15,
     "metadata": {},
     "output_type": "execute_result"
    }
   ],
   "source": [
    "X.shape"
   ]
  },
  {
   "cell_type": "markdown",
   "id": "74815ce3",
   "metadata": {},
   "source": [
    "# creat NN"
   ]
  },
  {
   "cell_type": "code",
   "execution_count": 16,
   "id": "b4837096",
   "metadata": {},
   "outputs": [],
   "source": [
    "from keras.models import Sequential\n",
    "from keras.layers import Dense,Dropout"
   ]
  },
  {
   "cell_type": "code",
   "execution_count": 17,
   "id": "f43345f7",
   "metadata": {},
   "outputs": [],
   "source": [
    "nn=Sequential()\n",
    "\n",
    "nn.add(Dense(1000,input_dim=(2067)))\n",
    "nn.add(Dropout(0.8))\n",
    "\n",
    "nn.add(Dense(1000))\n",
    "nn.add(Dropout(0.8))\n",
    "\n",
    "nn.add(Dense(1,activation='sigmoid'))"
   ]
  },
  {
   "cell_type": "code",
   "execution_count": 28,
   "id": "ba4d0148",
   "metadata": {},
   "outputs": [
    {
     "name": "stdout",
     "output_type": "stream",
     "text": [
      "Epoch 1/100\n",
      "16/16 [==============================] - 2s 78ms/step - loss: 0.0170 - accuracy: 0.9953 - val_loss: 1.1000 - val_accuracy: 0.7750\n",
      "Epoch 2/100\n",
      "16/16 [==============================] - 1s 50ms/step - loss: 0.0255 - accuracy: 0.9937 - val_loss: 1.3202 - val_accuracy: 0.7875\n",
      "Epoch 3/100\n",
      "16/16 [==============================] - 1s 53ms/step - loss: 0.0188 - accuracy: 0.9937 - val_loss: 1.3495 - val_accuracy: 0.7750\n",
      "Epoch 4/100\n",
      "16/16 [==============================] - 1s 55ms/step - loss: 0.0062 - accuracy: 1.0000 - val_loss: 1.4225 - val_accuracy: 0.7875\n",
      "Epoch 5/100\n",
      "16/16 [==============================] - 1s 56ms/step - loss: 0.0073 - accuracy: 0.9969 - val_loss: 1.5098 - val_accuracy: 0.7875\n",
      "Epoch 6/100\n",
      "16/16 [==============================] - 1s 53ms/step - loss: 0.0050 - accuracy: 0.9984 - val_loss: 1.6012 - val_accuracy: 0.7937\n",
      "Epoch 7/100\n",
      "16/16 [==============================] - 1s 54ms/step - loss: 0.0069 - accuracy: 0.9984 - val_loss: 1.6669 - val_accuracy: 0.8000\n",
      "Epoch 8/100\n",
      "16/16 [==============================] - 1s 53ms/step - loss: 0.0011 - accuracy: 1.0000 - val_loss: 1.6920 - val_accuracy: 0.8000\n",
      "Epoch 9/100\n",
      "16/16 [==============================] - 1s 53ms/step - loss: 0.0012 - accuracy: 1.0000 - val_loss: 1.7528 - val_accuracy: 0.7937\n",
      "Epoch 10/100\n",
      "16/16 [==============================] - 1s 53ms/step - loss: 3.5066e-04 - accuracy: 1.0000 - val_loss: 1.8323 - val_accuracy: 0.7937\n",
      "Epoch 11/100\n",
      "16/16 [==============================] - 1s 51ms/step - loss: 7.3444e-04 - accuracy: 1.0000 - val_loss: 1.8839 - val_accuracy: 0.7937\n",
      "Epoch 12/100\n",
      "16/16 [==============================] - 1s 53ms/step - loss: 6.5407e-04 - accuracy: 1.0000 - val_loss: 1.9378 - val_accuracy: 0.7875\n",
      "Epoch 13/100\n",
      "16/16 [==============================] - 1s 55ms/step - loss: 7.7870e-04 - accuracy: 1.0000 - val_loss: 2.0050 - val_accuracy: 0.7812\n",
      "Epoch 14/100\n",
      "16/16 [==============================] - 1s 53ms/step - loss: 5.5346e-04 - accuracy: 1.0000 - val_loss: 2.0563 - val_accuracy: 0.7812\n",
      "Epoch 15/100\n",
      "16/16 [==============================] - 1s 52ms/step - loss: 0.0010 - accuracy: 1.0000 - val_loss: 2.0376 - val_accuracy: 0.7688\n",
      "Epoch 16/100\n",
      "16/16 [==============================] - 1s 51ms/step - loss: 0.0012 - accuracy: 1.0000 - val_loss: 2.0324 - val_accuracy: 0.7812\n",
      "Epoch 17/100\n",
      "16/16 [==============================] - 1s 61ms/step - loss: 3.9417e-04 - accuracy: 1.0000 - val_loss: 2.0660 - val_accuracy: 0.7750\n",
      "Epoch 18/100\n",
      "16/16 [==============================] - 1s 80ms/step - loss: 3.1199e-04 - accuracy: 1.0000 - val_loss: 2.1255 - val_accuracy: 0.7750\n",
      "Epoch 19/100\n",
      "16/16 [==============================] - 1s 63ms/step - loss: 0.0019 - accuracy: 0.9984 - val_loss: 2.0972 - val_accuracy: 0.7812\n",
      "Epoch 20/100\n",
      "16/16 [==============================] - 1s 64ms/step - loss: 2.3803e-04 - accuracy: 1.0000 - val_loss: 2.1303 - val_accuracy: 0.7812\n",
      "Epoch 21/100\n",
      "16/16 [==============================] - 1s 55ms/step - loss: 2.0466e-04 - accuracy: 1.0000 - val_loss: 2.1860 - val_accuracy: 0.7937\n",
      "Epoch 22/100\n",
      "16/16 [==============================] - 1s 64ms/step - loss: 0.0030 - accuracy: 0.9984 - val_loss: 2.2288 - val_accuracy: 0.7688\n",
      "Epoch 23/100\n",
      "16/16 [==============================] - 1s 57ms/step - loss: 0.0026 - accuracy: 0.9984 - val_loss: 2.2653 - val_accuracy: 0.7750\n",
      "Epoch 24/100\n",
      "16/16 [==============================] - 1s 59ms/step - loss: 1.2271e-04 - accuracy: 1.0000 - val_loss: 2.2873 - val_accuracy: 0.7625\n",
      "Epoch 25/100\n",
      "16/16 [==============================] - 1s 65ms/step - loss: 4.7838e-04 - accuracy: 1.0000 - val_loss: 2.2916 - val_accuracy: 0.7875\n",
      "Epoch 26/100\n",
      "16/16 [==============================] - 1s 73ms/step - loss: 0.0011 - accuracy: 1.0000 - val_loss: 2.3385 - val_accuracy: 0.7875\n",
      "Epoch 27/100\n",
      "16/16 [==============================] - 1s 65ms/step - loss: 4.3611e-05 - accuracy: 1.0000 - val_loss: 2.3852 - val_accuracy: 0.7875\n",
      "Epoch 28/100\n",
      "16/16 [==============================] - 1s 55ms/step - loss: 2.3880e-05 - accuracy: 1.0000 - val_loss: 2.3871 - val_accuracy: 0.7875\n",
      "Epoch 29/100\n",
      "16/16 [==============================] - 1s 59ms/step - loss: 1.0185e-04 - accuracy: 1.0000 - val_loss: 2.3805 - val_accuracy: 0.7875\n",
      "Epoch 30/100\n",
      "16/16 [==============================] - 1s 53ms/step - loss: 2.5644e-05 - accuracy: 1.0000 - val_loss: 2.4149 - val_accuracy: 0.7812\n",
      "Epoch 31/100\n",
      "16/16 [==============================] - 1s 54ms/step - loss: 9.0907e-05 - accuracy: 1.0000 - val_loss: 2.4558 - val_accuracy: 0.7875\n",
      "Epoch 32/100\n",
      "16/16 [==============================] - 1s 57ms/step - loss: 1.7835e-04 - accuracy: 1.0000 - val_loss: 2.4747 - val_accuracy: 0.7750\n",
      "Epoch 33/100\n",
      "16/16 [==============================] - 1s 55ms/step - loss: 2.7928e-05 - accuracy: 1.0000 - val_loss: 2.4967 - val_accuracy: 0.7812\n",
      "Epoch 34/100\n",
      "16/16 [==============================] - 1s 62ms/step - loss: 0.0024 - accuracy: 0.9984 - val_loss: 2.5226 - val_accuracy: 0.7875\n",
      "Epoch 35/100\n",
      "16/16 [==============================] - 1s 62ms/step - loss: 0.0022 - accuracy: 0.9984 - val_loss: 2.5169 - val_accuracy: 0.7875\n",
      "Epoch 36/100\n",
      "16/16 [==============================] - 1s 51ms/step - loss: 4.1489e-05 - accuracy: 1.0000 - val_loss: 2.5106 - val_accuracy: 0.7812\n",
      "Epoch 37/100\n",
      "16/16 [==============================] - 1s 55ms/step - loss: 1.0068e-04 - accuracy: 1.0000 - val_loss: 2.5566 - val_accuracy: 0.7812\n",
      "Epoch 38/100\n",
      "16/16 [==============================] - 1s 77ms/step - loss: 3.9297e-05 - accuracy: 1.0000 - val_loss: 2.6060 - val_accuracy: 0.7812\n",
      "Epoch 39/100\n",
      "16/16 [==============================] - 1s 68ms/step - loss: 3.0785e-04 - accuracy: 1.0000 - val_loss: 2.5798 - val_accuracy: 0.7875\n",
      "Epoch 40/100\n",
      "16/16 [==============================] - 1s 62ms/step - loss: 6.0024e-04 - accuracy: 1.0000 - val_loss: 2.5523 - val_accuracy: 0.8062\n",
      "Epoch 41/100\n",
      "16/16 [==============================] - 1s 69ms/step - loss: 9.4240e-05 - accuracy: 1.0000 - val_loss: 2.5930 - val_accuracy: 0.8000\n",
      "Epoch 42/100\n",
      "16/16 [==============================] - 1s 58ms/step - loss: 3.1975e-04 - accuracy: 1.0000 - val_loss: 2.6177 - val_accuracy: 0.7812\n",
      "Epoch 43/100\n",
      "16/16 [==============================] - 1s 52ms/step - loss: 6.1037e-06 - accuracy: 1.0000 - val_loss: 2.6272 - val_accuracy: 0.7750\n",
      "Epoch 44/100\n",
      "16/16 [==============================] - 1s 67ms/step - loss: 2.3343e-05 - accuracy: 1.0000 - val_loss: 2.6401 - val_accuracy: 0.7750\n",
      "Epoch 45/100\n",
      "16/16 [==============================] - 1s 69ms/step - loss: 6.3674e-04 - accuracy: 1.0000 - val_loss: 2.7530 - val_accuracy: 0.7812\n",
      "Epoch 46/100\n",
      "16/16 [==============================] - 1s 55ms/step - loss: 4.6383e-05 - accuracy: 1.0000 - val_loss: 2.8027 - val_accuracy: 0.7750\n",
      "Epoch 47/100\n",
      "16/16 [==============================] - 1s 64ms/step - loss: 4.3644e-04 - accuracy: 1.0000 - val_loss: 2.8625 - val_accuracy: 0.7688\n",
      "Epoch 48/100\n",
      "16/16 [==============================] - 1s 58ms/step - loss: 1.2355e-04 - accuracy: 1.0000 - val_loss: 2.9369 - val_accuracy: 0.7625\n",
      "Epoch 49/100\n",
      "16/16 [==============================] - 1s 57ms/step - loss: 1.0719e-05 - accuracy: 1.0000 - val_loss: 2.9596 - val_accuracy: 0.7812\n",
      "Epoch 50/100\n",
      "16/16 [==============================] - 1s 56ms/step - loss: 4.2863e-05 - accuracy: 1.0000 - val_loss: 2.9751 - val_accuracy: 0.7875\n",
      "Epoch 51/100\n",
      "16/16 [==============================] - 1s 52ms/step - loss: 8.3984e-04 - accuracy: 1.0000 - val_loss: 2.8997 - val_accuracy: 0.7563\n",
      "Epoch 52/100\n",
      "16/16 [==============================] - 1s 51ms/step - loss: 8.1873e-05 - accuracy: 1.0000 - val_loss: 2.9200 - val_accuracy: 0.7375\n",
      "Epoch 53/100\n",
      "16/16 [==============================] - 1s 54ms/step - loss: 2.5915e-04 - accuracy: 1.0000 - val_loss: 2.8801 - val_accuracy: 0.7375\n",
      "Epoch 54/100\n",
      "16/16 [==============================] - 1s 53ms/step - loss: 6.3579e-06 - accuracy: 1.0000 - val_loss: 2.8788 - val_accuracy: 0.7563\n",
      "Epoch 55/100\n",
      "16/16 [==============================] - 1s 56ms/step - loss: 6.2989e-05 - accuracy: 1.0000 - val_loss: 2.9043 - val_accuracy: 0.7688\n",
      "Epoch 56/100\n",
      "16/16 [==============================] - 1s 64ms/step - loss: 8.2210e-05 - accuracy: 1.0000 - val_loss: 2.9146 - val_accuracy: 0.7688\n",
      "Epoch 57/100\n",
      "16/16 [==============================] - 1s 55ms/step - loss: 5.7162e-06 - accuracy: 1.0000 - val_loss: 2.9239 - val_accuracy: 0.7688\n",
      "Epoch 58/100\n",
      "16/16 [==============================] - 1s 53ms/step - loss: 2.1454e-06 - accuracy: 1.0000 - val_loss: 2.9213 - val_accuracy: 0.7688\n",
      "Epoch 59/100\n",
      "16/16 [==============================] - 1s 54ms/step - loss: 1.8437e-05 - accuracy: 1.0000 - val_loss: 2.9268 - val_accuracy: 0.7688\n",
      "Epoch 60/100\n",
      "16/16 [==============================] - 1s 52ms/step - loss: 3.7559e-06 - accuracy: 1.0000 - val_loss: 2.9308 - val_accuracy: 0.7688\n",
      "Epoch 61/100\n",
      "16/16 [==============================] - 1s 54ms/step - loss: 2.7511e-06 - accuracy: 1.0000 - val_loss: 2.9293 - val_accuracy: 0.7625\n",
      "Epoch 62/100\n",
      "16/16 [==============================] - 1s 53ms/step - loss: 2.5821e-04 - accuracy: 1.0000 - val_loss: 2.9963 - val_accuracy: 0.7812\n",
      "Epoch 63/100\n",
      "16/16 [==============================] - 1s 53ms/step - loss: 1.5685e-04 - accuracy: 1.0000 - val_loss: 3.0504 - val_accuracy: 0.7688\n",
      "Epoch 64/100\n",
      "16/16 [==============================] - 1s 56ms/step - loss: 1.2658e-05 - accuracy: 1.0000 - val_loss: 3.0766 - val_accuracy: 0.7688\n",
      "Epoch 65/100\n",
      "16/16 [==============================] - 1s 56ms/step - loss: 4.5360e-06 - accuracy: 1.0000 - val_loss: 3.0909 - val_accuracy: 0.7625\n",
      "Epoch 66/100\n",
      "16/16 [==============================] - 1s 52ms/step - loss: 9.3733e-07 - accuracy: 1.0000 - val_loss: 3.0958 - val_accuracy: 0.7625\n",
      "Epoch 67/100\n",
      "16/16 [==============================] - 1s 47ms/step - loss: 1.3878e-05 - accuracy: 1.0000 - val_loss: 3.0976 - val_accuracy: 0.7625\n",
      "Epoch 68/100\n",
      "16/16 [==============================] - 1s 47ms/step - loss: 9.0016e-06 - accuracy: 1.0000 - val_loss: 3.0971 - val_accuracy: 0.7625\n",
      "Epoch 69/100\n",
      "16/16 [==============================] - 1s 52ms/step - loss: 1.2824e-05 - accuracy: 1.0000 - val_loss: 3.1043 - val_accuracy: 0.7625\n",
      "Epoch 70/100\n",
      "16/16 [==============================] - 1s 49ms/step - loss: 2.2093e-06 - accuracy: 1.0000 - val_loss: 3.1123 - val_accuracy: 0.7625\n",
      "Epoch 71/100\n",
      "16/16 [==============================] - 1s 47ms/step - loss: 2.5616e-06 - accuracy: 1.0000 - val_loss: 3.1191 - val_accuracy: 0.7625\n",
      "Epoch 72/100\n",
      "16/16 [==============================] - 1s 48ms/step - loss: 6.5168e-05 - accuracy: 1.0000 - val_loss: 3.1174 - val_accuracy: 0.7688\n",
      "Epoch 73/100\n",
      "16/16 [==============================] - 1s 51ms/step - loss: 6.1614e-05 - accuracy: 1.0000 - val_loss: 3.1710 - val_accuracy: 0.7750\n",
      "Epoch 74/100\n",
      "16/16 [==============================] - 1s 50ms/step - loss: 3.2849e-06 - accuracy: 1.0000 - val_loss: 3.2273 - val_accuracy: 0.7563\n",
      "Epoch 75/100\n",
      "16/16 [==============================] - 1s 52ms/step - loss: 1.4912e-05 - accuracy: 1.0000 - val_loss: 3.2655 - val_accuracy: 0.7625\n",
      "Epoch 76/100\n",
      "16/16 [==============================] - 1s 53ms/step - loss: 2.7586e-05 - accuracy: 1.0000 - val_loss: 3.2851 - val_accuracy: 0.7688\n",
      "Epoch 77/100\n",
      "16/16 [==============================] - 1s 52ms/step - loss: 3.1166e-06 - accuracy: 1.0000 - val_loss: 3.2933 - val_accuracy: 0.7625\n",
      "Epoch 78/100\n",
      "16/16 [==============================] - 1s 51ms/step - loss: 7.1858e-05 - accuracy: 1.0000 - val_loss: 3.3070 - val_accuracy: 0.7625\n",
      "Epoch 79/100\n",
      "16/16 [==============================] - 1s 52ms/step - loss: 3.1988e-06 - accuracy: 1.0000 - val_loss: 3.3125 - val_accuracy: 0.7750\n",
      "Epoch 80/100\n",
      "16/16 [==============================] - 1s 52ms/step - loss: 1.6715e-05 - accuracy: 1.0000 - val_loss: 3.3349 - val_accuracy: 0.7750\n",
      "Epoch 81/100\n",
      "16/16 [==============================] - 1s 67ms/step - loss: 4.0941e-06 - accuracy: 1.0000 - val_loss: 3.3401 - val_accuracy: 0.7750\n",
      "Epoch 82/100\n",
      "16/16 [==============================] - 1s 61ms/step - loss: 1.8588e-06 - accuracy: 1.0000 - val_loss: 3.3419 - val_accuracy: 0.7750\n",
      "Epoch 83/100\n",
      "16/16 [==============================] - 1s 52ms/step - loss: 6.5606e-06 - accuracy: 1.0000 - val_loss: 3.3460 - val_accuracy: 0.7750\n",
      "Epoch 84/100\n",
      "16/16 [==============================] - 1s 63ms/step - loss: 1.1242e-06 - accuracy: 1.0000 - val_loss: 3.3560 - val_accuracy: 0.7750\n",
      "Epoch 85/100\n",
      "16/16 [==============================] - 1s 54ms/step - loss: 3.6795e-06 - accuracy: 1.0000 - val_loss: 3.3529 - val_accuracy: 0.7750\n",
      "Epoch 86/100\n",
      "16/16 [==============================] - 1s 57ms/step - loss: 5.6553e-06 - accuracy: 1.0000 - val_loss: 3.3538 - val_accuracy: 0.7750\n",
      "Epoch 87/100\n",
      "16/16 [==============================] - 1s 56ms/step - loss: 1.9941e-05 - accuracy: 1.0000 - val_loss: 3.3745 - val_accuracy: 0.7625\n",
      "Epoch 88/100\n",
      "16/16 [==============================] - 1s 60ms/step - loss: 9.0406e-07 - accuracy: 1.0000 - val_loss: 3.3837 - val_accuracy: 0.7625\n",
      "Epoch 89/100\n",
      "16/16 [==============================] - 1s 61ms/step - loss: 1.3322e-05 - accuracy: 1.0000 - val_loss: 3.3875 - val_accuracy: 0.7625\n",
      "Epoch 90/100\n",
      "16/16 [==============================] - 1s 57ms/step - loss: 7.0294e-06 - accuracy: 1.0000 - val_loss: 3.3900 - val_accuracy: 0.7625\n",
      "Epoch 91/100\n",
      "16/16 [==============================] - 1s 75ms/step - loss: 1.0492e-05 - accuracy: 1.0000 - val_loss: 3.4032 - val_accuracy: 0.7625\n",
      "Epoch 92/100\n",
      "16/16 [==============================] - 1s 81ms/step - loss: 4.3134e-06 - accuracy: 1.0000 - val_loss: 3.4229 - val_accuracy: 0.7625\n",
      "Epoch 93/100\n",
      "16/16 [==============================] - 1s 68ms/step - loss: 3.9386e-06 - accuracy: 1.0000 - val_loss: 3.4196 - val_accuracy: 0.7625\n",
      "Epoch 94/100\n",
      "16/16 [==============================] - 1s 63ms/step - loss: 6.5855e-06 - accuracy: 1.0000 - val_loss: 3.4320 - val_accuracy: 0.7625\n",
      "Epoch 95/100\n",
      "16/16 [==============================] - 1s 63ms/step - loss: 3.7165e-07 - accuracy: 1.0000 - val_loss: 3.4414 - val_accuracy: 0.7625\n",
      "Epoch 96/100\n",
      "16/16 [==============================] - 1s 54ms/step - loss: 7.1931e-06 - accuracy: 1.0000 - val_loss: 3.4479 - val_accuracy: 0.7625\n",
      "Epoch 97/100\n",
      "16/16 [==============================] - 1s 50ms/step - loss: 6.1121e-06 - accuracy: 1.0000 - val_loss: 3.4530 - val_accuracy: 0.7625\n",
      "Epoch 98/100\n",
      "16/16 [==============================] - 1s 54ms/step - loss: 1.9207e-05 - accuracy: 1.0000 - val_loss: 3.4581 - val_accuracy: 0.7625\n",
      "Epoch 99/100\n",
      "16/16 [==============================] - 1s 86ms/step - loss: 5.9857e-06 - accuracy: 1.0000 - val_loss: 3.4591 - val_accuracy: 0.7625\n",
      "Epoch 100/100\n",
      "16/16 [==============================] - 1s 75ms/step - loss: 5.4482e-06 - accuracy: 1.0000 - val_loss: 3.4601 - val_accuracy: 0.7625\n"
     ]
    },
    {
     "data": {
      "text/plain": [
       "<keras.callbacks.History at 0x228e6e9b6d0>"
      ]
     },
     "execution_count": 28,
     "metadata": {},
     "output_type": "execute_result"
    }
   ],
   "source": [
    "nn.compile(loss='binary_crossentropy',metrics='accuracy',optimizer='adam')\n",
    "nn.fit(xtrain,ytrain,epochs=100,validation_split=0.2,batch_size=40)"
   ]
  },
  {
   "cell_type": "code",
   "execution_count": null,
   "id": "3e30b5e5",
   "metadata": {},
   "outputs": [],
   "source": []
  },
  {
   "cell_type": "code",
   "execution_count": 29,
   "id": "f9bf181a",
   "metadata": {},
   "outputs": [],
   "source": [
    "R=[]\n",
    "for i in nn.predict(xtrain):\n",
    "    if(i[0]<0.5):\n",
    "        R.append(0)\n",
    "    else:\n",
    "        R.append(1)"
   ]
  },
  {
   "cell_type": "code",
   "execution_count": 30,
   "id": "4036a479",
   "metadata": {},
   "outputs": [
    {
     "data": {
      "text/plain": [
       "0.9525"
      ]
     },
     "execution_count": 30,
     "metadata": {},
     "output_type": "execute_result"
    }
   ],
   "source": [
    "from sklearn.metrics import accuracy_score\n",
    "accuracy_score(ytrain,R)"
   ]
  },
  {
   "cell_type": "code",
   "execution_count": 31,
   "id": "e017b195",
   "metadata": {},
   "outputs": [],
   "source": [
    "T=[]\n",
    "for i in nn.predict(xtest):\n",
    "    if(i[0]<0.5):\n",
    "        T.append(0)\n",
    "    else:\n",
    "        T.append(1)"
   ]
  },
  {
   "cell_type": "code",
   "execution_count": 32,
   "id": "9ecede0d",
   "metadata": {},
   "outputs": [
    {
     "data": {
      "text/plain": [
       "0.8"
      ]
     },
     "execution_count": 32,
     "metadata": {},
     "output_type": "execute_result"
    }
   ],
   "source": [
    "accuracy_score(ytest,T)"
   ]
  },
  {
   "cell_type": "markdown",
   "id": "875315fa",
   "metadata": {},
   "source": [
    "# Testing the NN"
   ]
  },
  {
   "cell_type": "code",
   "execution_count": 33,
   "id": "88b63e15",
   "metadata": {},
   "outputs": [],
   "source": [
    "Rev=\"I loved the pasta\"             #Giving a Riview as input to NN"
   ]
  },
  {
   "cell_type": "code",
   "execution_count": 34,
   "id": "93d9d36e",
   "metadata": {},
   "outputs": [
    {
     "data": {
      "text/plain": [
       "['I LOVED THE PASTA']"
      ]
     },
     "execution_count": 34,
     "metadata": {},
     "output_type": "execute_result"
    }
   ],
   "source": [
    "[Rev.upper()]"
   ]
  },
  {
   "cell_type": "code",
   "execution_count": 35,
   "id": "c49f67fc",
   "metadata": {},
   "outputs": [],
   "source": [
    "rev1=cv.transform([Rev.upper()]).toarray()"
   ]
  },
  {
   "cell_type": "code",
   "execution_count": 36,
   "id": "395a52d6",
   "metadata": {},
   "outputs": [
    {
     "data": {
      "text/plain": [
       "array([[0, 0, 0, ..., 0, 0, 0]], dtype=int64)"
      ]
     },
     "execution_count": 36,
     "metadata": {},
     "output_type": "execute_result"
    }
   ],
   "source": [
    "rev1"
   ]
  },
  {
   "cell_type": "code",
   "execution_count": 37,
   "id": "7697d54a",
   "metadata": {},
   "outputs": [
    {
     "data": {
      "text/plain": [
       "array([[1.]], dtype=float32)"
      ]
     },
     "execution_count": 37,
     "metadata": {},
     "output_type": "execute_result"
    }
   ],
   "source": [
    "nn.predict(rev1)       # Getting output 1 ,means food is liked !"
   ]
  },
  {
   "cell_type": "code",
   "execution_count": null,
   "id": "c930c82b",
   "metadata": {},
   "outputs": [],
   "source": []
  },
  {
   "cell_type": "code",
   "execution_count": null,
   "id": "45bc8f90",
   "metadata": {},
   "outputs": [],
   "source": []
  }
 ],
 "metadata": {
  "kernelspec": {
   "display_name": "Python 3 (ipykernel)",
   "language": "python",
   "name": "python3"
  },
  "language_info": {
   "codemirror_mode": {
    "name": "ipython",
    "version": 3
   },
   "file_extension": ".py",
   "mimetype": "text/x-python",
   "name": "python",
   "nbconvert_exporter": "python",
   "pygments_lexer": "ipython3",
   "version": "3.8.12"
  }
 },
 "nbformat": 4,
 "nbformat_minor": 5
}
