{
 "cells": [
  {
   "cell_type": "markdown",
   "id": "13cb574e",
   "metadata": {},
   "source": [
    "# Problem Statement:\n",
    "As each coin has two sides, so does technology. On one hand, with the advancement in technology the lives are getting better,\n",
    "on the other hand, the ill use of technology is also increasing. \n",
    "The suspicious activities are increasing ranging from dos attacks, phishing, hacking etc.\n",
    "In this hackathon, we are concerned with the increasing phishing attacks.\n",
    "\n",
    "\n",
    "Typically, Phishing is a type of social engineering where an attacker sends a \n",
    "fraudulent (e.g., spoofed, fake, or otherwise deceptive)\n",
    "message designed to trick a person into revealing sensitive information to the \n",
    "attacker or to deploy malicious software on the victim's infrastructure like ransomware."
   ]
  },
  {
   "cell_type": "markdown",
   "id": "44fe62de",
   "metadata": {},
   "source": [
    "# Task:\n",
    "\n",
    "The candidates have to read the data and create a model based on the data analysis \n",
    "to identify if the website is legitimate or a phishing website. \n",
    "The Result will be determined by the two values [1, -1] where 1 represent the legitimate and -1 represents phishing"
   ]
  },
  {
   "cell_type": "code",
   "execution_count": 1,
   "id": "d9d07f50",
   "metadata": {},
   "outputs": [],
   "source": [
    "from warnings import filterwarnings\n",
    "filterwarnings('ignore')"
   ]
  },
  {
   "cell_type": "code",
   "execution_count": 29,
   "id": "542bbfcf",
   "metadata": {},
   "outputs": [],
   "source": [
    "import pandas as pd\n",
    "import numpy as np"
   ]
  },
  {
   "cell_type": "markdown",
   "id": "ea27a99b",
   "metadata": {},
   "source": [
    "# Importing train text data"
   ]
  },
  {
   "cell_type": "code",
   "execution_count": 46,
   "id": "c0057db7",
   "metadata": {},
   "outputs": [],
   "source": [
    "tr=pd.read_csv('C:/Users/cmscomputers/Desktop/datasets/Phishing_project/Phising_Training_Dataset.csv')       #train data"
   ]
  },
  {
   "cell_type": "code",
   "execution_count": 5,
   "id": "d73ff737",
   "metadata": {},
   "outputs": [],
   "source": [
    "ts=pd.read_csv('C:/Users/cmscomputers/Desktop/datasets/Phishing_project/Phising_Testing_Dataset.csv')        #test data"
   ]
  },
  {
   "cell_type": "code",
   "execution_count": 6,
   "id": "7e0bc9bd",
   "metadata": {},
   "outputs": [
    {
     "data": {
      "text/html": [
       "<div>\n",
       "<style scoped>\n",
       "    .dataframe tbody tr th:only-of-type {\n",
       "        vertical-align: middle;\n",
       "    }\n",
       "\n",
       "    .dataframe tbody tr th {\n",
       "        vertical-align: top;\n",
       "    }\n",
       "\n",
       "    .dataframe thead th {\n",
       "        text-align: right;\n",
       "    }\n",
       "</style>\n",
       "<table border=\"1\" class=\"dataframe\">\n",
       "  <thead>\n",
       "    <tr style=\"text-align: right;\">\n",
       "      <th></th>\n",
       "      <th>key</th>\n",
       "      <th>having_IP</th>\n",
       "      <th>URL_Length</th>\n",
       "      <th>Shortining_Service</th>\n",
       "      <th>having_At_Symbol</th>\n",
       "      <th>double_slash_redirecting</th>\n",
       "      <th>Prefix_Suffix</th>\n",
       "      <th>having_Sub_Domain</th>\n",
       "      <th>SSLfinal_State</th>\n",
       "      <th>Domain_registeration_length</th>\n",
       "      <th>...</th>\n",
       "      <th>popUpWidnow</th>\n",
       "      <th>Iframe</th>\n",
       "      <th>age_of_domain</th>\n",
       "      <th>DNSRecord</th>\n",
       "      <th>web_traffic</th>\n",
       "      <th>Page_Rank</th>\n",
       "      <th>Google_Index</th>\n",
       "      <th>Links_pointing_to_page</th>\n",
       "      <th>Statistical_report</th>\n",
       "      <th>Result</th>\n",
       "    </tr>\n",
       "  </thead>\n",
       "  <tbody>\n",
       "    <tr>\n",
       "      <th>0</th>\n",
       "      <td>12344</td>\n",
       "      <td>-1</td>\n",
       "      <td>1</td>\n",
       "      <td>1</td>\n",
       "      <td>1</td>\n",
       "      <td>-1</td>\n",
       "      <td>-1</td>\n",
       "      <td>-1</td>\n",
       "      <td>-1</td>\n",
       "      <td>-1</td>\n",
       "      <td>...</td>\n",
       "      <td>1</td>\n",
       "      <td>1</td>\n",
       "      <td>-1</td>\n",
       "      <td>-1</td>\n",
       "      <td>-1</td>\n",
       "      <td>-1</td>\n",
       "      <td>1</td>\n",
       "      <td>1</td>\n",
       "      <td>-1</td>\n",
       "      <td>-1</td>\n",
       "    </tr>\n",
       "    <tr>\n",
       "      <th>1</th>\n",
       "      <td>12345</td>\n",
       "      <td>1</td>\n",
       "      <td>1</td>\n",
       "      <td>1</td>\n",
       "      <td>1</td>\n",
       "      <td>1</td>\n",
       "      <td>-1</td>\n",
       "      <td>0</td>\n",
       "      <td>1</td>\n",
       "      <td>-1</td>\n",
       "      <td>...</td>\n",
       "      <td>1</td>\n",
       "      <td>1</td>\n",
       "      <td>-1</td>\n",
       "      <td>-1</td>\n",
       "      <td>0</td>\n",
       "      <td>-1</td>\n",
       "      <td>1</td>\n",
       "      <td>1</td>\n",
       "      <td>1</td>\n",
       "      <td>-1</td>\n",
       "    </tr>\n",
       "  </tbody>\n",
       "</table>\n",
       "<p>2 rows × 32 columns</p>\n",
       "</div>"
      ],
      "text/plain": [
       "     key  having_IP  URL_Length  Shortining_Service  having_At_Symbol  \\\n",
       "0  12344         -1           1                   1                 1   \n",
       "1  12345          1           1                   1                 1   \n",
       "\n",
       "   double_slash_redirecting  Prefix_Suffix  having_Sub_Domain  SSLfinal_State  \\\n",
       "0                        -1             -1                 -1              -1   \n",
       "1                         1             -1                  0               1   \n",
       "\n",
       "   Domain_registeration_length  ...  popUpWidnow  Iframe  age_of_domain  \\\n",
       "0                           -1  ...            1       1             -1   \n",
       "1                           -1  ...            1       1             -1   \n",
       "\n",
       "   DNSRecord  web_traffic  Page_Rank  Google_Index  Links_pointing_to_page  \\\n",
       "0         -1           -1         -1             1                       1   \n",
       "1         -1            0         -1             1                       1   \n",
       "\n",
       "   Statistical_report  Result  \n",
       "0                  -1      -1  \n",
       "1                   1      -1  \n",
       "\n",
       "[2 rows x 32 columns]"
      ]
     },
     "execution_count": 6,
     "metadata": {},
     "output_type": "execute_result"
    }
   ],
   "source": [
    "tr.head(2)"
   ]
  },
  {
   "cell_type": "code",
   "execution_count": 7,
   "id": "72e99904",
   "metadata": {},
   "outputs": [
    {
     "data": {
      "text/html": [
       "<div>\n",
       "<style scoped>\n",
       "    .dataframe tbody tr th:only-of-type {\n",
       "        vertical-align: middle;\n",
       "    }\n",
       "\n",
       "    .dataframe tbody tr th {\n",
       "        vertical-align: top;\n",
       "    }\n",
       "\n",
       "    .dataframe thead th {\n",
       "        text-align: right;\n",
       "    }\n",
       "</style>\n",
       "<table border=\"1\" class=\"dataframe\">\n",
       "  <thead>\n",
       "    <tr style=\"text-align: right;\">\n",
       "      <th></th>\n",
       "      <th>key</th>\n",
       "      <th>having_IP</th>\n",
       "      <th>URL_Length</th>\n",
       "      <th>Shortining_Service</th>\n",
       "      <th>having_At_Symbol</th>\n",
       "      <th>double_slash_redirecting</th>\n",
       "      <th>Prefix_Suffix</th>\n",
       "      <th>having_Sub_Domain</th>\n",
       "      <th>SSLfinal_State</th>\n",
       "      <th>Domain_registeration_length</th>\n",
       "      <th>...</th>\n",
       "      <th>RightClick</th>\n",
       "      <th>popUpWidnow</th>\n",
       "      <th>Iframe</th>\n",
       "      <th>age_of_domain</th>\n",
       "      <th>DNSRecord</th>\n",
       "      <th>web_traffic</th>\n",
       "      <th>Page_Rank</th>\n",
       "      <th>Google_Index</th>\n",
       "      <th>Links_pointing_to_page</th>\n",
       "      <th>Statistical_report</th>\n",
       "    </tr>\n",
       "  </thead>\n",
       "  <tbody>\n",
       "    <tr>\n",
       "      <th>0</th>\n",
       "      <td>21338</td>\n",
       "      <td>1</td>\n",
       "      <td>1</td>\n",
       "      <td>1</td>\n",
       "      <td>1</td>\n",
       "      <td>1</td>\n",
       "      <td>1</td>\n",
       "      <td>-1</td>\n",
       "      <td>1</td>\n",
       "      <td>-1</td>\n",
       "      <td>...</td>\n",
       "      <td>1</td>\n",
       "      <td>1</td>\n",
       "      <td>1</td>\n",
       "      <td>1</td>\n",
       "      <td>1</td>\n",
       "      <td>1</td>\n",
       "      <td>1</td>\n",
       "      <td>-1</td>\n",
       "      <td>0</td>\n",
       "      <td>1</td>\n",
       "    </tr>\n",
       "    <tr>\n",
       "      <th>1</th>\n",
       "      <td>21339</td>\n",
       "      <td>1</td>\n",
       "      <td>-1</td>\n",
       "      <td>1</td>\n",
       "      <td>1</td>\n",
       "      <td>1</td>\n",
       "      <td>-1</td>\n",
       "      <td>0</td>\n",
       "      <td>-1</td>\n",
       "      <td>1</td>\n",
       "      <td>...</td>\n",
       "      <td>1</td>\n",
       "      <td>1</td>\n",
       "      <td>1</td>\n",
       "      <td>-1</td>\n",
       "      <td>-1</td>\n",
       "      <td>0</td>\n",
       "      <td>-1</td>\n",
       "      <td>-1</td>\n",
       "      <td>0</td>\n",
       "      <td>1</td>\n",
       "    </tr>\n",
       "  </tbody>\n",
       "</table>\n",
       "<p>2 rows × 31 columns</p>\n",
       "</div>"
      ],
      "text/plain": [
       "     key  having_IP  URL_Length  Shortining_Service  having_At_Symbol  \\\n",
       "0  21338          1           1                   1                 1   \n",
       "1  21339          1          -1                   1                 1   \n",
       "\n",
       "   double_slash_redirecting  Prefix_Suffix  having_Sub_Domain  SSLfinal_State  \\\n",
       "0                         1              1                 -1               1   \n",
       "1                         1             -1                  0              -1   \n",
       "\n",
       "   Domain_registeration_length  ...  RightClick  popUpWidnow  Iframe  \\\n",
       "0                           -1  ...           1            1       1   \n",
       "1                            1  ...           1            1       1   \n",
       "\n",
       "   age_of_domain  DNSRecord  web_traffic  Page_Rank  Google_Index  \\\n",
       "0              1          1            1          1            -1   \n",
       "1             -1         -1            0         -1            -1   \n",
       "\n",
       "   Links_pointing_to_page  Statistical_report  \n",
       "0                       0                   1  \n",
       "1                       0                   1  \n",
       "\n",
       "[2 rows x 31 columns]"
      ]
     },
     "execution_count": 7,
     "metadata": {},
     "output_type": "execute_result"
    }
   ],
   "source": [
    "ts.head(2)"
   ]
  },
  {
   "cell_type": "code",
   "execution_count": 38,
   "id": "d36d49a9",
   "metadata": {},
   "outputs": [
    {
     "name": "stdout",
     "output_type": "stream",
     "text": [
      "<class 'pandas.core.frame.DataFrame'>\n",
      "RangeIndex: 8955 entries, 0 to 8954\n",
      "Data columns (total 32 columns):\n",
      " #   Column                       Non-Null Count  Dtype\n",
      "---  ------                       --------------  -----\n",
      " 0   key                          8955 non-null   int64\n",
      " 1   having_IP                    8955 non-null   int64\n",
      " 2   URL_Length                   8955 non-null   int64\n",
      " 3   Shortining_Service           8955 non-null   int64\n",
      " 4   having_At_Symbol             8955 non-null   int64\n",
      " 5   double_slash_redirecting     8955 non-null   int64\n",
      " 6   Prefix_Suffix                8955 non-null   int64\n",
      " 7   having_Sub_Domain            8955 non-null   int64\n",
      " 8   SSLfinal_State               8955 non-null   int64\n",
      " 9   Domain_registeration_length  8955 non-null   int64\n",
      " 10  Favicon                      8955 non-null   int64\n",
      " 11  port                         8955 non-null   int64\n",
      " 12  HTTPS_token                  8955 non-null   int64\n",
      " 13  Request_URL                  8955 non-null   int64\n",
      " 14  URL_of_Anchor                8955 non-null   int64\n",
      " 15  Links_in_tags                8955 non-null   int64\n",
      " 16  SFH                          8955 non-null   int64\n",
      " 17  Submitting_to_email          8955 non-null   int64\n",
      " 18  Abnormal_URL                 8955 non-null   int64\n",
      " 19  Redirect                     8955 non-null   int64\n",
      " 20  on_mouseover                 8955 non-null   int64\n",
      " 21  RightClick                   8955 non-null   int64\n",
      " 22  popUpWidnow                  8955 non-null   int64\n",
      " 23  Iframe                       8955 non-null   int64\n",
      " 24  age_of_domain                8955 non-null   int64\n",
      " 25  DNSRecord                    8955 non-null   int64\n",
      " 26  web_traffic                  8955 non-null   int64\n",
      " 27  Page_Rank                    8955 non-null   int64\n",
      " 28  Google_Index                 8955 non-null   int64\n",
      " 29  Links_pointing_to_page       8955 non-null   int64\n",
      " 30  Statistical_report           8955 non-null   int64\n",
      " 31  Result                       8955 non-null   int32\n",
      "dtypes: int32(1), int64(31)\n",
      "memory usage: 2.2 MB\n"
     ]
    }
   ],
   "source": [
    "tr.info()"
   ]
  },
  {
   "cell_type": "code",
   "execution_count": 39,
   "id": "d55b53e2",
   "metadata": {},
   "outputs": [
    {
     "name": "stdout",
     "output_type": "stream",
     "text": [
      "<class 'pandas.core.frame.DataFrame'>\n",
      "RangeIndex: 2100 entries, 0 to 2099\n",
      "Data columns (total 31 columns):\n",
      " #   Column                       Non-Null Count  Dtype\n",
      "---  ------                       --------------  -----\n",
      " 0   key                          2100 non-null   int64\n",
      " 1   having_IP                    2100 non-null   int64\n",
      " 2   URL_Length                   2100 non-null   int64\n",
      " 3   Shortining_Service           2100 non-null   int64\n",
      " 4   having_At_Symbol             2100 non-null   int64\n",
      " 5   double_slash_redirecting     2100 non-null   int64\n",
      " 6   Prefix_Suffix                2100 non-null   int64\n",
      " 7   having_Sub_Domain            2100 non-null   int64\n",
      " 8   SSLfinal_State               2100 non-null   int64\n",
      " 9   Domain_registeration_length  2100 non-null   int64\n",
      " 10  Favicon                      2100 non-null   int64\n",
      " 11  port                         2100 non-null   int64\n",
      " 12  HTTPS_token                  2100 non-null   int64\n",
      " 13  Request_URL                  2100 non-null   int64\n",
      " 14  URL_of_Anchor                2100 non-null   int64\n",
      " 15  Links_in_tags                2100 non-null   int64\n",
      " 16  SFH                          2100 non-null   int64\n",
      " 17  Submitting_to_email          2100 non-null   int64\n",
      " 18  Abnormal_URL                 2100 non-null   int64\n",
      " 19  Redirect                     2100 non-null   int64\n",
      " 20  on_mouseover                 2100 non-null   int64\n",
      " 21  RightClick                   2100 non-null   int64\n",
      " 22  popUpWidnow                  2100 non-null   int64\n",
      " 23  Iframe                       2100 non-null   int64\n",
      " 24  age_of_domain                2100 non-null   int64\n",
      " 25  DNSRecord                    2100 non-null   int64\n",
      " 26  web_traffic                  2100 non-null   int64\n",
      " 27  Page_Rank                    2100 non-null   int64\n",
      " 28  Google_Index                 2100 non-null   int64\n",
      " 29  Links_pointing_to_page       2100 non-null   int64\n",
      " 30  Statistical_report           2100 non-null   int64\n",
      "dtypes: int64(31)\n",
      "memory usage: 508.7 KB\n"
     ]
    }
   ],
   "source": [
    "ts.info()"
   ]
  },
  {
   "cell_type": "code",
   "execution_count": 40,
   "id": "8bf6d40a",
   "metadata": {},
   "outputs": [
    {
     "data": {
      "text/plain": [
       "key                            0\n",
       "having_IP                      0\n",
       "URL_Length                     0\n",
       "Shortining_Service             0\n",
       "having_At_Symbol               0\n",
       "double_slash_redirecting       0\n",
       "Prefix_Suffix                  0\n",
       "having_Sub_Domain              0\n",
       "SSLfinal_State                 0\n",
       "Domain_registeration_length    0\n",
       "Favicon                        0\n",
       "port                           0\n",
       "HTTPS_token                    0\n",
       "Request_URL                    0\n",
       "URL_of_Anchor                  0\n",
       "Links_in_tags                  0\n",
       "SFH                            0\n",
       "Submitting_to_email            0\n",
       "Abnormal_URL                   0\n",
       "Redirect                       0\n",
       "on_mouseover                   0\n",
       "RightClick                     0\n",
       "popUpWidnow                    0\n",
       "Iframe                         0\n",
       "age_of_domain                  0\n",
       "DNSRecord                      0\n",
       "web_traffic                    0\n",
       "Page_Rank                      0\n",
       "Google_Index                   0\n",
       "Links_pointing_to_page         0\n",
       "Statistical_report             0\n",
       "Result                         0\n",
       "dtype: int64"
      ]
     },
     "execution_count": 40,
     "metadata": {},
     "output_type": "execute_result"
    }
   ],
   "source": [
    "tr.isna().sum()                  #check for missing data"
   ]
  },
  {
   "cell_type": "code",
   "execution_count": 41,
   "id": "c449671e",
   "metadata": {},
   "outputs": [
    {
     "data": {
      "text/plain": [
       "key                            0\n",
       "having_IP                      0\n",
       "URL_Length                     0\n",
       "Shortining_Service             0\n",
       "having_At_Symbol               0\n",
       "double_slash_redirecting       0\n",
       "Prefix_Suffix                  0\n",
       "having_Sub_Domain              0\n",
       "SSLfinal_State                 0\n",
       "Domain_registeration_length    0\n",
       "Favicon                        0\n",
       "port                           0\n",
       "HTTPS_token                    0\n",
       "Request_URL                    0\n",
       "URL_of_Anchor                  0\n",
       "Links_in_tags                  0\n",
       "SFH                            0\n",
       "Submitting_to_email            0\n",
       "Abnormal_URL                   0\n",
       "Redirect                       0\n",
       "on_mouseover                   0\n",
       "RightClick                     0\n",
       "popUpWidnow                    0\n",
       "Iframe                         0\n",
       "age_of_domain                  0\n",
       "DNSRecord                      0\n",
       "web_traffic                    0\n",
       "Page_Rank                      0\n",
       "Google_Index                   0\n",
       "Links_pointing_to_page         0\n",
       "Statistical_report             0\n",
       "dtype: int64"
      ]
     },
     "execution_count": 41,
     "metadata": {},
     "output_type": "execute_result"
    }
   ],
   "source": [
    "ts.isna().sum()                       #check for missing data"
   ]
  },
  {
   "cell_type": "code",
   "execution_count": 42,
   "id": "b97c7a3e",
   "metadata": {},
   "outputs": [
    {
     "data": {
      "text/plain": [
       "Redirect                       2.431036\n",
       "Prefix_Suffix                  2.170495\n",
       "URL_Length                     1.647160\n",
       "SFH                            1.472864\n",
       "Page_Rank                      1.092704\n",
       "Domain_registeration_length    0.714702\n",
       "Links_in_tags                  0.202936\n",
       "URL_of_Anchor                  0.111162\n",
       "key                            0.000000\n",
       "age_of_domain                 -0.057879\n",
       "having_Sub_Domain             -0.132753\n",
       "Links_pointing_to_page        -0.195043\n",
       "Result                        -0.250561\n",
       "Request_URL                   -0.389370\n",
       "SSLfinal_State                -0.545484\n",
       "web_traffic                   -0.585980\n",
       "having_IP                     -0.645733\n",
       "DNSRecord                     -0.799352\n",
       "popUpWidnow                   -1.526678\n",
       "Favicon                       -1.594115\n",
       "Submitting_to_email           -1.635846\n",
       "HTTPS_token                   -1.786460\n",
       "Abnormal_URL                  -1.973353\n",
       "having_At_Symbol              -2.013579\n",
       "Google_Index                  -2.030274\n",
       "Statistical_report            -2.129504\n",
       "port                          -2.170495\n",
       "Shortining_Service            -2.203923\n",
       "double_slash_redirecting      -2.205395\n",
       "on_mouseover                  -2.424087\n",
       "Iframe                        -2.974548\n",
       "RightClick                    -4.697127\n",
       "dtype: float64"
      ]
     },
     "execution_count": 42,
     "metadata": {},
     "output_type": "execute_result"
    }
   ],
   "source": [
    "tr.skew().sort_values(ascending=False)                            #check for skewness"
   ]
  },
  {
   "cell_type": "code",
   "execution_count": 43,
   "id": "d75cd80e",
   "metadata": {},
   "outputs": [
    {
     "data": {
      "text/plain": [
       "Redirect                       2.292662\n",
       "Prefix_Suffix                  2.158820\n",
       "URL_Length                     1.591288\n",
       "SFH                            1.490399\n",
       "Page_Rank                      1.161407\n",
       "Domain_registeration_length    0.719015\n",
       "Links_in_tags                  0.201352\n",
       "URL_of_Anchor                  0.119816\n",
       "key                            0.000000\n",
       "Links_pointing_to_page        -0.040408\n",
       "having_Sub_Domain             -0.056121\n",
       "Request_URL                   -0.342282\n",
       "SSLfinal_State                -0.391239\n",
       "age_of_domain                 -0.406514\n",
       "web_traffic                   -0.536833\n",
       "having_IP                     -0.728183\n",
       "DNSRecord                     -0.880939\n",
       "popUpWidnow                   -1.675474\n",
       "Submitting_to_email           -1.696781\n",
       "Favicon                       -1.718428\n",
       "having_At_Symbol              -1.771846\n",
       "Statistical_report            -1.856178\n",
       "port                          -1.951367\n",
       "HTTPS_token                   -2.037152\n",
       "Abnormal_URL                  -2.065131\n",
       "on_mouseover                  -2.093709\n",
       "Shortining_Service            -2.146743\n",
       "double_slash_redirecting      -2.233660\n",
       "Google_Index                  -2.347372\n",
       "Iframe                        -2.354369\n",
       "RightClick                    -3.857123\n",
       "dtype: float64"
      ]
     },
     "execution_count": 43,
     "metadata": {},
     "output_type": "execute_result"
    }
   ],
   "source": [
    "ts.skew().sort_values(ascending=False)                           #check for skewness"
   ]
  },
  {
   "cell_type": "markdown",
   "id": "7398aae5",
   "metadata": {},
   "source": [
    "# Colinearity check"
   ]
  },
  {
   "cell_type": "code",
   "execution_count": 44,
   "id": "824894f3",
   "metadata": {},
   "outputs": [
    {
     "data": {
      "text/plain": [
       "Result                         1.000000\n",
       "SSLfinal_State                 0.712543\n",
       "URL_of_Anchor                  0.696394\n",
       "web_traffic                    0.355581\n",
       "Prefix_Suffix                  0.344660\n",
       "having_Sub_Domain              0.296728\n",
       "Request_URL                    0.254572\n",
       "Links_in_tags                  0.238802\n",
       "SFH                            0.217931\n",
       "age_of_domain                  0.135198\n",
       "Google_Index                   0.121896\n",
       "Page_Rank                      0.102920\n",
       "having_IP                      0.094027\n",
       "DNSRecord                      0.081927\n",
       "Statistical_report             0.068015\n",
       "URL_Length                     0.059331\n",
       "having_At_Symbol               0.050045\n",
       "on_mouseover                   0.042180\n",
       "Links_pointing_to_page         0.035003\n",
       "port                           0.033971\n",
       "Submitting_to_email            0.011981\n",
       "RightClick                     0.004880\n",
       "key                           -0.000854\n",
       "popUpWidnow                   -0.002868\n",
       "Favicon                       -0.003260\n",
       "Iframe                        -0.013429\n",
       "Redirect                      -0.027197\n",
       "HTTPS_token                   -0.036573\n",
       "double_slash_redirecting      -0.037758\n",
       "Abnormal_URL                  -0.059860\n",
       "Shortining_Service            -0.066170\n",
       "Domain_registeration_length   -0.219960\n",
       "Name: Result, dtype: float64"
      ]
     },
     "execution_count": 44,
     "metadata": {},
     "output_type": "execute_result"
    }
   ],
   "source": [
    "tr.corr()['Result'].sort_values(ascending=False)"
   ]
  },
  {
   "cell_type": "code",
   "execution_count": 45,
   "id": "752ef0df",
   "metadata": {},
   "outputs": [],
   "source": [
    "#the target feature is having 1 and -1 value ,1 not phishing and -1 for phishing.we will convert it into 1 and 0 "
   ]
  },
  {
   "cell_type": "code",
   "execution_count": 47,
   "id": "07580776",
   "metadata": {},
   "outputs": [
    {
     "data": {
      "text/plain": [
       "1    5034\n",
       "0    3921\n",
       "Name: Result, dtype: int64"
      ]
     },
     "execution_count": 47,
     "metadata": {},
     "output_type": "execute_result"
    }
   ],
   "source": [
    "tr['Result']=np.where(tr.Result==-1,0,1)\n",
    "tr.Result.value_counts()"
   ]
  },
  {
   "cell_type": "code",
   "execution_count": null,
   "id": "6967c0c2",
   "metadata": {},
   "outputs": [],
   "source": []
  },
  {
   "cell_type": "code",
   "execution_count": 49,
   "id": "55b59807",
   "metadata": {},
   "outputs": [
    {
     "name": "stdout",
     "output_type": "stream",
     "text": [
      "key =========> 8955 int64\n",
      "having_IP =========> 2 int64\n",
      "URL_Length =========> 3 int64\n",
      "Shortining_Service =========> 2 int64\n",
      "having_At_Symbol =========> 2 int64\n",
      "double_slash_redirecting =========> 2 int64\n",
      "Prefix_Suffix =========> 2 int64\n",
      "having_Sub_Domain =========> 3 int64\n",
      "SSLfinal_State =========> 3 int64\n",
      "Domain_registeration_length =========> 2 int64\n",
      "Favicon =========> 2 int64\n",
      "port =========> 2 int64\n",
      "HTTPS_token =========> 2 int64\n",
      "Request_URL =========> 2 int64\n",
      "URL_of_Anchor =========> 3 int64\n",
      "Links_in_tags =========> 3 int64\n",
      "SFH =========> 3 int64\n",
      "Submitting_to_email =========> 2 int64\n",
      "Abnormal_URL =========> 2 int64\n",
      "Redirect =========> 2 int64\n",
      "on_mouseover =========> 2 int64\n",
      "RightClick =========> 2 int64\n",
      "popUpWidnow =========> 2 int64\n",
      "Iframe =========> 2 int64\n",
      "age_of_domain =========> 2 int64\n",
      "DNSRecord =========> 2 int64\n",
      "web_traffic =========> 3 int64\n",
      "Page_Rank =========> 2 int64\n",
      "Google_Index =========> 2 int64\n",
      "Links_pointing_to_page =========> 3 int64\n",
      "Statistical_report =========> 2 int64\n",
      "Result =========> 2 int32\n"
     ]
    }
   ],
   "source": [
    "for i in tr.columns:\n",
    "    print(i ,'=========>', len(tr[i].value_counts()), tr[i].dtype)"
   ]
  },
  {
   "cell_type": "code",
   "execution_count": 50,
   "id": "1267d326",
   "metadata": {},
   "outputs": [],
   "source": [
    "#we can see here mostaly feature are having two or three values only ,so will convert them into categorical data type"
   ]
  },
  {
   "cell_type": "code",
   "execution_count": 77,
   "id": "e440a68c",
   "metadata": {},
   "outputs": [
    {
     "name": "stdout",
     "output_type": "stream",
     "text": [
      "<class 'pandas.core.frame.DataFrame'>\n",
      "RangeIndex: 8955 entries, 0 to 8954\n",
      "Data columns (total 32 columns):\n",
      " #   Column                       Non-Null Count  Dtype \n",
      "---  ------                       --------------  ----- \n",
      " 0   key                          8955 non-null   object\n",
      " 1   having_IP                    8955 non-null   object\n",
      " 2   URL_Length                   8955 non-null   object\n",
      " 3   Shortining_Service           8955 non-null   object\n",
      " 4   having_At_Symbol             8955 non-null   object\n",
      " 5   double_slash_redirecting     8955 non-null   object\n",
      " 6   Prefix_Suffix                8955 non-null   object\n",
      " 7   having_Sub_Domain            8955 non-null   object\n",
      " 8   SSLfinal_State               8955 non-null   object\n",
      " 9   Domain_registeration_length  8955 non-null   object\n",
      " 10  Favicon                      8955 non-null   object\n",
      " 11  port                         8955 non-null   object\n",
      " 12  HTTPS_token                  8955 non-null   object\n",
      " 13  Request_URL                  8955 non-null   object\n",
      " 14  URL_of_Anchor                8955 non-null   object\n",
      " 15  Links_in_tags                8955 non-null   object\n",
      " 16  SFH                          8955 non-null   object\n",
      " 17  Submitting_to_email          8955 non-null   object\n",
      " 18  Abnormal_URL                 8955 non-null   object\n",
      " 19  Redirect                     8955 non-null   object\n",
      " 20  on_mouseover                 8955 non-null   object\n",
      " 21  RightClick                   8955 non-null   object\n",
      " 22  popUpWidnow                  8955 non-null   object\n",
      " 23  Iframe                       8955 non-null   object\n",
      " 24  age_of_domain                8955 non-null   object\n",
      " 25  DNSRecord                    8955 non-null   object\n",
      " 26  web_traffic                  8955 non-null   object\n",
      " 27  Page_Rank                    8955 non-null   object\n",
      " 28  Google_Index                 8955 non-null   object\n",
      " 29  Links_pointing_to_page       8955 non-null   object\n",
      " 30  Statistical_report           8955 non-null   object\n",
      " 31  Result                       8955 non-null   object\n",
      "dtypes: object(32)\n",
      "memory usage: 2.2+ MB\n",
      "<class 'pandas.core.frame.DataFrame'>\n",
      "RangeIndex: 2100 entries, 0 to 2099\n",
      "Data columns (total 31 columns):\n",
      " #   Column                       Non-Null Count  Dtype \n",
      "---  ------                       --------------  ----- \n",
      " 0   key                          2100 non-null   object\n",
      " 1   having_IP                    2100 non-null   object\n",
      " 2   URL_Length                   2100 non-null   object\n",
      " 3   Shortining_Service           2100 non-null   object\n",
      " 4   having_At_Symbol             2100 non-null   object\n",
      " 5   double_slash_redirecting     2100 non-null   object\n",
      " 6   Prefix_Suffix                2100 non-null   object\n",
      " 7   having_Sub_Domain            2100 non-null   object\n",
      " 8   SSLfinal_State               2100 non-null   object\n",
      " 9   Domain_registeration_length  2100 non-null   object\n",
      " 10  Favicon                      2100 non-null   object\n",
      " 11  port                         2100 non-null   object\n",
      " 12  HTTPS_token                  2100 non-null   object\n",
      " 13  Request_URL                  2100 non-null   object\n",
      " 14  URL_of_Anchor                2100 non-null   object\n",
      " 15  Links_in_tags                2100 non-null   object\n",
      " 16  SFH                          2100 non-null   object\n",
      " 17  Submitting_to_email          2100 non-null   object\n",
      " 18  Abnormal_URL                 2100 non-null   object\n",
      " 19  Redirect                     2100 non-null   object\n",
      " 20  on_mouseover                 2100 non-null   object\n",
      " 21  RightClick                   2100 non-null   object\n",
      " 22  popUpWidnow                  2100 non-null   object\n",
      " 23  Iframe                       2100 non-null   object\n",
      " 24  age_of_domain                2100 non-null   object\n",
      " 25  DNSRecord                    2100 non-null   object\n",
      " 26  web_traffic                  2100 non-null   object\n",
      " 27  Page_Rank                    2100 non-null   object\n",
      " 28  Google_Index                 2100 non-null   object\n",
      " 29  Links_pointing_to_page       2100 non-null   object\n",
      " 30  Statistical_report           2100 non-null   object\n",
      "dtypes: object(31)\n",
      "memory usage: 508.7+ KB\n"
     ]
    }
   ],
   "source": [
    "tr[tr.columns]=tr[tr.columns].astype(str)\n",
    "tr.info(),\n",
    "\n",
    "ts[ts.columns]=ts[ts.columns].astype(str)\n",
    "ts.info()"
   ]
  },
  {
   "cell_type": "code",
   "execution_count": 52,
   "id": "3dd1abba",
   "metadata": {},
   "outputs": [],
   "source": [
    "tr1=tr.drop('key',axis=1)    #dropped unwanted column ,it just contains unique values"
   ]
  },
  {
   "cell_type": "code",
   "execution_count": 53,
   "id": "8902238b",
   "metadata": {},
   "outputs": [
    {
     "data": {
      "text/html": [
       "<div>\n",
       "<style scoped>\n",
       "    .dataframe tbody tr th:only-of-type {\n",
       "        vertical-align: middle;\n",
       "    }\n",
       "\n",
       "    .dataframe tbody tr th {\n",
       "        vertical-align: top;\n",
       "    }\n",
       "\n",
       "    .dataframe thead th {\n",
       "        text-align: right;\n",
       "    }\n",
       "</style>\n",
       "<table border=\"1\" class=\"dataframe\">\n",
       "  <thead>\n",
       "    <tr style=\"text-align: right;\">\n",
       "      <th></th>\n",
       "      <th>having_IP</th>\n",
       "      <th>URL_Length</th>\n",
       "      <th>Shortining_Service</th>\n",
       "      <th>having_At_Symbol</th>\n",
       "      <th>double_slash_redirecting</th>\n",
       "      <th>Prefix_Suffix</th>\n",
       "      <th>having_Sub_Domain</th>\n",
       "      <th>SSLfinal_State</th>\n",
       "      <th>Domain_registeration_length</th>\n",
       "      <th>Favicon</th>\n",
       "      <th>...</th>\n",
       "      <th>popUpWidnow</th>\n",
       "      <th>Iframe</th>\n",
       "      <th>age_of_domain</th>\n",
       "      <th>DNSRecord</th>\n",
       "      <th>web_traffic</th>\n",
       "      <th>Page_Rank</th>\n",
       "      <th>Google_Index</th>\n",
       "      <th>Links_pointing_to_page</th>\n",
       "      <th>Statistical_report</th>\n",
       "      <th>Result</th>\n",
       "    </tr>\n",
       "  </thead>\n",
       "  <tbody>\n",
       "    <tr>\n",
       "      <th>0</th>\n",
       "      <td>-1</td>\n",
       "      <td>1</td>\n",
       "      <td>1</td>\n",
       "      <td>1</td>\n",
       "      <td>-1</td>\n",
       "      <td>-1</td>\n",
       "      <td>-1</td>\n",
       "      <td>-1</td>\n",
       "      <td>-1</td>\n",
       "      <td>1</td>\n",
       "      <td>...</td>\n",
       "      <td>1</td>\n",
       "      <td>1</td>\n",
       "      <td>-1</td>\n",
       "      <td>-1</td>\n",
       "      <td>-1</td>\n",
       "      <td>-1</td>\n",
       "      <td>1</td>\n",
       "      <td>1</td>\n",
       "      <td>-1</td>\n",
       "      <td>0</td>\n",
       "    </tr>\n",
       "    <tr>\n",
       "      <th>1</th>\n",
       "      <td>1</td>\n",
       "      <td>1</td>\n",
       "      <td>1</td>\n",
       "      <td>1</td>\n",
       "      <td>1</td>\n",
       "      <td>-1</td>\n",
       "      <td>0</td>\n",
       "      <td>1</td>\n",
       "      <td>-1</td>\n",
       "      <td>1</td>\n",
       "      <td>...</td>\n",
       "      <td>1</td>\n",
       "      <td>1</td>\n",
       "      <td>-1</td>\n",
       "      <td>-1</td>\n",
       "      <td>0</td>\n",
       "      <td>-1</td>\n",
       "      <td>1</td>\n",
       "      <td>1</td>\n",
       "      <td>1</td>\n",
       "      <td>0</td>\n",
       "    </tr>\n",
       "    <tr>\n",
       "      <th>2</th>\n",
       "      <td>1</td>\n",
       "      <td>0</td>\n",
       "      <td>1</td>\n",
       "      <td>1</td>\n",
       "      <td>1</td>\n",
       "      <td>-1</td>\n",
       "      <td>-1</td>\n",
       "      <td>-1</td>\n",
       "      <td>-1</td>\n",
       "      <td>1</td>\n",
       "      <td>...</td>\n",
       "      <td>1</td>\n",
       "      <td>1</td>\n",
       "      <td>1</td>\n",
       "      <td>-1</td>\n",
       "      <td>1</td>\n",
       "      <td>-1</td>\n",
       "      <td>1</td>\n",
       "      <td>0</td>\n",
       "      <td>-1</td>\n",
       "      <td>0</td>\n",
       "    </tr>\n",
       "    <tr>\n",
       "      <th>3</th>\n",
       "      <td>1</td>\n",
       "      <td>0</td>\n",
       "      <td>1</td>\n",
       "      <td>1</td>\n",
       "      <td>1</td>\n",
       "      <td>-1</td>\n",
       "      <td>-1</td>\n",
       "      <td>-1</td>\n",
       "      <td>1</td>\n",
       "      <td>1</td>\n",
       "      <td>...</td>\n",
       "      <td>1</td>\n",
       "      <td>1</td>\n",
       "      <td>-1</td>\n",
       "      <td>-1</td>\n",
       "      <td>1</td>\n",
       "      <td>-1</td>\n",
       "      <td>1</td>\n",
       "      <td>-1</td>\n",
       "      <td>1</td>\n",
       "      <td>0</td>\n",
       "    </tr>\n",
       "    <tr>\n",
       "      <th>4</th>\n",
       "      <td>1</td>\n",
       "      <td>0</td>\n",
       "      <td>-1</td>\n",
       "      <td>1</td>\n",
       "      <td>1</td>\n",
       "      <td>-1</td>\n",
       "      <td>1</td>\n",
       "      <td>1</td>\n",
       "      <td>-1</td>\n",
       "      <td>1</td>\n",
       "      <td>...</td>\n",
       "      <td>-1</td>\n",
       "      <td>1</td>\n",
       "      <td>-1</td>\n",
       "      <td>-1</td>\n",
       "      <td>0</td>\n",
       "      <td>-1</td>\n",
       "      <td>1</td>\n",
       "      <td>1</td>\n",
       "      <td>1</td>\n",
       "      <td>1</td>\n",
       "    </tr>\n",
       "  </tbody>\n",
       "</table>\n",
       "<p>5 rows × 31 columns</p>\n",
       "</div>"
      ],
      "text/plain": [
       "  having_IP URL_Length Shortining_Service having_At_Symbol  \\\n",
       "0        -1          1                  1                1   \n",
       "1         1          1                  1                1   \n",
       "2         1          0                  1                1   \n",
       "3         1          0                  1                1   \n",
       "4         1          0                 -1                1   \n",
       "\n",
       "  double_slash_redirecting Prefix_Suffix having_Sub_Domain SSLfinal_State  \\\n",
       "0                       -1            -1                -1             -1   \n",
       "1                        1            -1                 0              1   \n",
       "2                        1            -1                -1             -1   \n",
       "3                        1            -1                -1             -1   \n",
       "4                        1            -1                 1              1   \n",
       "\n",
       "  Domain_registeration_length Favicon  ... popUpWidnow Iframe age_of_domain  \\\n",
       "0                          -1       1  ...           1      1            -1   \n",
       "1                          -1       1  ...           1      1            -1   \n",
       "2                          -1       1  ...           1      1             1   \n",
       "3                           1       1  ...           1      1            -1   \n",
       "4                          -1       1  ...          -1      1            -1   \n",
       "\n",
       "  DNSRecord web_traffic Page_Rank Google_Index Links_pointing_to_page  \\\n",
       "0        -1          -1        -1            1                      1   \n",
       "1        -1           0        -1            1                      1   \n",
       "2        -1           1        -1            1                      0   \n",
       "3        -1           1        -1            1                     -1   \n",
       "4        -1           0        -1            1                      1   \n",
       "\n",
       "  Statistical_report Result  \n",
       "0                 -1      0  \n",
       "1                  1      0  \n",
       "2                 -1      0  \n",
       "3                  1      0  \n",
       "4                  1      1  \n",
       "\n",
       "[5 rows x 31 columns]"
      ]
     },
     "execution_count": 53,
     "metadata": {},
     "output_type": "execute_result"
    }
   ],
   "source": [
    "tr1.head()"
   ]
  },
  {
   "cell_type": "code",
   "execution_count": 27,
   "id": "3c7ec2dc",
   "metadata": {},
   "outputs": [],
   "source": []
  },
  {
   "cell_type": "markdown",
   "id": "10a68bc0",
   "metadata": {},
   "source": [
    "Visualising the data to get insights"
   ]
  },
  {
   "cell_type": "code",
   "execution_count": 54,
   "id": "6e7564be",
   "metadata": {},
   "outputs": [
    {
     "data": {
      "image/png": "[encoded data removed]",
      "text/plain": [
       "<Figure size 432x288 with 1 Axes>"
      ]
     },
     "metadata": {
      "needs_background": "light"
     },
     "output_type": "display_data"
    },
    {
     "data": {
      "image/png": "[encoded data removed]",
      "text/plain": [
       "<Figure size 432x288 with 1 Axes>"
      ]
     },
     "metadata": {
      "needs_background": "light"
     },
     "output_type": "display_data"
    },
    {
     "data": {
      "image/png": "[encoded data removed]",
      "text/plain": [
       "<Figure size 432x288 with 1 Axes>"
      ]
     },
     "metadata": {
      "needs_background": "light"
     },
     "output_type": "display_data"
    },
    {
     "data": {
      "image/png": "[encoded data removed]",
      "text/plain": [
       "<Figure size 432x288 with 1 Axes>"
      ]
     },
     "metadata": {
      "needs_background": "light"
     },
     "output_type": "display_data"
    },
    {
     "data": {
      "image/png": "[encoded data removed]",
      "text/plain": [
       "<Figure size 432x288 with 1 Axes>"
      ]
     },
     "metadata": {
      "needs_background": "light"
     },
     "output_type": "display_data"
    },
    {
     "data": {
      "image/png": "[encoded data removed]",
      "text/plain": [
       "<Figure size 432x288 with 1 Axes>"
      ]
     },
     "metadata": {
      "needs_background": "light"
     },
     "output_type": "display_data"
    },
    {
     "data": {
      "image/png": "[encoded data removed]",
      "text/plain": [
       "<Figure size 432x288 with 1 Axes>"
      ]
     },
     "metadata": {
      "needs_background": "light"
     },
     "output_type": "display_data"
    },
    {
     "data": {
      "image/png": "[encoded data removed]",
      "text/plain": [
       "<Figure size 432x288 with 1 Axes>"
      ]
     },
     "metadata": {
      "needs_background": "light"
     },
     "output_type": "display_data"
    },
    {
     "data": {
      "image/png": "[encoded data removed]",
      "text/plain": [
       "<Figure size 432x288 with 1 Axes>"
      ]
     },
     "metadata": {
      "needs_background": "light"
     },
     "output_type": "display_data"
    },
    {
     "data": {
      "image/png": "[encoded data removed]",
      "text/plain": [
       "<Figure size 432x288 with 1 Axes>"
      ]
     },
     "metadata": {
      "needs_background": "light"
     },
     "output_type": "display_data"
    },
    {
     "data": {
      "image/png": "[encoded data removed]",
      "text/plain": [
       "<Figure size 432x288 with 1 Axes>"
      ]
     },
     "metadata": {
      "needs_background": "light"
     },
     "output_type": "display_data"
    },
    {
     "data": {
      "image/png": "[encoded data removed]",
      "text/plain": [
       "<Figure size 432x288 with 1 Axes>"
      ]
     },
     "metadata": {
      "needs_background": "light"
     },
     "output_type": "display_data"
    },
    {
     "data": {
      "image/png": "[encoded data removed]",
      "text/plain": [
       "<Figure size 432x288 with 1 Axes>"
      ]
     },
     "metadata": {
      "needs_background": "light"
     },
     "output_type": "display_data"
    },
    {
     "data": {
      "image/png": "[encoded data removed]",
      "text/plain": [
       "<Figure size 432x288 with 1 Axes>"
      ]
     },
     "metadata": {
      "needs_background": "light"
     },
     "output_type": "display_data"
    },
    {
     "data": {
      "image/png": "[encoded data removed]",
      "text/plain": [
       "<Figure size 432x288 with 1 Axes>"
      ]
     },
     "metadata": {
      "needs_background": "light"
     },
     "output_type": "display_data"
    },
    {
     "data": {
      "image/png": "[encoded data removed]",
      "text/plain": [
       "<Figure size 432x288 with 1 Axes>"
      ]
     },
     "metadata": {
      "needs_background": "light"
     },
     "output_type": "display_data"
    },
    {
     "data": {
      "image/png": "[encoded data removed]",
      "text/plain": [
       "<Figure size 432x288 with 1 Axes>"
      ]
     },
     "metadata": {
      "needs_background": "light"
     },
     "output_type": "display_data"
    },
    {
     "data": {
      "image/png": "[encoded data removed]",
      "text/plain": [
       "<Figure size 432x288 with 1 Axes>"
      ]
     },
     "metadata": {
      "needs_background": "light"
     },
     "output_type": "display_data"
    },
    {
     "data": {
      "image/png": "[encoded data removed]",
      "text/plain": [
       "<Figure size 432x288 with 1 Axes>"
      ]
     },
     "metadata": {
      "needs_background": "light"
     },
     "output_type": "display_data"
    },
    {
     "data": {
      "image/png": "[encoded data removed]",
      "text/plain": [
       "<Figure size 432x288 with 1 Axes>"
      ]
     },
     "metadata": {
      "needs_background": "light"
     },
     "output_type": "display_data"
    },
    {
     "data": {
      "image/png": "[encoded data removed]",
      "text/plain": [
       "<Figure size 432x288 with 1 Axes>"
      ]
     },
     "metadata": {
      "needs_background": "light"
     },
     "output_type": "display_data"
    },
    {
     "data": {
      "image/png": "[encoded data removed]",
      "text/plain": [
       "<Figure size 432x288 with 1 Axes>"
      ]
     },
     "metadata": {
      "needs_background": "light"
     },
     "output_type": "display_data"
    },
    {
     "data": {
      "image/png": "[encoded data removed]",
      "text/plain": [
       "<Figure size 432x288 with 1 Axes>"
      ]
     },
     "metadata": {
      "needs_background": "light"
     },
     "output_type": "display_data"
    },
    {
     "data": {
      "image/png": "[encoded data removed]",
      "text/plain": [
       "<Figure size 432x288 with 1 Axes>"
      ]
     },
     "metadata": {
      "needs_background": "light"
     },
     "output_type": "display_data"
    },
    {
     "data": {
      "image/png": "[encoded data removed]",
      "text/plain": [
       "<Figure size 432x288 with 1 Axes>"
      ]
     },
     "metadata": {
      "needs_background": "light"
     },
     "output_type": "display_data"
    },
    {
     "data": {
      "image/png": "[encoded data removed]",
      "text/plain": [
       "<Figure size 432x288 with 1 Axes>"
      ]
     },
     "metadata": {
      "needs_background": "light"
     },
     "output_type": "display_data"
    },
    {
     "data": {
      "image/png": "[encoded data removed]",
      "text/plain": [
       "<Figure size 432x288 with 1 Axes>"
      ]
     },
     "metadata": {
      "needs_background": "light"
     },
     "output_type": "display_data"
    },
    {
     "data": {
      "image/png": "[encoded data removed]",
      "text/plain": [
       "<Figure size 432x288 with 1 Axes>"
      ]
     },
     "metadata": {
      "needs_background": "light"
     },
     "output_type": "display_data"
    },
    {
     "data": {
      "image/png": "[encoded data removed]",
      "text/plain": [
       "<Figure size 432x288 with 1 Axes>"
      ]
     },
     "metadata": {
      "needs_background": "light"
     },
     "output_type": "display_data"
    },
    {
     "data": {
      "image/png": "[encoded data removed]",
      "text/plain": [
       "<Figure size 432x288 with 1 Axes>"
      ]
     },
     "metadata": {
      "needs_background": "light"
     },
     "output_type": "display_data"
    },
    {
     "data": {
      "image/png": "[encoded data removed]",
      "text/plain": [
       "<Figure size 432x288 with 1 Axes>"
      ]
     },
     "metadata": {
      "needs_background": "light"
     },
     "output_type": "display_data"
    }
   ],
   "source": [
    "import seaborn as sns\n",
    "import matplotlib.pyplot as plt\n",
    "\n",
    "for i in tr1:\n",
    "    sns.countplot(tr1[i],hue=tr['Result'])\n",
    "    plt.show()\n",
    "                            "
   ]
  },
  {
   "cell_type": "code",
   "execution_count": 55,
   "id": "df44b20b",
   "metadata": {},
   "outputs": [],
   "source": [
    "#Declaring target and independant features"
   ]
  },
  {
   "cell_type": "code",
   "execution_count": 56,
   "id": "090f1b67",
   "metadata": {},
   "outputs": [],
   "source": [
    "X=tr1.drop('Result',axis=1)\n",
    "Y=tr1[['Result']]"
   ]
  },
  {
   "cell_type": "markdown",
   "id": "755fc322",
   "metadata": {},
   "source": [
    "# Data standerdization"
   ]
  },
  {
   "cell_type": "code",
   "execution_count": 57,
   "id": "4f1e6ea8",
   "metadata": {},
   "outputs": [],
   "source": [
    "X_st=pd.get_dummies(X)"
   ]
  },
  {
   "cell_type": "code",
   "execution_count": 59,
   "id": "de7ba147",
   "metadata": {},
   "outputs": [
    {
     "data": {
      "text/html": [
       "<div>\n",
       "<style scoped>\n",
       "    .dataframe tbody tr th:only-of-type {\n",
       "        vertical-align: middle;\n",
       "    }\n",
       "\n",
       "    .dataframe tbody tr th {\n",
       "        vertical-align: top;\n",
       "    }\n",
       "\n",
       "    .dataframe thead th {\n",
       "        text-align: right;\n",
       "    }\n",
       "</style>\n",
       "<table border=\"1\" class=\"dataframe\">\n",
       "  <thead>\n",
       "    <tr style=\"text-align: right;\">\n",
       "      <th></th>\n",
       "      <th>having_IP_-1</th>\n",
       "      <th>having_IP_1</th>\n",
       "      <th>URL_Length_-1</th>\n",
       "      <th>URL_Length_0</th>\n",
       "      <th>URL_Length_1</th>\n",
       "      <th>Shortining_Service_-1</th>\n",
       "      <th>Shortining_Service_1</th>\n",
       "      <th>having_At_Symbol_-1</th>\n",
       "      <th>having_At_Symbol_1</th>\n",
       "      <th>double_slash_redirecting_-1</th>\n",
       "      <th>...</th>\n",
       "      <th>web_traffic_1</th>\n",
       "      <th>Page_Rank_-1</th>\n",
       "      <th>Page_Rank_1</th>\n",
       "      <th>Google_Index_-1</th>\n",
       "      <th>Google_Index_1</th>\n",
       "      <th>Links_pointing_to_page_-1</th>\n",
       "      <th>Links_pointing_to_page_0</th>\n",
       "      <th>Links_pointing_to_page_1</th>\n",
       "      <th>Statistical_report_-1</th>\n",
       "      <th>Statistical_report_1</th>\n",
       "    </tr>\n",
       "  </thead>\n",
       "  <tbody>\n",
       "    <tr>\n",
       "      <th>0</th>\n",
       "      <td>1</td>\n",
       "      <td>0</td>\n",
       "      <td>0</td>\n",
       "      <td>0</td>\n",
       "      <td>1</td>\n",
       "      <td>0</td>\n",
       "      <td>1</td>\n",
       "      <td>0</td>\n",
       "      <td>1</td>\n",
       "      <td>1</td>\n",
       "      <td>...</td>\n",
       "      <td>0</td>\n",
       "      <td>1</td>\n",
       "      <td>0</td>\n",
       "      <td>0</td>\n",
       "      <td>1</td>\n",
       "      <td>0</td>\n",
       "      <td>0</td>\n",
       "      <td>1</td>\n",
       "      <td>1</td>\n",
       "      <td>0</td>\n",
       "    </tr>\n",
       "    <tr>\n",
       "      <th>1</th>\n",
       "      <td>0</td>\n",
       "      <td>1</td>\n",
       "      <td>0</td>\n",
       "      <td>0</td>\n",
       "      <td>1</td>\n",
       "      <td>0</td>\n",
       "      <td>1</td>\n",
       "      <td>0</td>\n",
       "      <td>1</td>\n",
       "      <td>0</td>\n",
       "      <td>...</td>\n",
       "      <td>0</td>\n",
       "      <td>1</td>\n",
       "      <td>0</td>\n",
       "      <td>0</td>\n",
       "      <td>1</td>\n",
       "      <td>0</td>\n",
       "      <td>0</td>\n",
       "      <td>1</td>\n",
       "      <td>0</td>\n",
       "      <td>1</td>\n",
       "    </tr>\n",
       "    <tr>\n",
       "      <th>2</th>\n",
       "      <td>0</td>\n",
       "      <td>1</td>\n",
       "      <td>0</td>\n",
       "      <td>1</td>\n",
       "      <td>0</td>\n",
       "      <td>0</td>\n",
       "      <td>1</td>\n",
       "      <td>0</td>\n",
       "      <td>1</td>\n",
       "      <td>0</td>\n",
       "      <td>...</td>\n",
       "      <td>1</td>\n",
       "      <td>1</td>\n",
       "      <td>0</td>\n",
       "      <td>0</td>\n",
       "      <td>1</td>\n",
       "      <td>0</td>\n",
       "      <td>1</td>\n",
       "      <td>0</td>\n",
       "      <td>1</td>\n",
       "      <td>0</td>\n",
       "    </tr>\n",
       "    <tr>\n",
       "      <th>3</th>\n",
       "      <td>0</td>\n",
       "      <td>1</td>\n",
       "      <td>0</td>\n",
       "      <td>1</td>\n",
       "      <td>0</td>\n",
       "      <td>0</td>\n",
       "      <td>1</td>\n",
       "      <td>0</td>\n",
       "      <td>1</td>\n",
       "      <td>0</td>\n",
       "      <td>...</td>\n",
       "      <td>1</td>\n",
       "      <td>1</td>\n",
       "      <td>0</td>\n",
       "      <td>0</td>\n",
       "      <td>1</td>\n",
       "      <td>1</td>\n",
       "      <td>0</td>\n",
       "      <td>0</td>\n",
       "      <td>0</td>\n",
       "      <td>1</td>\n",
       "    </tr>\n",
       "    <tr>\n",
       "      <th>4</th>\n",
       "      <td>0</td>\n",
       "      <td>1</td>\n",
       "      <td>0</td>\n",
       "      <td>1</td>\n",
       "      <td>0</td>\n",
       "      <td>1</td>\n",
       "      <td>0</td>\n",
       "      <td>0</td>\n",
       "      <td>1</td>\n",
       "      <td>0</td>\n",
       "      <td>...</td>\n",
       "      <td>0</td>\n",
       "      <td>1</td>\n",
       "      <td>0</td>\n",
       "      <td>0</td>\n",
       "      <td>1</td>\n",
       "      <td>0</td>\n",
       "      <td>0</td>\n",
       "      <td>1</td>\n",
       "      <td>0</td>\n",
       "      <td>1</td>\n",
       "    </tr>\n",
       "  </tbody>\n",
       "</table>\n",
       "<p>5 rows × 68 columns</p>\n",
       "</div>"
      ],
      "text/plain": [
       "   having_IP_-1  having_IP_1  URL_Length_-1  URL_Length_0  URL_Length_1  \\\n",
       "0             1            0              0             0             1   \n",
       "1             0            1              0             0             1   \n",
       "2             0            1              0             1             0   \n",
       "3             0            1              0             1             0   \n",
       "4             0            1              0             1             0   \n",
       "\n",
       "   Shortining_Service_-1  Shortining_Service_1  having_At_Symbol_-1  \\\n",
       "0                      0                     1                    0   \n",
       "1                      0                     1                    0   \n",
       "2                      0                     1                    0   \n",
       "3                      0                     1                    0   \n",
       "4                      1                     0                    0   \n",
       "\n",
       "   having_At_Symbol_1  double_slash_redirecting_-1  ...  web_traffic_1  \\\n",
       "0                   1                            1  ...              0   \n",
       "1                   1                            0  ...              0   \n",
       "2                   1                            0  ...              1   \n",
       "3                   1                            0  ...              1   \n",
       "4                   1                            0  ...              0   \n",
       "\n",
       "   Page_Rank_-1  Page_Rank_1  Google_Index_-1  Google_Index_1  \\\n",
       "0             1            0                0               1   \n",
       "1             1            0                0               1   \n",
       "2             1            0                0               1   \n",
       "3             1            0                0               1   \n",
       "4             1            0                0               1   \n",
       "\n",
       "   Links_pointing_to_page_-1  Links_pointing_to_page_0  \\\n",
       "0                          0                         0   \n",
       "1                          0                         0   \n",
       "2                          0                         1   \n",
       "3                          1                         0   \n",
       "4                          0                         0   \n",
       "\n",
       "   Links_pointing_to_page_1  Statistical_report_-1  Statistical_report_1  \n",
       "0                         1                      1                     0  \n",
       "1                         1                      0                     1  \n",
       "2                         0                      1                     0  \n",
       "3                         0                      0                     1  \n",
       "4                         1                      0                     1  \n",
       "\n",
       "[5 rows x 68 columns]"
      ]
     },
     "execution_count": 59,
     "metadata": {},
     "output_type": "execute_result"
    }
   ],
   "source": [
    "X_st.head()"
   ]
  },
  {
   "cell_type": "markdown",
   "id": "13621af7",
   "metadata": {},
   "source": [
    "Splitting data into training and testing"
   ]
  },
  {
   "cell_type": "code",
   "execution_count": 60,
   "id": "df490355",
   "metadata": {},
   "outputs": [],
   "source": [
    "from sklearn.model_selection import train_test_split\n",
    "xtrain,xtest,ytrain,ytest=train_test_split(X_st,Y,test_size=0.2,random_state=21)        #splitting data into train n test for accuracy check"
   ]
  },
  {
   "cell_type": "markdown",
   "id": "dfc05561",
   "metadata": {},
   "source": [
    "# Model creation and regularization"
   ]
  },
  {
   "cell_type": "code",
   "execution_count": 68,
   "id": "048acecc",
   "metadata": {},
   "outputs": [],
   "source": [
    "from sklearn.tree import DecisionTreeClassifier\n",
    "from sklearn.ensemble import RandomForestClassifier,AdaBoostClassifier\n",
    "from sklearn.linear_model import LogisticRegression\n",
    "from sklearn.metrics import accuracy_score,confusion_matrix,f1_score,precision_score,recall_score"
   ]
  },
  {
   "cell_type": "code",
   "execution_count": 69,
   "id": "10eb84b4",
   "metadata": {},
   "outputs": [
    {
     "name": "stdout",
     "output_type": "stream",
     "text": [
      "DecisionTreeClassifier\n",
      "Model performances for trainig set\n",
      "Accuracy :0.9902\n",
      "F1_score :0.9902\n",
      "----------------------------------\n",
      "Model performances for testing set\n",
      "Accuracy :0.9492\n",
      "F1_score :0.9492\n",
      "========================================\n",
      "\n",
      "\n",
      "RandomForestClassifier\n",
      "Model performances for trainig set\n",
      "Accuracy :0.9902\n",
      "F1_score :0.9902\n",
      "----------------------------------\n",
      "Model performances for testing set\n",
      "Accuracy :0.9626\n",
      "F1_score :0.9626\n",
      "========================================\n",
      "\n",
      "\n",
      "LogisticRegression\n",
      "Model performances for trainig set\n",
      "Accuracy :0.9422\n",
      "F1_score :0.9421\n",
      "----------------------------------\n",
      "Model performances for testing set\n",
      "Accuracy :0.9352\n",
      "F1_score :0.9352\n",
      "========================================\n",
      "\n",
      "\n",
      "AdaboostClassifier\n",
      "Model performances for trainig set\n",
      "Accuracy :0.9902\n",
      "F1_score :0.9902\n",
      "----------------------------------\n",
      "Model performances for testing set\n",
      "Accuracy :0.9609\n",
      "F1_score :0.9609\n",
      "========================================\n",
      "\n",
      "\n"
     ]
    }
   ],
   "source": [
    "models= {\n",
    "          \"DecisionTreeClassifier\":DecisionTreeClassifier(),\n",
    "          \"RandomForestClassifier\":RandomForestClassifier(),\n",
    "          \"LogisticRegression\":LogisticRegression(),\n",
    "          \"AdaboostClassifier\": AdaBoostClassifier(DecisionTreeClassifier()) \n",
    "} \n",
    "      \n",
    "for i in range(len(list(models))):\n",
    "        model=list(models.values())[i]\n",
    "        model.fit(xtrain,ytrain)\n",
    "        \n",
    "        #make predictions\n",
    "        ytrain_pred=model.predict(xtrain)\n",
    "        ytest_pred=model.predict(xtest)\n",
    "        \n",
    "        #training set performance\n",
    "        model_train_accuracy=accuracy_score(ytrain,ytrain_pred)\n",
    "        model_train_f1=f1_score(ytrain,ytrain_pred,average=\"weighted\")\n",
    "        \n",
    "        #testing set performances\n",
    "        model_test_accuracy=accuracy_score(ytest,ytest_pred)\n",
    "        model_test_f1=f1_score(ytest,ytest_pred,average=\"weighted\")\n",
    "        \n",
    "        print(list(models.keys())[i])\n",
    "        \n",
    "        \n",
    "        print('Model performances for trainig set')\n",
    "        print('Accuracy :{:.4f}'.format(model_train_accuracy))\n",
    "        print('F1_score :{:.4f}'.format(model_train_f1))\n",
    "        \n",
    "        print('----------------------------------')\n",
    "        \n",
    "        print('Model performances for testing set')\n",
    "        print('Accuracy :{:.4f}'.format(model_test_accuracy))\n",
    "        print('F1_score :{:.4f}'.format(model_test_f1))\n",
    "       \n",
    "        print(\"=\"*40)\n",
    "        print(\"\\n\")"
   ]
  },
  {
   "cell_type": "code",
   "execution_count": 70,
   "id": "856a921e",
   "metadata": {},
   "outputs": [],
   "source": [
    "#Hyper Parameter training\n",
    "params1 = {\"max_depth\": [2,4,8,12,16,20,25,30,40,50,60,70]}\n",
    "\n",
    "params2 = {'n_estimators':[50,100,150,200,500],\n",
    "        'learning_rate':[0.3,0.5,0.7,0.9,1.0],\n",
    "         'random_state':[21,31]} "
   ]
  },
  {
   "cell_type": "code",
   "execution_count": 72,
   "id": "e1e47263",
   "metadata": {},
   "outputs": [],
   "source": [
    "#models list for hyper parameter tuning\n",
    "randomcv_models = [('DecisionTree',DecisionTreeClassifier(),params1),\n",
    "                   ('Random_forest',RandomForestClassifier(),params1),\n",
    "                   ('AdaBoostClassifier',AdaBoostClassifier(DecisionTreeClassifier()),params2)\n",
    "]\n"
   ]
  },
  {
   "cell_type": "code",
   "execution_count": 73,
   "id": "5a179c91",
   "metadata": {},
   "outputs": [
    {
     "name": "stdout",
     "output_type": "stream",
     "text": [
      "Fitting 4 folds for each of 12 candidates, totalling 48 fits\n",
      "Fitting 4 folds for each of 12 candidates, totalling 48 fits\n",
      "Fitting 4 folds for each of 50 candidates, totalling 200 fits\n",
      "---------------------Best Params for ==DecisionTree-----------------------\n",
      "{'max_depth': 50}\n",
      "---------------------Best Params for ==Random_forest-----------------------\n",
      "{'max_depth': 16}\n",
      "---------------------Best Params for ==AdaBoostClassifier-----------------------\n",
      "{'random_state': 31, 'n_estimators': 100, 'learning_rate': 0.9}\n"
     ]
    }
   ],
   "source": [
    "#Finding best parameters \n",
    "from sklearn.model_selection import RandomizedSearchCV\n",
    "\n",
    "model_param={}\n",
    "for name,model,params in randomcv_models:\n",
    "    random = RandomizedSearchCV(estimator=model,\n",
    "                               param_distributions=params,\n",
    "                               n_iter=100,\n",
    "                               cv=4,\n",
    "                               verbose=2,\n",
    "                               n_jobs=-1)\n",
    "    \n",
    "    random.fit(xtrain,ytrain)\n",
    "    model_param[name] = random.best_params_\n",
    "    \n",
    "for model_name in model_param:\n",
    "    print(f\"---------------------Best Params for =={model_name}-----------------------\")\n",
    "    print(model_param[model_name])"
   ]
  },
  {
   "cell_type": "code",
   "execution_count": 76,
   "id": "61c6d831",
   "metadata": {},
   "outputs": [
    {
     "name": "stdout",
     "output_type": "stream",
     "text": [
      "DecisionTree\n",
      "Model performances for trainig set\n",
      "Accuracy :0.9902\n",
      "F1_score :0.9902\n",
      "----------------------------------\n",
      "Model performances for testing set\n",
      "Accuracy :0.9503\n",
      "F1_score :0.9503\n",
      "========================================\n",
      "\n",
      "\n",
      "RandomForestClassifier\n",
      "Model performances for trainig set\n",
      "Accuracy :0.9902\n",
      "F1_score :0.9902\n",
      "----------------------------------\n",
      "Model performances for testing set\n",
      "Accuracy :0.9654\n",
      "F1_score :0.9654\n",
      "========================================\n",
      "\n",
      "\n",
      "AdaBoostClassifier\n",
      "Model performances for trainig set\n",
      "Accuracy :0.9654\n",
      "F1_score :0.9654\n",
      "----------------------------------\n",
      "Model performances for testing set\n",
      "Accuracy :0.9581\n",
      "F1_score :0.9581\n",
      "========================================\n",
      "\n",
      "\n"
     ]
    }
   ],
   "source": [
    "models= { 'DecisionTree':DecisionTreeClassifier(max_depth=50),\n",
    "          \"RandomForestClassifier\":RandomForestClassifier(max_depth=20,random_state=16),\n",
    "          'AdaBoostClassifier':AdaBoostClassifier(DecisionTreeClassifier(max_depth=2),random_state=31,n_estimators=100,learning_rate=0.9)\n",
    "} \n",
    "      \n",
    "for i in range(len(list(models))):\n",
    "        model=list(models.values())[i]\n",
    "        model.fit(xtrain,ytrain)\n",
    "        \n",
    "        #make predictions\n",
    "        ytrain_pred=model.predict(xtrain)\n",
    "        ytest_pred=model.predict(xtest)\n",
    "        \n",
    "        #training set performance\n",
    "        model_train_accuracy=accuracy_score(ytrain,ytrain_pred)\n",
    "        model_train_f1=f1_score(ytrain,ytrain_pred,average=\"weighted\")\n",
    "        \n",
    "        #testing set performances\n",
    "        model_test_accuracy=accuracy_score(ytest,ytest_pred)\n",
    "        model_test_f1=f1_score(ytest,ytest_pred,average=\"weighted\")\n",
    "       \n",
    "        \n",
    "        print(list(models.keys())[i])\n",
    "        \n",
    "        \n",
    "        print('Model performances for trainig set')\n",
    "        print('Accuracy :{:.4f}'.format(model_train_accuracy))\n",
    "        print('F1_score :{:.4f}'.format(model_train_f1))\n",
    "       \n",
    "        print('----------------------------------')\n",
    "        \n",
    "        print('Model performances for testing set')\n",
    "        print('Accuracy :{:.4f}'.format(model_test_accuracy))\n",
    "        print('F1_score :{:.4f}'.format(model_test_f1))\n",
    "        \n",
    "        print(\"=\"*40)\n",
    "        print(\"\\n\")"
   ]
  },
  {
   "cell_type": "code",
   "execution_count": null,
   "id": "3301f0bb",
   "metadata": {},
   "outputs": [],
   "source": []
  },
  {
   "cell_type": "markdown",
   "id": "6b20e2d5",
   "metadata": {},
   "source": [
    "# test data for result prediction"
   ]
  },
  {
   "cell_type": "code",
   "execution_count": 78,
   "id": "de4145c5",
   "metadata": {},
   "outputs": [
    {
     "data": {
      "text/html": [
       "<div>\n",
       "<style scoped>\n",
       "    .dataframe tbody tr th:only-of-type {\n",
       "        vertical-align: middle;\n",
       "    }\n",
       "\n",
       "    .dataframe tbody tr th {\n",
       "        vertical-align: top;\n",
       "    }\n",
       "\n",
       "    .dataframe thead th {\n",
       "        text-align: right;\n",
       "    }\n",
       "</style>\n",
       "<table border=\"1\" class=\"dataframe\">\n",
       "  <thead>\n",
       "    <tr style=\"text-align: right;\">\n",
       "      <th></th>\n",
       "      <th>key</th>\n",
       "      <th>having_IP</th>\n",
       "      <th>URL_Length</th>\n",
       "      <th>Shortining_Service</th>\n",
       "      <th>having_At_Symbol</th>\n",
       "      <th>double_slash_redirecting</th>\n",
       "      <th>Prefix_Suffix</th>\n",
       "      <th>having_Sub_Domain</th>\n",
       "      <th>SSLfinal_State</th>\n",
       "      <th>Domain_registeration_length</th>\n",
       "      <th>...</th>\n",
       "      <th>RightClick</th>\n",
       "      <th>popUpWidnow</th>\n",
       "      <th>Iframe</th>\n",
       "      <th>age_of_domain</th>\n",
       "      <th>DNSRecord</th>\n",
       "      <th>web_traffic</th>\n",
       "      <th>Page_Rank</th>\n",
       "      <th>Google_Index</th>\n",
       "      <th>Links_pointing_to_page</th>\n",
       "      <th>Statistical_report</th>\n",
       "    </tr>\n",
       "  </thead>\n",
       "  <tbody>\n",
       "    <tr>\n",
       "      <th>0</th>\n",
       "      <td>21338</td>\n",
       "      <td>1</td>\n",
       "      <td>1</td>\n",
       "      <td>1</td>\n",
       "      <td>1</td>\n",
       "      <td>1</td>\n",
       "      <td>1</td>\n",
       "      <td>-1</td>\n",
       "      <td>1</td>\n",
       "      <td>-1</td>\n",
       "      <td>...</td>\n",
       "      <td>1</td>\n",
       "      <td>1</td>\n",
       "      <td>1</td>\n",
       "      <td>1</td>\n",
       "      <td>1</td>\n",
       "      <td>1</td>\n",
       "      <td>1</td>\n",
       "      <td>-1</td>\n",
       "      <td>0</td>\n",
       "      <td>1</td>\n",
       "    </tr>\n",
       "    <tr>\n",
       "      <th>1</th>\n",
       "      <td>21339</td>\n",
       "      <td>1</td>\n",
       "      <td>-1</td>\n",
       "      <td>1</td>\n",
       "      <td>1</td>\n",
       "      <td>1</td>\n",
       "      <td>-1</td>\n",
       "      <td>0</td>\n",
       "      <td>-1</td>\n",
       "      <td>1</td>\n",
       "      <td>...</td>\n",
       "      <td>1</td>\n",
       "      <td>1</td>\n",
       "      <td>1</td>\n",
       "      <td>-1</td>\n",
       "      <td>-1</td>\n",
       "      <td>0</td>\n",
       "      <td>-1</td>\n",
       "      <td>-1</td>\n",
       "      <td>0</td>\n",
       "      <td>1</td>\n",
       "    </tr>\n",
       "    <tr>\n",
       "      <th>2</th>\n",
       "      <td>21340</td>\n",
       "      <td>1</td>\n",
       "      <td>-1</td>\n",
       "      <td>1</td>\n",
       "      <td>1</td>\n",
       "      <td>1</td>\n",
       "      <td>-1</td>\n",
       "      <td>0</td>\n",
       "      <td>0</td>\n",
       "      <td>-1</td>\n",
       "      <td>...</td>\n",
       "      <td>-1</td>\n",
       "      <td>-1</td>\n",
       "      <td>-1</td>\n",
       "      <td>1</td>\n",
       "      <td>-1</td>\n",
       "      <td>1</td>\n",
       "      <td>-1</td>\n",
       "      <td>1</td>\n",
       "      <td>1</td>\n",
       "      <td>-1</td>\n",
       "    </tr>\n",
       "    <tr>\n",
       "      <th>3</th>\n",
       "      <td>21341</td>\n",
       "      <td>-1</td>\n",
       "      <td>-1</td>\n",
       "      <td>-1</td>\n",
       "      <td>1</td>\n",
       "      <td>-1</td>\n",
       "      <td>-1</td>\n",
       "      <td>-1</td>\n",
       "      <td>-1</td>\n",
       "      <td>1</td>\n",
       "      <td>...</td>\n",
       "      <td>1</td>\n",
       "      <td>-1</td>\n",
       "      <td>-1</td>\n",
       "      <td>1</td>\n",
       "      <td>-1</td>\n",
       "      <td>1</td>\n",
       "      <td>-1</td>\n",
       "      <td>1</td>\n",
       "      <td>1</td>\n",
       "      <td>-1</td>\n",
       "    </tr>\n",
       "    <tr>\n",
       "      <th>4</th>\n",
       "      <td>21342</td>\n",
       "      <td>1</td>\n",
       "      <td>-1</td>\n",
       "      <td>1</td>\n",
       "      <td>1</td>\n",
       "      <td>1</td>\n",
       "      <td>-1</td>\n",
       "      <td>1</td>\n",
       "      <td>1</td>\n",
       "      <td>-1</td>\n",
       "      <td>...</td>\n",
       "      <td>1</td>\n",
       "      <td>1</td>\n",
       "      <td>1</td>\n",
       "      <td>1</td>\n",
       "      <td>1</td>\n",
       "      <td>1</td>\n",
       "      <td>-1</td>\n",
       "      <td>1</td>\n",
       "      <td>0</td>\n",
       "      <td>1</td>\n",
       "    </tr>\n",
       "  </tbody>\n",
       "</table>\n",
       "<p>5 rows × 31 columns</p>\n",
       "</div>"
      ],
      "text/plain": [
       "     key having_IP URL_Length Shortining_Service having_At_Symbol  \\\n",
       "0  21338         1          1                  1                1   \n",
       "1  21339         1         -1                  1                1   \n",
       "2  21340         1         -1                  1                1   \n",
       "3  21341        -1         -1                 -1                1   \n",
       "4  21342         1         -1                  1                1   \n",
       "\n",
       "  double_slash_redirecting Prefix_Suffix having_Sub_Domain SSLfinal_State  \\\n",
       "0                        1             1                -1              1   \n",
       "1                        1            -1                 0             -1   \n",
       "2                        1            -1                 0              0   \n",
       "3                       -1            -1                -1             -1   \n",
       "4                        1            -1                 1              1   \n",
       "\n",
       "  Domain_registeration_length  ... RightClick popUpWidnow Iframe  \\\n",
       "0                          -1  ...          1           1      1   \n",
       "1                           1  ...          1           1      1   \n",
       "2                          -1  ...         -1          -1     -1   \n",
       "3                           1  ...          1          -1     -1   \n",
       "4                          -1  ...          1           1      1   \n",
       "\n",
       "  age_of_domain DNSRecord web_traffic Page_Rank Google_Index  \\\n",
       "0             1         1           1         1           -1   \n",
       "1            -1        -1           0        -1           -1   \n",
       "2             1        -1           1        -1            1   \n",
       "3             1        -1           1        -1            1   \n",
       "4             1         1           1        -1            1   \n",
       "\n",
       "  Links_pointing_to_page Statistical_report  \n",
       "0                      0                  1  \n",
       "1                      0                  1  \n",
       "2                      1                 -1  \n",
       "3                      1                 -1  \n",
       "4                      0                  1  \n",
       "\n",
       "[5 rows x 31 columns]"
      ]
     },
     "execution_count": 78,
     "metadata": {},
     "output_type": "execute_result"
    }
   ],
   "source": [
    "ts.head()"
   ]
  },
  {
   "cell_type": "code",
   "execution_count": 79,
   "id": "e2ac6f8b",
   "metadata": {},
   "outputs": [],
   "source": [
    "ts1=ts.drop('key',axis=1)"
   ]
  },
  {
   "cell_type": "code",
   "execution_count": 82,
   "id": "49d1b120",
   "metadata": {},
   "outputs": [],
   "source": [
    "ts1=pd.get_dummies(ts1)"
   ]
  },
  {
   "cell_type": "code",
   "execution_count": null,
   "id": "016dacf7",
   "metadata": {},
   "outputs": [],
   "source": []
  },
  {
   "cell_type": "markdown",
   "id": "476feb92",
   "metadata": {},
   "source": [
    "# Getting prediction on trained created model"
   ]
  },
  {
   "cell_type": "code",
   "execution_count": 80,
   "id": "fe3a24f4",
   "metadata": {},
   "outputs": [],
   "source": [
    "# we are getting good results with random forest classifier with max_depth=16\n",
    "rf=RandomForestClassifier(n_estimators=100,max_depth=16)\n",
    "model=rf.fit(xtrain,ytrain)"
   ]
  },
  {
   "cell_type": "code",
   "execution_count": 83,
   "id": "302f87a3",
   "metadata": {},
   "outputs": [],
   "source": [
    "prediction=pd.DataFrame(model.predict(ts1))"
   ]
  },
  {
   "cell_type": "code",
   "execution_count": 84,
   "id": "736fcc0d",
   "metadata": {},
   "outputs": [
    {
     "data": {
      "text/html": [
       "<div>\n",
       "<style scoped>\n",
       "    .dataframe tbody tr th:only-of-type {\n",
       "        vertical-align: middle;\n",
       "    }\n",
       "\n",
       "    .dataframe tbody tr th {\n",
       "        vertical-align: top;\n",
       "    }\n",
       "\n",
       "    .dataframe thead th {\n",
       "        text-align: right;\n",
       "    }\n",
       "</style>\n",
       "<table border=\"1\" class=\"dataframe\">\n",
       "  <thead>\n",
       "    <tr style=\"text-align: right;\">\n",
       "      <th></th>\n",
       "      <th>0</th>\n",
       "    </tr>\n",
       "  </thead>\n",
       "  <tbody>\n",
       "    <tr>\n",
       "      <th>0</th>\n",
       "      <td>1</td>\n",
       "    </tr>\n",
       "    <tr>\n",
       "      <th>1</th>\n",
       "      <td>0</td>\n",
       "    </tr>\n",
       "    <tr>\n",
       "      <th>2</th>\n",
       "      <td>0</td>\n",
       "    </tr>\n",
       "    <tr>\n",
       "      <th>3</th>\n",
       "      <td>0</td>\n",
       "    </tr>\n",
       "    <tr>\n",
       "      <th>4</th>\n",
       "      <td>1</td>\n",
       "    </tr>\n",
       "    <tr>\n",
       "      <th>...</th>\n",
       "      <td>...</td>\n",
       "    </tr>\n",
       "    <tr>\n",
       "      <th>2095</th>\n",
       "      <td>1</td>\n",
       "    </tr>\n",
       "    <tr>\n",
       "      <th>2096</th>\n",
       "      <td>1</td>\n",
       "    </tr>\n",
       "    <tr>\n",
       "      <th>2097</th>\n",
       "      <td>0</td>\n",
       "    </tr>\n",
       "    <tr>\n",
       "      <th>2098</th>\n",
       "      <td>1</td>\n",
       "    </tr>\n",
       "    <tr>\n",
       "      <th>2099</th>\n",
       "      <td>1</td>\n",
       "    </tr>\n",
       "  </tbody>\n",
       "</table>\n",
       "<p>2100 rows × 1 columns</p>\n",
       "</div>"
      ],
      "text/plain": [
       "      0\n",
       "0     1\n",
       "1     0\n",
       "2     0\n",
       "3     0\n",
       "4     1\n",
       "...  ..\n",
       "2095  1\n",
       "2096  1\n",
       "2097  0\n",
       "2098  1\n",
       "2099  1\n",
       "\n",
       "[2100 rows x 1 columns]"
      ]
     },
     "execution_count": 84,
     "metadata": {},
     "output_type": "execute_result"
    }
   ],
   "source": [
    "prediction"
   ]
  },
  {
   "cell_type": "code",
   "execution_count": 85,
   "id": "363164c3",
   "metadata": {},
   "outputs": [],
   "source": [
    "ts['Result']=prediction"
   ]
  },
  {
   "cell_type": "code",
   "execution_count": 86,
   "id": "061be35d",
   "metadata": {},
   "outputs": [
    {
     "data": {
      "text/html": [
       "<div>\n",
       "<style scoped>\n",
       "    .dataframe tbody tr th:only-of-type {\n",
       "        vertical-align: middle;\n",
       "    }\n",
       "\n",
       "    .dataframe tbody tr th {\n",
       "        vertical-align: top;\n",
       "    }\n",
       "\n",
       "    .dataframe thead th {\n",
       "        text-align: right;\n",
       "    }\n",
       "</style>\n",
       "<table border=\"1\" class=\"dataframe\">\n",
       "  <thead>\n",
       "    <tr style=\"text-align: right;\">\n",
       "      <th></th>\n",
       "      <th>key</th>\n",
       "      <th>having_IP</th>\n",
       "      <th>URL_Length</th>\n",
       "      <th>Shortining_Service</th>\n",
       "      <th>having_At_Symbol</th>\n",
       "      <th>double_slash_redirecting</th>\n",
       "      <th>Prefix_Suffix</th>\n",
       "      <th>having_Sub_Domain</th>\n",
       "      <th>SSLfinal_State</th>\n",
       "      <th>Domain_registeration_length</th>\n",
       "      <th>...</th>\n",
       "      <th>popUpWidnow</th>\n",
       "      <th>Iframe</th>\n",
       "      <th>age_of_domain</th>\n",
       "      <th>DNSRecord</th>\n",
       "      <th>web_traffic</th>\n",
       "      <th>Page_Rank</th>\n",
       "      <th>Google_Index</th>\n",
       "      <th>Links_pointing_to_page</th>\n",
       "      <th>Statistical_report</th>\n",
       "      <th>Result</th>\n",
       "    </tr>\n",
       "  </thead>\n",
       "  <tbody>\n",
       "    <tr>\n",
       "      <th>0</th>\n",
       "      <td>21338</td>\n",
       "      <td>1</td>\n",
       "      <td>1</td>\n",
       "      <td>1</td>\n",
       "      <td>1</td>\n",
       "      <td>1</td>\n",
       "      <td>1</td>\n",
       "      <td>-1</td>\n",
       "      <td>1</td>\n",
       "      <td>-1</td>\n",
       "      <td>...</td>\n",
       "      <td>1</td>\n",
       "      <td>1</td>\n",
       "      <td>1</td>\n",
       "      <td>1</td>\n",
       "      <td>1</td>\n",
       "      <td>1</td>\n",
       "      <td>-1</td>\n",
       "      <td>0</td>\n",
       "      <td>1</td>\n",
       "      <td>1</td>\n",
       "    </tr>\n",
       "    <tr>\n",
       "      <th>1</th>\n",
       "      <td>21339</td>\n",
       "      <td>1</td>\n",
       "      <td>-1</td>\n",
       "      <td>1</td>\n",
       "      <td>1</td>\n",
       "      <td>1</td>\n",
       "      <td>-1</td>\n",
       "      <td>0</td>\n",
       "      <td>-1</td>\n",
       "      <td>1</td>\n",
       "      <td>...</td>\n",
       "      <td>1</td>\n",
       "      <td>1</td>\n",
       "      <td>-1</td>\n",
       "      <td>-1</td>\n",
       "      <td>0</td>\n",
       "      <td>-1</td>\n",
       "      <td>-1</td>\n",
       "      <td>0</td>\n",
       "      <td>1</td>\n",
       "      <td>0</td>\n",
       "    </tr>\n",
       "    <tr>\n",
       "      <th>2</th>\n",
       "      <td>21340</td>\n",
       "      <td>1</td>\n",
       "      <td>-1</td>\n",
       "      <td>1</td>\n",
       "      <td>1</td>\n",
       "      <td>1</td>\n",
       "      <td>-1</td>\n",
       "      <td>0</td>\n",
       "      <td>0</td>\n",
       "      <td>-1</td>\n",
       "      <td>...</td>\n",
       "      <td>-1</td>\n",
       "      <td>-1</td>\n",
       "      <td>1</td>\n",
       "      <td>-1</td>\n",
       "      <td>1</td>\n",
       "      <td>-1</td>\n",
       "      <td>1</td>\n",
       "      <td>1</td>\n",
       "      <td>-1</td>\n",
       "      <td>0</td>\n",
       "    </tr>\n",
       "    <tr>\n",
       "      <th>3</th>\n",
       "      <td>21341</td>\n",
       "      <td>-1</td>\n",
       "      <td>-1</td>\n",
       "      <td>-1</td>\n",
       "      <td>1</td>\n",
       "      <td>-1</td>\n",
       "      <td>-1</td>\n",
       "      <td>-1</td>\n",
       "      <td>-1</td>\n",
       "      <td>1</td>\n",
       "      <td>...</td>\n",
       "      <td>-1</td>\n",
       "      <td>-1</td>\n",
       "      <td>1</td>\n",
       "      <td>-1</td>\n",
       "      <td>1</td>\n",
       "      <td>-1</td>\n",
       "      <td>1</td>\n",
       "      <td>1</td>\n",
       "      <td>-1</td>\n",
       "      <td>0</td>\n",
       "    </tr>\n",
       "    <tr>\n",
       "      <th>4</th>\n",
       "      <td>21342</td>\n",
       "      <td>1</td>\n",
       "      <td>-1</td>\n",
       "      <td>1</td>\n",
       "      <td>1</td>\n",
       "      <td>1</td>\n",
       "      <td>-1</td>\n",
       "      <td>1</td>\n",
       "      <td>1</td>\n",
       "      <td>-1</td>\n",
       "      <td>...</td>\n",
       "      <td>1</td>\n",
       "      <td>1</td>\n",
       "      <td>1</td>\n",
       "      <td>1</td>\n",
       "      <td>1</td>\n",
       "      <td>-1</td>\n",
       "      <td>1</td>\n",
       "      <td>0</td>\n",
       "      <td>1</td>\n",
       "      <td>1</td>\n",
       "    </tr>\n",
       "    <tr>\n",
       "      <th>...</th>\n",
       "      <td>...</td>\n",
       "      <td>...</td>\n",
       "      <td>...</td>\n",
       "      <td>...</td>\n",
       "      <td>...</td>\n",
       "      <td>...</td>\n",
       "      <td>...</td>\n",
       "      <td>...</td>\n",
       "      <td>...</td>\n",
       "      <td>...</td>\n",
       "      <td>...</td>\n",
       "      <td>...</td>\n",
       "      <td>...</td>\n",
       "      <td>...</td>\n",
       "      <td>...</td>\n",
       "      <td>...</td>\n",
       "      <td>...</td>\n",
       "      <td>...</td>\n",
       "      <td>...</td>\n",
       "      <td>...</td>\n",
       "      <td>...</td>\n",
       "    </tr>\n",
       "    <tr>\n",
       "      <th>2095</th>\n",
       "      <td>23433</td>\n",
       "      <td>-1</td>\n",
       "      <td>-1</td>\n",
       "      <td>-1</td>\n",
       "      <td>1</td>\n",
       "      <td>-1</td>\n",
       "      <td>-1</td>\n",
       "      <td>1</td>\n",
       "      <td>1</td>\n",
       "      <td>1</td>\n",
       "      <td>...</td>\n",
       "      <td>1</td>\n",
       "      <td>1</td>\n",
       "      <td>1</td>\n",
       "      <td>-1</td>\n",
       "      <td>1</td>\n",
       "      <td>-1</td>\n",
       "      <td>-1</td>\n",
       "      <td>1</td>\n",
       "      <td>1</td>\n",
       "      <td>1</td>\n",
       "    </tr>\n",
       "    <tr>\n",
       "      <th>2096</th>\n",
       "      <td>23434</td>\n",
       "      <td>1</td>\n",
       "      <td>1</td>\n",
       "      <td>1</td>\n",
       "      <td>-1</td>\n",
       "      <td>1</td>\n",
       "      <td>-1</td>\n",
       "      <td>1</td>\n",
       "      <td>1</td>\n",
       "      <td>-1</td>\n",
       "      <td>...</td>\n",
       "      <td>-1</td>\n",
       "      <td>1</td>\n",
       "      <td>-1</td>\n",
       "      <td>1</td>\n",
       "      <td>-1</td>\n",
       "      <td>1</td>\n",
       "      <td>1</td>\n",
       "      <td>1</td>\n",
       "      <td>1</td>\n",
       "      <td>1</td>\n",
       "    </tr>\n",
       "    <tr>\n",
       "      <th>2097</th>\n",
       "      <td>23435</td>\n",
       "      <td>1</td>\n",
       "      <td>-1</td>\n",
       "      <td>1</td>\n",
       "      <td>1</td>\n",
       "      <td>1</td>\n",
       "      <td>-1</td>\n",
       "      <td>-1</td>\n",
       "      <td>-1</td>\n",
       "      <td>1</td>\n",
       "      <td>...</td>\n",
       "      <td>1</td>\n",
       "      <td>1</td>\n",
       "      <td>-1</td>\n",
       "      <td>1</td>\n",
       "      <td>0</td>\n",
       "      <td>-1</td>\n",
       "      <td>1</td>\n",
       "      <td>0</td>\n",
       "      <td>1</td>\n",
       "      <td>0</td>\n",
       "    </tr>\n",
       "    <tr>\n",
       "      <th>2098</th>\n",
       "      <td>23436</td>\n",
       "      <td>1</td>\n",
       "      <td>-1</td>\n",
       "      <td>1</td>\n",
       "      <td>-1</td>\n",
       "      <td>1</td>\n",
       "      <td>-1</td>\n",
       "      <td>0</td>\n",
       "      <td>-1</td>\n",
       "      <td>-1</td>\n",
       "      <td>...</td>\n",
       "      <td>-1</td>\n",
       "      <td>-1</td>\n",
       "      <td>1</td>\n",
       "      <td>1</td>\n",
       "      <td>-1</td>\n",
       "      <td>-1</td>\n",
       "      <td>1</td>\n",
       "      <td>1</td>\n",
       "      <td>1</td>\n",
       "      <td>1</td>\n",
       "    </tr>\n",
       "    <tr>\n",
       "      <th>2099</th>\n",
       "      <td>23437</td>\n",
       "      <td>-1</td>\n",
       "      <td>1</td>\n",
       "      <td>-1</td>\n",
       "      <td>-1</td>\n",
       "      <td>-1</td>\n",
       "      <td>-1</td>\n",
       "      <td>1</td>\n",
       "      <td>1</td>\n",
       "      <td>1</td>\n",
       "      <td>...</td>\n",
       "      <td>-1</td>\n",
       "      <td>1</td>\n",
       "      <td>-1</td>\n",
       "      <td>-1</td>\n",
       "      <td>0</td>\n",
       "      <td>1</td>\n",
       "      <td>1</td>\n",
       "      <td>1</td>\n",
       "      <td>1</td>\n",
       "      <td>1</td>\n",
       "    </tr>\n",
       "  </tbody>\n",
       "</table>\n",
       "<p>2100 rows × 32 columns</p>\n",
       "</div>"
      ],
      "text/plain": [
       "        key having_IP URL_Length Shortining_Service having_At_Symbol  \\\n",
       "0     21338         1          1                  1                1   \n",
       "1     21339         1         -1                  1                1   \n",
       "2     21340         1         -1                  1                1   \n",
       "3     21341        -1         -1                 -1                1   \n",
       "4     21342         1         -1                  1                1   \n",
       "...     ...       ...        ...                ...              ...   \n",
       "2095  23433        -1         -1                 -1                1   \n",
       "2096  23434         1          1                  1               -1   \n",
       "2097  23435         1         -1                  1                1   \n",
       "2098  23436         1         -1                  1               -1   \n",
       "2099  23437        -1          1                 -1               -1   \n",
       "\n",
       "     double_slash_redirecting Prefix_Suffix having_Sub_Domain SSLfinal_State  \\\n",
       "0                           1             1                -1              1   \n",
       "1                           1            -1                 0             -1   \n",
       "2                           1            -1                 0              0   \n",
       "3                          -1            -1                -1             -1   \n",
       "4                           1            -1                 1              1   \n",
       "...                       ...           ...               ...            ...   \n",
       "2095                       -1            -1                 1              1   \n",
       "2096                        1            -1                 1              1   \n",
       "2097                        1            -1                -1             -1   \n",
       "2098                        1            -1                 0             -1   \n",
       "2099                       -1            -1                 1              1   \n",
       "\n",
       "     Domain_registeration_length  ... popUpWidnow Iframe age_of_domain  \\\n",
       "0                             -1  ...           1      1             1   \n",
       "1                              1  ...           1      1            -1   \n",
       "2                             -1  ...          -1     -1             1   \n",
       "3                              1  ...          -1     -1             1   \n",
       "4                             -1  ...           1      1             1   \n",
       "...                          ...  ...         ...    ...           ...   \n",
       "2095                           1  ...           1      1             1   \n",
       "2096                          -1  ...          -1      1            -1   \n",
       "2097                           1  ...           1      1            -1   \n",
       "2098                          -1  ...          -1     -1             1   \n",
       "2099                           1  ...          -1      1            -1   \n",
       "\n",
       "     DNSRecord web_traffic Page_Rank Google_Index Links_pointing_to_page  \\\n",
       "0            1           1         1           -1                      0   \n",
       "1           -1           0        -1           -1                      0   \n",
       "2           -1           1        -1            1                      1   \n",
       "3           -1           1        -1            1                      1   \n",
       "4            1           1        -1            1                      0   \n",
       "...        ...         ...       ...          ...                    ...   \n",
       "2095        -1           1        -1           -1                      1   \n",
       "2096         1          -1         1            1                      1   \n",
       "2097         1           0        -1            1                      0   \n",
       "2098         1          -1        -1            1                      1   \n",
       "2099        -1           0         1            1                      1   \n",
       "\n",
       "     Statistical_report Result  \n",
       "0                     1      1  \n",
       "1                     1      0  \n",
       "2                    -1      0  \n",
       "3                    -1      0  \n",
       "4                     1      1  \n",
       "...                 ...    ...  \n",
       "2095                  1      1  \n",
       "2096                  1      1  \n",
       "2097                  1      0  \n",
       "2098                  1      1  \n",
       "2099                  1      1  \n",
       "\n",
       "[2100 rows x 32 columns]"
      ]
     },
     "execution_count": 86,
     "metadata": {},
     "output_type": "execute_result"
    }
   ],
   "source": [
    "ts"
   ]
  },
  {
   "cell_type": "code",
   "execution_count": null,
   "id": "d50f01eb",
   "metadata": {},
   "outputs": [],
   "source": []
  },
  {
   "cell_type": "code",
   "execution_count": null,
   "id": "9b5f2dbe",
   "metadata": {},
   "outputs": [],
   "source": []
  }
 ],
 "metadata": {
  "kernelspec": {
   "display_name": "Python 3 (ipykernel)",
   "language": "python",
   "name": "python3"
  },
  "language_info": {
   "codemirror_mode": {
    "name": "ipython",
    "version": 3
   },
   "file_extension": ".py",
   "mimetype": "text/x-python",
   "name": "python",
   "nbconvert_exporter": "python",
   "pygments_lexer": "ipython3",
   "version": "3.8.12"
  }
 },
 "nbformat": 4,
 "nbformat_minor": 5
}
