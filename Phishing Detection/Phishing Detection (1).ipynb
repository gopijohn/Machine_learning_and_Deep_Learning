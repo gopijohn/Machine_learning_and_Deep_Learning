{
 "cells": [
  {
   "cell_type": "markdown",
   "id": "13cb574e",
   "metadata": {},
   "source": [
    "# Problem Statement:\n",
    "As each coin has two sides, so does technology. On one hand, with the advancement in technology the lives are getting better,\n",
    "on the other hand, the ill use of technology is also increasing. \n",
    "The suspicious activities are increasing ranging from dos attacks, phishing, hacking etc.\n",
    "In this hackathon, we are concerned with the increasing phishing attacks.\n",
    "\n",
    "\n",
    "Typically, Phishing is a type of social engineering where an attacker sends a \n",
    "fraudulent (e.g., spoofed, fake, or otherwise deceptive)\n",
    "message designed to trick a person into revealing sensitive information to the \n",
    "attacker or to deploy malicious software on the victim's infrastructure like ransomware."
   ]
  },
  {
   "cell_type": "markdown",
   "id": "44fe62de",
   "metadata": {},
   "source": [
    "# Task:\n",
    "\n",
    "The candidates have to read the data and create a model based on the data analysis \n",
    "to identify if the website is legitimate or a phishing website. \n",
    "The Result will be determined by the two values [1, -1] where 1 represent the legitimate and -1 represents phishing"
   ]
  },
  {
   "cell_type": "code",
   "execution_count": 3,
   "id": "d9d07f50",
   "metadata": {},
   "outputs": [],
   "source": [
    "from warnings import filterwarnings\n",
    "filterwarnings('ignore')"
   ]
  },
  {
   "cell_type": "code",
   "execution_count": 1,
   "id": "542bbfcf",
   "metadata": {},
   "outputs": [],
   "source": [
    "import pandas as pd"
   ]
  },
  {
   "cell_type": "markdown",
   "id": "ea27a99b",
   "metadata": {},
   "source": [
    "# Importing train text data"
   ]
  },
  {
   "cell_type": "code",
   "execution_count": 2,
   "id": "c0057db7",
   "metadata": {},
   "outputs": [],
   "source": [
    "tr=pd.read_csv('Downloads/Phising_Training_Dataset.csv')       #train data"
   ]
  },
  {
   "cell_type": "code",
   "execution_count": 3,
   "id": "d73ff737",
   "metadata": {},
   "outputs": [],
   "source": [
    "ts=pd.read_csv('Downloads/Phising_Testing_Dataset.csv')        #test data"
   ]
  },
  {
   "cell_type": "code",
   "execution_count": 181,
   "id": "7e0bc9bd",
   "metadata": {},
   "outputs": [
    {
     "data": {
      "text/html": [
       "<div>\n",
       "<style scoped>\n",
       "    .dataframe tbody tr th:only-of-type {\n",
       "        vertical-align: middle;\n",
       "    }\n",
       "\n",
       "    .dataframe tbody tr th {\n",
       "        vertical-align: top;\n",
       "    }\n",
       "\n",
       "    .dataframe thead th {\n",
       "        text-align: right;\n",
       "    }\n",
       "</style>\n",
       "<table border=\"1\" class=\"dataframe\">\n",
       "  <thead>\n",
       "    <tr style=\"text-align: right;\">\n",
       "      <th></th>\n",
       "      <th>key</th>\n",
       "      <th>having_IP</th>\n",
       "      <th>URL_Length</th>\n",
       "      <th>Shortining_Service</th>\n",
       "      <th>having_At_Symbol</th>\n",
       "      <th>double_slash_redirecting</th>\n",
       "      <th>Prefix_Suffix</th>\n",
       "      <th>having_Sub_Domain</th>\n",
       "      <th>SSLfinal_State</th>\n",
       "      <th>Domain_registeration_length</th>\n",
       "      <th>...</th>\n",
       "      <th>popUpWidnow</th>\n",
       "      <th>Iframe</th>\n",
       "      <th>age_of_domain</th>\n",
       "      <th>DNSRecord</th>\n",
       "      <th>web_traffic</th>\n",
       "      <th>Page_Rank</th>\n",
       "      <th>Google_Index</th>\n",
       "      <th>Links_pointing_to_page</th>\n",
       "      <th>Statistical_report</th>\n",
       "      <th>Result</th>\n",
       "    </tr>\n",
       "  </thead>\n",
       "  <tbody>\n",
       "    <tr>\n",
       "      <th>0</th>\n",
       "      <td>12344</td>\n",
       "      <td>-1</td>\n",
       "      <td>1</td>\n",
       "      <td>1</td>\n",
       "      <td>1</td>\n",
       "      <td>-1</td>\n",
       "      <td>-1</td>\n",
       "      <td>-1</td>\n",
       "      <td>-1</td>\n",
       "      <td>-1</td>\n",
       "      <td>...</td>\n",
       "      <td>1</td>\n",
       "      <td>1</td>\n",
       "      <td>-1</td>\n",
       "      <td>-1</td>\n",
       "      <td>-1</td>\n",
       "      <td>-1</td>\n",
       "      <td>1</td>\n",
       "      <td>1</td>\n",
       "      <td>-1</td>\n",
       "      <td>-1</td>\n",
       "    </tr>\n",
       "    <tr>\n",
       "      <th>1</th>\n",
       "      <td>12345</td>\n",
       "      <td>1</td>\n",
       "      <td>1</td>\n",
       "      <td>1</td>\n",
       "      <td>1</td>\n",
       "      <td>1</td>\n",
       "      <td>-1</td>\n",
       "      <td>0</td>\n",
       "      <td>1</td>\n",
       "      <td>-1</td>\n",
       "      <td>...</td>\n",
       "      <td>1</td>\n",
       "      <td>1</td>\n",
       "      <td>-1</td>\n",
       "      <td>-1</td>\n",
       "      <td>0</td>\n",
       "      <td>-1</td>\n",
       "      <td>1</td>\n",
       "      <td>1</td>\n",
       "      <td>1</td>\n",
       "      <td>-1</td>\n",
       "    </tr>\n",
       "  </tbody>\n",
       "</table>\n",
       "<p>2 rows × 32 columns</p>\n",
       "</div>"
      ],
      "text/plain": [
       "     key  having_IP  URL_Length  Shortining_Service  having_At_Symbol  \\\n",
       "0  12344         -1           1                   1                 1   \n",
       "1  12345          1           1                   1                 1   \n",
       "\n",
       "   double_slash_redirecting  Prefix_Suffix  having_Sub_Domain  SSLfinal_State  \\\n",
       "0                        -1             -1                 -1              -1   \n",
       "1                         1             -1                  0               1   \n",
       "\n",
       "   Domain_registeration_length  ...  popUpWidnow  Iframe  age_of_domain  \\\n",
       "0                           -1  ...            1       1             -1   \n",
       "1                           -1  ...            1       1             -1   \n",
       "\n",
       "   DNSRecord  web_traffic  Page_Rank  Google_Index  Links_pointing_to_page  \\\n",
       "0         -1           -1         -1             1                       1   \n",
       "1         -1            0         -1             1                       1   \n",
       "\n",
       "   Statistical_report  Result  \n",
       "0                  -1      -1  \n",
       "1                   1      -1  \n",
       "\n",
       "[2 rows x 32 columns]"
      ]
     },
     "execution_count": 181,
     "metadata": {},
     "output_type": "execute_result"
    }
   ],
   "source": [
    "tr.head(2)"
   ]
  },
  {
   "cell_type": "code",
   "execution_count": 182,
   "id": "72e99904",
   "metadata": {},
   "outputs": [
    {
     "data": {
      "text/html": [
       "<div>\n",
       "<style scoped>\n",
       "    .dataframe tbody tr th:only-of-type {\n",
       "        vertical-align: middle;\n",
       "    }\n",
       "\n",
       "    .dataframe tbody tr th {\n",
       "        vertical-align: top;\n",
       "    }\n",
       "\n",
       "    .dataframe thead th {\n",
       "        text-align: right;\n",
       "    }\n",
       "</style>\n",
       "<table border=\"1\" class=\"dataframe\">\n",
       "  <thead>\n",
       "    <tr style=\"text-align: right;\">\n",
       "      <th></th>\n",
       "      <th>key</th>\n",
       "      <th>having_IP</th>\n",
       "      <th>URL_Length</th>\n",
       "      <th>Shortining_Service</th>\n",
       "      <th>having_At_Symbol</th>\n",
       "      <th>double_slash_redirecting</th>\n",
       "      <th>Prefix_Suffix</th>\n",
       "      <th>having_Sub_Domain</th>\n",
       "      <th>SSLfinal_State</th>\n",
       "      <th>Domain_registeration_length</th>\n",
       "      <th>...</th>\n",
       "      <th>RightClick</th>\n",
       "      <th>popUpWidnow</th>\n",
       "      <th>Iframe</th>\n",
       "      <th>age_of_domain</th>\n",
       "      <th>DNSRecord</th>\n",
       "      <th>web_traffic</th>\n",
       "      <th>Page_Rank</th>\n",
       "      <th>Google_Index</th>\n",
       "      <th>Links_pointing_to_page</th>\n",
       "      <th>Statistical_report</th>\n",
       "    </tr>\n",
       "  </thead>\n",
       "  <tbody>\n",
       "    <tr>\n",
       "      <th>0</th>\n",
       "      <td>21338</td>\n",
       "      <td>1</td>\n",
       "      <td>1</td>\n",
       "      <td>1</td>\n",
       "      <td>1</td>\n",
       "      <td>1</td>\n",
       "      <td>1</td>\n",
       "      <td>-1</td>\n",
       "      <td>1</td>\n",
       "      <td>-1</td>\n",
       "      <td>...</td>\n",
       "      <td>1</td>\n",
       "      <td>1</td>\n",
       "      <td>1</td>\n",
       "      <td>1</td>\n",
       "      <td>1</td>\n",
       "      <td>1</td>\n",
       "      <td>1</td>\n",
       "      <td>-1</td>\n",
       "      <td>0</td>\n",
       "      <td>1</td>\n",
       "    </tr>\n",
       "    <tr>\n",
       "      <th>1</th>\n",
       "      <td>21339</td>\n",
       "      <td>1</td>\n",
       "      <td>-1</td>\n",
       "      <td>1</td>\n",
       "      <td>1</td>\n",
       "      <td>1</td>\n",
       "      <td>-1</td>\n",
       "      <td>0</td>\n",
       "      <td>-1</td>\n",
       "      <td>1</td>\n",
       "      <td>...</td>\n",
       "      <td>1</td>\n",
       "      <td>1</td>\n",
       "      <td>1</td>\n",
       "      <td>-1</td>\n",
       "      <td>-1</td>\n",
       "      <td>0</td>\n",
       "      <td>-1</td>\n",
       "      <td>-1</td>\n",
       "      <td>0</td>\n",
       "      <td>1</td>\n",
       "    </tr>\n",
       "  </tbody>\n",
       "</table>\n",
       "<p>2 rows × 31 columns</p>\n",
       "</div>"
      ],
      "text/plain": [
       "     key  having_IP  URL_Length  Shortining_Service  having_At_Symbol  \\\n",
       "0  21338          1           1                   1                 1   \n",
       "1  21339          1          -1                   1                 1   \n",
       "\n",
       "   double_slash_redirecting  Prefix_Suffix  having_Sub_Domain  SSLfinal_State  \\\n",
       "0                         1              1                 -1               1   \n",
       "1                         1             -1                  0              -1   \n",
       "\n",
       "   Domain_registeration_length  ...  RightClick  popUpWidnow  Iframe  \\\n",
       "0                           -1  ...           1            1       1   \n",
       "1                            1  ...           1            1       1   \n",
       "\n",
       "   age_of_domain  DNSRecord  web_traffic  Page_Rank  Google_Index  \\\n",
       "0              1          1            1          1            -1   \n",
       "1             -1         -1            0         -1            -1   \n",
       "\n",
       "   Links_pointing_to_page  Statistical_report  \n",
       "0                       0                   1  \n",
       "1                       0                   1  \n",
       "\n",
       "[2 rows x 31 columns]"
      ]
     },
     "execution_count": 182,
     "metadata": {},
     "output_type": "execute_result"
    }
   ],
   "source": [
    "ts.head(2)"
   ]
  },
  {
   "cell_type": "code",
   "execution_count": 6,
   "id": "d36d49a9",
   "metadata": {},
   "outputs": [
    {
     "name": "stdout",
     "output_type": "stream",
     "text": [
      "<class 'pandas.core.frame.DataFrame'>\n",
      "RangeIndex: 8955 entries, 0 to 8954\n",
      "Data columns (total 32 columns):\n",
      " #   Column                       Non-Null Count  Dtype\n",
      "---  ------                       --------------  -----\n",
      " 0   key                          8955 non-null   int64\n",
      " 1   having_IP                    8955 non-null   int64\n",
      " 2   URL_Length                   8955 non-null   int64\n",
      " 3   Shortining_Service           8955 non-null   int64\n",
      " 4   having_At_Symbol             8955 non-null   int64\n",
      " 5   double_slash_redirecting     8955 non-null   int64\n",
      " 6   Prefix_Suffix                8955 non-null   int64\n",
      " 7   having_Sub_Domain            8955 non-null   int64\n",
      " 8   SSLfinal_State               8955 non-null   int64\n",
      " 9   Domain_registeration_length  8955 non-null   int64\n",
      " 10  Favicon                      8955 non-null   int64\n",
      " 11  port                         8955 non-null   int64\n",
      " 12  HTTPS_token                  8955 non-null   int64\n",
      " 13  Request_URL                  8955 non-null   int64\n",
      " 14  URL_of_Anchor                8955 non-null   int64\n",
      " 15  Links_in_tags                8955 non-null   int64\n",
      " 16  SFH                          8955 non-null   int64\n",
      " 17  Submitting_to_email          8955 non-null   int64\n",
      " 18  Abnormal_URL                 8955 non-null   int64\n",
      " 19  Redirect                     8955 non-null   int64\n",
      " 20  on_mouseover                 8955 non-null   int64\n",
      " 21  RightClick                   8955 non-null   int64\n",
      " 22  popUpWidnow                  8955 non-null   int64\n",
      " 23  Iframe                       8955 non-null   int64\n",
      " 24  age_of_domain                8955 non-null   int64\n",
      " 25  DNSRecord                    8955 non-null   int64\n",
      " 26  web_traffic                  8955 non-null   int64\n",
      " 27  Page_Rank                    8955 non-null   int64\n",
      " 28  Google_Index                 8955 non-null   int64\n",
      " 29  Links_pointing_to_page       8955 non-null   int64\n",
      " 30  Statistical_report           8955 non-null   int64\n",
      " 31  Result                       8955 non-null   int64\n",
      "dtypes: int64(32)\n",
      "memory usage: 2.2 MB\n"
     ]
    }
   ],
   "source": [
    "tr.info()"
   ]
  },
  {
   "cell_type": "code",
   "execution_count": 7,
   "id": "d55b53e2",
   "metadata": {},
   "outputs": [
    {
     "name": "stdout",
     "output_type": "stream",
     "text": [
      "<class 'pandas.core.frame.DataFrame'>\n",
      "RangeIndex: 2100 entries, 0 to 2099\n",
      "Data columns (total 31 columns):\n",
      " #   Column                       Non-Null Count  Dtype\n",
      "---  ------                       --------------  -----\n",
      " 0   key                          2100 non-null   int64\n",
      " 1   having_IP                    2100 non-null   int64\n",
      " 2   URL_Length                   2100 non-null   int64\n",
      " 3   Shortining_Service           2100 non-null   int64\n",
      " 4   having_At_Symbol             2100 non-null   int64\n",
      " 5   double_slash_redirecting     2100 non-null   int64\n",
      " 6   Prefix_Suffix                2100 non-null   int64\n",
      " 7   having_Sub_Domain            2100 non-null   int64\n",
      " 8   SSLfinal_State               2100 non-null   int64\n",
      " 9   Domain_registeration_length  2100 non-null   int64\n",
      " 10  Favicon                      2100 non-null   int64\n",
      " 11  port                         2100 non-null   int64\n",
      " 12  HTTPS_token                  2100 non-null   int64\n",
      " 13  Request_URL                  2100 non-null   int64\n",
      " 14  URL_of_Anchor                2100 non-null   int64\n",
      " 15  Links_in_tags                2100 non-null   int64\n",
      " 16  SFH                          2100 non-null   int64\n",
      " 17  Submitting_to_email          2100 non-null   int64\n",
      " 18  Abnormal_URL                 2100 non-null   int64\n",
      " 19  Redirect                     2100 non-null   int64\n",
      " 20  on_mouseover                 2100 non-null   int64\n",
      " 21  RightClick                   2100 non-null   int64\n",
      " 22  popUpWidnow                  2100 non-null   int64\n",
      " 23  Iframe                       2100 non-null   int64\n",
      " 24  age_of_domain                2100 non-null   int64\n",
      " 25  DNSRecord                    2100 non-null   int64\n",
      " 26  web_traffic                  2100 non-null   int64\n",
      " 27  Page_Rank                    2100 non-null   int64\n",
      " 28  Google_Index                 2100 non-null   int64\n",
      " 29  Links_pointing_to_page       2100 non-null   int64\n",
      " 30  Statistical_report           2100 non-null   int64\n",
      "dtypes: int64(31)\n",
      "memory usage: 508.7 KB\n"
     ]
    }
   ],
   "source": [
    "ts.info()"
   ]
  },
  {
   "cell_type": "code",
   "execution_count": 201,
   "id": "8bf6d40a",
   "metadata": {},
   "outputs": [
    {
     "data": {
      "text/plain": [
       "key                            0\n",
       "having_IP                      0\n",
       "URL_Length                     0\n",
       "Shortining_Service             0\n",
       "having_At_Symbol               0\n",
       "double_slash_redirecting       0\n",
       "Prefix_Suffix                  0\n",
       "having_Sub_Domain              0\n",
       "SSLfinal_State                 0\n",
       "Domain_registeration_length    0\n",
       "Favicon                        0\n",
       "port                           0\n",
       "HTTPS_token                    0\n",
       "Request_URL                    0\n",
       "URL_of_Anchor                  0\n",
       "Links_in_tags                  0\n",
       "SFH                            0\n",
       "Submitting_to_email            0\n",
       "Abnormal_URL                   0\n",
       "Redirect                       0\n",
       "on_mouseover                   0\n",
       "RightClick                     0\n",
       "popUpWidnow                    0\n",
       "Iframe                         0\n",
       "age_of_domain                  0\n",
       "DNSRecord                      0\n",
       "web_traffic                    0\n",
       "Page_Rank                      0\n",
       "Google_Index                   0\n",
       "Links_pointing_to_page         0\n",
       "Statistical_report             0\n",
       "Result                         0\n",
       "dtype: int64"
      ]
     },
     "execution_count": 201,
     "metadata": {},
     "output_type": "execute_result"
    }
   ],
   "source": [
    "tr.isna().sum()                  #check for missing data"
   ]
  },
  {
   "cell_type": "code",
   "execution_count": 202,
   "id": "c449671e",
   "metadata": {},
   "outputs": [
    {
     "data": {
      "text/plain": [
       "key                            0\n",
       "having_IP                      0\n",
       "URL_Length                     0\n",
       "Shortining_Service             0\n",
       "having_At_Symbol               0\n",
       "double_slash_redirecting       0\n",
       "Prefix_Suffix                  0\n",
       "having_Sub_Domain              0\n",
       "SSLfinal_State                 0\n",
       "Domain_registeration_length    0\n",
       "Favicon                        0\n",
       "port                           0\n",
       "HTTPS_token                    0\n",
       "Request_URL                    0\n",
       "URL_of_Anchor                  0\n",
       "Links_in_tags                  0\n",
       "SFH                            0\n",
       "Submitting_to_email            0\n",
       "Abnormal_URL                   0\n",
       "Redirect                       0\n",
       "on_mouseover                   0\n",
       "RightClick                     0\n",
       "popUpWidnow                    0\n",
       "Iframe                         0\n",
       "age_of_domain                  0\n",
       "DNSRecord                      0\n",
       "web_traffic                    0\n",
       "Page_Rank                      0\n",
       "Google_Index                   0\n",
       "Links_pointing_to_page         0\n",
       "Statistical_report             0\n",
       "dtype: int64"
      ]
     },
     "execution_count": 202,
     "metadata": {},
     "output_type": "execute_result"
    }
   ],
   "source": [
    "ts.isna().sum()                       #check for missing data"
   ]
  },
  {
   "cell_type": "code",
   "execution_count": 203,
   "id": "b97c7a3e",
   "metadata": {},
   "outputs": [
    {
     "data": {
      "text/plain": [
       "key                            0.000000\n",
       "having_IP                     -0.645733\n",
       "URL_Length                     1.647160\n",
       "Shortining_Service            -2.203923\n",
       "having_At_Symbol              -2.013579\n",
       "double_slash_redirecting      -2.205395\n",
       "Prefix_Suffix                  2.170495\n",
       "having_Sub_Domain             -0.132753\n",
       "SSLfinal_State                -0.545484\n",
       "Domain_registeration_length    0.714702\n",
       "Favicon                       -1.594115\n",
       "port                          -2.170495\n",
       "HTTPS_token                   -1.786460\n",
       "Request_URL                   -0.389370\n",
       "URL_of_Anchor                  0.111162\n",
       "Links_in_tags                  0.202936\n",
       "SFH                            1.472864\n",
       "Submitting_to_email           -1.635846\n",
       "Abnormal_URL                  -1.973353\n",
       "Redirect                       2.431036\n",
       "on_mouseover                  -2.424087\n",
       "RightClick                    -4.697127\n",
       "popUpWidnow                   -1.526678\n",
       "Iframe                        -2.974548\n",
       "age_of_domain                 -0.057879\n",
       "DNSRecord                     -0.799352\n",
       "web_traffic                   -0.585980\n",
       "Page_Rank                      1.092704\n",
       "Google_Index                  -2.030274\n",
       "Links_pointing_to_page        -0.195043\n",
       "Statistical_report            -2.129504\n",
       "Result                        -0.250561\n",
       "dtype: float64"
      ]
     },
     "execution_count": 203,
     "metadata": {},
     "output_type": "execute_result"
    }
   ],
   "source": [
    "tr.skew()                             #check for skewness"
   ]
  },
  {
   "cell_type": "code",
   "execution_count": 204,
   "id": "d75cd80e",
   "metadata": {},
   "outputs": [
    {
     "data": {
      "text/plain": [
       "key                            0.000000\n",
       "having_IP                     -0.728183\n",
       "URL_Length                     1.591288\n",
       "Shortining_Service            -2.146743\n",
       "having_At_Symbol              -1.771846\n",
       "double_slash_redirecting      -2.233660\n",
       "Prefix_Suffix                  2.158820\n",
       "having_Sub_Domain             -0.056121\n",
       "SSLfinal_State                -0.391239\n",
       "Domain_registeration_length    0.719015\n",
       "Favicon                       -1.718428\n",
       "port                          -1.951367\n",
       "HTTPS_token                   -2.037152\n",
       "Request_URL                   -0.342282\n",
       "URL_of_Anchor                  0.119816\n",
       "Links_in_tags                  0.201352\n",
       "SFH                            1.490399\n",
       "Submitting_to_email           -1.696781\n",
       "Abnormal_URL                  -2.065131\n",
       "Redirect                       2.292662\n",
       "on_mouseover                  -2.093709\n",
       "RightClick                    -3.857123\n",
       "popUpWidnow                   -1.675474\n",
       "Iframe                        -2.354369\n",
       "age_of_domain                 -0.406514\n",
       "DNSRecord                     -0.880939\n",
       "web_traffic                   -0.536833\n",
       "Page_Rank                      1.161407\n",
       "Google_Index                  -2.347372\n",
       "Links_pointing_to_page        -0.040408\n",
       "Statistical_report            -1.856178\n",
       "dtype: float64"
      ]
     },
     "execution_count": 204,
     "metadata": {},
     "output_type": "execute_result"
    }
   ],
   "source": [
    "ts.skew()                            #check for skewness"
   ]
  },
  {
   "cell_type": "markdown",
   "id": "7398aae5",
   "metadata": {},
   "source": [
    "# Colinearity check"
   ]
  },
  {
   "cell_type": "code",
   "execution_count": 9,
   "id": "824894f3",
   "metadata": {},
   "outputs": [
    {
     "data": {
      "text/plain": [
       "Result                         1.000000\n",
       "SSLfinal_State                 0.712543\n",
       "URL_of_Anchor                  0.696394\n",
       "web_traffic                    0.355581\n",
       "Prefix_Suffix                  0.344660\n",
       "having_Sub_Domain              0.296728\n",
       "Request_URL                    0.254572\n",
       "Links_in_tags                  0.238802\n",
       "SFH                            0.217931\n",
       "age_of_domain                  0.135198\n",
       "Google_Index                   0.121896\n",
       "Page_Rank                      0.102920\n",
       "having_IP                      0.094027\n",
       "DNSRecord                      0.081927\n",
       "Statistical_report             0.068015\n",
       "URL_Length                     0.059331\n",
       "having_At_Symbol               0.050045\n",
       "on_mouseover                   0.042180\n",
       "Links_pointing_to_page         0.035003\n",
       "port                           0.033971\n",
       "Submitting_to_email            0.011981\n",
       "RightClick                     0.004880\n",
       "key                           -0.000854\n",
       "popUpWidnow                   -0.002868\n",
       "Favicon                       -0.003260\n",
       "Iframe                        -0.013429\n",
       "Redirect                      -0.027197\n",
       "HTTPS_token                   -0.036573\n",
       "double_slash_redirecting      -0.037758\n",
       "Abnormal_URL                  -0.059860\n",
       "Shortining_Service            -0.066170\n",
       "Domain_registeration_length   -0.219960\n",
       "Name: Result, dtype: float64"
      ]
     },
     "execution_count": 9,
     "metadata": {},
     "output_type": "execute_result"
    }
   ],
   "source": [
    "tr.corr()['Result'].sort_values(ascending=False)"
   ]
  },
  {
   "cell_type": "code",
   "execution_count": 10,
   "id": "3dd1abba",
   "metadata": {},
   "outputs": [],
   "source": [
    "tr1=tr.drop('key',axis=1)    #dropped unwanted column"
   ]
  },
  {
   "cell_type": "code",
   "execution_count": 17,
   "id": "8902238b",
   "metadata": {},
   "outputs": [
    {
     "data": {
      "text/html": [
       "<div>\n",
       "<style scoped>\n",
       "    .dataframe tbody tr th:only-of-type {\n",
       "        vertical-align: middle;\n",
       "    }\n",
       "\n",
       "    .dataframe tbody tr th {\n",
       "        vertical-align: top;\n",
       "    }\n",
       "\n",
       "    .dataframe thead th {\n",
       "        text-align: right;\n",
       "    }\n",
       "</style>\n",
       "<table border=\"1\" class=\"dataframe\">\n",
       "  <thead>\n",
       "    <tr style=\"text-align: right;\">\n",
       "      <th></th>\n",
       "      <th>having_IP</th>\n",
       "      <th>URL_Length</th>\n",
       "      <th>Shortining_Service</th>\n",
       "      <th>having_At_Symbol</th>\n",
       "      <th>double_slash_redirecting</th>\n",
       "      <th>Prefix_Suffix</th>\n",
       "      <th>having_Sub_Domain</th>\n",
       "      <th>SSLfinal_State</th>\n",
       "      <th>Domain_registeration_length</th>\n",
       "      <th>Favicon</th>\n",
       "      <th>...</th>\n",
       "      <th>popUpWidnow</th>\n",
       "      <th>Iframe</th>\n",
       "      <th>age_of_domain</th>\n",
       "      <th>DNSRecord</th>\n",
       "      <th>web_traffic</th>\n",
       "      <th>Page_Rank</th>\n",
       "      <th>Google_Index</th>\n",
       "      <th>Links_pointing_to_page</th>\n",
       "      <th>Statistical_report</th>\n",
       "      <th>Result</th>\n",
       "    </tr>\n",
       "  </thead>\n",
       "  <tbody>\n",
       "    <tr>\n",
       "      <th>0</th>\n",
       "      <td>-1</td>\n",
       "      <td>1</td>\n",
       "      <td>1</td>\n",
       "      <td>1</td>\n",
       "      <td>-1</td>\n",
       "      <td>-1</td>\n",
       "      <td>-1</td>\n",
       "      <td>-1</td>\n",
       "      <td>-1</td>\n",
       "      <td>1</td>\n",
       "      <td>...</td>\n",
       "      <td>1</td>\n",
       "      <td>1</td>\n",
       "      <td>-1</td>\n",
       "      <td>-1</td>\n",
       "      <td>-1</td>\n",
       "      <td>-1</td>\n",
       "      <td>1</td>\n",
       "      <td>1</td>\n",
       "      <td>-1</td>\n",
       "      <td>-1</td>\n",
       "    </tr>\n",
       "    <tr>\n",
       "      <th>1</th>\n",
       "      <td>1</td>\n",
       "      <td>1</td>\n",
       "      <td>1</td>\n",
       "      <td>1</td>\n",
       "      <td>1</td>\n",
       "      <td>-1</td>\n",
       "      <td>0</td>\n",
       "      <td>1</td>\n",
       "      <td>-1</td>\n",
       "      <td>1</td>\n",
       "      <td>...</td>\n",
       "      <td>1</td>\n",
       "      <td>1</td>\n",
       "      <td>-1</td>\n",
       "      <td>-1</td>\n",
       "      <td>0</td>\n",
       "      <td>-1</td>\n",
       "      <td>1</td>\n",
       "      <td>1</td>\n",
       "      <td>1</td>\n",
       "      <td>-1</td>\n",
       "    </tr>\n",
       "    <tr>\n",
       "      <th>2</th>\n",
       "      <td>1</td>\n",
       "      <td>0</td>\n",
       "      <td>1</td>\n",
       "      <td>1</td>\n",
       "      <td>1</td>\n",
       "      <td>-1</td>\n",
       "      <td>-1</td>\n",
       "      <td>-1</td>\n",
       "      <td>-1</td>\n",
       "      <td>1</td>\n",
       "      <td>...</td>\n",
       "      <td>1</td>\n",
       "      <td>1</td>\n",
       "      <td>1</td>\n",
       "      <td>-1</td>\n",
       "      <td>1</td>\n",
       "      <td>-1</td>\n",
       "      <td>1</td>\n",
       "      <td>0</td>\n",
       "      <td>-1</td>\n",
       "      <td>-1</td>\n",
       "    </tr>\n",
       "    <tr>\n",
       "      <th>3</th>\n",
       "      <td>1</td>\n",
       "      <td>0</td>\n",
       "      <td>1</td>\n",
       "      <td>1</td>\n",
       "      <td>1</td>\n",
       "      <td>-1</td>\n",
       "      <td>-1</td>\n",
       "      <td>-1</td>\n",
       "      <td>1</td>\n",
       "      <td>1</td>\n",
       "      <td>...</td>\n",
       "      <td>1</td>\n",
       "      <td>1</td>\n",
       "      <td>-1</td>\n",
       "      <td>-1</td>\n",
       "      <td>1</td>\n",
       "      <td>-1</td>\n",
       "      <td>1</td>\n",
       "      <td>-1</td>\n",
       "      <td>1</td>\n",
       "      <td>-1</td>\n",
       "    </tr>\n",
       "    <tr>\n",
       "      <th>4</th>\n",
       "      <td>1</td>\n",
       "      <td>0</td>\n",
       "      <td>-1</td>\n",
       "      <td>1</td>\n",
       "      <td>1</td>\n",
       "      <td>-1</td>\n",
       "      <td>1</td>\n",
       "      <td>1</td>\n",
       "      <td>-1</td>\n",
       "      <td>1</td>\n",
       "      <td>...</td>\n",
       "      <td>-1</td>\n",
       "      <td>1</td>\n",
       "      <td>-1</td>\n",
       "      <td>-1</td>\n",
       "      <td>0</td>\n",
       "      <td>-1</td>\n",
       "      <td>1</td>\n",
       "      <td>1</td>\n",
       "      <td>1</td>\n",
       "      <td>1</td>\n",
       "    </tr>\n",
       "    <tr>\n",
       "      <th>...</th>\n",
       "      <td>...</td>\n",
       "      <td>...</td>\n",
       "      <td>...</td>\n",
       "      <td>...</td>\n",
       "      <td>...</td>\n",
       "      <td>...</td>\n",
       "      <td>...</td>\n",
       "      <td>...</td>\n",
       "      <td>...</td>\n",
       "      <td>...</td>\n",
       "      <td>...</td>\n",
       "      <td>...</td>\n",
       "      <td>...</td>\n",
       "      <td>...</td>\n",
       "      <td>...</td>\n",
       "      <td>...</td>\n",
       "      <td>...</td>\n",
       "      <td>...</td>\n",
       "      <td>...</td>\n",
       "      <td>...</td>\n",
       "      <td>...</td>\n",
       "    </tr>\n",
       "    <tr>\n",
       "      <th>8950</th>\n",
       "      <td>1</td>\n",
       "      <td>-1</td>\n",
       "      <td>1</td>\n",
       "      <td>-1</td>\n",
       "      <td>1</td>\n",
       "      <td>1</td>\n",
       "      <td>1</td>\n",
       "      <td>1</td>\n",
       "      <td>-1</td>\n",
       "      <td>-1</td>\n",
       "      <td>...</td>\n",
       "      <td>-1</td>\n",
       "      <td>-1</td>\n",
       "      <td>1</td>\n",
       "      <td>1</td>\n",
       "      <td>-1</td>\n",
       "      <td>-1</td>\n",
       "      <td>1</td>\n",
       "      <td>1</td>\n",
       "      <td>1</td>\n",
       "      <td>1</td>\n",
       "    </tr>\n",
       "    <tr>\n",
       "      <th>8951</th>\n",
       "      <td>-1</td>\n",
       "      <td>1</td>\n",
       "      <td>1</td>\n",
       "      <td>-1</td>\n",
       "      <td>-1</td>\n",
       "      <td>-1</td>\n",
       "      <td>1</td>\n",
       "      <td>-1</td>\n",
       "      <td>-1</td>\n",
       "      <td>-1</td>\n",
       "      <td>...</td>\n",
       "      <td>-1</td>\n",
       "      <td>1</td>\n",
       "      <td>1</td>\n",
       "      <td>1</td>\n",
       "      <td>1</td>\n",
       "      <td>1</td>\n",
       "      <td>1</td>\n",
       "      <td>-1</td>\n",
       "      <td>1</td>\n",
       "      <td>-1</td>\n",
       "    </tr>\n",
       "    <tr>\n",
       "      <th>8952</th>\n",
       "      <td>1</td>\n",
       "      <td>-1</td>\n",
       "      <td>1</td>\n",
       "      <td>1</td>\n",
       "      <td>1</td>\n",
       "      <td>-1</td>\n",
       "      <td>1</td>\n",
       "      <td>-1</td>\n",
       "      <td>-1</td>\n",
       "      <td>1</td>\n",
       "      <td>...</td>\n",
       "      <td>1</td>\n",
       "      <td>1</td>\n",
       "      <td>1</td>\n",
       "      <td>1</td>\n",
       "      <td>1</td>\n",
       "      <td>-1</td>\n",
       "      <td>1</td>\n",
       "      <td>0</td>\n",
       "      <td>1</td>\n",
       "      <td>-1</td>\n",
       "    </tr>\n",
       "    <tr>\n",
       "      <th>8953</th>\n",
       "      <td>-1</td>\n",
       "      <td>-1</td>\n",
       "      <td>1</td>\n",
       "      <td>1</td>\n",
       "      <td>1</td>\n",
       "      <td>-1</td>\n",
       "      <td>-1</td>\n",
       "      <td>-1</td>\n",
       "      <td>1</td>\n",
       "      <td>-1</td>\n",
       "      <td>...</td>\n",
       "      <td>-1</td>\n",
       "      <td>1</td>\n",
       "      <td>1</td>\n",
       "      <td>1</td>\n",
       "      <td>1</td>\n",
       "      <td>-1</td>\n",
       "      <td>1</td>\n",
       "      <td>1</td>\n",
       "      <td>1</td>\n",
       "      <td>-1</td>\n",
       "    </tr>\n",
       "    <tr>\n",
       "      <th>8954</th>\n",
       "      <td>-1</td>\n",
       "      <td>-1</td>\n",
       "      <td>1</td>\n",
       "      <td>1</td>\n",
       "      <td>1</td>\n",
       "      <td>-1</td>\n",
       "      <td>-1</td>\n",
       "      <td>-1</td>\n",
       "      <td>1</td>\n",
       "      <td>1</td>\n",
       "      <td>...</td>\n",
       "      <td>1</td>\n",
       "      <td>1</td>\n",
       "      <td>-1</td>\n",
       "      <td>1</td>\n",
       "      <td>-1</td>\n",
       "      <td>-1</td>\n",
       "      <td>-1</td>\n",
       "      <td>1</td>\n",
       "      <td>-1</td>\n",
       "      <td>-1</td>\n",
       "    </tr>\n",
       "  </tbody>\n",
       "</table>\n",
       "<p>8955 rows × 31 columns</p>\n",
       "</div>"
      ],
      "text/plain": [
       "      having_IP  URL_Length  Shortining_Service  having_At_Symbol  \\\n",
       "0            -1           1                   1                 1   \n",
       "1             1           1                   1                 1   \n",
       "2             1           0                   1                 1   \n",
       "3             1           0                   1                 1   \n",
       "4             1           0                  -1                 1   \n",
       "...         ...         ...                 ...               ...   \n",
       "8950          1          -1                   1                -1   \n",
       "8951         -1           1                   1                -1   \n",
       "8952          1          -1                   1                 1   \n",
       "8953         -1          -1                   1                 1   \n",
       "8954         -1          -1                   1                 1   \n",
       "\n",
       "      double_slash_redirecting  Prefix_Suffix  having_Sub_Domain  \\\n",
       "0                           -1             -1                 -1   \n",
       "1                            1             -1                  0   \n",
       "2                            1             -1                 -1   \n",
       "3                            1             -1                 -1   \n",
       "4                            1             -1                  1   \n",
       "...                        ...            ...                ...   \n",
       "8950                         1              1                  1   \n",
       "8951                        -1             -1                  1   \n",
       "8952                         1             -1                  1   \n",
       "8953                         1             -1                 -1   \n",
       "8954                         1             -1                 -1   \n",
       "\n",
       "      SSLfinal_State  Domain_registeration_length  Favicon  ...  popUpWidnow  \\\n",
       "0                 -1                           -1        1  ...            1   \n",
       "1                  1                           -1        1  ...            1   \n",
       "2                 -1                           -1        1  ...            1   \n",
       "3                 -1                            1        1  ...            1   \n",
       "4                  1                           -1        1  ...           -1   \n",
       "...              ...                          ...      ...  ...          ...   \n",
       "8950               1                           -1       -1  ...           -1   \n",
       "8951              -1                           -1       -1  ...           -1   \n",
       "8952              -1                           -1        1  ...            1   \n",
       "8953              -1                            1       -1  ...           -1   \n",
       "8954              -1                            1        1  ...            1   \n",
       "\n",
       "      Iframe  age_of_domain  DNSRecord  web_traffic  Page_Rank  Google_Index  \\\n",
       "0          1             -1         -1           -1         -1             1   \n",
       "1          1             -1         -1            0         -1             1   \n",
       "2          1              1         -1            1         -1             1   \n",
       "3          1             -1         -1            1         -1             1   \n",
       "4          1             -1         -1            0         -1             1   \n",
       "...      ...            ...        ...          ...        ...           ...   \n",
       "8950      -1              1          1           -1         -1             1   \n",
       "8951       1              1          1            1          1             1   \n",
       "8952       1              1          1            1         -1             1   \n",
       "8953       1              1          1            1         -1             1   \n",
       "8954       1             -1          1           -1         -1            -1   \n",
       "\n",
       "      Links_pointing_to_page  Statistical_report  Result  \n",
       "0                          1                  -1      -1  \n",
       "1                          1                   1      -1  \n",
       "2                          0                  -1      -1  \n",
       "3                         -1                   1      -1  \n",
       "4                          1                   1       1  \n",
       "...                      ...                 ...     ...  \n",
       "8950                       1                   1       1  \n",
       "8951                      -1                   1      -1  \n",
       "8952                       0                   1      -1  \n",
       "8953                       1                   1      -1  \n",
       "8954                       1                  -1      -1  \n",
       "\n",
       "[8955 rows x 31 columns]"
      ]
     },
     "execution_count": 17,
     "metadata": {},
     "output_type": "execute_result"
    }
   ],
   "source": [
    "tr1"
   ]
  },
  {
   "cell_type": "code",
   "execution_count": 23,
   "id": "6e7564be",
   "metadata": {},
   "outputs": [
    {
     "data": {
      "image/png": "[encoded data removed]",
      "text/plain": [
       "<Figure size 432x288 with 1 Axes>"
      ]
     },
     "metadata": {
      "needs_background": "light"
     },
     "output_type": "display_data"
    },
    {
     "data": {
      "image/png": "[encoded data removed]",
      "text/plain": [
       "<Figure size 432x288 with 1 Axes>"
      ]
     },
     "metadata": {
      "needs_background": "light"
     },
     "output_type": "display_data"
    },
    {
     "data": {
      "image/png": "[encoded data removed]",
      "text/plain": [
       "<Figure size 432x288 with 1 Axes>"
      ]
     },
     "metadata": {
      "needs_background": "light"
     },
     "output_type": "display_data"
    },
    {
     "data": {
      "image/png": "[encoded data removed]",
      "text/plain": [
       "<Figure size 432x288 with 1 Axes>"
      ]
     },
     "metadata": {
      "needs_background": "light"
     },
     "output_type": "display_data"
    },
    {
     "data": {
      "image/png": "[encoded data removed]",
      "text/plain": [
       "<Figure size 432x288 with 1 Axes>"
      ]
     },
     "metadata": {
      "needs_background": "light"
     },
     "output_type": "display_data"
    },
    {
     "data": {
      "image/png": "[encoded data removed]",
      "text/plain": [
       "<Figure size 432x288 with 1 Axes>"
      ]
     },
     "metadata": {
      "needs_background": "light"
     },
     "output_type": "display_data"
    },
    {
     "data": {
      "image/png": "[encoded data removed]",
      "text/plain": [
       "<Figure size 432x288 with 1 Axes>"
      ]
     },
     "metadata": {
      "needs_background": "light"
     },
     "output_type": "display_data"
    },
    {
     "data": {
      "image/png": "[encoded data removed]",
      "text/plain": [
       "<Figure size 432x288 with 1 Axes>"
      ]
     },
     "metadata": {
      "needs_background": "light"
     },
     "output_type": "display_data"
    },
    {
     "data": {
      "image/png": "[encoded data removed]",
      "text/plain": [
       "<Figure size 432x288 with 1 Axes>"
      ]
     },
     "metadata": {
      "needs_background": "light"
     },
     "output_type": "display_data"
    },
    {
     "data": {
      "image/png": "[encoded data removed]",
      "text/plain": [
       "<Figure size 432x288 with 1 Axes>"
      ]
     },
     "metadata": {
      "needs_background": "light"
     },
     "output_type": "display_data"
    },
    {
     "data": {
      "image/png": "[encoded data removed]",
      "text/plain": [
       "<Figure size 432x288 with 1 Axes>"
      ]
     },
     "metadata": {
      "needs_background": "light"
     },
     "output_type": "display_data"
    },
    {
     "data": {
      "image/png": "[encoded data removed]",
      "text/plain": [
       "<Figure size 432x288 with 1 Axes>"
      ]
     },
     "metadata": {
      "needs_background": "light"
     },
     "output_type": "display_data"
    },
    {
     "data": {
      "image/png": "[encoded data removed]",
      "text/plain": [
       "<Figure size 432x288 with 1 Axes>"
      ]
     },
     "metadata": {
      "needs_background": "light"
     },
     "output_type": "display_data"
    },
    {
     "data": {
      "image/png": "[encoded data removed]",
      "text/plain": [
       "<Figure size 432x288 with 1 Axes>"
      ]
     },
     "metadata": {
      "needs_background": "light"
     },
     "output_type": "display_data"
    },
    {
     "data": {
      "image/png": "[encoded data removed]",
      "text/plain": [
       "<Figure size 432x288 with 1 Axes>"
      ]
     },
     "metadata": {
      "needs_background": "light"
     },
     "output_type": "display_data"
    },
    {
     "data": {
      "image/png": "[encoded data removed]",
      "text/plain": [
       "<Figure size 432x288 with 1 Axes>"
      ]
     },
     "metadata": {
      "needs_background": "light"
     },
     "output_type": "display_data"
    },
    {
     "data": {
      "image/png": "[encoded data removed]",
      "text/plain": [
       "<Figure size 432x288 with 1 Axes>"
      ]
     },
     "metadata": {
      "needs_background": "light"
     },
     "output_type": "display_data"
    },
    {
     "data": {
      "image/png": "[encoded data removed]",
      "text/plain": [
       "<Figure size 432x288 with 1 Axes>"
      ]
     },
     "metadata": {
      "needs_background": "light"
     },
     "output_type": "display_data"
    },
    {
     "data": {
      "image/png": "[encoded data removed]",
      "text/plain": [
       "<Figure size 432x288 with 1 Axes>"
      ]
     },
     "metadata": {
      "needs_background": "light"
     },
     "output_type": "display_data"
    },
    {
     "data": {
      "image/png": "[encoded data removed]",
      "text/plain": [
       "<Figure size 432x288 with 1 Axes>"
      ]
     },
     "metadata": {
      "needs_background": "light"
     },
     "output_type": "display_data"
    },
    {
     "data": {
      "image/png": "[encoded data removed]",
      "text/plain": [
       "<Figure size 432x288 with 1 Axes>"
      ]
     },
     "metadata": {
      "needs_background": "light"
     },
     "output_type": "display_data"
    },
    {
     "data": {
      "image/png": "[encoded data removed]",
      "text/plain": [
       "<Figure size 432x288 with 1 Axes>"
      ]
     },
     "metadata": {
      "needs_background": "light"
     },
     "output_type": "display_data"
    },
    {
     "data": {
      "image/png": "[encoded data removed]",
      "text/plain": [
       "<Figure size 432x288 with 1 Axes>"
      ]
     },
     "metadata": {
      "needs_background": "light"
     },
     "output_type": "display_data"
    },
    {
     "data": {
      "image/png": "[encoded data removed]",
      "text/plain": [
       "<Figure size 432x288 with 1 Axes>"
      ]
     },
     "metadata": {
      "needs_background": "light"
     },
     "output_type": "display_data"
    },
    {
     "data": {
      "image/png": "[encoded data removed]",
      "text/plain": [
       "<Figure size 432x288 with 1 Axes>"
      ]
     },
     "metadata": {
      "needs_background": "light"
     },
     "output_type": "display_data"
    },
    {
     "data": {
      "image/png": "[encoded data removed]",
      "text/plain": [
       "<Figure size 432x288 with 1 Axes>"
      ]
     },
     "metadata": {
      "needs_background": "light"
     },
     "output_type": "display_data"
    },
    {
     "data": {
      "image/png": "[encoded data removed]",
      "text/plain": [
       "<Figure size 432x288 with 1 Axes>"
      ]
     },
     "metadata": {
      "needs_background": "light"
     },
     "output_type": "display_data"
    },
    {
     "data": {
      "image/png": "[encoded data removed]",
      "text/plain": [
       "<Figure size 432x288 with 1 Axes>"
      ]
     },
     "metadata": {
      "needs_background": "light"
     },
     "output_type": "display_data"
    },
    {
     "data": {
      "image/png": "[encoded data removed]",
      "text/plain": [
       "<Figure size 432x288 with 1 Axes>"
      ]
     },
     "metadata": {
      "needs_background": "light"
     },
     "output_type": "display_data"
    },
    {
     "data": {
      "image/png": "[encoded data removed]",
      "text/plain": [
       "<Figure size 432x288 with 1 Axes>"
      ]
     },
     "metadata": {
      "needs_background": "light"
     },
     "output_type": "display_data"
    },
    {
     "data": {
      "image/png": "[encoded data removed]",
      "text/plain": [
       "<Figure size 432x288 with 1 Axes>"
      ]
     },
     "metadata": {
      "needs_background": "light"
     },
     "output_type": "display_data"
    }
   ],
   "source": [
    "import seaborn as sns\n",
    "import matplotlib.pyplot as plt\n",
    "\n",
    "for i in tr1:\n",
    "    sns.histplot(tr1[i])\n",
    "    plt.show()\n",
    "                                #EDA "
   ]
  },
  {
   "cell_type": "code",
   "execution_count": 26,
   "id": "090f1b67",
   "metadata": {},
   "outputs": [],
   "source": [
    "Y=tr1[['Result']]"
   ]
  },
  {
   "cell_type": "code",
   "execution_count": 149,
   "id": "94c0606f",
   "metadata": {},
   "outputs": [],
   "source": [
    "drop=['popUpWidnow','Favicon','Iframe','Redirect','HTTPS_token','double_slash_redirecting','Abnormal_URL','Shortining_Service','Domain_registeration_length'] \n",
    "\n",
    "\n",
    "#features with less corelation with target feautre"
   ]
  },
  {
   "cell_type": "code",
   "execution_count": 150,
   "id": "cc6c5de2",
   "metadata": {},
   "outputs": [],
   "source": [
    "X=tr1.drop(drop,axis=1)           #lower corelation features dropped"
   ]
  },
  {
   "cell_type": "code",
   "execution_count": null,
   "id": "7a6b5888",
   "metadata": {},
   "outputs": [],
   "source": []
  },
  {
   "cell_type": "code",
   "execution_count": 151,
   "id": "1707425a",
   "metadata": {},
   "outputs": [],
   "source": [
    "from sklearn.preprocessing import StandardScaler\n",
    "mm=StandardScaler()\n",
    "X_st=pd.DataFrame(mm.fit_transform(X),columns=X.columns)        #standardisation"
   ]
  },
  {
   "cell_type": "code",
   "execution_count": null,
   "id": "4f1e6ea8",
   "metadata": {},
   "outputs": [],
   "source": []
  },
  {
   "cell_type": "code",
   "execution_count": 152,
   "id": "df490355",
   "metadata": {},
   "outputs": [],
   "source": [
    "from sklearn.model_selection import train_test_split\n",
    "xtrain,xtest,ytrain,ytest=train_test_split(X_st,Y,test_size=0.2,random_state=21)        #splitting data into train n test for accuracy check"
   ]
  },
  {
   "cell_type": "code",
   "execution_count": 153,
   "id": "0c99cdd1",
   "metadata": {},
   "outputs": [],
   "source": [
    "from sklearn.linear_model import LogisticRegression\n",
    "lo=LogisticRegression(C=100,penalty='l2')                #creating a machine learning model          "
   ]
  },
  {
   "cell_type": "code",
   "execution_count": 154,
   "id": "d769cccd",
   "metadata": {},
   "outputs": [],
   "source": [
    "model=lo.fit(xtrain,ytrain)                              #fedding train and test data to model"
   ]
  },
  {
   "cell_type": "code",
   "execution_count": 162,
   "id": "b89b1a35",
   "metadata": {},
   "outputs": [],
   "source": [
    "from sklearn.metrics import accuracy_score ,confusion_matrix\n",
    "pred_tr=model.predict(xtrain)\n",
    "pred_ts=model.predict(xtest)\n",
    "\n",
    "tr_acc=accuracy_score(pred_tr,ytrain)\n",
    "ts_acc=accuracy_score(pred_ts,ytest)                      #accuracy calculation "
   ]
  },
  {
   "cell_type": "code",
   "execution_count": 160,
   "id": "a299620c",
   "metadata": {},
   "outputs": [
    {
     "data": {
      "text/plain": [
       "1.0"
      ]
     },
     "execution_count": 160,
     "metadata": {},
     "output_type": "execute_result"
    }
   ],
   "source": [
    "tr_acc"
   ]
  },
  {
   "cell_type": "code",
   "execution_count": 161,
   "id": "cf01aa44",
   "metadata": {},
   "outputs": [
    {
     "data": {
      "text/plain": [
       "1.0"
      ]
     },
     "execution_count": 161,
     "metadata": {},
     "output_type": "execute_result"
    }
   ],
   "source": [
    "ts_acc"
   ]
  },
  {
   "cell_type": "code",
   "execution_count": 164,
   "id": "5881e3bb",
   "metadata": {},
   "outputs": [
    {
     "data": {
      "text/plain": [
       "array([[3110,    0],\n",
       "       [   0, 4054]], dtype=int64)"
      ]
     },
     "execution_count": 164,
     "metadata": {},
     "output_type": "execute_result"
    }
   ],
   "source": [
    "confusion_matrix(pred_tr,ytrain)   #train"
   ]
  },
  {
   "cell_type": "code",
   "execution_count": 165,
   "id": "1c2d61b3",
   "metadata": {},
   "outputs": [
    {
     "data": {
      "text/plain": [
       "array([[811,   0],\n",
       "       [  0, 980]], dtype=int64)"
      ]
     },
     "execution_count": 165,
     "metadata": {},
     "output_type": "execute_result"
    }
   ],
   "source": [
    "confusion_matrix(pred_ts,ytest)     #test"
   ]
  },
  {
   "cell_type": "code",
   "execution_count": null,
   "id": "3301f0bb",
   "metadata": {},
   "outputs": [],
   "source": []
  },
  {
   "cell_type": "markdown",
   "id": "6b20e2d5",
   "metadata": {},
   "source": [
    "# test data for result prediction"
   ]
  },
  {
   "cell_type": "code",
   "execution_count": 174,
   "id": "de4145c5",
   "metadata": {},
   "outputs": [
    {
     "data": {
      "text/html": [
       "<div>\n",
       "<style scoped>\n",
       "    .dataframe tbody tr th:only-of-type {\n",
       "        vertical-align: middle;\n",
       "    }\n",
       "\n",
       "    .dataframe tbody tr th {\n",
       "        vertical-align: top;\n",
       "    }\n",
       "\n",
       "    .dataframe thead th {\n",
       "        text-align: right;\n",
       "    }\n",
       "</style>\n",
       "<table border=\"1\" class=\"dataframe\">\n",
       "  <thead>\n",
       "    <tr style=\"text-align: right;\">\n",
       "      <th></th>\n",
       "      <th>key</th>\n",
       "      <th>having_IP</th>\n",
       "      <th>URL_Length</th>\n",
       "      <th>Shortining_Service</th>\n",
       "      <th>having_At_Symbol</th>\n",
       "      <th>double_slash_redirecting</th>\n",
       "      <th>Prefix_Suffix</th>\n",
       "      <th>having_Sub_Domain</th>\n",
       "      <th>SSLfinal_State</th>\n",
       "      <th>Domain_registeration_length</th>\n",
       "      <th>...</th>\n",
       "      <th>RightClick</th>\n",
       "      <th>popUpWidnow</th>\n",
       "      <th>Iframe</th>\n",
       "      <th>age_of_domain</th>\n",
       "      <th>DNSRecord</th>\n",
       "      <th>web_traffic</th>\n",
       "      <th>Page_Rank</th>\n",
       "      <th>Google_Index</th>\n",
       "      <th>Links_pointing_to_page</th>\n",
       "      <th>Statistical_report</th>\n",
       "    </tr>\n",
       "  </thead>\n",
       "  <tbody>\n",
       "    <tr>\n",
       "      <th>0</th>\n",
       "      <td>21338</td>\n",
       "      <td>1</td>\n",
       "      <td>1</td>\n",
       "      <td>1</td>\n",
       "      <td>1</td>\n",
       "      <td>1</td>\n",
       "      <td>1</td>\n",
       "      <td>-1</td>\n",
       "      <td>1</td>\n",
       "      <td>-1</td>\n",
       "      <td>...</td>\n",
       "      <td>1</td>\n",
       "      <td>1</td>\n",
       "      <td>1</td>\n",
       "      <td>1</td>\n",
       "      <td>1</td>\n",
       "      <td>1</td>\n",
       "      <td>1</td>\n",
       "      <td>-1</td>\n",
       "      <td>0</td>\n",
       "      <td>1</td>\n",
       "    </tr>\n",
       "    <tr>\n",
       "      <th>1</th>\n",
       "      <td>21339</td>\n",
       "      <td>1</td>\n",
       "      <td>-1</td>\n",
       "      <td>1</td>\n",
       "      <td>1</td>\n",
       "      <td>1</td>\n",
       "      <td>-1</td>\n",
       "      <td>0</td>\n",
       "      <td>-1</td>\n",
       "      <td>1</td>\n",
       "      <td>...</td>\n",
       "      <td>1</td>\n",
       "      <td>1</td>\n",
       "      <td>1</td>\n",
       "      <td>-1</td>\n",
       "      <td>-1</td>\n",
       "      <td>0</td>\n",
       "      <td>-1</td>\n",
       "      <td>-1</td>\n",
       "      <td>0</td>\n",
       "      <td>1</td>\n",
       "    </tr>\n",
       "    <tr>\n",
       "      <th>2</th>\n",
       "      <td>21340</td>\n",
       "      <td>1</td>\n",
       "      <td>-1</td>\n",
       "      <td>1</td>\n",
       "      <td>1</td>\n",
       "      <td>1</td>\n",
       "      <td>-1</td>\n",
       "      <td>0</td>\n",
       "      <td>0</td>\n",
       "      <td>-1</td>\n",
       "      <td>...</td>\n",
       "      <td>-1</td>\n",
       "      <td>-1</td>\n",
       "      <td>-1</td>\n",
       "      <td>1</td>\n",
       "      <td>-1</td>\n",
       "      <td>1</td>\n",
       "      <td>-1</td>\n",
       "      <td>1</td>\n",
       "      <td>1</td>\n",
       "      <td>-1</td>\n",
       "    </tr>\n",
       "    <tr>\n",
       "      <th>3</th>\n",
       "      <td>21341</td>\n",
       "      <td>-1</td>\n",
       "      <td>-1</td>\n",
       "      <td>-1</td>\n",
       "      <td>1</td>\n",
       "      <td>-1</td>\n",
       "      <td>-1</td>\n",
       "      <td>-1</td>\n",
       "      <td>-1</td>\n",
       "      <td>1</td>\n",
       "      <td>...</td>\n",
       "      <td>1</td>\n",
       "      <td>-1</td>\n",
       "      <td>-1</td>\n",
       "      <td>1</td>\n",
       "      <td>-1</td>\n",
       "      <td>1</td>\n",
       "      <td>-1</td>\n",
       "      <td>1</td>\n",
       "      <td>1</td>\n",
       "      <td>-1</td>\n",
       "    </tr>\n",
       "    <tr>\n",
       "      <th>4</th>\n",
       "      <td>21342</td>\n",
       "      <td>1</td>\n",
       "      <td>-1</td>\n",
       "      <td>1</td>\n",
       "      <td>1</td>\n",
       "      <td>1</td>\n",
       "      <td>-1</td>\n",
       "      <td>1</td>\n",
       "      <td>1</td>\n",
       "      <td>-1</td>\n",
       "      <td>...</td>\n",
       "      <td>1</td>\n",
       "      <td>1</td>\n",
       "      <td>1</td>\n",
       "      <td>1</td>\n",
       "      <td>1</td>\n",
       "      <td>1</td>\n",
       "      <td>-1</td>\n",
       "      <td>1</td>\n",
       "      <td>0</td>\n",
       "      <td>1</td>\n",
       "    </tr>\n",
       "    <tr>\n",
       "      <th>...</th>\n",
       "      <td>...</td>\n",
       "      <td>...</td>\n",
       "      <td>...</td>\n",
       "      <td>...</td>\n",
       "      <td>...</td>\n",
       "      <td>...</td>\n",
       "      <td>...</td>\n",
       "      <td>...</td>\n",
       "      <td>...</td>\n",
       "      <td>...</td>\n",
       "      <td>...</td>\n",
       "      <td>...</td>\n",
       "      <td>...</td>\n",
       "      <td>...</td>\n",
       "      <td>...</td>\n",
       "      <td>...</td>\n",
       "      <td>...</td>\n",
       "      <td>...</td>\n",
       "      <td>...</td>\n",
       "      <td>...</td>\n",
       "      <td>...</td>\n",
       "    </tr>\n",
       "    <tr>\n",
       "      <th>2095</th>\n",
       "      <td>23433</td>\n",
       "      <td>-1</td>\n",
       "      <td>-1</td>\n",
       "      <td>-1</td>\n",
       "      <td>1</td>\n",
       "      <td>-1</td>\n",
       "      <td>-1</td>\n",
       "      <td>1</td>\n",
       "      <td>1</td>\n",
       "      <td>1</td>\n",
       "      <td>...</td>\n",
       "      <td>1</td>\n",
       "      <td>1</td>\n",
       "      <td>1</td>\n",
       "      <td>1</td>\n",
       "      <td>-1</td>\n",
       "      <td>1</td>\n",
       "      <td>-1</td>\n",
       "      <td>-1</td>\n",
       "      <td>1</td>\n",
       "      <td>1</td>\n",
       "    </tr>\n",
       "    <tr>\n",
       "      <th>2096</th>\n",
       "      <td>23434</td>\n",
       "      <td>1</td>\n",
       "      <td>1</td>\n",
       "      <td>1</td>\n",
       "      <td>-1</td>\n",
       "      <td>1</td>\n",
       "      <td>-1</td>\n",
       "      <td>1</td>\n",
       "      <td>1</td>\n",
       "      <td>-1</td>\n",
       "      <td>...</td>\n",
       "      <td>1</td>\n",
       "      <td>-1</td>\n",
       "      <td>1</td>\n",
       "      <td>-1</td>\n",
       "      <td>1</td>\n",
       "      <td>-1</td>\n",
       "      <td>1</td>\n",
       "      <td>1</td>\n",
       "      <td>1</td>\n",
       "      <td>1</td>\n",
       "    </tr>\n",
       "    <tr>\n",
       "      <th>2097</th>\n",
       "      <td>23435</td>\n",
       "      <td>1</td>\n",
       "      <td>-1</td>\n",
       "      <td>1</td>\n",
       "      <td>1</td>\n",
       "      <td>1</td>\n",
       "      <td>-1</td>\n",
       "      <td>-1</td>\n",
       "      <td>-1</td>\n",
       "      <td>1</td>\n",
       "      <td>...</td>\n",
       "      <td>1</td>\n",
       "      <td>1</td>\n",
       "      <td>1</td>\n",
       "      <td>-1</td>\n",
       "      <td>1</td>\n",
       "      <td>0</td>\n",
       "      <td>-1</td>\n",
       "      <td>1</td>\n",
       "      <td>0</td>\n",
       "      <td>1</td>\n",
       "    </tr>\n",
       "    <tr>\n",
       "      <th>2098</th>\n",
       "      <td>23436</td>\n",
       "      <td>1</td>\n",
       "      <td>-1</td>\n",
       "      <td>1</td>\n",
       "      <td>-1</td>\n",
       "      <td>1</td>\n",
       "      <td>-1</td>\n",
       "      <td>0</td>\n",
       "      <td>-1</td>\n",
       "      <td>-1</td>\n",
       "      <td>...</td>\n",
       "      <td>1</td>\n",
       "      <td>-1</td>\n",
       "      <td>-1</td>\n",
       "      <td>1</td>\n",
       "      <td>1</td>\n",
       "      <td>-1</td>\n",
       "      <td>-1</td>\n",
       "      <td>1</td>\n",
       "      <td>1</td>\n",
       "      <td>1</td>\n",
       "    </tr>\n",
       "    <tr>\n",
       "      <th>2099</th>\n",
       "      <td>23437</td>\n",
       "      <td>-1</td>\n",
       "      <td>1</td>\n",
       "      <td>-1</td>\n",
       "      <td>-1</td>\n",
       "      <td>-1</td>\n",
       "      <td>-1</td>\n",
       "      <td>1</td>\n",
       "      <td>1</td>\n",
       "      <td>1</td>\n",
       "      <td>...</td>\n",
       "      <td>1</td>\n",
       "      <td>-1</td>\n",
       "      <td>1</td>\n",
       "      <td>-1</td>\n",
       "      <td>-1</td>\n",
       "      <td>0</td>\n",
       "      <td>1</td>\n",
       "      <td>1</td>\n",
       "      <td>1</td>\n",
       "      <td>1</td>\n",
       "    </tr>\n",
       "  </tbody>\n",
       "</table>\n",
       "<p>2100 rows × 31 columns</p>\n",
       "</div>"
      ],
      "text/plain": [
       "        key  having_IP  URL_Length  Shortining_Service  having_At_Symbol  \\\n",
       "0     21338          1           1                   1                 1   \n",
       "1     21339          1          -1                   1                 1   \n",
       "2     21340          1          -1                   1                 1   \n",
       "3     21341         -1          -1                  -1                 1   \n",
       "4     21342          1          -1                   1                 1   \n",
       "...     ...        ...         ...                 ...               ...   \n",
       "2095  23433         -1          -1                  -1                 1   \n",
       "2096  23434          1           1                   1                -1   \n",
       "2097  23435          1          -1                   1                 1   \n",
       "2098  23436          1          -1                   1                -1   \n",
       "2099  23437         -1           1                  -1                -1   \n",
       "\n",
       "      double_slash_redirecting  Prefix_Suffix  having_Sub_Domain  \\\n",
       "0                            1              1                 -1   \n",
       "1                            1             -1                  0   \n",
       "2                            1             -1                  0   \n",
       "3                           -1             -1                 -1   \n",
       "4                            1             -1                  1   \n",
       "...                        ...            ...                ...   \n",
       "2095                        -1             -1                  1   \n",
       "2096                         1             -1                  1   \n",
       "2097                         1             -1                 -1   \n",
       "2098                         1             -1                  0   \n",
       "2099                        -1             -1                  1   \n",
       "\n",
       "      SSLfinal_State  Domain_registeration_length  ...  RightClick  \\\n",
       "0                  1                           -1  ...           1   \n",
       "1                 -1                            1  ...           1   \n",
       "2                  0                           -1  ...          -1   \n",
       "3                 -1                            1  ...           1   \n",
       "4                  1                           -1  ...           1   \n",
       "...              ...                          ...  ...         ...   \n",
       "2095               1                            1  ...           1   \n",
       "2096               1                           -1  ...           1   \n",
       "2097              -1                            1  ...           1   \n",
       "2098              -1                           -1  ...           1   \n",
       "2099               1                            1  ...           1   \n",
       "\n",
       "      popUpWidnow  Iframe  age_of_domain  DNSRecord  web_traffic  Page_Rank  \\\n",
       "0               1       1              1          1            1          1   \n",
       "1               1       1             -1         -1            0         -1   \n",
       "2              -1      -1              1         -1            1         -1   \n",
       "3              -1      -1              1         -1            1         -1   \n",
       "4               1       1              1          1            1         -1   \n",
       "...           ...     ...            ...        ...          ...        ...   \n",
       "2095            1       1              1         -1            1         -1   \n",
       "2096           -1       1             -1          1           -1          1   \n",
       "2097            1       1             -1          1            0         -1   \n",
       "2098           -1      -1              1          1           -1         -1   \n",
       "2099           -1       1             -1         -1            0          1   \n",
       "\n",
       "      Google_Index  Links_pointing_to_page  Statistical_report  \n",
       "0               -1                       0                   1  \n",
       "1               -1                       0                   1  \n",
       "2                1                       1                  -1  \n",
       "3                1                       1                  -1  \n",
       "4                1                       0                   1  \n",
       "...            ...                     ...                 ...  \n",
       "2095            -1                       1                   1  \n",
       "2096             1                       1                   1  \n",
       "2097             1                       0                   1  \n",
       "2098             1                       1                   1  \n",
       "2099             1                       1                   1  \n",
       "\n",
       "[2100 rows x 31 columns]"
      ]
     },
     "execution_count": 174,
     "metadata": {},
     "output_type": "execute_result"
    }
   ],
   "source": [
    "ts"
   ]
  },
  {
   "cell_type": "code",
   "execution_count": 37,
   "id": "e2ac6f8b",
   "metadata": {},
   "outputs": [],
   "source": [
    "ts1=ts.drop('key',axis=1)"
   ]
  },
  {
   "cell_type": "markdown",
   "id": "476feb92",
   "metadata": {},
   "source": [
    "# Getting prediction on trained created model"
   ]
  },
  {
   "cell_type": "code",
   "execution_count": 40,
   "id": "302f87a3",
   "metadata": {},
   "outputs": [],
   "source": [
    "prediction=pd.DataFrame(model.predict(ts1))"
   ]
  },
  {
   "cell_type": "code",
   "execution_count": 42,
   "id": "736fcc0d",
   "metadata": {},
   "outputs": [],
   "source": [
    "prediction.columns=['results']"
   ]
  },
  {
   "cell_type": "code",
   "execution_count": 43,
   "id": "be24eb0a",
   "metadata": {},
   "outputs": [
    {
     "data": {
      "text/html": [
       "<div>\n",
       "<style scoped>\n",
       "    .dataframe tbody tr th:only-of-type {\n",
       "        vertical-align: middle;\n",
       "    }\n",
       "\n",
       "    .dataframe tbody tr th {\n",
       "        vertical-align: top;\n",
       "    }\n",
       "\n",
       "    .dataframe thead th {\n",
       "        text-align: right;\n",
       "    }\n",
       "</style>\n",
       "<table border=\"1\" class=\"dataframe\">\n",
       "  <thead>\n",
       "    <tr style=\"text-align: right;\">\n",
       "      <th></th>\n",
       "      <th>results</th>\n",
       "    </tr>\n",
       "  </thead>\n",
       "  <tbody>\n",
       "    <tr>\n",
       "      <th>0</th>\n",
       "      <td>1</td>\n",
       "    </tr>\n",
       "    <tr>\n",
       "      <th>1</th>\n",
       "      <td>-1</td>\n",
       "    </tr>\n",
       "    <tr>\n",
       "      <th>2</th>\n",
       "      <td>-1</td>\n",
       "    </tr>\n",
       "    <tr>\n",
       "      <th>3</th>\n",
       "      <td>-1</td>\n",
       "    </tr>\n",
       "    <tr>\n",
       "      <th>4</th>\n",
       "      <td>1</td>\n",
       "    </tr>\n",
       "    <tr>\n",
       "      <th>...</th>\n",
       "      <td>...</td>\n",
       "    </tr>\n",
       "    <tr>\n",
       "      <th>2095</th>\n",
       "      <td>1</td>\n",
       "    </tr>\n",
       "    <tr>\n",
       "      <th>2096</th>\n",
       "      <td>1</td>\n",
       "    </tr>\n",
       "    <tr>\n",
       "      <th>2097</th>\n",
       "      <td>-1</td>\n",
       "    </tr>\n",
       "    <tr>\n",
       "      <th>2098</th>\n",
       "      <td>-1</td>\n",
       "    </tr>\n",
       "    <tr>\n",
       "      <th>2099</th>\n",
       "      <td>1</td>\n",
       "    </tr>\n",
       "  </tbody>\n",
       "</table>\n",
       "<p>2100 rows × 1 columns</p>\n",
       "</div>"
      ],
      "text/plain": [
       "      results\n",
       "0           1\n",
       "1          -1\n",
       "2          -1\n",
       "3          -1\n",
       "4           1\n",
       "...       ...\n",
       "2095        1\n",
       "2096        1\n",
       "2097       -1\n",
       "2098       -1\n",
       "2099        1\n",
       "\n",
       "[2100 rows x 1 columns]"
      ]
     },
     "execution_count": 43,
     "metadata": {},
     "output_type": "execute_result"
    }
   ],
   "source": [
    "prediction"
   ]
  },
  {
   "cell_type": "code",
   "execution_count": 177,
   "id": "363164c3",
   "metadata": {},
   "outputs": [
    {
     "data": {
      "text/html": [
       "<div>\n",
       "<style scoped>\n",
       "    .dataframe tbody tr th:only-of-type {\n",
       "        vertical-align: middle;\n",
       "    }\n",
       "\n",
       "    .dataframe tbody tr th {\n",
       "        vertical-align: top;\n",
       "    }\n",
       "\n",
       "    .dataframe thead th {\n",
       "        text-align: right;\n",
       "    }\n",
       "</style>\n",
       "<table border=\"1\" class=\"dataframe\">\n",
       "  <thead>\n",
       "    <tr style=\"text-align: right;\">\n",
       "      <th></th>\n",
       "      <th>key</th>\n",
       "    </tr>\n",
       "  </thead>\n",
       "  <tbody>\n",
       "    <tr>\n",
       "      <th>0</th>\n",
       "      <td>21338</td>\n",
       "    </tr>\n",
       "    <tr>\n",
       "      <th>1</th>\n",
       "      <td>21339</td>\n",
       "    </tr>\n",
       "    <tr>\n",
       "      <th>2</th>\n",
       "      <td>21340</td>\n",
       "    </tr>\n",
       "    <tr>\n",
       "      <th>3</th>\n",
       "      <td>21341</td>\n",
       "    </tr>\n",
       "    <tr>\n",
       "      <th>4</th>\n",
       "      <td>21342</td>\n",
       "    </tr>\n",
       "    <tr>\n",
       "      <th>...</th>\n",
       "      <td>...</td>\n",
       "    </tr>\n",
       "    <tr>\n",
       "      <th>2095</th>\n",
       "      <td>23433</td>\n",
       "    </tr>\n",
       "    <tr>\n",
       "      <th>2096</th>\n",
       "      <td>23434</td>\n",
       "    </tr>\n",
       "    <tr>\n",
       "      <th>2097</th>\n",
       "      <td>23435</td>\n",
       "    </tr>\n",
       "    <tr>\n",
       "      <th>2098</th>\n",
       "      <td>23436</td>\n",
       "    </tr>\n",
       "    <tr>\n",
       "      <th>2099</th>\n",
       "      <td>23437</td>\n",
       "    </tr>\n",
       "  </tbody>\n",
       "</table>\n",
       "<p>2100 rows × 1 columns</p>\n",
       "</div>"
      ],
      "text/plain": [
       "        key\n",
       "0     21338\n",
       "1     21339\n",
       "2     21340\n",
       "3     21341\n",
       "4     21342\n",
       "...     ...\n",
       "2095  23433\n",
       "2096  23434\n",
       "2097  23435\n",
       "2098  23436\n",
       "2099  23437\n",
       "\n",
       "[2100 rows x 1 columns]"
      ]
     },
     "execution_count": 177,
     "metadata": {},
     "output_type": "execute_result"
    }
   ],
   "source": [
    "result=pd.DataFrame(ts['key'],columns=['key'])\n",
    "result"
   ]
  },
  {
   "cell_type": "code",
   "execution_count": 179,
   "id": "c4b7fb74",
   "metadata": {},
   "outputs": [
    {
     "data": {
      "text/html": [
       "<div>\n",
       "<style scoped>\n",
       "    .dataframe tbody tr th:only-of-type {\n",
       "        vertical-align: middle;\n",
       "    }\n",
       "\n",
       "    .dataframe tbody tr th {\n",
       "        vertical-align: top;\n",
       "    }\n",
       "\n",
       "    .dataframe thead th {\n",
       "        text-align: right;\n",
       "    }\n",
       "</style>\n",
       "<table border=\"1\" class=\"dataframe\">\n",
       "  <thead>\n",
       "    <tr style=\"text-align: right;\">\n",
       "      <th></th>\n",
       "      <th>key</th>\n",
       "      <th>Result</th>\n",
       "    </tr>\n",
       "  </thead>\n",
       "  <tbody>\n",
       "    <tr>\n",
       "      <th>0</th>\n",
       "      <td>21338</td>\n",
       "      <td>1</td>\n",
       "    </tr>\n",
       "    <tr>\n",
       "      <th>1</th>\n",
       "      <td>21339</td>\n",
       "      <td>-1</td>\n",
       "    </tr>\n",
       "    <tr>\n",
       "      <th>2</th>\n",
       "      <td>21340</td>\n",
       "      <td>-1</td>\n",
       "    </tr>\n",
       "    <tr>\n",
       "      <th>3</th>\n",
       "      <td>21341</td>\n",
       "      <td>-1</td>\n",
       "    </tr>\n",
       "    <tr>\n",
       "      <th>4</th>\n",
       "      <td>21342</td>\n",
       "      <td>1</td>\n",
       "    </tr>\n",
       "    <tr>\n",
       "      <th>...</th>\n",
       "      <td>...</td>\n",
       "      <td>...</td>\n",
       "    </tr>\n",
       "    <tr>\n",
       "      <th>2095</th>\n",
       "      <td>23433</td>\n",
       "      <td>1</td>\n",
       "    </tr>\n",
       "    <tr>\n",
       "      <th>2096</th>\n",
       "      <td>23434</td>\n",
       "      <td>1</td>\n",
       "    </tr>\n",
       "    <tr>\n",
       "      <th>2097</th>\n",
       "      <td>23435</td>\n",
       "      <td>-1</td>\n",
       "    </tr>\n",
       "    <tr>\n",
       "      <th>2098</th>\n",
       "      <td>23436</td>\n",
       "      <td>-1</td>\n",
       "    </tr>\n",
       "    <tr>\n",
       "      <th>2099</th>\n",
       "      <td>23437</td>\n",
       "      <td>1</td>\n",
       "    </tr>\n",
       "  </tbody>\n",
       "</table>\n",
       "<p>2100 rows × 2 columns</p>\n",
       "</div>"
      ],
      "text/plain": [
       "        key  Result\n",
       "0     21338       1\n",
       "1     21339      -1\n",
       "2     21340      -1\n",
       "3     21341      -1\n",
       "4     21342       1\n",
       "...     ...     ...\n",
       "2095  23433       1\n",
       "2096  23434       1\n",
       "2097  23435      -1\n",
       "2098  23436      -1\n",
       "2099  23437       1\n",
       "\n",
       "[2100 rows x 2 columns]"
      ]
     },
     "execution_count": 179,
     "metadata": {},
     "output_type": "execute_result"
    }
   ],
   "source": [
    "result['Result']=prediction\n",
    "result"
   ]
  },
  {
   "cell_type": "code",
   "execution_count": 180,
   "id": "8e52b904",
   "metadata": {},
   "outputs": [],
   "source": [
    "#result.to_csv('phishing.csv')           #submission file"
   ]
  },
  {
   "cell_type": "code",
   "execution_count": null,
   "id": "d50f01eb",
   "metadata": {},
   "outputs": [],
   "source": []
  },
  {
   "cell_type": "code",
   "execution_count": null,
   "id": "9b5f2dbe",
   "metadata": {},
   "outputs": [],
   "source": []
  }
 ],
 "metadata": {
  "kernelspec": {
   "display_name": "Python 3 (ipykernel)",
   "language": "python",
   "name": "python3"
  },
  "language_info": {
   "codemirror_mode": {
    "name": "ipython",
    "version": 3
   },
   "file_extension": ".py",
   "mimetype": "text/x-python",
   "name": "python",
   "nbconvert_exporter": "python",
   "pygments_lexer": "ipython3",
   "version": "3.8.12"
  }
 },
 "nbformat": 4,
 "nbformat_minor": 5
}
