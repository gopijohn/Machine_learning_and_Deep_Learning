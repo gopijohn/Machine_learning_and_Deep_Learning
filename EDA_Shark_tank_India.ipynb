{
 "cells": [
  {
   "cell_type": "code",
   "execution_count": 1,
   "id": "4b5ca596",
   "metadata": {},
   "outputs": [],
   "source": [
    "from warnings import filterwarnings\n",
    "filterwarnings('ignore')\n",
    "import pandas as pd\n",
    "import numpy as np\n",
    "import pandasql\n",
    "import matplotlib.pyplot as plt\n",
    "import seaborn as sb"
   ]
  },
  {
   "cell_type": "code",
   "execution_count": 2,
   "id": "bdd38378",
   "metadata": {},
   "outputs": [
    {
     "data": {
      "text/html": [
       "<div>\n",
       "<style scoped>\n",
       "    .dataframe tbody tr th:only-of-type {\n",
       "        vertical-align: middle;\n",
       "    }\n",
       "\n",
       "    .dataframe tbody tr th {\n",
       "        vertical-align: top;\n",
       "    }\n",
       "\n",
       "    .dataframe thead th {\n",
       "        text-align: right;\n",
       "    }\n",
       "</style>\n",
       "<table border=\"1\" class=\"dataframe\">\n",
       "  <thead>\n",
       "    <tr style=\"text-align: right;\">\n",
       "      <th></th>\n",
       "      <th>episode_number</th>\n",
       "      <th>pitch_number</th>\n",
       "      <th>brand_name</th>\n",
       "      <th>idea</th>\n",
       "      <th>deal</th>\n",
       "      <th>pitcher_ask_amount</th>\n",
       "      <th>ask_equity</th>\n",
       "      <th>ask_valuation</th>\n",
       "      <th>deal_amount</th>\n",
       "      <th>deal_equity</th>\n",
       "      <th>...</th>\n",
       "      <th>ashneer_deal</th>\n",
       "      <th>anupam_deal</th>\n",
       "      <th>aman_deal</th>\n",
       "      <th>namita_deal</th>\n",
       "      <th>vineeta_deal</th>\n",
       "      <th>peyush_deal</th>\n",
       "      <th>ghazal_deal</th>\n",
       "      <th>total_sharks_invested</th>\n",
       "      <th>amount_per_shark</th>\n",
       "      <th>equity_per_shark</th>\n",
       "    </tr>\n",
       "  </thead>\n",
       "  <tbody>\n",
       "    <tr>\n",
       "      <th>0</th>\n",
       "      <td>1</td>\n",
       "      <td>1</td>\n",
       "      <td>BluePine Industries</td>\n",
       "      <td>Frozen Momos</td>\n",
       "      <td>1</td>\n",
       "      <td>50.0</td>\n",
       "      <td>5.0</td>\n",
       "      <td>1000.00</td>\n",
       "      <td>75.0</td>\n",
       "      <td>16.00</td>\n",
       "      <td>...</td>\n",
       "      <td>1</td>\n",
       "      <td>0</td>\n",
       "      <td>1</td>\n",
       "      <td>0</td>\n",
       "      <td>1</td>\n",
       "      <td>0</td>\n",
       "      <td>0</td>\n",
       "      <td>3</td>\n",
       "      <td>25.0</td>\n",
       "      <td>5.333333</td>\n",
       "    </tr>\n",
       "    <tr>\n",
       "      <th>1</th>\n",
       "      <td>1</td>\n",
       "      <td>2</td>\n",
       "      <td>Booz scooters</td>\n",
       "      <td>Renting e-bike for mobility in private spaces</td>\n",
       "      <td>1</td>\n",
       "      <td>40.0</td>\n",
       "      <td>15.0</td>\n",
       "      <td>266.67</td>\n",
       "      <td>40.0</td>\n",
       "      <td>50.00</td>\n",
       "      <td>...</td>\n",
       "      <td>1</td>\n",
       "      <td>0</td>\n",
       "      <td>0</td>\n",
       "      <td>0</td>\n",
       "      <td>1</td>\n",
       "      <td>0</td>\n",
       "      <td>0</td>\n",
       "      <td>2</td>\n",
       "      <td>20.0</td>\n",
       "      <td>25.000000</td>\n",
       "    </tr>\n",
       "    <tr>\n",
       "      <th>2</th>\n",
       "      <td>1</td>\n",
       "      <td>3</td>\n",
       "      <td>Heart up my Sleeves</td>\n",
       "      <td>Detachable Sleeves</td>\n",
       "      <td>1</td>\n",
       "      <td>25.0</td>\n",
       "      <td>10.0</td>\n",
       "      <td>250.00</td>\n",
       "      <td>25.0</td>\n",
       "      <td>30.00</td>\n",
       "      <td>...</td>\n",
       "      <td>0</td>\n",
       "      <td>1</td>\n",
       "      <td>0</td>\n",
       "      <td>0</td>\n",
       "      <td>1</td>\n",
       "      <td>0</td>\n",
       "      <td>0</td>\n",
       "      <td>2</td>\n",
       "      <td>12.5</td>\n",
       "      <td>15.000000</td>\n",
       "    </tr>\n",
       "    <tr>\n",
       "      <th>3</th>\n",
       "      <td>2</td>\n",
       "      <td>4</td>\n",
       "      <td>Tagz Foods</td>\n",
       "      <td>Healthy Potato Chips</td>\n",
       "      <td>1</td>\n",
       "      <td>70.0</td>\n",
       "      <td>1.0</td>\n",
       "      <td>7000.00</td>\n",
       "      <td>70.0</td>\n",
       "      <td>2.75</td>\n",
       "      <td>...</td>\n",
       "      <td>1</td>\n",
       "      <td>0</td>\n",
       "      <td>0</td>\n",
       "      <td>0</td>\n",
       "      <td>0</td>\n",
       "      <td>0</td>\n",
       "      <td>0</td>\n",
       "      <td>1</td>\n",
       "      <td>70.0</td>\n",
       "      <td>2.750000</td>\n",
       "    </tr>\n",
       "    <tr>\n",
       "      <th>4</th>\n",
       "      <td>2</td>\n",
       "      <td>5</td>\n",
       "      <td>Head and Heart</td>\n",
       "      <td>Brain Development Course</td>\n",
       "      <td>0</td>\n",
       "      <td>50.0</td>\n",
       "      <td>5.0</td>\n",
       "      <td>1000.00</td>\n",
       "      <td>0.0</td>\n",
       "      <td>0.00</td>\n",
       "      <td>...</td>\n",
       "      <td>0</td>\n",
       "      <td>0</td>\n",
       "      <td>0</td>\n",
       "      <td>0</td>\n",
       "      <td>0</td>\n",
       "      <td>0</td>\n",
       "      <td>0</td>\n",
       "      <td>0</td>\n",
       "      <td>0.0</td>\n",
       "      <td>0.000000</td>\n",
       "    </tr>\n",
       "  </tbody>\n",
       "</table>\n",
       "<p>5 rows × 28 columns</p>\n",
       "</div>"
      ],
      "text/plain": [
       "   episode_number  pitch_number           brand_name  \\\n",
       "0               1             1  BluePine Industries   \n",
       "1               1             2        Booz scooters   \n",
       "2               1             3  Heart up my Sleeves   \n",
       "3               2             4           Tagz Foods   \n",
       "4               2             5       Head and Heart   \n",
       "\n",
       "                                            idea  deal  pitcher_ask_amount  \\\n",
       "0                                   Frozen Momos     1                50.0   \n",
       "1  Renting e-bike for mobility in private spaces     1                40.0   \n",
       "2                             Detachable Sleeves     1                25.0   \n",
       "3                           Healthy Potato Chips     1                70.0   \n",
       "4                       Brain Development Course     0                50.0   \n",
       "\n",
       "   ask_equity  ask_valuation  deal_amount  deal_equity  ...  ashneer_deal  \\\n",
       "0         5.0        1000.00         75.0        16.00  ...             1   \n",
       "1        15.0         266.67         40.0        50.00  ...             1   \n",
       "2        10.0         250.00         25.0        30.00  ...             0   \n",
       "3         1.0        7000.00         70.0         2.75  ...             1   \n",
       "4         5.0        1000.00          0.0         0.00  ...             0   \n",
       "\n",
       "   anupam_deal  aman_deal  namita_deal  vineeta_deal  peyush_deal  \\\n",
       "0            0          1            0             1            0   \n",
       "1            0          0            0             1            0   \n",
       "2            1          0            0             1            0   \n",
       "3            0          0            0             0            0   \n",
       "4            0          0            0             0            0   \n",
       "\n",
       "   ghazal_deal  total_sharks_invested  amount_per_shark  equity_per_shark  \n",
       "0            0                      3              25.0          5.333333  \n",
       "1            0                      2              20.0         25.000000  \n",
       "2            0                      2              12.5         15.000000  \n",
       "3            0                      1              70.0          2.750000  \n",
       "4            0                      0               0.0          0.000000  \n",
       "\n",
       "[5 rows x 28 columns]"
      ]
     },
     "execution_count": 2,
     "metadata": {},
     "output_type": "execute_result"
    }
   ],
   "source": [
    "df=pd.read_csv('C:/Users/cmscomputers/Downloads/Shark Tank India Dataset.csv')\n",
    "df.head()"
   ]
  },
  {
   "cell_type": "code",
   "execution_count": 3,
   "id": "f6296d93",
   "metadata": {},
   "outputs": [
    {
     "name": "stdout",
     "output_type": "stream",
     "text": [
      "<class 'pandas.core.frame.DataFrame'>\n",
      "RangeIndex: 117 entries, 0 to 116\n",
      "Data columns (total 28 columns):\n",
      " #   Column                 Non-Null Count  Dtype  \n",
      "---  ------                 --------------  -----  \n",
      " 0   episode_number         117 non-null    int64  \n",
      " 1   pitch_number           117 non-null    int64  \n",
      " 2   brand_name             117 non-null    object \n",
      " 3   idea                   117 non-null    object \n",
      " 4   deal                   117 non-null    int64  \n",
      " 5   pitcher_ask_amount     117 non-null    float64\n",
      " 6   ask_equity             117 non-null    float64\n",
      " 7   ask_valuation          117 non-null    float64\n",
      " 8   deal_amount            117 non-null    float64\n",
      " 9   deal_equity            117 non-null    float64\n",
      " 10  deal_valuation         117 non-null    float64\n",
      " 11  ashneer_present        117 non-null    int64  \n",
      " 12  anupam_present         117 non-null    int64  \n",
      " 13  aman_present           117 non-null    int64  \n",
      " 14  namita_present         117 non-null    int64  \n",
      " 15  vineeta_present        117 non-null    int64  \n",
      " 16  peyush_present         117 non-null    int64  \n",
      " 17  ghazal_present         117 non-null    int64  \n",
      " 18  ashneer_deal           117 non-null    int64  \n",
      " 19  anupam_deal            117 non-null    int64  \n",
      " 20  aman_deal              117 non-null    int64  \n",
      " 21  namita_deal            117 non-null    int64  \n",
      " 22  vineeta_deal           117 non-null    int64  \n",
      " 23  peyush_deal            117 non-null    int64  \n",
      " 24  ghazal_deal            117 non-null    int64  \n",
      " 25  total_sharks_invested  117 non-null    int64  \n",
      " 26  amount_per_shark       117 non-null    float64\n",
      " 27  equity_per_shark       117 non-null    float64\n",
      "dtypes: float64(8), int64(18), object(2)\n",
      "memory usage: 25.7+ KB\n"
     ]
    }
   ],
   "source": [
    "df.info()"
   ]
  },
  {
   "cell_type": "markdown",
   "id": "26ecdba1",
   "metadata": {},
   "source": [
    "# Checking For missing values in data"
   ]
  },
  {
   "cell_type": "code",
   "execution_count": 4,
   "id": "192fc7cd",
   "metadata": {},
   "outputs": [
    {
     "data": {
      "text/plain": [
       "0"
      ]
     },
     "execution_count": 4,
     "metadata": {},
     "output_type": "execute_result"
    }
   ],
   "source": [
    "df.isna().sum().sum()"
   ]
  },
  {
   "cell_type": "markdown",
   "id": "201e0fa5",
   "metadata": {},
   "source": [
    "# Total number of episodes "
   ]
  },
  {
   "cell_type": "code",
   "execution_count": 5,
   "id": "e7795a00",
   "metadata": {},
   "outputs": [
    {
     "data": {
      "text/plain": [
       "35"
      ]
     },
     "execution_count": 5,
     "metadata": {},
     "output_type": "execute_result"
    }
   ],
   "source": [
    "df.episode_number.max()"
   ]
  },
  {
   "cell_type": "markdown",
   "id": "3505c1d5",
   "metadata": {},
   "source": [
    "# Total number of pitches in this Season"
   ]
  },
  {
   "cell_type": "code",
   "execution_count": 6,
   "id": "d40c7321",
   "metadata": {},
   "outputs": [
    {
     "data": {
      "text/plain": [
       "117"
      ]
     },
     "execution_count": 6,
     "metadata": {},
     "output_type": "execute_result"
    }
   ],
   "source": [
    "no_pitch=df.groupby(by='episode_number')['pitch_number'].count().sum()\n",
    "no_pitch"
   ]
  },
  {
   "cell_type": "markdown",
   "id": "fcc91902",
   "metadata": {},
   "source": [
    "# Total number ideas got investment"
   ]
  },
  {
   "cell_type": "code",
   "execution_count": 7,
   "id": "459f1a08",
   "metadata": {},
   "outputs": [
    {
     "data": {
      "text/plain": [
       "65"
      ]
     },
     "execution_count": 7,
     "metadata": {},
     "output_type": "execute_result"
    }
   ],
   "source": [
    "len(df[df.deal==1].value_counts())"
   ]
  },
  {
   "cell_type": "markdown",
   "id": "f29ba5e1",
   "metadata": {},
   "source": [
    "# Sharks presentee in Season"
   ]
  },
  {
   "cell_type": "code",
   "execution_count": 8,
   "id": "a85c01d9",
   "metadata": {},
   "outputs": [],
   "source": [
    "ashneer_present=len(df[df.ashneer_present == 1].groupby('episode_number'))\n",
    "anupam_present=len(df[df.anupam_present == 1].groupby('episode_number'))\n",
    "aman_present=len(df[df.aman_present == 1].groupby('episode_number'))\n",
    "namita_present=len(df[df.namita_present == 1].groupby('episode_number'))\n",
    "vineeta_present=len(df[df.vineeta_present == 1].groupby('episode_number'))\n",
    "peyush_present=len(df[df.peyush_present == 1].groupby('episode_number'))\n",
    "ghazal_present=len(df[df.ghazal_present == 1].groupby('episode_number'))"
   ]
  },
  {
   "cell_type": "code",
   "execution_count": 9,
   "id": "70bb02e7",
   "metadata": {},
   "outputs": [
    {
     "name": "stdout",
     "output_type": "stream",
     "text": [
      "Ashneer 29\n",
      "Anupam 35\n",
      "Aman 29\n",
      "Namita 32\n",
      "Vineeta 20\n",
      "Peyush 26\n",
      "Ghazal 8\n"
     ]
    }
   ],
   "source": [
    "print('Ashneer',ashneer_present)\n",
    "print('Anupam',anupam_present)\n",
    "print('Aman',aman_present)\n",
    "print('Namita',namita_present)\n",
    "print('Vineeta',vineeta_present)\n",
    "print('Peyush',peyush_present)\n",
    "print('Ghazal',ghazal_present)"
   ]
  },
  {
   "cell_type": "code",
   "execution_count": 10,
   "id": "f006dcbb",
   "metadata": {},
   "outputs": [
    {
     "data": {
      "image/png": "[encoded data removed]",
      "text/plain": [
       "<Figure size 720x576 with 1 Axes>"
      ]
     },
     "metadata": {
      "needs_background": "light"
     },
     "output_type": "display_data"
    }
   ],
   "source": [
    "plt.figure(figsize=(10,8))\n",
    "present=[ashneer_present,anupam_present,aman_present,namita_present,vineeta_present,peyush_present,ghazal_present]\n",
    "sharks = ['ashneer','anupam','aman','namita','vineeta','peyush','ghazal']\n",
    "plt.bar(sharks,present,color='rbg')\n",
    "plt.xlabel(\"Shark's  Name\",color='blue')\n",
    "plt.ylabel(\"Shark's  Present\",color='blue')\n",
    "plt.yticks(range(0,38,2))\n",
    "plt.title(\"Shark's Present as per Episode\")\n",
    "plt.show()"
   ]
  },
  {
   "cell_type": "markdown",
   "id": "4b245ecf",
   "metadata": {},
   "source": [
    "# Percentage of sharks presentee"
   ]
  },
  {
   "cell_type": "code",
   "execution_count": 11,
   "id": "b607c937",
   "metadata": {},
   "outputs": [
    {
     "data": {
      "image/png": "[encoded data removed]",
      "text/plain": [
       "<Figure size 432x288 with 1 Axes>"
      ]
     },
     "metadata": {},
     "output_type": "display_data"
    }
   ],
   "source": [
    "plt.pie(present,labels=sharks,radius=2.0,autopct='%0.1f%%')\n",
    "plt.suptitle('Percentage of sharks presentee',y=1.3,color='blue')\n",
    "plt.show()"
   ]
  },
  {
   "cell_type": "markdown",
   "id": "7b16e235",
   "metadata": {},
   "source": [
    "# Deals Done by Sharks"
   ]
  },
  {
   "cell_type": "code",
   "execution_count": 12,
   "id": "31ccb8a6",
   "metadata": {},
   "outputs": [],
   "source": [
    "ashneer_deal=len(df[df.ashneer_deal==1].groupby('episode_number'))\n",
    "anupam_deal=len(df[df.anupam_deal==1].groupby('episode_number'))\n",
    "aman_deal=len(df[df.aman_deal==1].groupby('episode_number'))\n",
    "namita_deal=len(df[df.namita_deal==1].groupby('episode_number'))\n",
    "vineeta_deal=len(df[df.vineeta_deal==1].groupby('episode_number'))\n",
    "peyush_deal=len(df[df.peyush_deal==1].groupby('episode_number'))\n",
    "ghazal_deal=len(df[df.ghazal_deal==1].groupby('episode_number'))"
   ]
  },
  {
   "cell_type": "code",
   "execution_count": 13,
   "id": "6ffb6dcc",
   "metadata": {},
   "outputs": [
    {
     "data": {
      "image/png": "[encoded data removed]",
      "text/plain": [
       "<Figure size 720x576 with 1 Axes>"
      ]
     },
     "metadata": {
      "needs_background": "light"
     },
     "output_type": "display_data"
    }
   ],
   "source": [
    "plt.figure(figsize=(10,8))\n",
    "deal=[ashneer_deal,anupam_deal,aman_deal,namita_deal,vineeta_deal,peyush_deal,ghazal_deal]\n",
    "sharks = ['ashneer','anupam','aman','namita','vineeta','peyush','ghazal']\n",
    "plt.bar(sharks,deal,color='rbg')\n",
    "plt.xlabel(\"Shark's  Name\")\n",
    "plt.ylabel(\"Shark's  deal\")\n",
    "plt.yticks(range(0,25,1))\n",
    "plt.title(\"Shark's deal as per Episode\")\n",
    "plt.show()"
   ]
  },
  {
   "cell_type": "markdown",
   "id": "086ac22d",
   "metadata": {},
   "source": [
    "# Percentage of sharks deals"
   ]
  },
  {
   "cell_type": "code",
   "execution_count": 14,
   "id": "44111136",
   "metadata": {},
   "outputs": [
    {
     "data": {
      "image/png": "[encoded data removed]",
      "text/plain": [
       "<Figure size 432x288 with 1 Axes>"
      ]
     },
     "metadata": {},
     "output_type": "display_data"
    }
   ],
   "source": [
    "plt.pie(deal,labels=sharks,radius=2.0,autopct='%0.1f%%')\n",
    "plt.suptitle('Percentage of sharks deals',y=1.3,color='blue')\n",
    "plt.show()"
   ]
  },
  {
   "cell_type": "markdown",
   "id": "2f03e717",
   "metadata": {},
   "source": [
    "# Highest Amount ask by Participant"
   ]
  },
  {
   "cell_type": "code",
   "execution_count": 15,
   "id": "58354346",
   "metadata": {},
   "outputs": [
    {
     "data": {
      "text/plain": [
       "episode_number                     11\n",
       "pitch_number                       31\n",
       "brand_name                 Gopal's 56\n",
       "idea                  Fiber Ice Cream\n",
       "deal                                0\n",
       "pitcher_ask_amount            30000.0\n",
       "ask_equity                       25.0\n",
       "ask_valuation                120000.0\n",
       "deal_amount                       0.0\n",
       "Name: 30, dtype: object"
      ]
     },
     "execution_count": 15,
     "metadata": {},
     "output_type": "execute_result"
    }
   ],
   "source": [
    "df.iloc[df.pitcher_ask_amount.idxmax()][0:9]"
   ]
  },
  {
   "cell_type": "markdown",
   "id": "12dfd25b",
   "metadata": {},
   "source": [
    "# Lowest Amount ask by Participant"
   ]
  },
  {
   "cell_type": "code",
   "execution_count": 16,
   "id": "8335bbae",
   "metadata": {},
   "outputs": [
    {
     "data": {
      "text/plain": [
       "episode_number                         27\n",
       "pitch_number                           86\n",
       "brand_name             Watt Technovations\n",
       "idea                  Ventilated PPE Kits\n",
       "deal                                    1\n",
       "pitcher_ask_amount                0.00101\n",
       "ask_equity                           10.0\n",
       "ask_valuation                        0.01\n",
       "deal_amount                       0.00101\n",
       "Name: 85, dtype: object"
      ]
     },
     "execution_count": 16,
     "metadata": {},
     "output_type": "execute_result"
    }
   ],
   "source": [
    "df.iloc[df.pitcher_ask_amount.idxmin()][0:9]"
   ]
  },
  {
   "cell_type": "markdown",
   "id": "cb5a6624",
   "metadata": {},
   "source": [
    "# Highest Equity Offered"
   ]
  },
  {
   "cell_type": "code",
   "execution_count": 17,
   "id": "6b835c8f",
   "metadata": {},
   "outputs": [
    {
     "data": {
      "text/plain": [
       "episode_number                   17\n",
       "pitch_number                     51\n",
       "brand_name            Aas Vidyalaya\n",
       "idea                     EdTech App\n",
       "deal                              1\n",
       "pitcher_ask_amount            150.0\n",
       "ask_equity                      3.0\n",
       "ask_valuation                5000.0\n",
       "deal_amount                   150.0\n",
       "Name: 50, dtype: object"
      ]
     },
     "execution_count": 17,
     "metadata": {},
     "output_type": "execute_result"
    }
   ],
   "source": [
    "df.iloc[df.deal_amount.idxmax()][0:9]"
   ]
  },
  {
   "cell_type": "markdown",
   "id": "78ed8c64",
   "metadata": {},
   "source": [
    "# Lowest Equity Offered"
   ]
  },
  {
   "cell_type": "code",
   "execution_count": 18,
   "id": "b05ab3ef",
   "metadata": {},
   "outputs": [
    {
     "data": {
      "text/plain": [
       "episode_number                               2\n",
       "pitch_number                                 5\n",
       "brand_name                      Head and Heart\n",
       "idea                  Brain Development Course\n",
       "deal                                         0\n",
       "pitcher_ask_amount                        50.0\n",
       "ask_equity                                 5.0\n",
       "ask_valuation                           1000.0\n",
       "deal_amount                                0.0\n",
       "Name: 4, dtype: object"
      ]
     },
     "execution_count": 18,
     "metadata": {},
     "output_type": "execute_result"
    }
   ],
   "source": [
    "df.iloc[df.deal_amount.idxmin()][0:9]                          #it will basically fetch first no_deal data"
   ]
  },
  {
   "cell_type": "markdown",
   "id": "dcafbcd9",
   "metadata": {},
   "source": [
    "# Indivisual Total Ammount Invested by a Shark"
   ]
  },
  {
   "cell_type": "code",
   "execution_count": 19,
   "id": "5c03cd0e",
   "metadata": {},
   "outputs": [
    {
     "name": "stdout",
     "output_type": "stream",
     "text": [
      "Total amount invested by Ashneer 4.9433333333 cr\n"
     ]
    }
   ],
   "source": [
    "a=(df[df.ashneer_deal == 1].groupby('episode_number'))['amount_per_shark'].sum().sum()\n",
    "print('Total amount invested by Ashneer',a/100,'cr')"
   ]
  },
  {
   "cell_type": "code",
   "execution_count": 20,
   "id": "76712c4e",
   "metadata": {},
   "outputs": [
    {
     "name": "stdout",
     "output_type": "stream",
     "text": [
      "Total amount invested by Anupam 5.338 cr\n"
     ]
    }
   ],
   "source": [
    "b=(df[df.anupam_deal == 1].groupby('episode_number'))['amount_per_shark'].sum().sum()\n",
    "print('Total amount invested by Anupam',round(b/100,3),'cr')"
   ]
  },
  {
   "cell_type": "code",
   "execution_count": 21,
   "id": "4e26ce5a",
   "metadata": {},
   "outputs": [
    {
     "name": "stdout",
     "output_type": "stream",
     "text": [
      "Total amount invested by Aman 8.875 cr\n"
     ]
    }
   ],
   "source": [
    "c=(df[df.aman_deal == 1].groupby('episode_number'))['amount_per_shark'].sum().sum()\n",
    "print('Total amount invested by Aman',round(c/100,3),'cr')"
   ]
  },
  {
   "cell_type": "code",
   "execution_count": 22,
   "id": "bebfdb86",
   "metadata": {},
   "outputs": [
    {
     "name": "stdout",
     "output_type": "stream",
     "text": [
      "Total amount invested by Namita 6.483 cr\n"
     ]
    }
   ],
   "source": [
    "d=(df[df.namita_deal == 1].groupby('episode_number'))['amount_per_shark'].sum().sum()\n",
    "print('Total amount invested by Namita',round(d/100,3),'cr')"
   ]
  },
  {
   "cell_type": "code",
   "execution_count": 23,
   "id": "374e2bdd",
   "metadata": {},
   "outputs": [
    {
     "name": "stdout",
     "output_type": "stream",
     "text": [
      "Total amount invested by Vineta 3.283 cr\n"
     ]
    }
   ],
   "source": [
    "e=(df[df.vineeta_deal == 1].groupby('episode_number'))['amount_per_shark'].sum().sum()\n",
    "print('Total amount invested by Vineta',round(e/100,3),'cr')"
   ]
  },
  {
   "cell_type": "code",
   "execution_count": 24,
   "id": "9601a440",
   "metadata": {},
   "outputs": [
    {
     "name": "stdout",
     "output_type": "stream",
     "text": [
      "Total amount invested by Peyush 7.197 cr\n"
     ]
    }
   ],
   "source": [
    "f=(df[df.peyush_deal == 1].groupby('episode_number'))['amount_per_shark'].sum().sum()\n",
    "print('Total amount invested by Peyush',round(f/100,3),'cr')"
   ]
  },
  {
   "cell_type": "code",
   "execution_count": 25,
   "id": "c9d8c775",
   "metadata": {},
   "outputs": [
    {
     "name": "stdout",
     "output_type": "stream",
     "text": [
      "Total amount invested by Ghazal 1.3 cr\n"
     ]
    }
   ],
   "source": [
    "g=(df[df.ghazal_deal == 1].groupby('episode_number'))['amount_per_shark'].sum().sum()\n",
    "print('Total amount invested by Ghazal',round(g/100,3),'cr')"
   ]
  },
  {
   "cell_type": "code",
   "execution_count": 26,
   "id": "f6007b78",
   "metadata": {},
   "outputs": [
    {
     "data": {
      "image/png": "[encoded data removed]",
      "text/plain": [
       "<Figure size 720x576 with 1 Axes>"
      ]
     },
     "metadata": {
      "needs_background": "light"
     },
     "output_type": "display_data"
    }
   ],
   "source": [
    "plt.figure(figsize=(10,8))\n",
    "inv=[a,b,c,d,e,f,g]\n",
    "sharks = ['ashneer','anupam','aman','namita','vineeta','peyush','ghazal']\n",
    "plt.bar(sharks,inv,color='rbg')\n",
    "plt.xlabel(\"Shark's  Name\")\n",
    "plt.ylabel(\"Shark's  investment\")\n",
    "plt.title(\"Shark's investment as per Episode\")\n",
    "plt.show()"
   ]
  },
  {
   "cell_type": "markdown",
   "id": "a3532f4f",
   "metadata": {},
   "source": [
    "# Top 20 brands which have got highest investment"
   ]
  },
  {
   "cell_type": "code",
   "execution_count": 27,
   "id": "6cdac2c4",
   "metadata": {},
   "outputs": [
    {
     "data": {
      "text/html": [
       "<div>\n",
       "<style scoped>\n",
       "    .dataframe tbody tr th:only-of-type {\n",
       "        vertical-align: middle;\n",
       "    }\n",
       "\n",
       "    .dataframe tbody tr th {\n",
       "        vertical-align: top;\n",
       "    }\n",
       "\n",
       "    .dataframe thead th {\n",
       "        text-align: right;\n",
       "    }\n",
       "</style>\n",
       "<table border=\"1\" class=\"dataframe\">\n",
       "  <thead>\n",
       "    <tr style=\"text-align: right;\">\n",
       "      <th></th>\n",
       "      <th>brand_name</th>\n",
       "      <th>deal_amount</th>\n",
       "    </tr>\n",
       "  </thead>\n",
       "  <tbody>\n",
       "    <tr>\n",
       "      <th>50</th>\n",
       "      <td>Aas Vidyalaya</td>\n",
       "      <td>150.0</td>\n",
       "    </tr>\n",
       "    <tr>\n",
       "      <th>36</th>\n",
       "      <td>Annie</td>\n",
       "      <td>105.0</td>\n",
       "    </tr>\n",
       "    <tr>\n",
       "      <th>12</th>\n",
       "      <td>Revamp Moto</td>\n",
       "      <td>100.0</td>\n",
       "    </tr>\n",
       "    <tr>\n",
       "      <th>38</th>\n",
       "      <td>The Yarn Bazaar</td>\n",
       "      <td>100.0</td>\n",
       "    </tr>\n",
       "    <tr>\n",
       "      <th>39</th>\n",
       "      <td>The Renal Project</td>\n",
       "      <td>100.0</td>\n",
       "    </tr>\n",
       "    <tr>\n",
       "      <th>42</th>\n",
       "      <td>Hammer Lifestyle</td>\n",
       "      <td>100.0</td>\n",
       "    </tr>\n",
       "    <tr>\n",
       "      <th>18</th>\n",
       "      <td>Raising Superstars</td>\n",
       "      <td>100.0</td>\n",
       "    </tr>\n",
       "    <tr>\n",
       "      <th>63</th>\n",
       "      <td>IN A CAN</td>\n",
       "      <td>100.0</td>\n",
       "    </tr>\n",
       "    <tr>\n",
       "      <th>64</th>\n",
       "      <td>Get a Whey</td>\n",
       "      <td>100.0</td>\n",
       "    </tr>\n",
       "    <tr>\n",
       "      <th>15</th>\n",
       "      <td>Skippi Pops</td>\n",
       "      <td>100.0</td>\n",
       "    </tr>\n",
       "    <tr>\n",
       "      <th>79</th>\n",
       "      <td>Sunfox Technologies</td>\n",
       "      <td>100.0</td>\n",
       "    </tr>\n",
       "    <tr>\n",
       "      <th>87</th>\n",
       "      <td>Insurance Samadhan</td>\n",
       "      <td>100.0</td>\n",
       "    </tr>\n",
       "    <tr>\n",
       "      <th>88</th>\n",
       "      <td>Humpy A2</td>\n",
       "      <td>100.0</td>\n",
       "    </tr>\n",
       "    <tr>\n",
       "      <th>52</th>\n",
       "      <td>RoadBounce</td>\n",
       "      <td>80.0</td>\n",
       "    </tr>\n",
       "    <tr>\n",
       "      <th>95</th>\n",
       "      <td>Kabaddi Adda</td>\n",
       "      <td>80.0</td>\n",
       "    </tr>\n",
       "    <tr>\n",
       "      <th>11</th>\n",
       "      <td>Bummer</td>\n",
       "      <td>75.0</td>\n",
       "    </tr>\n",
       "    <tr>\n",
       "      <th>33</th>\n",
       "      <td>Auli Lifestyle</td>\n",
       "      <td>75.0</td>\n",
       "    </tr>\n",
       "    <tr>\n",
       "      <th>7</th>\n",
       "      <td>Peeschute</td>\n",
       "      <td>75.0</td>\n",
       "    </tr>\n",
       "    <tr>\n",
       "      <th>91</th>\n",
       "      <td>Wakao Foods</td>\n",
       "      <td>75.0</td>\n",
       "    </tr>\n",
       "    <tr>\n",
       "      <th>47</th>\n",
       "      <td>Beyond Water</td>\n",
       "      <td>75.0</td>\n",
       "    </tr>\n",
       "  </tbody>\n",
       "</table>\n",
       "</div>"
      ],
      "text/plain": [
       "             brand_name  deal_amount\n",
       "50        Aas Vidyalaya        150.0\n",
       "36                Annie        105.0\n",
       "12          Revamp Moto        100.0\n",
       "38      The Yarn Bazaar        100.0\n",
       "39    The Renal Project        100.0\n",
       "42     Hammer Lifestyle        100.0\n",
       "18   Raising Superstars        100.0\n",
       "63             IN A CAN        100.0\n",
       "64           Get a Whey        100.0\n",
       "15          Skippi Pops        100.0\n",
       "79  Sunfox Technologies        100.0\n",
       "87   Insurance Samadhan        100.0\n",
       "88             Humpy A2        100.0\n",
       "52           RoadBounce         80.0\n",
       "95         Kabaddi Adda         80.0\n",
       "11               Bummer         75.0\n",
       "33       Auli Lifestyle         75.0\n",
       "7             Peeschute         75.0\n",
       "91          Wakao Foods         75.0\n",
       "47         Beyond Water         75.0"
      ]
     },
     "execution_count": 27,
     "metadata": {},
     "output_type": "execute_result"
    }
   ],
   "source": [
    "df[['brand_name','deal_amount']].sort_values(by='deal_amount',ascending=False).head(20)"
   ]
  },
  {
   "cell_type": "code",
   "execution_count": null,
   "id": "d7eee6d1",
   "metadata": {},
   "outputs": [],
   "source": []
  },
  {
   "cell_type": "code",
   "execution_count": null,
   "id": "7e3cd7dd",
   "metadata": {},
   "outputs": [],
   "source": []
  }
 ],
 "metadata": {
  "kernelspec": {
   "display_name": "Python 3",
   "language": "python",
   "name": "python3"
  },
  "language_info": {
   "codemirror_mode": {
    "name": "ipython",
    "version": 3
   },
   "file_extension": ".py",
   "mimetype": "text/x-python",
   "name": "python",
   "nbconvert_exporter": "python",
   "pygments_lexer": "ipython3",
   "version": "3.8.8"
  }
 },
 "nbformat": 4,
 "nbformat_minor": 5
}
