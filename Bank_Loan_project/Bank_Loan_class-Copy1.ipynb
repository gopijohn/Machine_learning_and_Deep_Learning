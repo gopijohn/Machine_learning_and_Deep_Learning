{
 "cells": [
  {
   "cell_type": "markdown",
   "id": "f29240bf",
   "metadata": {},
   "source": [
    "# Problem Statement:\n",
    "Problem Statement: \n",
    "\n",
    "A Company wants to automate the loan eligibility process based on customer details provided while filling online application form. \n",
    "The details filled by the customer are Gender, Marital Status, Education, Number of Dependents, Income of self and co applicant, Required Loan Amount,\n",
    "Required Loan Term, Credit History and others. The requirements are as follows:\n",
    "\n",
    "1.)Check eligibility of the Customer given the inputs described above.(Classification)\n",
    "\n",
    "2.)Identify customer segments from given data and categorize customer into one of the segments.(Clustering)\n",
    "\n",
    "3.)If customer is not eligible for the input required amount and duration:\n",
    "   a.)what can be amount for the given duration.(Regression)\n",
    "  \n",
    "   b.)if duration is less than equal to 20 years, is customer eligible for required amount for some longer duration?\n",
    "      What is that duration?(Regression)"
   ]
  },
  {
   "cell_type": "raw",
   "id": "37631913",
   "metadata": {},
   "source": [
    "# The steps which are followed to solve this problem statement :\n",
    "1.Data Cleaning \n",
    "2.Exploratory Data Analysis \n",
    "  -Visualization of Data.\n",
    "  -checking corelation of features\n",
    "  -skewness in data\n",
    "  -data standardisation. \n",
    "3.feature selection \n",
    "4.model selection depending on problem \n",
    "5.evaluating the model using various metrics."
   ]
  },
  {
   "cell_type": "code",
   "execution_count": 1,
   "id": "1acbf5ef",
   "metadata": {},
   "outputs": [],
   "source": [
    "from warnings import filterwarnings\n",
    "filterwarnings('ignore')\n",
    "import pandas as pd\n",
    "import numpy as np\n",
    "import seaborn as sb\n",
    "import matplotlib.pyplot as plt"
   ]
  },
  {
   "cell_type": "markdown",
   "id": "080a022a",
   "metadata": {},
   "source": [
    "# Importing training Data"
   ]
  },
  {
   "cell_type": "code",
   "execution_count": 2,
   "id": "3e930fc9",
   "metadata": {},
   "outputs": [
    {
     "data": {
      "text/html": [
       "<div>\n",
       "<style scoped>\n",
       "    .dataframe tbody tr th:only-of-type {\n",
       "        vertical-align: middle;\n",
       "    }\n",
       "\n",
       "    .dataframe tbody tr th {\n",
       "        vertical-align: top;\n",
       "    }\n",
       "\n",
       "    .dataframe thead th {\n",
       "        text-align: right;\n",
       "    }\n",
       "</style>\n",
       "<table border=\"1\" class=\"dataframe\">\n",
       "  <thead>\n",
       "    <tr style=\"text-align: right;\">\n",
       "      <th></th>\n",
       "      <th>Loan_ID</th>\n",
       "      <th>Gender</th>\n",
       "      <th>Married</th>\n",
       "      <th>Dependents</th>\n",
       "      <th>Education</th>\n",
       "      <th>Self_Employed</th>\n",
       "      <th>ApplicantIncome</th>\n",
       "      <th>CoapplicantIncome</th>\n",
       "      <th>LoanAmount</th>\n",
       "      <th>Loan_Amount_Term</th>\n",
       "      <th>Credit_History</th>\n",
       "      <th>Property_Area</th>\n",
       "      <th>Loan_Status</th>\n",
       "    </tr>\n",
       "  </thead>\n",
       "  <tbody>\n",
       "    <tr>\n",
       "      <th>0</th>\n",
       "      <td>LP001002</td>\n",
       "      <td>Male</td>\n",
       "      <td>No</td>\n",
       "      <td>0</td>\n",
       "      <td>Graduate</td>\n",
       "      <td>No</td>\n",
       "      <td>5849.0</td>\n",
       "      <td>0.0</td>\n",
       "      <td>NaN</td>\n",
       "      <td>360.0</td>\n",
       "      <td>1.0</td>\n",
       "      <td>Urban</td>\n",
       "      <td>Y</td>\n",
       "    </tr>\n",
       "    <tr>\n",
       "      <th>1</th>\n",
       "      <td>LP001003</td>\n",
       "      <td>Male</td>\n",
       "      <td>Yes</td>\n",
       "      <td>1</td>\n",
       "      <td>Graduate</td>\n",
       "      <td>No</td>\n",
       "      <td>NaN</td>\n",
       "      <td>1508.0</td>\n",
       "      <td>128.0</td>\n",
       "      <td>360.0</td>\n",
       "      <td>1.0</td>\n",
       "      <td>Rural</td>\n",
       "      <td>N</td>\n",
       "    </tr>\n",
       "  </tbody>\n",
       "</table>\n",
       "</div>"
      ],
      "text/plain": [
       "    Loan_ID Gender Married Dependents Education Self_Employed  \\\n",
       "0  LP001002   Male      No          0  Graduate            No   \n",
       "1  LP001003   Male     Yes          1  Graduate            No   \n",
       "\n",
       "   ApplicantIncome  CoapplicantIncome  LoanAmount  Loan_Amount_Term  \\\n",
       "0           5849.0                0.0         NaN             360.0   \n",
       "1              NaN             1508.0       128.0             360.0   \n",
       "\n",
       "   Credit_History Property_Area Loan_Status  \n",
       "0             1.0         Urban           Y  \n",
       "1             1.0         Rural           N  "
      ]
     },
     "execution_count": 2,
     "metadata": {},
     "output_type": "execute_result"
    }
   ],
   "source": [
    "df=pd.read_csv('C:/Users/cmscomputers/Downloads/Skype/Loan_project/training_set (1).csv')\n",
    "df.head(2)"
   ]
  },
  {
   "cell_type": "code",
   "execution_count": 3,
   "id": "d8dda7df",
   "metadata": {},
   "outputs": [
    {
     "name": "stdout",
     "output_type": "stream",
     "text": [
      "<class 'pandas.core.frame.DataFrame'>\n",
      "RangeIndex: 614 entries, 0 to 613\n",
      "Data columns (total 13 columns):\n",
      " #   Column             Non-Null Count  Dtype  \n",
      "---  ------             --------------  -----  \n",
      " 0   Loan_ID            614 non-null    object \n",
      " 1   Gender             599 non-null    object \n",
      " 2   Married            611 non-null    object \n",
      " 3   Dependents         599 non-null    object \n",
      " 4   Education          613 non-null    object \n",
      " 5   Self_Employed      582 non-null    object \n",
      " 6   ApplicantIncome    612 non-null    float64\n",
      " 7   CoapplicantIncome  613 non-null    float64\n",
      " 8   LoanAmount         592 non-null    float64\n",
      " 9   Loan_Amount_Term   600 non-null    float64\n",
      " 10  Credit_History     564 non-null    float64\n",
      " 11  Property_Area      614 non-null    object \n",
      " 12  Loan_Status        614 non-null    object \n",
      "dtypes: float64(5), object(8)\n",
      "memory usage: 62.5+ KB\n"
     ]
    }
   ],
   "source": [
    "df.info()"
   ]
  },
  {
   "cell_type": "markdown",
   "id": "99d19c03",
   "metadata": {},
   "source": [
    "# Looking for missing values"
   ]
  },
  {
   "cell_type": "code",
   "execution_count": 4,
   "id": "f6226e46",
   "metadata": {},
   "outputs": [
    {
     "data": {
      "text/plain": [
       "Loan_ID               0\n",
       "Gender               15\n",
       "Married               3\n",
       "Dependents           15\n",
       "Education             1\n",
       "Self_Employed        32\n",
       "ApplicantIncome       2\n",
       "CoapplicantIncome     1\n",
       "LoanAmount           22\n",
       "Loan_Amount_Term     14\n",
       "Credit_History       50\n",
       "Property_Area         0\n",
       "Loan_Status           0\n",
       "dtype: int64"
      ]
     },
     "execution_count": 4,
     "metadata": {},
     "output_type": "execute_result"
    }
   ],
   "source": [
    "df.isna().sum()"
   ]
  },
  {
   "cell_type": "code",
   "execution_count": null,
   "id": "a3eca77e",
   "metadata": {},
   "outputs": [],
   "source": []
  },
  {
   "cell_type": "markdown",
   "id": "01c823a7",
   "metadata": {},
   "source": [
    "# Missing value treatment"
   ]
  },
  {
   "cell_type": "markdown",
   "id": "0f7837bc",
   "metadata": {},
   "source": [
    "Divide data features according to their datatypes, categorical and numerical"
   ]
  },
  {
   "cell_type": "code",
   "execution_count": 5,
   "id": "c09a87ce",
   "metadata": {},
   "outputs": [],
   "source": [
    "cat=[]\n",
    "con=[]\n",
    "for i in df.columns:\n",
    "    if(df[i].dtypes=='object'):\n",
    "        cat.append(i)\n",
    "    else:\n",
    "        con.append(i)"
   ]
  },
  {
   "cell_type": "code",
   "execution_count": 6,
   "id": "ef47e8ba",
   "metadata": {},
   "outputs": [],
   "source": [
    "cat.remove('Loan_ID')"
   ]
  },
  {
   "cell_type": "code",
   "execution_count": 7,
   "id": "1aa45a9a",
   "metadata": {},
   "outputs": [],
   "source": [
    "for i in cat:\n",
    "        c=df[i].mode()[0]\n",
    "        df[i]=df[i].fillna(c)  #-----> For catrgorical missisng values we will replace it with mode value of that feature       \n",
    "\n",
    "        \n",
    "for i in con:\n",
    "        c=df[i].mean()\n",
    "        df[i]=df[i].fillna(c)     #---->for numerical missing values we will replace it with mean value of that feature"
   ]
  },
  {
   "cell_type": "code",
   "execution_count": 8,
   "id": "9e9f739a",
   "metadata": {},
   "outputs": [
    {
     "data": {
      "text/plain": [
       "Loan_ID              0\n",
       "Gender               0\n",
       "Married              0\n",
       "Dependents           0\n",
       "Education            0\n",
       "Self_Employed        0\n",
       "ApplicantIncome      0\n",
       "CoapplicantIncome    0\n",
       "LoanAmount           0\n",
       "Loan_Amount_Term     0\n",
       "Credit_History       0\n",
       "Property_Area        0\n",
       "Loan_Status          0\n",
       "dtype: int64"
      ]
     },
     "execution_count": 8,
     "metadata": {},
     "output_type": "execute_result"
    }
   ],
   "source": [
    "df.isna().sum()"
   ]
  },
  {
   "cell_type": "markdown",
   "id": "5beb8571",
   "metadata": {},
   "source": [
    "# Dropping Un-necessary features"
   ]
  },
  {
   "cell_type": "code",
   "execution_count": 9,
   "id": "1c2d5850",
   "metadata": {},
   "outputs": [
    {
     "name": "stdout",
     "output_type": "stream",
     "text": [
      "<class 'pandas.core.frame.DataFrame'>\n",
      "RangeIndex: 614 entries, 0 to 613\n",
      "Data columns (total 12 columns):\n",
      " #   Column             Non-Null Count  Dtype  \n",
      "---  ------             --------------  -----  \n",
      " 0   Gender             614 non-null    object \n",
      " 1   Married            614 non-null    object \n",
      " 2   Dependents         614 non-null    object \n",
      " 3   Education          614 non-null    object \n",
      " 4   Self_Employed      614 non-null    object \n",
      " 5   ApplicantIncome    614 non-null    float64\n",
      " 6   CoapplicantIncome  614 non-null    float64\n",
      " 7   LoanAmount         614 non-null    float64\n",
      " 8   Loan_Amount_Term   614 non-null    float64\n",
      " 9   Credit_History     614 non-null    float64\n",
      " 10  Property_Area      614 non-null    object \n",
      " 11  Loan_Status        614 non-null    object \n",
      "dtypes: float64(5), object(7)\n",
      "memory usage: 57.7+ KB\n"
     ]
    }
   ],
   "source": [
    "df1=df.drop(['Loan_ID'],axis=1)\n",
    "df1.info()"
   ]
  },
  {
   "cell_type": "markdown",
   "id": "451f64d5",
   "metadata": {},
   "source": [
    "# 1.)Check eligibility of the Customer given the inputs described above.(Classification)"
   ]
  },
  {
   "cell_type": "markdown",
   "id": "701eb3ac",
   "metadata": {},
   "source": [
    "Here we are classifying the loan eligibility.In our data feature called 'Loan_Status' ,which have YES and NO values means customer is eligible or not."
   ]
  },
  {
   "cell_type": "markdown",
   "id": "ea20925b",
   "metadata": {},
   "source": [
    "we will do exploratory data analysis with respect to Loan_Status."
   ]
  },
  {
   "cell_type": "code",
   "execution_count": null,
   "id": "afcf0809",
   "metadata": {},
   "outputs": [],
   "source": []
  },
  {
   "cell_type": "markdown",
   "id": "4c4a5fe6",
   "metadata": {},
   "source": [
    "Bivariate analysis"
   ]
  },
  {
   "cell_type": "code",
   "execution_count": 10,
   "id": "bc76f325",
   "metadata": {},
   "outputs": [
    {
     "data": {
      "image/png": "[encoded data removed]",
      "text/plain": [
       "<Figure size 432x288 with 1 Axes>"
      ]
     },
     "metadata": {
      "needs_background": "light"
     },
     "output_type": "display_data"
    },
    {
     "data": {
      "image/png": "[encoded data removed]",
      "text/plain": [
       "<Figure size 432x288 with 1 Axes>"
      ]
     },
     "metadata": {
      "needs_background": "light"
     },
     "output_type": "display_data"
    },
    {
     "data": {
      "image/png": "[encoded data removed]",
      "text/plain": [
       "<Figure size 432x288 with 1 Axes>"
      ]
     },
     "metadata": {
      "needs_background": "light"
     },
     "output_type": "display_data"
    },
    {
     "data": {
      "image/png": "[encoded data removed]",
      "text/plain": [
       "<Figure size 432x288 with 1 Axes>"
      ]
     },
     "metadata": {
      "needs_background": "light"
     },
     "output_type": "display_data"
    },
    {
     "data": {
      "image/png": "[encoded data removed]",
      "text/plain": [
       "<Figure size 432x288 with 1 Axes>"
      ]
     },
     "metadata": {
      "needs_background": "light"
     },
     "output_type": "display_data"
    },
    {
     "data": {
      "image/png": "[encoded data removed]",
      "text/plain": [
       "<Figure size 432x288 with 1 Axes>"
      ]
     },
     "metadata": {
      "needs_background": "light"
     },
     "output_type": "display_data"
    },
    {
     "data": {
      "image/png": "[encoded data removed]",
      "text/plain": [
       "<Figure size 432x288 with 1 Axes>"
      ]
     },
     "metadata": {
      "needs_background": "light"
     },
     "output_type": "display_data"
    },
    {
     "data": {
      "image/png": "[encoded data removed]",
      "text/plain": [
       "<Figure size 432x288 with 1 Axes>"
      ]
     },
     "metadata": {
      "needs_background": "light"
     },
     "output_type": "display_data"
    },
    {
     "data": {
      "image/png": "[encoded data removed]",
      "text/plain": [
       "<Figure size 432x288 with 1 Axes>"
      ]
     },
     "metadata": {
      "needs_background": "light"
     },
     "output_type": "display_data"
    },
    {
     "data": {
      "image/png": "[encoded data removed]",
      "text/plain": [
       "<Figure size 432x288 with 1 Axes>"
      ]
     },
     "metadata": {
      "needs_background": "light"
     },
     "output_type": "display_data"
    },
    {
     "data": {
      "image/png": "[encoded data removed]",
      "text/plain": [
       "<Figure size 432x288 with 1 Axes>"
      ]
     },
     "metadata": {
      "needs_background": "light"
     },
     "output_type": "display_data"
    },
    {
     "data": {
      "image/png": "[encoded data removed]",
      "text/plain": [
       "<Figure size 432x288 with 1 Axes>"
      ]
     },
     "metadata": {
      "needs_background": "light"
     },
     "output_type": "display_data"
    }
   ],
   "source": [
    "for i in df1.columns:\n",
    "    if(df1[i].dtypes=='object'):\n",
    "        sb.countplot(df1[i],hue=df1['Loan_Status'])\n",
    "        plt.show()\n",
    "    else:\n",
    "        sb.boxplot(df1['Loan_Status'],df1[i])\n",
    "        plt.show()"
   ]
  },
  {
   "cell_type": "raw",
   "id": "9d309350",
   "metadata": {},
   "source": [
    "In our initial exploratory data analysis using graphs we can colclude following things:\n",
    "    1.Gender--Most men are elligible for Loan than woman.\n",
    "    2.Married--here married overtaking the unmarried.\n",
    "    3.Dependants--with less dependatns possibility of getting loan is high.\n",
    "    4.Education--Graduates are eligible than Non-graduate.\n",
    "    5.Self-Employed---self employed are non-working class and bank has rejected them mostly.\n",
    "    6.Loan_status doesn't show any varaition with ApplicantIncome and CoApplicantIncome.\n",
    "    7.Loan_Amount_Term is given in months.\n",
    "    8.Mostly customer with credit history 1 are ineligible.\n",
    "    9.Property_Area--Semiurban property is accepted mostely for loan aproval."
   ]
  },
  {
   "cell_type": "code",
   "execution_count": 11,
   "id": "bbcb16f0",
   "metadata": {},
   "outputs": [
    {
     "data": {
      "text/plain": [
       "<seaborn.axisgrid.PairGrid at 0x214d52d14f0>"
      ]
     },
     "execution_count": 11,
     "metadata": {},
     "output_type": "execute_result"
    },
    {
     "data": {
      "image/png": "[encoded data removed]",
      "text/plain": [
       "<Figure size 900x900 with 30 Axes>"
      ]
     },
     "metadata": {
      "needs_background": "light"
     },
     "output_type": "display_data"
    }
   ],
   "source": [
    "sb.pairplot(df1)"
   ]
  },
  {
   "cell_type": "markdown",
   "id": "bbd94987",
   "metadata": {},
   "source": [
    "The data here is skewed and non linear"
   ]
  },
  {
   "cell_type": "markdown",
   "id": "59b11f42",
   "metadata": {},
   "source": [
    "# Skewness in data"
   ]
  },
  {
   "cell_type": "code",
   "execution_count": 12,
   "id": "08045bd1",
   "metadata": {},
   "outputs": [
    {
     "data": {
      "text/plain": [
       "<AxesSubplot:xlabel='LoanAmount', ylabel='Count'>"
      ]
     },
     "execution_count": 12,
     "metadata": {},
     "output_type": "execute_result"
    },
    {
     "data": {
      "image/png": "[encoded data removed]",
      "text/plain": [
       "<Figure size 720x720 with 3 Axes>"
      ]
     },
     "metadata": {
      "needs_background": "light"
     },
     "output_type": "display_data"
    }
   ],
   "source": [
    "plt.figure(figsize=(10,10))\n",
    "plt.subplot(3,3,1)\n",
    "sb.histplot(df1['ApplicantIncome'])\n",
    "plt.subplot(3,3,2)\n",
    "sb.histplot(df1['CoapplicantIncome'])\n",
    "plt.subplot(3,3,3)\n",
    "sb.histplot(df1['LoanAmount'])"
   ]
  },
  {
   "cell_type": "markdown",
   "id": "a82bc190",
   "metadata": {},
   "source": [
    "It shows features are suffering from Negative skewness in data . Negative Skewness is where Mean < Median. skewness can be trated with log function."
   ]
  },
  {
   "cell_type": "code",
   "execution_count": 13,
   "id": "3368050e",
   "metadata": {},
   "outputs": [
    {
     "data": {
      "text/plain": [
       "ApplicantIncome      6.538870\n",
       "CoapplicantIncome    7.492000\n",
       "LoanAmount           2.726601\n",
       "Loan_Amount_Term    -2.389680\n",
       "Credit_History      -1.963600\n",
       "dtype: float64"
      ]
     },
     "execution_count": 13,
     "metadata": {},
     "output_type": "execute_result"
    }
   ],
   "source": [
    "df1.skew()"
   ]
  },
  {
   "cell_type": "code",
   "execution_count": null,
   "id": "c7bb68ce",
   "metadata": {},
   "outputs": [],
   "source": []
  },
  {
   "cell_type": "code",
   "execution_count": 14,
   "id": "94ef60ed",
   "metadata": {},
   "outputs": [],
   "source": [
    "\n",
    "def skew_rem(df,col):\n",
    "    q = []\n",
    "    for i in df[col]:\n",
    "        if(i != 0):\n",
    "            q.append(np.log(i))\n",
    "        else:\n",
    "            q.append(i)\n",
    "    df[col] = q"
   ]
  },
  {
   "cell_type": "code",
   "execution_count": 15,
   "id": "51736ef4",
   "metadata": {},
   "outputs": [],
   "source": [
    "skew_rem(df1,'CoapplicantIncome')\n",
    "skew_rem(df1,'ApplicantIncome')            \n",
    "\n",
    "#Feature selected with skew >3"
   ]
  },
  {
   "cell_type": "code",
   "execution_count": null,
   "id": "ad972667",
   "metadata": {},
   "outputs": [],
   "source": []
  },
  {
   "cell_type": "code",
   "execution_count": 16,
   "id": "e325a36c",
   "metadata": {},
   "outputs": [
    {
     "data": {
      "text/plain": [
       "<AxesSubplot:xlabel='CoapplicantIncome', ylabel='Count'>"
      ]
     },
     "execution_count": 16,
     "metadata": {},
     "output_type": "execute_result"
    },
    {
     "data": {
      "image/png": "[encoded data removed]",
      "text/plain": [
       "<Figure size 720x720 with 2 Axes>"
      ]
     },
     "metadata": {
      "needs_background": "light"
     },
     "output_type": "display_data"
    }
   ],
   "source": [
    "plt.figure(figsize=(10,10))\n",
    "plt.subplot(2,2,1)\n",
    "sb.histplot(df1['ApplicantIncome'])\n",
    "plt.subplot(2,2,2)\n",
    "sb.histplot(df1['CoapplicantIncome'])"
   ]
  },
  {
   "cell_type": "markdown",
   "id": "338ccb59",
   "metadata": {},
   "source": [
    "# Feature selection Using Anova and ChiSquare test"
   ]
  },
  {
   "cell_type": "code",
   "execution_count": 17,
   "id": "6139bce5",
   "metadata": {},
   "outputs": [],
   "source": [
    "def ANOVA(df,cat,con):\n",
    "    import pandas as pd\n",
    "    from statsmodels.api import OLS\n",
    "    from statsmodels.formula.api import ols\n",
    "    rel = con + \" ~ \" + cat\n",
    "    model = ols(rel,df).fit()\n",
    "    from statsmodels.stats.anova import anova_lm\n",
    "    anova_results = anova_lm(model)\n",
    "    Q = DataFrame(anova_results)\n",
    "    a = Q['PR(>F)'][cat]\n",
    "    return round(a,3)"
   ]
  },
  {
   "cell_type": "code",
   "execution_count": 18,
   "id": "6539accc",
   "metadata": {},
   "outputs": [],
   "source": [
    "from scipy.stats import chi2_contingency\n",
    "def chisquare(df,cat1,cat2):\n",
    "    import pandas as pd\n",
    "    ct = pd.crosstab(df[cat1],df[cat2])\n",
    "    a,b,c,d = chi2_contingency(ct)\n",
    "    return b"
   ]
  },
  {
   "cell_type": "code",
   "execution_count": 19,
   "id": "1f8fe35d",
   "metadata": {},
   "outputs": [
    {
     "name": "stdout",
     "output_type": "stream",
     "text": [
      "-------------\n",
      "Loan_Status vs ApplicantIncome\n",
      "Pval:  0.795\n",
      "-------------\n",
      "Loan_Status vs CoapplicantIncome\n",
      "Pval:  0.134\n",
      "-------------\n",
      "Loan_Status vs LoanAmount\n",
      "Pval:  0.368\n",
      "-------------\n",
      "Loan_Status vs Loan_Amount_Term\n",
      "Pval:  0.604\n",
      "-------------\n",
      "Loan_Status vs Credit_History\n",
      "Pval:  0.0\n"
     ]
    }
   ],
   "source": [
    "from preprocessing_6PM import ANOVA,chisquare\n",
    "imp_cols = []\n",
    "for i in con:\n",
    "    q = ANOVA(df1,\"Loan_Status\",i)\n",
    "    print(\"-------------\")\n",
    "    print(\"Loan_Status vs\",i)\n",
    "    print(\"Pval: \",q)\n",
    "    if(q < 0.15):\n",
    "        imp_cols.append(i)"
   ]
  },
  {
   "cell_type": "code",
   "execution_count": 20,
   "id": "059ce123",
   "metadata": {},
   "outputs": [
    {
     "name": "stdout",
     "output_type": "stream",
     "text": [
      "-------------\n",
      "Loan_Status vs Gender\n",
      "Pval:  0.7391461310869638\n",
      "-------------\n",
      "Loan_Status vs Married\n",
      "Pval:  0.029608580862582116\n",
      "-------------\n",
      "Loan_Status vs Dependents\n",
      "Pval:  0.3688663081366005\n",
      "-------------\n",
      "Loan_Status vs Education\n",
      "Pval:  0.04309962129357355\n",
      "-------------\n",
      "Loan_Status vs Self_Employed\n",
      "Pval:  1.0\n",
      "-------------\n",
      "Loan_Status vs Property_Area\n",
      "Pval:  0.0021360187811644915\n",
      "-------------\n",
      "Loan_Status vs Loan_Status\n",
      "Pval:  1.544676456058992e-134\n"
     ]
    }
   ],
   "source": [
    "for i in cat:\n",
    "    q = chisquare(df1,\"Loan_Status\",i)\n",
    "    print(\"-------------\")\n",
    "    print(\"Loan_Status vs\",i)\n",
    "    print(\"Pval: \",q)\n",
    "    if(q < 0.15):\n",
    "        imp_cols.append(i)"
   ]
  },
  {
   "cell_type": "code",
   "execution_count": 21,
   "id": "deea8f21",
   "metadata": {},
   "outputs": [
    {
     "data": {
      "text/plain": [
       "['CoapplicantIncome',\n",
       " 'Credit_History',\n",
       " 'Married',\n",
       " 'Education',\n",
       " 'Property_Area',\n",
       " 'Loan_Status']"
      ]
     },
     "execution_count": 21,
     "metadata": {},
     "output_type": "execute_result"
    }
   ],
   "source": [
    "imp_cols"
   ]
  },
  {
   "cell_type": "code",
   "execution_count": 22,
   "id": "663ab60c",
   "metadata": {},
   "outputs": [
    {
     "data": {
      "text/plain": [
       "['CoapplicantIncome',\n",
       " 'Credit_History',\n",
       " 'Married_No',\n",
       " 'Married_Yes',\n",
       " 'Education_Graduate',\n",
       " 'Education_Not Graduate',\n",
       " 'Property_Area_Rural',\n",
       " 'Property_Area_Semiurban',\n",
       " 'Property_Area_Urban']"
      ]
     },
     "execution_count": 22,
     "metadata": {},
     "output_type": "execute_result"
    }
   ],
   "source": [
    "imp_cols2=['CoapplicantIncome','Credit_History','Married_No', 'Married_Yes','Education_Graduate','Education_Not Graduate','Property_Area_Rural', 'Property_Area_Semiurban','Property_Area_Urban']\n",
    "imp_cols2"
   ]
  },
  {
   "cell_type": "markdown",
   "id": "79dcd153",
   "metadata": {},
   "source": [
    "# Standardisation of Data"
   ]
  },
  {
   "cell_type": "markdown",
   "id": "b1e947ff",
   "metadata": {},
   "source": [
    "For categorical features we will use OHE(One Hot Encoding"
   ]
  },
  {
   "cell_type": "code",
   "execution_count": 23,
   "id": "dff2755b",
   "metadata": {},
   "outputs": [
    {
     "data": {
      "text/html": [
       "<div>\n",
       "<style scoped>\n",
       "    .dataframe tbody tr th:only-of-type {\n",
       "        vertical-align: middle;\n",
       "    }\n",
       "\n",
       "    .dataframe tbody tr th {\n",
       "        vertical-align: top;\n",
       "    }\n",
       "\n",
       "    .dataframe thead th {\n",
       "        text-align: right;\n",
       "    }\n",
       "</style>\n",
       "<table border=\"1\" class=\"dataframe\">\n",
       "  <thead>\n",
       "    <tr style=\"text-align: right;\">\n",
       "      <th></th>\n",
       "      <th>Gender</th>\n",
       "      <th>Married</th>\n",
       "      <th>Dependents</th>\n",
       "      <th>Education</th>\n",
       "      <th>Self_Employed</th>\n",
       "      <th>ApplicantIncome</th>\n",
       "      <th>CoapplicantIncome</th>\n",
       "      <th>LoanAmount</th>\n",
       "      <th>Loan_Amount_Term</th>\n",
       "      <th>Credit_History</th>\n",
       "      <th>Property_Area</th>\n",
       "      <th>Loan_Status</th>\n",
       "    </tr>\n",
       "  </thead>\n",
       "  <tbody>\n",
       "    <tr>\n",
       "      <th>0</th>\n",
       "      <td>Male</td>\n",
       "      <td>No</td>\n",
       "      <td>0</td>\n",
       "      <td>Graduate</td>\n",
       "      <td>No</td>\n",
       "      <td>8.674026</td>\n",
       "      <td>0.00000</td>\n",
       "      <td>146.412162</td>\n",
       "      <td>360.0</td>\n",
       "      <td>1.0</td>\n",
       "      <td>Urban</td>\n",
       "      <td>Y</td>\n",
       "    </tr>\n",
       "    <tr>\n",
       "      <th>1</th>\n",
       "      <td>Male</td>\n",
       "      <td>Yes</td>\n",
       "      <td>1</td>\n",
       "      <td>Graduate</td>\n",
       "      <td>No</td>\n",
       "      <td>8.595180</td>\n",
       "      <td>7.31854</td>\n",
       "      <td>128.000000</td>\n",
       "      <td>360.0</td>\n",
       "      <td>1.0</td>\n",
       "      <td>Rural</td>\n",
       "      <td>N</td>\n",
       "    </tr>\n",
       "  </tbody>\n",
       "</table>\n",
       "</div>"
      ],
      "text/plain": [
       "  Gender Married Dependents Education Self_Employed  ApplicantIncome  \\\n",
       "0   Male      No          0  Graduate            No         8.674026   \n",
       "1   Male     Yes          1  Graduate            No         8.595180   \n",
       "\n",
       "   CoapplicantIncome  LoanAmount  Loan_Amount_Term  Credit_History  \\\n",
       "0            0.00000  146.412162             360.0             1.0   \n",
       "1            7.31854  128.000000             360.0             1.0   \n",
       "\n",
       "  Property_Area Loan_Status  \n",
       "0         Urban           Y  \n",
       "1         Rural           N  "
      ]
     },
     "execution_count": 23,
     "metadata": {},
     "output_type": "execute_result"
    }
   ],
   "source": [
    "df1.head(2)"
   ]
  },
  {
   "cell_type": "code",
   "execution_count": 24,
   "id": "b6b43243",
   "metadata": {},
   "outputs": [],
   "source": [
    "cat.remove('Loan_Status')"
   ]
  },
  {
   "cell_type": "code",
   "execution_count": 25,
   "id": "4cf790aa",
   "metadata": {},
   "outputs": [
    {
     "data": {
      "text/plain": [
       "['Gender',\n",
       " 'Married',\n",
       " 'Dependents',\n",
       " 'Education',\n",
       " 'Self_Employed',\n",
       " 'Property_Area']"
      ]
     },
     "execution_count": 25,
     "metadata": {},
     "output_type": "execute_result"
    }
   ],
   "source": [
    "cat"
   ]
  },
  {
   "cell_type": "code",
   "execution_count": 26,
   "id": "4e1cad05",
   "metadata": {},
   "outputs": [
    {
     "data": {
      "text/html": [
       "<div>\n",
       "<style scoped>\n",
       "    .dataframe tbody tr th:only-of-type {\n",
       "        vertical-align: middle;\n",
       "    }\n",
       "\n",
       "    .dataframe tbody tr th {\n",
       "        vertical-align: top;\n",
       "    }\n",
       "\n",
       "    .dataframe thead th {\n",
       "        text-align: right;\n",
       "    }\n",
       "</style>\n",
       "<table border=\"1\" class=\"dataframe\">\n",
       "  <thead>\n",
       "    <tr style=\"text-align: right;\">\n",
       "      <th></th>\n",
       "      <th>Gender_Female</th>\n",
       "      <th>Gender_Male</th>\n",
       "      <th>Married_No</th>\n",
       "      <th>Married_Yes</th>\n",
       "      <th>Dependents_0</th>\n",
       "      <th>Dependents_1</th>\n",
       "      <th>Dependents_2</th>\n",
       "      <th>Dependents_3+</th>\n",
       "      <th>Education_Graduate</th>\n",
       "      <th>Education_Not Graduate</th>\n",
       "      <th>Self_Employed_No</th>\n",
       "      <th>Self_Employed_Yes</th>\n",
       "      <th>Property_Area_Rural</th>\n",
       "      <th>Property_Area_Semiurban</th>\n",
       "      <th>Property_Area_Urban</th>\n",
       "    </tr>\n",
       "  </thead>\n",
       "  <tbody>\n",
       "    <tr>\n",
       "      <th>0</th>\n",
       "      <td>0</td>\n",
       "      <td>1</td>\n",
       "      <td>1</td>\n",
       "      <td>0</td>\n",
       "      <td>1</td>\n",
       "      <td>0</td>\n",
       "      <td>0</td>\n",
       "      <td>0</td>\n",
       "      <td>1</td>\n",
       "      <td>0</td>\n",
       "      <td>1</td>\n",
       "      <td>0</td>\n",
       "      <td>0</td>\n",
       "      <td>0</td>\n",
       "      <td>1</td>\n",
       "    </tr>\n",
       "    <tr>\n",
       "      <th>1</th>\n",
       "      <td>0</td>\n",
       "      <td>1</td>\n",
       "      <td>0</td>\n",
       "      <td>1</td>\n",
       "      <td>0</td>\n",
       "      <td>1</td>\n",
       "      <td>0</td>\n",
       "      <td>0</td>\n",
       "      <td>1</td>\n",
       "      <td>0</td>\n",
       "      <td>1</td>\n",
       "      <td>0</td>\n",
       "      <td>1</td>\n",
       "      <td>0</td>\n",
       "      <td>0</td>\n",
       "    </tr>\n",
       "  </tbody>\n",
       "</table>\n",
       "</div>"
      ],
      "text/plain": [
       "   Gender_Female  Gender_Male  Married_No  Married_Yes  Dependents_0  \\\n",
       "0              0            1           1            0             1   \n",
       "1              0            1           0            1             0   \n",
       "\n",
       "   Dependents_1  Dependents_2  Dependents_3+  Education_Graduate  \\\n",
       "0             0             0              0                   1   \n",
       "1             1             0              0                   1   \n",
       "\n",
       "   Education_Not Graduate  Self_Employed_No  Self_Employed_Yes  \\\n",
       "0                       0                 1                  0   \n",
       "1                       0                 1                  0   \n",
       "\n",
       "   Property_Area_Rural  Property_Area_Semiurban  Property_Area_Urban  \n",
       "0                    0                        0                    1  \n",
       "1                    1                        0                    0  "
      ]
     },
     "execution_count": 26,
     "metadata": {},
     "output_type": "execute_result"
    }
   ],
   "source": [
    "dfcat=pd.get_dummies(df1[cat])\n",
    "dfcat.head(2)"
   ]
  },
  {
   "cell_type": "code",
   "execution_count": null,
   "id": "bdcd66ee",
   "metadata": {},
   "outputs": [],
   "source": []
  },
  {
   "cell_type": "markdown",
   "id": "8b43249c",
   "metadata": {},
   "source": [
    "For Numerical or continuos features we will use StandardScalar Standardisation"
   ]
  },
  {
   "cell_type": "code",
   "execution_count": 27,
   "id": "033aa093",
   "metadata": {},
   "outputs": [],
   "source": [
    "from sklearn.preprocessing import StandardScaler\n",
    "ss=StandardScaler()\n",
    "dfcon=pd.DataFrame(ss.fit_transform(df1[con]),columns=con)"
   ]
  },
  {
   "cell_type": "code",
   "execution_count": 28,
   "id": "5b7b665a",
   "metadata": {},
   "outputs": [
    {
     "data": {
      "text/html": [
       "<div>\n",
       "<style scoped>\n",
       "    .dataframe tbody tr th:only-of-type {\n",
       "        vertical-align: middle;\n",
       "    }\n",
       "\n",
       "    .dataframe tbody tr th {\n",
       "        vertical-align: top;\n",
       "    }\n",
       "\n",
       "    .dataframe thead th {\n",
       "        text-align: right;\n",
       "    }\n",
       "</style>\n",
       "<table border=\"1\" class=\"dataframe\">\n",
       "  <thead>\n",
       "    <tr style=\"text-align: right;\">\n",
       "      <th></th>\n",
       "      <th>ApplicantIncome</th>\n",
       "      <th>CoapplicantIncome</th>\n",
       "      <th>LoanAmount</th>\n",
       "      <th>Loan_Amount_Term</th>\n",
       "      <th>Credit_History</th>\n",
       "    </tr>\n",
       "  </thead>\n",
       "  <tbody>\n",
       "    <tr>\n",
       "      <th>0</th>\n",
       "      <td>0.515465</td>\n",
       "      <td>-1.107731</td>\n",
       "      <td>0.000000</td>\n",
       "      <td>0.279851</td>\n",
       "      <td>0.45164</td>\n",
       "    </tr>\n",
       "    <tr>\n",
       "      <th>1</th>\n",
       "      <td>0.393196</td>\n",
       "      <td>0.782215</td>\n",
       "      <td>-0.219273</td>\n",
       "      <td>0.279851</td>\n",
       "      <td>0.45164</td>\n",
       "    </tr>\n",
       "  </tbody>\n",
       "</table>\n",
       "</div>"
      ],
      "text/plain": [
       "   ApplicantIncome  CoapplicantIncome  LoanAmount  Loan_Amount_Term  \\\n",
       "0         0.515465          -1.107731    0.000000          0.279851   \n",
       "1         0.393196           0.782215   -0.219273          0.279851   \n",
       "\n",
       "   Credit_History  \n",
       "0         0.45164  \n",
       "1         0.45164  "
      ]
     },
     "execution_count": 28,
     "metadata": {},
     "output_type": "execute_result"
    }
   ],
   "source": [
    "dfcon.head(2)"
   ]
  },
  {
   "cell_type": "code",
   "execution_count": null,
   "id": "c2a0a430",
   "metadata": {},
   "outputs": [],
   "source": []
  },
  {
   "cell_type": "markdown",
   "id": "15b70e39",
   "metadata": {},
   "source": [
    "joining cat and con dataframes"
   ]
  },
  {
   "cell_type": "code",
   "execution_count": 29,
   "id": "cd815c2c",
   "metadata": {},
   "outputs": [
    {
     "data": {
      "text/html": [
       "<div>\n",
       "<style scoped>\n",
       "    .dataframe tbody tr th:only-of-type {\n",
       "        vertical-align: middle;\n",
       "    }\n",
       "\n",
       "    .dataframe tbody tr th {\n",
       "        vertical-align: top;\n",
       "    }\n",
       "\n",
       "    .dataframe thead th {\n",
       "        text-align: right;\n",
       "    }\n",
       "</style>\n",
       "<table border=\"1\" class=\"dataframe\">\n",
       "  <thead>\n",
       "    <tr style=\"text-align: right;\">\n",
       "      <th></th>\n",
       "      <th>ApplicantIncome</th>\n",
       "      <th>CoapplicantIncome</th>\n",
       "      <th>LoanAmount</th>\n",
       "      <th>Loan_Amount_Term</th>\n",
       "      <th>Credit_History</th>\n",
       "      <th>Gender_Female</th>\n",
       "      <th>Gender_Male</th>\n",
       "      <th>Married_No</th>\n",
       "      <th>Married_Yes</th>\n",
       "      <th>Dependents_0</th>\n",
       "      <th>Dependents_1</th>\n",
       "      <th>Dependents_2</th>\n",
       "      <th>Dependents_3+</th>\n",
       "      <th>Education_Graduate</th>\n",
       "      <th>Education_Not Graduate</th>\n",
       "      <th>Self_Employed_No</th>\n",
       "      <th>Self_Employed_Yes</th>\n",
       "      <th>Property_Area_Rural</th>\n",
       "      <th>Property_Area_Semiurban</th>\n",
       "      <th>Property_Area_Urban</th>\n",
       "    </tr>\n",
       "  </thead>\n",
       "  <tbody>\n",
       "    <tr>\n",
       "      <th>0</th>\n",
       "      <td>0.515465</td>\n",
       "      <td>-1.107731</td>\n",
       "      <td>0.000000</td>\n",
       "      <td>0.279851</td>\n",
       "      <td>0.45164</td>\n",
       "      <td>0</td>\n",
       "      <td>1</td>\n",
       "      <td>1</td>\n",
       "      <td>0</td>\n",
       "      <td>1</td>\n",
       "      <td>0</td>\n",
       "      <td>0</td>\n",
       "      <td>0</td>\n",
       "      <td>1</td>\n",
       "      <td>0</td>\n",
       "      <td>1</td>\n",
       "      <td>0</td>\n",
       "      <td>0</td>\n",
       "      <td>0</td>\n",
       "      <td>1</td>\n",
       "    </tr>\n",
       "    <tr>\n",
       "      <th>1</th>\n",
       "      <td>0.393196</td>\n",
       "      <td>0.782215</td>\n",
       "      <td>-0.219273</td>\n",
       "      <td>0.279851</td>\n",
       "      <td>0.45164</td>\n",
       "      <td>0</td>\n",
       "      <td>1</td>\n",
       "      <td>0</td>\n",
       "      <td>1</td>\n",
       "      <td>0</td>\n",
       "      <td>1</td>\n",
       "      <td>0</td>\n",
       "      <td>0</td>\n",
       "      <td>1</td>\n",
       "      <td>0</td>\n",
       "      <td>1</td>\n",
       "      <td>0</td>\n",
       "      <td>1</td>\n",
       "      <td>0</td>\n",
       "      <td>0</td>\n",
       "    </tr>\n",
       "    <tr>\n",
       "      <th>2</th>\n",
       "      <td>-0.519896</td>\n",
       "      <td>-1.107731</td>\n",
       "      <td>-0.957641</td>\n",
       "      <td>0.279851</td>\n",
       "      <td>0.45164</td>\n",
       "      <td>0</td>\n",
       "      <td>1</td>\n",
       "      <td>0</td>\n",
       "      <td>1</td>\n",
       "      <td>1</td>\n",
       "      <td>0</td>\n",
       "      <td>0</td>\n",
       "      <td>0</td>\n",
       "      <td>1</td>\n",
       "      <td>0</td>\n",
       "      <td>0</td>\n",
       "      <td>1</td>\n",
       "      <td>0</td>\n",
       "      <td>0</td>\n",
       "      <td>1</td>\n",
       "    </tr>\n",
       "    <tr>\n",
       "      <th>3</th>\n",
       "      <td>-0.751980</td>\n",
       "      <td>0.897656</td>\n",
       "      <td>-0.314547</td>\n",
       "      <td>0.279851</td>\n",
       "      <td>0.45164</td>\n",
       "      <td>0</td>\n",
       "      <td>1</td>\n",
       "      <td>0</td>\n",
       "      <td>1</td>\n",
       "      <td>1</td>\n",
       "      <td>0</td>\n",
       "      <td>0</td>\n",
       "      <td>0</td>\n",
       "      <td>0</td>\n",
       "      <td>1</td>\n",
       "      <td>1</td>\n",
       "      <td>0</td>\n",
       "      <td>0</td>\n",
       "      <td>0</td>\n",
       "      <td>1</td>\n",
       "    </tr>\n",
       "    <tr>\n",
       "      <th>4</th>\n",
       "      <td>0.554992</td>\n",
       "      <td>-1.107731</td>\n",
       "      <td>-0.064454</td>\n",
       "      <td>0.279851</td>\n",
       "      <td>0.45164</td>\n",
       "      <td>0</td>\n",
       "      <td>1</td>\n",
       "      <td>1</td>\n",
       "      <td>0</td>\n",
       "      <td>1</td>\n",
       "      <td>0</td>\n",
       "      <td>0</td>\n",
       "      <td>0</td>\n",
       "      <td>1</td>\n",
       "      <td>0</td>\n",
       "      <td>1</td>\n",
       "      <td>0</td>\n",
       "      <td>0</td>\n",
       "      <td>0</td>\n",
       "      <td>1</td>\n",
       "    </tr>\n",
       "  </tbody>\n",
       "</table>\n",
       "</div>"
      ],
      "text/plain": [
       "   ApplicantIncome  CoapplicantIncome  LoanAmount  Loan_Amount_Term  \\\n",
       "0         0.515465          -1.107731    0.000000          0.279851   \n",
       "1         0.393196           0.782215   -0.219273          0.279851   \n",
       "2        -0.519896          -1.107731   -0.957641          0.279851   \n",
       "3        -0.751980           0.897656   -0.314547          0.279851   \n",
       "4         0.554992          -1.107731   -0.064454          0.279851   \n",
       "\n",
       "   Credit_History  Gender_Female  Gender_Male  Married_No  Married_Yes  \\\n",
       "0         0.45164              0            1           1            0   \n",
       "1         0.45164              0            1           0            1   \n",
       "2         0.45164              0            1           0            1   \n",
       "3         0.45164              0            1           0            1   \n",
       "4         0.45164              0            1           1            0   \n",
       "\n",
       "   Dependents_0  Dependents_1  Dependents_2  Dependents_3+  \\\n",
       "0             1             0             0              0   \n",
       "1             0             1             0              0   \n",
       "2             1             0             0              0   \n",
       "3             1             0             0              0   \n",
       "4             1             0             0              0   \n",
       "\n",
       "   Education_Graduate  Education_Not Graduate  Self_Employed_No  \\\n",
       "0                   1                       0                 1   \n",
       "1                   1                       0                 1   \n",
       "2                   1                       0                 0   \n",
       "3                   0                       1                 1   \n",
       "4                   1                       0                 1   \n",
       "\n",
       "   Self_Employed_Yes  Property_Area_Rural  Property_Area_Semiurban  \\\n",
       "0                  0                    0                        0   \n",
       "1                  0                    1                        0   \n",
       "2                  1                    0                        0   \n",
       "3                  0                    0                        0   \n",
       "4                  0                    0                        0   \n",
       "\n",
       "   Property_Area_Urban  \n",
       "0                    1  \n",
       "1                    0  \n",
       "2                    1  \n",
       "3                    1  \n",
       "4                    1  "
      ]
     },
     "execution_count": 29,
     "metadata": {},
     "output_type": "execute_result"
    }
   ],
   "source": [
    "X1=pd.concat([dfcon,dfcat],axis=1)\n",
    "X1.head()"
   ]
  },
  {
   "cell_type": "code",
   "execution_count": 30,
   "id": "5267685f",
   "metadata": {},
   "outputs": [
    {
     "data": {
      "text/html": [
       "<div>\n",
       "<style scoped>\n",
       "    .dataframe tbody tr th:only-of-type {\n",
       "        vertical-align: middle;\n",
       "    }\n",
       "\n",
       "    .dataframe tbody tr th {\n",
       "        vertical-align: top;\n",
       "    }\n",
       "\n",
       "    .dataframe thead th {\n",
       "        text-align: right;\n",
       "    }\n",
       "</style>\n",
       "<table border=\"1\" class=\"dataframe\">\n",
       "  <thead>\n",
       "    <tr style=\"text-align: right;\">\n",
       "      <th></th>\n",
       "      <th>CoapplicantIncome</th>\n",
       "      <th>Credit_History</th>\n",
       "      <th>Married_No</th>\n",
       "      <th>Married_Yes</th>\n",
       "      <th>Education_Graduate</th>\n",
       "      <th>Education_Not Graduate</th>\n",
       "      <th>Property_Area_Rural</th>\n",
       "      <th>Property_Area_Semiurban</th>\n",
       "      <th>Property_Area_Urban</th>\n",
       "    </tr>\n",
       "  </thead>\n",
       "  <tbody>\n",
       "    <tr>\n",
       "      <th>0</th>\n",
       "      <td>-1.107731</td>\n",
       "      <td>0.45164</td>\n",
       "      <td>1</td>\n",
       "      <td>0</td>\n",
       "      <td>1</td>\n",
       "      <td>0</td>\n",
       "      <td>0</td>\n",
       "      <td>0</td>\n",
       "      <td>1</td>\n",
       "    </tr>\n",
       "    <tr>\n",
       "      <th>1</th>\n",
       "      <td>0.782215</td>\n",
       "      <td>0.45164</td>\n",
       "      <td>0</td>\n",
       "      <td>1</td>\n",
       "      <td>1</td>\n",
       "      <td>0</td>\n",
       "      <td>1</td>\n",
       "      <td>0</td>\n",
       "      <td>0</td>\n",
       "    </tr>\n",
       "    <tr>\n",
       "      <th>2</th>\n",
       "      <td>-1.107731</td>\n",
       "      <td>0.45164</td>\n",
       "      <td>0</td>\n",
       "      <td>1</td>\n",
       "      <td>1</td>\n",
       "      <td>0</td>\n",
       "      <td>0</td>\n",
       "      <td>0</td>\n",
       "      <td>1</td>\n",
       "    </tr>\n",
       "    <tr>\n",
       "      <th>3</th>\n",
       "      <td>0.897656</td>\n",
       "      <td>0.45164</td>\n",
       "      <td>0</td>\n",
       "      <td>1</td>\n",
       "      <td>0</td>\n",
       "      <td>1</td>\n",
       "      <td>0</td>\n",
       "      <td>0</td>\n",
       "      <td>1</td>\n",
       "    </tr>\n",
       "    <tr>\n",
       "      <th>4</th>\n",
       "      <td>-1.107731</td>\n",
       "      <td>0.45164</td>\n",
       "      <td>1</td>\n",
       "      <td>0</td>\n",
       "      <td>1</td>\n",
       "      <td>0</td>\n",
       "      <td>0</td>\n",
       "      <td>0</td>\n",
       "      <td>1</td>\n",
       "    </tr>\n",
       "  </tbody>\n",
       "</table>\n",
       "</div>"
      ],
      "text/plain": [
       "   CoapplicantIncome  Credit_History  Married_No  Married_Yes  \\\n",
       "0          -1.107731         0.45164           1            0   \n",
       "1           0.782215         0.45164           0            1   \n",
       "2          -1.107731         0.45164           0            1   \n",
       "3           0.897656         0.45164           0            1   \n",
       "4          -1.107731         0.45164           1            0   \n",
       "\n",
       "   Education_Graduate  Education_Not Graduate  Property_Area_Rural  \\\n",
       "0                   1                       0                    0   \n",
       "1                   1                       0                    1   \n",
       "2                   1                       0                    0   \n",
       "3                   0                       1                    0   \n",
       "4                   1                       0                    0   \n",
       "\n",
       "   Property_Area_Semiurban  Property_Area_Urban  \n",
       "0                        0                    1  \n",
       "1                        0                    0  \n",
       "2                        0                    1  \n",
       "3                        0                    1  \n",
       "4                        0                    1  "
      ]
     },
     "execution_count": 30,
     "metadata": {},
     "output_type": "execute_result"
    }
   ],
   "source": [
    "X2=X1[imp_cols2]\n",
    "X2.head()       #this is for linear model with imp- features"
   ]
  },
  {
   "cell_type": "code",
   "execution_count": null,
   "id": "100ef91f",
   "metadata": {},
   "outputs": [],
   "source": []
  },
  {
   "cell_type": "markdown",
   "id": "739283c1",
   "metadata": {},
   "source": [
    "Here we are classifying eligibility for loan ,so the target variable will be 'Loan_Status'."
   ]
  },
  {
   "cell_type": "code",
   "execution_count": 31,
   "id": "29dad5cb",
   "metadata": {},
   "outputs": [],
   "source": [
    "Y=df1[['Loan_Status']]"
   ]
  },
  {
   "cell_type": "markdown",
   "id": "8dea6f78",
   "metadata": {},
   "source": [
    "# Logistic Regression"
   ]
  },
  {
   "cell_type": "code",
   "execution_count": 32,
   "id": "397942b9",
   "metadata": {},
   "outputs": [],
   "source": [
    "from sklearn.model_selection import train_test_split\n",
    "xtrain,xtest,ytrain,ytest=train_test_split(X2,Y,test_size=0.2,random_state=21)\n",
    "from sklearn.linear_model import LogisticRegression\n",
    "lo=LogisticRegression()\n",
    "lomodel = lo.fit(xtrain,ytrain)\n",
    "from sklearn.metrics import accuracy_score,confusion_matrix\n",
    "pred_tr = lomodel.predict(xtrain)\n",
    "pred_ts = lomodel.predict(xtest)\n",
    "tr_acc = accuracy_score(ytrain,pred_tr)\n",
    "ts_acc = accuracy_score(ytest,pred_ts)"
   ]
  },
  {
   "cell_type": "code",
   "execution_count": 33,
   "id": "e1871090",
   "metadata": {},
   "outputs": [
    {
     "data": {
      "text/plain": [
       "0.8044806517311609"
      ]
     },
     "execution_count": 33,
     "metadata": {},
     "output_type": "execute_result"
    }
   ],
   "source": [
    "tr_acc"
   ]
  },
  {
   "cell_type": "code",
   "execution_count": 34,
   "id": "cd70b4dd",
   "metadata": {},
   "outputs": [
    {
     "data": {
      "text/plain": [
       "0.8130081300813008"
      ]
     },
     "execution_count": 34,
     "metadata": {},
     "output_type": "execute_result"
    }
   ],
   "source": [
    "ts_acc"
   ]
  },
  {
   "cell_type": "code",
   "execution_count": 35,
   "id": "cda32b2e",
   "metadata": {},
   "outputs": [],
   "source": [
    "def model_builder(mod):\n",
    "    from sklearn.model_selection import train_test_split\n",
    "    from sklearn.metrics import accuracy_score,confusion_matrix\n",
    "    xtrain,xtest,ytrain,ytest=train_test_split(X1,Y,test_size=0.2,random_state=21)\n",
    "    model = mod.fit(xtrain,ytrain)\n",
    "    pred_tr = model.predict(xtrain)\n",
    "    pred_ts = model.predict(xtest)\n",
    "    tr_acc = accuracy_score(ytrain,pred_tr)\n",
    "    ts_acc = accuracy_score(ytest,pred_ts)\n",
    "    tr_acc1=round(tr_acc,3)\n",
    "    ts_acc1=round(ts_acc,3)\n",
    "    return tr_acc1,ts_acc1,confusion_matrix(ytest,pred_ts)"
   ]
  },
  {
   "cell_type": "code",
   "execution_count": null,
   "id": "b1e4a466",
   "metadata": {},
   "outputs": [],
   "source": []
  },
  {
   "cell_type": "code",
   "execution_count": 36,
   "id": "ca31563d",
   "metadata": {},
   "outputs": [
    {
     "data": {
      "text/plain": [
       "(0.815,\n",
       " 0.821,\n",
       " array([[19, 19],\n",
       "        [ 3, 82]], dtype=int64))"
      ]
     },
     "execution_count": 36,
     "metadata": {},
     "output_type": "execute_result"
    }
   ],
   "source": [
    "from sklearn.tree import DecisionTreeClassifier\n",
    "dtc=DecisionTreeClassifier(random_state=21,max_depth=3)\n",
    "model_builder(dtc)"
   ]
  },
  {
   "cell_type": "code",
   "execution_count": 37,
   "id": "dda45b6c",
   "metadata": {},
   "outputs": [
    {
     "data": {
      "text/plain": [
       "(0.807,\n",
       " 0.821,\n",
       " array([[19, 19],\n",
       "        [ 3, 82]], dtype=int64))"
      ]
     },
     "execution_count": 37,
     "metadata": {},
     "output_type": "execute_result"
    }
   ],
   "source": [
    "from sklearn.ensemble import RandomForestClassifier\n",
    "rf=RandomForestClassifier(random_state=21,max_depth=2)\n",
    "model_builder(rf)"
   ]
  },
  {
   "cell_type": "code",
   "execution_count": 38,
   "id": "50bde7c5",
   "metadata": {},
   "outputs": [
    {
     "data": {
      "text/plain": [
       "(1.0,\n",
       " 0.74,\n",
       " array([[22, 16],\n",
       "        [16, 69]], dtype=int64))"
      ]
     },
     "execution_count": 38,
     "metadata": {},
     "output_type": "execute_result"
    }
   ],
   "source": [
    "from sklearn.ensemble import AdaBoostClassifier\n",
    "adb=AdaBoostClassifier(dtc)\n",
    "model_builder(adb)"
   ]
  },
  {
   "cell_type": "markdown",
   "id": "b056d285",
   "metadata": {},
   "source": [
    "# Regularization "
   ]
  },
  {
   "cell_type": "code",
   "execution_count": 39,
   "id": "fe19006b",
   "metadata": {},
   "outputs": [
    {
     "name": "stdout",
     "output_type": "stream",
     "text": [
      "Results for max depth: 1\n",
      "(0.807, 0.821, array([[19, 19],\n",
      "       [ 3, 82]], dtype=int64))\n",
      "Results for max depth: 2\n",
      "(0.815, 0.821, array([[19, 19],\n",
      "       [ 3, 82]], dtype=int64))\n",
      "Results for max depth: 3\n",
      "(0.815, 0.821, array([[19, 19],\n",
      "       [ 3, 82]], dtype=int64))\n",
      "Results for max depth: 4\n",
      "(0.827, 0.789, array([[20, 18],\n",
      "       [ 8, 77]], dtype=int64))\n",
      "Results for max depth: 5\n",
      "(0.837, 0.805, array([[18, 20],\n",
      "       [ 4, 81]], dtype=int64))\n",
      "Results for max depth: 6\n",
      "(0.855, 0.789, array([[18, 20],\n",
      "       [ 6, 79]], dtype=int64))\n",
      "Results for max depth: 7\n",
      "(0.874, 0.78, array([[20, 18],\n",
      "       [ 9, 76]], dtype=int64))\n",
      "Results for max depth: 8\n",
      "(0.89, 0.772, array([[19, 19],\n",
      "       [ 9, 76]], dtype=int64))\n",
      "Results for max depth: 9\n",
      "(0.9, 0.764, array([[19, 19],\n",
      "       [10, 75]], dtype=int64))\n",
      "Results for max depth: 10\n",
      "(0.923, 0.764, array([[20, 18],\n",
      "       [11, 74]], dtype=int64))\n",
      "Results for max depth: 11\n",
      "(0.939, 0.715, array([[21, 17],\n",
      "       [18, 67]], dtype=int64))\n",
      "Results for max depth: 12\n",
      "(0.953, 0.699, array([[22, 16],\n",
      "       [21, 64]], dtype=int64))\n",
      "Results for max depth: 13\n",
      "(0.961, 0.691, array([[21, 17],\n",
      "       [21, 64]], dtype=int64))\n",
      "Results for max depth: 14\n",
      "(0.967, 0.675, array([[21, 17],\n",
      "       [23, 62]], dtype=int64))\n",
      "Results for max depth: 15\n",
      "(0.98, 0.683, array([[21, 17],\n",
      "       [22, 63]], dtype=int64))\n",
      "Results for max depth: 16\n",
      "(0.988, 0.707, array([[23, 15],\n",
      "       [21, 64]], dtype=int64))\n",
      "Results for max depth: 17\n",
      "(0.996, 0.691, array([[21, 17],\n",
      "       [21, 64]], dtype=int64))\n",
      "Results for max depth: 18\n",
      "(0.998, 0.683, array([[22, 16],\n",
      "       [23, 62]], dtype=int64))\n",
      "Results for max depth: 19\n",
      "(1.0, 0.691, array([[23, 15],\n",
      "       [23, 62]], dtype=int64))\n",
      "Results for max depth: 20\n",
      "(1.0, 0.691, array([[23, 15],\n",
      "       [23, 62]], dtype=int64))\n",
      "Results for max depth: 21\n",
      "(1.0, 0.691, array([[23, 15],\n",
      "       [23, 62]], dtype=int64))\n",
      "Results for max depth: 22\n",
      "(1.0, 0.691, array([[23, 15],\n",
      "       [23, 62]], dtype=int64))\n",
      "Results for max depth: 23\n",
      "(1.0, 0.691, array([[23, 15],\n",
      "       [23, 62]], dtype=int64))\n",
      "Results for max depth: 24\n",
      "(1.0, 0.691, array([[23, 15],\n",
      "       [23, 62]], dtype=int64))\n",
      "Results for max depth: 25\n",
      "(1.0, 0.691, array([[23, 15],\n",
      "       [23, 62]], dtype=int64))\n",
      "Results for max depth: 26\n",
      "(1.0, 0.691, array([[23, 15],\n",
      "       [23, 62]], dtype=int64))\n",
      "Results for max depth: 27\n",
      "(1.0, 0.691, array([[23, 15],\n",
      "       [23, 62]], dtype=int64))\n",
      "Results for max depth: 28\n",
      "(1.0, 0.691, array([[23, 15],\n",
      "       [23, 62]], dtype=int64))\n",
      "Results for max depth: 29\n",
      "(1.0, 0.691, array([[23, 15],\n",
      "       [23, 62]], dtype=int64))\n",
      "Results for max depth: 30\n",
      "(1.0, 0.691, array([[23, 15],\n",
      "       [23, 62]], dtype=int64))\n",
      "Results for max depth: 31\n",
      "(1.0, 0.691, array([[23, 15],\n",
      "       [23, 62]], dtype=int64))\n",
      "Results for max depth: 32\n",
      "(1.0, 0.691, array([[23, 15],\n",
      "       [23, 62]], dtype=int64))\n",
      "Results for max depth: 33\n",
      "(1.0, 0.691, array([[23, 15],\n",
      "       [23, 62]], dtype=int64))\n",
      "Results for max depth: 34\n",
      "(1.0, 0.691, array([[23, 15],\n",
      "       [23, 62]], dtype=int64))\n",
      "Results for max depth: 35\n",
      "(1.0, 0.691, array([[23, 15],\n",
      "       [23, 62]], dtype=int64))\n",
      "Results for max depth: 36\n",
      "(1.0, 0.691, array([[23, 15],\n",
      "       [23, 62]], dtype=int64))\n",
      "Results for max depth: 37\n",
      "(1.0, 0.691, array([[23, 15],\n",
      "       [23, 62]], dtype=int64))\n",
      "Results for max depth: 38\n",
      "(1.0, 0.691, array([[23, 15],\n",
      "       [23, 62]], dtype=int64))\n",
      "Results for max depth: 39\n",
      "(1.0, 0.691, array([[23, 15],\n",
      "       [23, 62]], dtype=int64))\n"
     ]
    }
   ],
   "source": [
    "for i in range(1,40,1):\n",
    "    dtc = DecisionTreeClassifier(random_state=21,max_depth=i)\n",
    "    print(\"Results for max depth: %d\"%i)\n",
    "    print(model_builder(dtc))"
   ]
  },
  {
   "cell_type": "code",
   "execution_count": 40,
   "id": "e519b61b",
   "metadata": {},
   "outputs": [
    {
     "name": "stdout",
     "output_type": "stream",
     "text": [
      "Results for min_samples_leaf: 1\n",
      "(1.0, 0.691, array([[23, 15],\n",
      "       [23, 62]], dtype=int64))\n",
      "Results for min_samples_leaf: 2\n",
      "(0.947, 0.675, array([[22, 16],\n",
      "       [24, 61]], dtype=int64))\n",
      "Results for min_samples_leaf: 3\n",
      "(0.914, 0.691, array([[22, 16],\n",
      "       [22, 63]], dtype=int64))\n",
      "Results for min_samples_leaf: 4\n",
      "(0.886, 0.699, array([[23, 15],\n",
      "       [22, 63]], dtype=int64))\n",
      "Results for min_samples_leaf: 5\n",
      "(0.876, 0.74, array([[21, 17],\n",
      "       [15, 70]], dtype=int64))\n",
      "Results for min_samples_leaf: 6\n",
      "(0.857, 0.683, array([[20, 18],\n",
      "       [21, 64]], dtype=int64))\n",
      "Results for min_samples_leaf: 7\n",
      "(0.847, 0.715, array([[22, 16],\n",
      "       [19, 66]], dtype=int64))\n",
      "Results for min_samples_leaf: 8\n",
      "(0.841, 0.715, array([[22, 16],\n",
      "       [19, 66]], dtype=int64))\n",
      "Results for min_samples_leaf: 9\n",
      "(0.841, 0.724, array([[22, 16],\n",
      "       [18, 67]], dtype=int64))\n",
      "Results for min_samples_leaf: 10\n",
      "(0.831, 0.756, array([[21, 17],\n",
      "       [13, 72]], dtype=int64))\n",
      "Results for min_samples_leaf: 11\n",
      "(0.831, 0.772, array([[20, 18],\n",
      "       [10, 75]], dtype=int64))\n",
      "Results for min_samples_leaf: 12\n",
      "(0.831, 0.772, array([[20, 18],\n",
      "       [10, 75]], dtype=int64))\n",
      "Results for min_samples_leaf: 13\n",
      "(0.831, 0.772, array([[20, 18],\n",
      "       [10, 75]], dtype=int64))\n",
      "Results for min_samples_leaf: 14\n",
      "(0.829, 0.772, array([[20, 18],\n",
      "       [10, 75]], dtype=int64))\n",
      "Results for min_samples_leaf: 15\n",
      "(0.831, 0.756, array([[20, 18],\n",
      "       [12, 73]], dtype=int64))\n",
      "Results for min_samples_leaf: 16\n",
      "(0.827, 0.748, array([[20, 18],\n",
      "       [13, 72]], dtype=int64))\n",
      "Results for min_samples_leaf: 17\n",
      "(0.823, 0.756, array([[20, 18],\n",
      "       [12, 73]], dtype=int64))\n",
      "Results for min_samples_leaf: 18\n",
      "(0.815, 0.707, array([[22, 16],\n",
      "       [20, 65]], dtype=int64))\n",
      "Results for min_samples_leaf: 19\n",
      "(0.815, 0.707, array([[22, 16],\n",
      "       [20, 65]], dtype=int64))\n",
      "Results for min_samples_leaf: 20\n",
      "(0.815, 0.707, array([[22, 16],\n",
      "       [20, 65]], dtype=int64))\n",
      "Results for min_samples_leaf: 21\n",
      "(0.815, 0.699, array([[22, 16],\n",
      "       [21, 64]], dtype=int64))\n",
      "Results for min_samples_leaf: 22\n",
      "(0.811, 0.683, array([[21, 17],\n",
      "       [22, 63]], dtype=int64))\n",
      "Results for min_samples_leaf: 23\n",
      "(0.809, 0.772, array([[21, 17],\n",
      "       [11, 74]], dtype=int64))\n",
      "Results for min_samples_leaf: 24\n",
      "(0.809, 0.772, array([[21, 17],\n",
      "       [11, 74]], dtype=int64))\n",
      "Results for min_samples_leaf: 25\n",
      "(0.809, 0.772, array([[21, 17],\n",
      "       [11, 74]], dtype=int64))\n",
      "Results for min_samples_leaf: 26\n",
      "(0.807, 0.821, array([[19, 19],\n",
      "       [ 3, 82]], dtype=int64))\n",
      "Results for min_samples_leaf: 27\n",
      "(0.807, 0.821, array([[19, 19],\n",
      "       [ 3, 82]], dtype=int64))\n",
      "Results for min_samples_leaf: 28\n",
      "(0.807, 0.821, array([[19, 19],\n",
      "       [ 3, 82]], dtype=int64))\n",
      "Results for min_samples_leaf: 29\n",
      "(0.807, 0.821, array([[19, 19],\n",
      "       [ 3, 82]], dtype=int64))\n",
      "Results for min_samples_leaf: 30\n",
      "(0.807, 0.821, array([[19, 19],\n",
      "       [ 3, 82]], dtype=int64))\n",
      "Results for min_samples_leaf: 31\n",
      "(0.807, 0.821, array([[19, 19],\n",
      "       [ 3, 82]], dtype=int64))\n",
      "Results for min_samples_leaf: 32\n",
      "(0.807, 0.821, array([[19, 19],\n",
      "       [ 3, 82]], dtype=int64))\n",
      "Results for min_samples_leaf: 33\n",
      "(0.807, 0.821, array([[19, 19],\n",
      "       [ 3, 82]], dtype=int64))\n",
      "Results for min_samples_leaf: 34\n",
      "(0.807, 0.821, array([[19, 19],\n",
      "       [ 3, 82]], dtype=int64))\n",
      "Results for min_samples_leaf: 35\n",
      "(0.807, 0.821, array([[19, 19],\n",
      "       [ 3, 82]], dtype=int64))\n",
      "Results for min_samples_leaf: 36\n",
      "(0.807, 0.821, array([[19, 19],\n",
      "       [ 3, 82]], dtype=int64))\n",
      "Results for min_samples_leaf: 37\n",
      "(0.807, 0.821, array([[19, 19],\n",
      "       [ 3, 82]], dtype=int64))\n",
      "Results for min_samples_leaf: 38\n",
      "(0.807, 0.821, array([[19, 19],\n",
      "       [ 3, 82]], dtype=int64))\n",
      "Results for min_samples_leaf: 39\n",
      "(0.807, 0.821, array([[19, 19],\n",
      "       [ 3, 82]], dtype=int64))\n"
     ]
    }
   ],
   "source": [
    "for i in range(1,40,1):\n",
    "    dtc = DecisionTreeClassifier(random_state=21,min_samples_leaf=i)\n",
    "    print(\"Results for min_samples_leaf: %d\"%i)\n",
    "    print(model_builder(dtc))"
   ]
  },
  {
   "cell_type": "code",
   "execution_count": 41,
   "id": "197db37a",
   "metadata": {},
   "outputs": [
    {
     "name": "stdout",
     "output_type": "stream",
     "text": [
      "Results for n_estimators: 2\n",
      "(0.815, 0.821, array([[19, 19],\n",
      "       [ 3, 82]], dtype=int64))\n",
      "Results for n_estimators: 3\n",
      "(0.815, 0.78, array([[20, 18],\n",
      "       [ 9, 76]], dtype=int64))\n",
      "Results for n_estimators: 4\n",
      "(0.817, 0.772, array([[20, 18],\n",
      "       [10, 75]], dtype=int64))\n",
      "Results for n_estimators: 5\n",
      "(0.819, 0.756, array([[20, 18],\n",
      "       [12, 73]], dtype=int64))\n",
      "Results for n_estimators: 6\n",
      "(0.829, 0.715, array([[22, 16],\n",
      "       [19, 66]], dtype=int64))\n",
      "Results for n_estimators: 7\n",
      "(0.827, 0.715, array([[22, 16],\n",
      "       [19, 66]], dtype=int64))\n",
      "Results for n_estimators: 8\n",
      "(0.833, 0.724, array([[21, 17],\n",
      "       [17, 68]], dtype=int64))\n",
      "Results for n_estimators: 9\n",
      "(0.843, 0.724, array([[22, 16],\n",
      "       [18, 67]], dtype=int64))\n",
      "Results for n_estimators: 10\n",
      "(0.847, 0.724, array([[22, 16],\n",
      "       [18, 67]], dtype=int64))\n",
      "Results for n_estimators: 11\n",
      "(0.853, 0.724, array([[22, 16],\n",
      "       [18, 67]], dtype=int64))\n",
      "Results for n_estimators: 12\n",
      "(0.857, 0.74, array([[22, 16],\n",
      "       [16, 69]], dtype=int64))\n",
      "Results for n_estimators: 13\n",
      "(0.864, 0.74, array([[22, 16],\n",
      "       [16, 69]], dtype=int64))\n",
      "Results for n_estimators: 14\n",
      "(0.862, 0.756, array([[22, 16],\n",
      "       [14, 71]], dtype=int64))\n",
      "Results for n_estimators: 15\n",
      "(0.87, 0.715, array([[22, 16],\n",
      "       [19, 66]], dtype=int64))\n",
      "Results for n_estimators: 16\n",
      "(0.872, 0.707, array([[23, 15],\n",
      "       [21, 64]], dtype=int64))\n",
      "Results for n_estimators: 17\n",
      "(0.874, 0.707, array([[23, 15],\n",
      "       [21, 64]], dtype=int64))\n",
      "Results for n_estimators: 18\n",
      "(0.876, 0.748, array([[23, 15],\n",
      "       [16, 69]], dtype=int64))\n",
      "Results for n_estimators: 19\n",
      "(0.884, 0.724, array([[23, 15],\n",
      "       [19, 66]], dtype=int64))\n",
      "Results for n_estimators: 20\n",
      "(0.884, 0.732, array([[23, 15],\n",
      "       [18, 67]], dtype=int64))\n",
      "Results for n_estimators: 21\n",
      "(0.88, 0.74, array([[23, 15],\n",
      "       [17, 68]], dtype=int64))\n",
      "Results for n_estimators: 22\n",
      "(0.896, 0.707, array([[23, 15],\n",
      "       [21, 64]], dtype=int64))\n",
      "Results for n_estimators: 23\n",
      "(0.894, 0.699, array([[22, 16],\n",
      "       [21, 64]], dtype=int64))\n",
      "Results for n_estimators: 24\n",
      "(0.896, 0.699, array([[21, 17],\n",
      "       [20, 65]], dtype=int64))\n",
      "Results for n_estimators: 25\n",
      "(0.9, 0.691, array([[21, 17],\n",
      "       [21, 64]], dtype=int64))\n",
      "Results for n_estimators: 26\n",
      "(0.9, 0.691, array([[21, 17],\n",
      "       [21, 64]], dtype=int64))\n",
      "Results for n_estimators: 27\n",
      "(0.898, 0.699, array([[22, 16],\n",
      "       [21, 64]], dtype=int64))\n",
      "Results for n_estimators: 28\n",
      "(0.892, 0.707, array([[22, 16],\n",
      "       [20, 65]], dtype=int64))\n",
      "Results for n_estimators: 29\n",
      "(0.898, 0.707, array([[22, 16],\n",
      "       [20, 65]], dtype=int64))\n",
      "Results for n_estimators: 30\n",
      "(0.906, 0.707, array([[22, 16],\n",
      "       [20, 65]], dtype=int64))\n",
      "Results for n_estimators: 31\n",
      "(0.914, 0.715, array([[22, 16],\n",
      "       [19, 66]], dtype=int64))\n",
      "Results for n_estimators: 32\n",
      "(0.914, 0.715, array([[24, 14],\n",
      "       [21, 64]], dtype=int64))\n",
      "Results for n_estimators: 33\n",
      "(0.916, 0.715, array([[24, 14],\n",
      "       [21, 64]], dtype=int64))\n",
      "Results for n_estimators: 34\n",
      "(0.921, 0.707, array([[23, 15],\n",
      "       [21, 64]], dtype=int64))\n",
      "Results for n_estimators: 35\n",
      "(0.929, 0.691, array([[21, 17],\n",
      "       [21, 64]], dtype=int64))\n",
      "Results for n_estimators: 36\n",
      "(0.929, 0.675, array([[19, 19],\n",
      "       [21, 64]], dtype=int64))\n",
      "Results for n_estimators: 37\n",
      "(0.929, 0.691, array([[19, 19],\n",
      "       [19, 66]], dtype=int64))\n",
      "Results for n_estimators: 38\n",
      "(0.933, 0.675, array([[19, 19],\n",
      "       [21, 64]], dtype=int64))\n",
      "Results for n_estimators: 39\n",
      "(0.927, 0.707, array([[20, 18],\n",
      "       [18, 67]], dtype=int64))\n",
      "Results for n_estimators: 40\n",
      "(0.923, 0.699, array([[19, 19],\n",
      "       [18, 67]], dtype=int64))\n",
      "Results for n_estimators: 41\n",
      "(0.923, 0.699, array([[20, 18],\n",
      "       [19, 66]], dtype=int64))\n",
      "Results for n_estimators: 42\n",
      "(0.929, 0.699, array([[20, 18],\n",
      "       [19, 66]], dtype=int64))\n",
      "Results for n_estimators: 43\n",
      "(0.929, 0.707, array([[19, 19],\n",
      "       [17, 68]], dtype=int64))\n",
      "Results for n_estimators: 44\n",
      "(0.931, 0.699, array([[19, 19],\n",
      "       [18, 67]], dtype=int64))\n",
      "Results for n_estimators: 45\n",
      "(0.939, 0.707, array([[20, 18],\n",
      "       [18, 67]], dtype=int64))\n",
      "Results for n_estimators: 46\n",
      "(0.939, 0.691, array([[20, 18],\n",
      "       [20, 65]], dtype=int64))\n",
      "Results for n_estimators: 47\n",
      "(0.943, 0.683, array([[19, 19],\n",
      "       [20, 65]], dtype=int64))\n",
      "Results for n_estimators: 48\n",
      "(0.943, 0.683, array([[19, 19],\n",
      "       [20, 65]], dtype=int64))\n",
      "Results for n_estimators: 49\n",
      "(0.947, 0.691, array([[20, 18],\n",
      "       [20, 65]], dtype=int64))\n"
     ]
    }
   ],
   "source": [
    "for i in range(2,50):\n",
    "    abc = AdaBoostClassifier(DecisionTreeClassifier(random_state=21,max_depth=2),n_estimators=i)\n",
    "    print(\"Results for n_estimators: %d\"%i)\n",
    "    print(model_builder(abc))"
   ]
  },
  {
   "cell_type": "code",
   "execution_count": null,
   "id": "c6b677b9",
   "metadata": {},
   "outputs": [],
   "source": []
  },
  {
   "cell_type": "code",
   "execution_count": null,
   "id": "bc8b3971",
   "metadata": {},
   "outputs": [],
   "source": []
  },
  {
   "cell_type": "markdown",
   "id": "af46d9b1",
   "metadata": {},
   "source": [
    "# ML Model for test data"
   ]
  },
  {
   "cell_type": "markdown",
   "id": "55ac55e0",
   "metadata": {},
   "source": [
    "we are getting good results with LogisticRegression coz its binary classification . we will work on test data with Logistic."
   ]
  },
  {
   "cell_type": "code",
   "execution_count": 246,
   "id": "864e0ca0",
   "metadata": {},
   "outputs": [
    {
     "data": {
      "text/html": [
       "<div>\n",
       "<style scoped>\n",
       "    .dataframe tbody tr th:only-of-type {\n",
       "        vertical-align: middle;\n",
       "    }\n",
       "\n",
       "    .dataframe tbody tr th {\n",
       "        vertical-align: top;\n",
       "    }\n",
       "\n",
       "    .dataframe thead th {\n",
       "        text-align: right;\n",
       "    }\n",
       "</style>\n",
       "<table border=\"1\" class=\"dataframe\">\n",
       "  <thead>\n",
       "    <tr style=\"text-align: right;\">\n",
       "      <th></th>\n",
       "      <th>Loan_ID</th>\n",
       "      <th>Gender</th>\n",
       "      <th>Married</th>\n",
       "      <th>Dependents</th>\n",
       "      <th>Education</th>\n",
       "      <th>Self_Employed</th>\n",
       "      <th>ApplicantIncome</th>\n",
       "      <th>CoapplicantIncome</th>\n",
       "      <th>LoanAmount</th>\n",
       "      <th>Loan_Amount_Term</th>\n",
       "      <th>Credit_History</th>\n",
       "      <th>Property_Area</th>\n",
       "    </tr>\n",
       "  </thead>\n",
       "  <tbody>\n",
       "    <tr>\n",
       "      <th>0</th>\n",
       "      <td>LP001015</td>\n",
       "      <td>Male</td>\n",
       "      <td>Yes</td>\n",
       "      <td>0</td>\n",
       "      <td>Graduate</td>\n",
       "      <td>No</td>\n",
       "      <td>5720</td>\n",
       "      <td>0</td>\n",
       "      <td>110.0</td>\n",
       "      <td>360.0</td>\n",
       "      <td>1.0</td>\n",
       "      <td>Urban</td>\n",
       "    </tr>\n",
       "    <tr>\n",
       "      <th>1</th>\n",
       "      <td>LP001022</td>\n",
       "      <td>Male</td>\n",
       "      <td>Yes</td>\n",
       "      <td>1</td>\n",
       "      <td>Graduate</td>\n",
       "      <td>No</td>\n",
       "      <td>3076</td>\n",
       "      <td>1500</td>\n",
       "      <td>126.0</td>\n",
       "      <td>360.0</td>\n",
       "      <td>1.0</td>\n",
       "      <td>Urban</td>\n",
       "    </tr>\n",
       "    <tr>\n",
       "      <th>2</th>\n",
       "      <td>LP001031</td>\n",
       "      <td>Male</td>\n",
       "      <td>Yes</td>\n",
       "      <td>2</td>\n",
       "      <td>Graduate</td>\n",
       "      <td>No</td>\n",
       "      <td>5000</td>\n",
       "      <td>1800</td>\n",
       "      <td>208.0</td>\n",
       "      <td>360.0</td>\n",
       "      <td>1.0</td>\n",
       "      <td>Urban</td>\n",
       "    </tr>\n",
       "    <tr>\n",
       "      <th>3</th>\n",
       "      <td>LP001035</td>\n",
       "      <td>Male</td>\n",
       "      <td>Yes</td>\n",
       "      <td>2</td>\n",
       "      <td>Graduate</td>\n",
       "      <td>No</td>\n",
       "      <td>2340</td>\n",
       "      <td>2546</td>\n",
       "      <td>100.0</td>\n",
       "      <td>360.0</td>\n",
       "      <td>NaN</td>\n",
       "      <td>Urban</td>\n",
       "    </tr>\n",
       "    <tr>\n",
       "      <th>4</th>\n",
       "      <td>LP001051</td>\n",
       "      <td>Male</td>\n",
       "      <td>No</td>\n",
       "      <td>0</td>\n",
       "      <td>Not Graduate</td>\n",
       "      <td>No</td>\n",
       "      <td>3276</td>\n",
       "      <td>0</td>\n",
       "      <td>78.0</td>\n",
       "      <td>360.0</td>\n",
       "      <td>1.0</td>\n",
       "      <td>Urban</td>\n",
       "    </tr>\n",
       "  </tbody>\n",
       "</table>\n",
       "</div>"
      ],
      "text/plain": [
       "    Loan_ID Gender Married Dependents     Education Self_Employed  \\\n",
       "0  LP001015   Male     Yes          0      Graduate            No   \n",
       "1  LP001022   Male     Yes          1      Graduate            No   \n",
       "2  LP001031   Male     Yes          2      Graduate            No   \n",
       "3  LP001035   Male     Yes          2      Graduate            No   \n",
       "4  LP001051   Male      No          0  Not Graduate            No   \n",
       "\n",
       "   ApplicantIncome  CoapplicantIncome  LoanAmount  Loan_Amount_Term  \\\n",
       "0             5720                  0       110.0             360.0   \n",
       "1             3076               1500       126.0             360.0   \n",
       "2             5000               1800       208.0             360.0   \n",
       "3             2340               2546       100.0             360.0   \n",
       "4             3276                  0        78.0             360.0   \n",
       "\n",
       "   Credit_History Property_Area  \n",
       "0             1.0         Urban  \n",
       "1             1.0         Urban  \n",
       "2             1.0         Urban  \n",
       "3             NaN         Urban  \n",
       "4             1.0         Urban  "
      ]
     },
     "execution_count": 246,
     "metadata": {},
     "output_type": "execute_result"
    }
   ],
   "source": [
    "dft=pd.read_csv('C:/Users/cmscomputers/Downloads/Skype/Loan_project/testing_set (1).csv')\n",
    "dft.head()"
   ]
  },
  {
   "cell_type": "code",
   "execution_count": 43,
   "id": "7a03c7d7",
   "metadata": {},
   "outputs": [],
   "source": [
    "dft1=dft.drop(['Loan_ID'],axis=1)"
   ]
  },
  {
   "cell_type": "code",
   "execution_count": null,
   "id": "dd4059eb",
   "metadata": {},
   "outputs": [],
   "source": [
    "dft1"
   ]
  },
  {
   "cell_type": "code",
   "execution_count": 44,
   "id": "148f5ab6",
   "metadata": {},
   "outputs": [],
   "source": [
    "for i in cat:\n",
    "        c=dft1[i].mode()[0]\n",
    "        dft1[i]=dft1[i].fillna(c)  #-----> For catrgorical missisng values we will replace it with mode value of that feature       \n",
    "\n",
    "        \n",
    "for i in con:\n",
    "        c=dft1[i].mean()\n",
    "        dft1[i]=dft1[i].fillna(c)     #---->for numerical missing values we will replace it with mean value of that feature"
   ]
  },
  {
   "cell_type": "code",
   "execution_count": 45,
   "id": "34672b48",
   "metadata": {},
   "outputs": [
    {
     "data": {
      "text/plain": [
       "Gender               0\n",
       "Married              0\n",
       "Dependents           0\n",
       "Education            0\n",
       "Self_Employed        0\n",
       "ApplicantIncome      0\n",
       "CoapplicantIncome    0\n",
       "LoanAmount           0\n",
       "Loan_Amount_Term     0\n",
       "Credit_History       0\n",
       "Property_Area        0\n",
       "dtype: int64"
      ]
     },
     "execution_count": 45,
     "metadata": {},
     "output_type": "execute_result"
    }
   ],
   "source": [
    "dft1.isna().sum()"
   ]
  },
  {
   "cell_type": "code",
   "execution_count": 46,
   "id": "f2d9cfb3",
   "metadata": {},
   "outputs": [
    {
     "data": {
      "text/plain": [
       "['Gender',\n",
       " 'Married',\n",
       " 'Dependents',\n",
       " 'Education',\n",
       " 'Self_Employed',\n",
       " 'Property_Area']"
      ]
     },
     "execution_count": 46,
     "metadata": {},
     "output_type": "execute_result"
    }
   ],
   "source": [
    "cat"
   ]
  },
  {
   "cell_type": "code",
   "execution_count": 47,
   "id": "82a3d53e",
   "metadata": {},
   "outputs": [
    {
     "data": {
      "text/html": [
       "<div>\n",
       "<style scoped>\n",
       "    .dataframe tbody tr th:only-of-type {\n",
       "        vertical-align: middle;\n",
       "    }\n",
       "\n",
       "    .dataframe tbody tr th {\n",
       "        vertical-align: top;\n",
       "    }\n",
       "\n",
       "    .dataframe thead th {\n",
       "        text-align: right;\n",
       "    }\n",
       "</style>\n",
       "<table border=\"1\" class=\"dataframe\">\n",
       "  <thead>\n",
       "    <tr style=\"text-align: right;\">\n",
       "      <th></th>\n",
       "      <th>Gender_Female</th>\n",
       "      <th>Gender_Male</th>\n",
       "      <th>Married_No</th>\n",
       "      <th>Married_Yes</th>\n",
       "      <th>Dependents_0</th>\n",
       "      <th>Dependents_1</th>\n",
       "      <th>Dependents_2</th>\n",
       "      <th>Dependents_3+</th>\n",
       "      <th>Education_Graduate</th>\n",
       "      <th>Education_Not Graduate</th>\n",
       "      <th>Self_Employed_No</th>\n",
       "      <th>Self_Employed_Yes</th>\n",
       "      <th>Property_Area_Rural</th>\n",
       "      <th>Property_Area_Semiurban</th>\n",
       "      <th>Property_Area_Urban</th>\n",
       "    </tr>\n",
       "  </thead>\n",
       "  <tbody>\n",
       "    <tr>\n",
       "      <th>0</th>\n",
       "      <td>0</td>\n",
       "      <td>1</td>\n",
       "      <td>0</td>\n",
       "      <td>1</td>\n",
       "      <td>1</td>\n",
       "      <td>0</td>\n",
       "      <td>0</td>\n",
       "      <td>0</td>\n",
       "      <td>1</td>\n",
       "      <td>0</td>\n",
       "      <td>1</td>\n",
       "      <td>0</td>\n",
       "      <td>0</td>\n",
       "      <td>0</td>\n",
       "      <td>1</td>\n",
       "    </tr>\n",
       "    <tr>\n",
       "      <th>1</th>\n",
       "      <td>0</td>\n",
       "      <td>1</td>\n",
       "      <td>0</td>\n",
       "      <td>1</td>\n",
       "      <td>0</td>\n",
       "      <td>1</td>\n",
       "      <td>0</td>\n",
       "      <td>0</td>\n",
       "      <td>1</td>\n",
       "      <td>0</td>\n",
       "      <td>1</td>\n",
       "      <td>0</td>\n",
       "      <td>0</td>\n",
       "      <td>0</td>\n",
       "      <td>1</td>\n",
       "    </tr>\n",
       "  </tbody>\n",
       "</table>\n",
       "</div>"
      ],
      "text/plain": [
       "   Gender_Female  Gender_Male  Married_No  Married_Yes  Dependents_0  \\\n",
       "0              0            1           0            1             1   \n",
       "1              0            1           0            1             0   \n",
       "\n",
       "   Dependents_1  Dependents_2  Dependents_3+  Education_Graduate  \\\n",
       "0             0             0              0                   1   \n",
       "1             1             0              0                   1   \n",
       "\n",
       "   Education_Not Graduate  Self_Employed_No  Self_Employed_Yes  \\\n",
       "0                       0                 1                  0   \n",
       "1                       0                 1                  0   \n",
       "\n",
       "   Property_Area_Rural  Property_Area_Semiurban  Property_Area_Urban  \n",
       "0                    0                        0                    1  \n",
       "1                    0                        0                    1  "
      ]
     },
     "execution_count": 47,
     "metadata": {},
     "output_type": "execute_result"
    }
   ],
   "source": [
    "m=pd.get_dummies(dft1[cat])\n",
    "m.head(2)"
   ]
  },
  {
   "cell_type": "code",
   "execution_count": 48,
   "id": "784aa5cf",
   "metadata": {},
   "outputs": [
    {
     "data": {
      "text/plain": [
       "['ApplicantIncome',\n",
       " 'CoapplicantIncome',\n",
       " 'LoanAmount',\n",
       " 'Loan_Amount_Term',\n",
       " 'Credit_History']"
      ]
     },
     "execution_count": 48,
     "metadata": {},
     "output_type": "execute_result"
    }
   ],
   "source": [
    "con"
   ]
  },
  {
   "cell_type": "code",
   "execution_count": 49,
   "id": "70c45f04",
   "metadata": {},
   "outputs": [
    {
     "data": {
      "text/html": [
       "<div>\n",
       "<style scoped>\n",
       "    .dataframe tbody tr th:only-of-type {\n",
       "        vertical-align: middle;\n",
       "    }\n",
       "\n",
       "    .dataframe tbody tr th {\n",
       "        vertical-align: top;\n",
       "    }\n",
       "\n",
       "    .dataframe thead th {\n",
       "        text-align: right;\n",
       "    }\n",
       "</style>\n",
       "<table border=\"1\" class=\"dataframe\">\n",
       "  <thead>\n",
       "    <tr style=\"text-align: right;\">\n",
       "      <th></th>\n",
       "      <th>ApplicantIncome</th>\n",
       "      <th>CoapplicantIncome</th>\n",
       "      <th>LoanAmount</th>\n",
       "      <th>Loan_Amount_Term</th>\n",
       "      <th>Credit_History</th>\n",
       "    </tr>\n",
       "  </thead>\n",
       "  <tbody>\n",
       "    <tr>\n",
       "      <th>0</th>\n",
       "      <td>0.186461</td>\n",
       "      <td>-0.673335</td>\n",
       "      <td>-0.429368</td>\n",
       "      <td>0.270603</td>\n",
       "      <td>0.47918</td>\n",
       "    </tr>\n",
       "    <tr>\n",
       "      <th>1</th>\n",
       "      <td>-0.352692</td>\n",
       "      <td>-0.029848</td>\n",
       "      <td>-0.166482</td>\n",
       "      <td>0.270603</td>\n",
       "      <td>0.47918</td>\n",
       "    </tr>\n",
       "  </tbody>\n",
       "</table>\n",
       "</div>"
      ],
      "text/plain": [
       "   ApplicantIncome  CoapplicantIncome  LoanAmount  Loan_Amount_Term  \\\n",
       "0         0.186461          -0.673335   -0.429368          0.270603   \n",
       "1        -0.352692          -0.029848   -0.166482          0.270603   \n",
       "\n",
       "   Credit_History  \n",
       "0         0.47918  \n",
       "1         0.47918  "
      ]
     },
     "execution_count": 49,
     "metadata": {},
     "output_type": "execute_result"
    }
   ],
   "source": [
    "n=pd.DataFrame(ss.fit_transform(dft1[con]),columns=con)\n",
    "n.head(2)"
   ]
  },
  {
   "cell_type": "code",
   "execution_count": 50,
   "id": "dcff4524",
   "metadata": {},
   "outputs": [
    {
     "data": {
      "text/html": [
       "<div>\n",
       "<style scoped>\n",
       "    .dataframe tbody tr th:only-of-type {\n",
       "        vertical-align: middle;\n",
       "    }\n",
       "\n",
       "    .dataframe tbody tr th {\n",
       "        vertical-align: top;\n",
       "    }\n",
       "\n",
       "    .dataframe thead th {\n",
       "        text-align: right;\n",
       "    }\n",
       "</style>\n",
       "<table border=\"1\" class=\"dataframe\">\n",
       "  <thead>\n",
       "    <tr style=\"text-align: right;\">\n",
       "      <th></th>\n",
       "      <th>ApplicantIncome</th>\n",
       "      <th>CoapplicantIncome</th>\n",
       "      <th>LoanAmount</th>\n",
       "      <th>Loan_Amount_Term</th>\n",
       "      <th>Credit_History</th>\n",
       "      <th>Gender_Female</th>\n",
       "      <th>Gender_Male</th>\n",
       "      <th>Married_No</th>\n",
       "      <th>Married_Yes</th>\n",
       "      <th>Dependents_0</th>\n",
       "      <th>Dependents_1</th>\n",
       "      <th>Dependents_2</th>\n",
       "      <th>Dependents_3+</th>\n",
       "      <th>Education_Graduate</th>\n",
       "      <th>Education_Not Graduate</th>\n",
       "      <th>Self_Employed_No</th>\n",
       "      <th>Self_Employed_Yes</th>\n",
       "      <th>Property_Area_Rural</th>\n",
       "      <th>Property_Area_Semiurban</th>\n",
       "      <th>Property_Area_Urban</th>\n",
       "    </tr>\n",
       "  </thead>\n",
       "  <tbody>\n",
       "    <tr>\n",
       "      <th>0</th>\n",
       "      <td>0.186461</td>\n",
       "      <td>-0.673335</td>\n",
       "      <td>-0.429368</td>\n",
       "      <td>0.270603</td>\n",
       "      <td>0.47918</td>\n",
       "      <td>0</td>\n",
       "      <td>1</td>\n",
       "      <td>0</td>\n",
       "      <td>1</td>\n",
       "      <td>1</td>\n",
       "      <td>0</td>\n",
       "      <td>0</td>\n",
       "      <td>0</td>\n",
       "      <td>1</td>\n",
       "      <td>0</td>\n",
       "      <td>1</td>\n",
       "      <td>0</td>\n",
       "      <td>0</td>\n",
       "      <td>0</td>\n",
       "      <td>1</td>\n",
       "    </tr>\n",
       "    <tr>\n",
       "      <th>1</th>\n",
       "      <td>-0.352692</td>\n",
       "      <td>-0.029848</td>\n",
       "      <td>-0.166482</td>\n",
       "      <td>0.270603</td>\n",
       "      <td>0.47918</td>\n",
       "      <td>0</td>\n",
       "      <td>1</td>\n",
       "      <td>0</td>\n",
       "      <td>1</td>\n",
       "      <td>0</td>\n",
       "      <td>1</td>\n",
       "      <td>0</td>\n",
       "      <td>0</td>\n",
       "      <td>1</td>\n",
       "      <td>0</td>\n",
       "      <td>1</td>\n",
       "      <td>0</td>\n",
       "      <td>0</td>\n",
       "      <td>0</td>\n",
       "      <td>1</td>\n",
       "    </tr>\n",
       "  </tbody>\n",
       "</table>\n",
       "</div>"
      ],
      "text/plain": [
       "   ApplicantIncome  CoapplicantIncome  LoanAmount  Loan_Amount_Term  \\\n",
       "0         0.186461          -0.673335   -0.429368          0.270603   \n",
       "1        -0.352692          -0.029848   -0.166482          0.270603   \n",
       "\n",
       "   Credit_History  Gender_Female  Gender_Male  Married_No  Married_Yes  \\\n",
       "0         0.47918              0            1           0            1   \n",
       "1         0.47918              0            1           0            1   \n",
       "\n",
       "   Dependents_0  Dependents_1  Dependents_2  Dependents_3+  \\\n",
       "0             1             0             0              0   \n",
       "1             0             1             0              0   \n",
       "\n",
       "   Education_Graduate  Education_Not Graduate  Self_Employed_No  \\\n",
       "0                   1                       0                 1   \n",
       "1                   1                       0                 1   \n",
       "\n",
       "   Self_Employed_Yes  Property_Area_Rural  Property_Area_Semiurban  \\\n",
       "0                  0                    0                        0   \n",
       "1                  0                    0                        0   \n",
       "\n",
       "   Property_Area_Urban  \n",
       "0                    1  \n",
       "1                    1  "
      ]
     },
     "execution_count": 50,
     "metadata": {},
     "output_type": "execute_result"
    }
   ],
   "source": [
    "r=pd.concat([n,m],axis=1)\n",
    "r.head(2)"
   ]
  },
  {
   "cell_type": "code",
   "execution_count": 51,
   "id": "d9e3e9d9",
   "metadata": {},
   "outputs": [
    {
     "name": "stdout",
     "output_type": "stream",
     "text": [
      "<class 'pandas.core.frame.DataFrame'>\n",
      "RangeIndex: 367 entries, 0 to 366\n",
      "Data columns (total 20 columns):\n",
      " #   Column                   Non-Null Count  Dtype  \n",
      "---  ------                   --------------  -----  \n",
      " 0   ApplicantIncome          367 non-null    float64\n",
      " 1   CoapplicantIncome        367 non-null    float64\n",
      " 2   LoanAmount               367 non-null    float64\n",
      " 3   Loan_Amount_Term         367 non-null    float64\n",
      " 4   Credit_History           367 non-null    float64\n",
      " 5   Gender_Female            367 non-null    uint8  \n",
      " 6   Gender_Male              367 non-null    uint8  \n",
      " 7   Married_No               367 non-null    uint8  \n",
      " 8   Married_Yes              367 non-null    uint8  \n",
      " 9   Dependents_0             367 non-null    uint8  \n",
      " 10  Dependents_1             367 non-null    uint8  \n",
      " 11  Dependents_2             367 non-null    uint8  \n",
      " 12  Dependents_3+            367 non-null    uint8  \n",
      " 13  Education_Graduate       367 non-null    uint8  \n",
      " 14  Education_Not Graduate   367 non-null    uint8  \n",
      " 15  Self_Employed_No         367 non-null    uint8  \n",
      " 16  Self_Employed_Yes        367 non-null    uint8  \n",
      " 17  Property_Area_Rural      367 non-null    uint8  \n",
      " 18  Property_Area_Semiurban  367 non-null    uint8  \n",
      " 19  Property_Area_Urban      367 non-null    uint8  \n",
      "dtypes: float64(5), uint8(15)\n",
      "memory usage: 19.8 KB\n"
     ]
    }
   ],
   "source": [
    "r.info()"
   ]
  },
  {
   "cell_type": "code",
   "execution_count": null,
   "id": "79bca047",
   "metadata": {},
   "outputs": [],
   "source": []
  },
  {
   "cell_type": "code",
   "execution_count": 52,
   "id": "81d8cdbd",
   "metadata": {},
   "outputs": [],
   "source": [
    "from sklearn.tree import DecisionTreeClassifier\n",
    "dtc=DecisionTreeClassifier(random_state=21,max_depth=3)\n",
    "xtrain,xtest,ytrain,ytest=train_test_split(X1,Y,test_size=0.2,random_state=21)\n",
    "model = dtc.fit(xtrain,ytrain)"
   ]
  },
  {
   "cell_type": "code",
   "execution_count": null,
   "id": "0532e9d6",
   "metadata": {},
   "outputs": [],
   "source": []
  },
  {
   "cell_type": "markdown",
   "id": "3f5be33c",
   "metadata": {},
   "source": [
    "# Getting prediction on test data"
   ]
  },
  {
   "cell_type": "code",
   "execution_count": 53,
   "id": "300c1616",
   "metadata": {},
   "outputs": [],
   "source": [
    "dft1['Loan_Status_pred']=model.predict(r)"
   ]
  },
  {
   "cell_type": "code",
   "execution_count": 54,
   "id": "94e7954d",
   "metadata": {},
   "outputs": [
    {
     "data": {
      "text/plain": [
       "Y    296\n",
       "N     71\n",
       "Name: Loan_Status_pred, dtype: int64"
      ]
     },
     "execution_count": 54,
     "metadata": {},
     "output_type": "execute_result"
    }
   ],
   "source": [
    "dft1['Loan_Status_pred'].value_counts()"
   ]
  },
  {
   "cell_type": "code",
   "execution_count": 248,
   "id": "7ad898be",
   "metadata": {},
   "outputs": [
    {
     "data": {
      "text/plain": [
       "Index(['Gender', 'Married', 'Dependents', 'Education', 'Self_Employed',\n",
       "       'ApplicantIncome', 'CoapplicantIncome', 'LoanAmount',\n",
       "       'Loan_Amount_Term', 'Credit_History', 'Property_Area', 'Loan_Status'],\n",
       "      dtype='object')"
      ]
     },
     "execution_count": 248,
     "metadata": {},
     "output_type": "execute_result"
    }
   ],
   "source": [
    "dft1.columns"
   ]
  },
  {
   "cell_type": "markdown",
   "id": "d16aae86",
   "metadata": {},
   "source": [
    "# 2.)Identify customer segments from given data and categorize customer into one of the segments.(Clustering)"
   ]
  },
  {
   "cell_type": "code",
   "execution_count": null,
   "id": "d1d7ff6d",
   "metadata": {},
   "outputs": [],
   "source": []
  },
  {
   "cell_type": "code",
   "execution_count": 55,
   "id": "6abe3514",
   "metadata": {},
   "outputs": [],
   "source": [
    "o=pd.DataFrame([r.columns,rf.feature_importances_]).T\n",
    "o.columns=['Features','imp']"
   ]
  },
  {
   "cell_type": "code",
   "execution_count": 56,
   "id": "3083b641",
   "metadata": {},
   "outputs": [
    {
     "data": {
      "text/html": [
       "<div>\n",
       "<style scoped>\n",
       "    .dataframe tbody tr th:only-of-type {\n",
       "        vertical-align: middle;\n",
       "    }\n",
       "\n",
       "    .dataframe tbody tr th {\n",
       "        vertical-align: top;\n",
       "    }\n",
       "\n",
       "    .dataframe thead th {\n",
       "        text-align: right;\n",
       "    }\n",
       "</style>\n",
       "<table border=\"1\" class=\"dataframe\">\n",
       "  <thead>\n",
       "    <tr style=\"text-align: right;\">\n",
       "      <th></th>\n",
       "      <th>Features</th>\n",
       "      <th>imp</th>\n",
       "    </tr>\n",
       "  </thead>\n",
       "  <tbody>\n",
       "    <tr>\n",
       "      <th>4</th>\n",
       "      <td>Credit_History</td>\n",
       "      <td>0.390415</td>\n",
       "    </tr>\n",
       "    <tr>\n",
       "      <th>1</th>\n",
       "      <td>CoapplicantIncome</td>\n",
       "      <td>0.101395</td>\n",
       "    </tr>\n",
       "    <tr>\n",
       "      <th>2</th>\n",
       "      <td>LoanAmount</td>\n",
       "      <td>0.076509</td>\n",
       "    </tr>\n",
       "    <tr>\n",
       "      <th>0</th>\n",
       "      <td>ApplicantIncome</td>\n",
       "      <td>0.070994</td>\n",
       "    </tr>\n",
       "    <tr>\n",
       "      <th>18</th>\n",
       "      <td>Property_Area_Semiurban</td>\n",
       "      <td>0.056648</td>\n",
       "    </tr>\n",
       "    <tr>\n",
       "      <th>7</th>\n",
       "      <td>Married_No</td>\n",
       "      <td>0.052799</td>\n",
       "    </tr>\n",
       "    <tr>\n",
       "      <th>14</th>\n",
       "      <td>Education_Not Graduate</td>\n",
       "      <td>0.051577</td>\n",
       "    </tr>\n",
       "    <tr>\n",
       "      <th>3</th>\n",
       "      <td>Loan_Amount_Term</td>\n",
       "      <td>0.044185</td>\n",
       "    </tr>\n",
       "    <tr>\n",
       "      <th>13</th>\n",
       "      <td>Education_Graduate</td>\n",
       "      <td>0.03506</td>\n",
       "    </tr>\n",
       "    <tr>\n",
       "      <th>8</th>\n",
       "      <td>Married_Yes</td>\n",
       "      <td>0.033461</td>\n",
       "    </tr>\n",
       "    <tr>\n",
       "      <th>11</th>\n",
       "      <td>Dependents_2</td>\n",
       "      <td>0.025432</td>\n",
       "    </tr>\n",
       "    <tr>\n",
       "      <th>17</th>\n",
       "      <td>Property_Area_Rural</td>\n",
       "      <td>0.019442</td>\n",
       "    </tr>\n",
       "    <tr>\n",
       "      <th>19</th>\n",
       "      <td>Property_Area_Urban</td>\n",
       "      <td>0.009627</td>\n",
       "    </tr>\n",
       "    <tr>\n",
       "      <th>9</th>\n",
       "      <td>Dependents_0</td>\n",
       "      <td>0.009516</td>\n",
       "    </tr>\n",
       "    <tr>\n",
       "      <th>10</th>\n",
       "      <td>Dependents_1</td>\n",
       "      <td>0.008777</td>\n",
       "    </tr>\n",
       "    <tr>\n",
       "      <th>5</th>\n",
       "      <td>Gender_Female</td>\n",
       "      <td>0.004709</td>\n",
       "    </tr>\n",
       "    <tr>\n",
       "      <th>6</th>\n",
       "      <td>Gender_Male</td>\n",
       "      <td>0.00358</td>\n",
       "    </tr>\n",
       "    <tr>\n",
       "      <th>12</th>\n",
       "      <td>Dependents_3+</td>\n",
       "      <td>0.00306</td>\n",
       "    </tr>\n",
       "    <tr>\n",
       "      <th>16</th>\n",
       "      <td>Self_Employed_Yes</td>\n",
       "      <td>0.001637</td>\n",
       "    </tr>\n",
       "    <tr>\n",
       "      <th>15</th>\n",
       "      <td>Self_Employed_No</td>\n",
       "      <td>0.001176</td>\n",
       "    </tr>\n",
       "  </tbody>\n",
       "</table>\n",
       "</div>"
      ],
      "text/plain": [
       "                   Features       imp\n",
       "4            Credit_History  0.390415\n",
       "1         CoapplicantIncome  0.101395\n",
       "2                LoanAmount  0.076509\n",
       "0           ApplicantIncome  0.070994\n",
       "18  Property_Area_Semiurban  0.056648\n",
       "7                Married_No  0.052799\n",
       "14   Education_Not Graduate  0.051577\n",
       "3          Loan_Amount_Term  0.044185\n",
       "13       Education_Graduate   0.03506\n",
       "8               Married_Yes  0.033461\n",
       "11             Dependents_2  0.025432\n",
       "17      Property_Area_Rural  0.019442\n",
       "19      Property_Area_Urban  0.009627\n",
       "9              Dependents_0  0.009516\n",
       "10             Dependents_1  0.008777\n",
       "5             Gender_Female  0.004709\n",
       "6               Gender_Male   0.00358\n",
       "12            Dependents_3+   0.00306\n",
       "16        Self_Employed_Yes  0.001637\n",
       "15         Self_Employed_No  0.001176"
      ]
     },
     "execution_count": 56,
     "metadata": {},
     "output_type": "execute_result"
    }
   ],
   "source": [
    "o.sort_values(by='imp',ascending=False)"
   ]
  },
  {
   "cell_type": "markdown",
   "id": "20313c20",
   "metadata": {},
   "source": [
    "# 2.)Identify customer segments from given data and categorize customer into one of the segments.(Clustering)\n"
   ]
  },
  {
   "cell_type": "markdown",
   "id": "11c86803",
   "metadata": {},
   "source": [
    "Selecting top3 important features for segmentation from rf(Random Forest) model which calculates feature importance"
   ]
  },
  {
   "cell_type": "code",
   "execution_count": 57,
   "id": "2618bb5d",
   "metadata": {},
   "outputs": [],
   "source": [
    "P=df[[\"Credit_History\",\"LoanAmount\",\"CoapplicantIncome\"]]"
   ]
  },
  {
   "cell_type": "code",
   "execution_count": 58,
   "id": "6f0d1bb1",
   "metadata": {},
   "outputs": [
    {
     "data": {
      "text/html": [
       "<div>\n",
       "<style scoped>\n",
       "    .dataframe tbody tr th:only-of-type {\n",
       "        vertical-align: middle;\n",
       "    }\n",
       "\n",
       "    .dataframe tbody tr th {\n",
       "        vertical-align: top;\n",
       "    }\n",
       "\n",
       "    .dataframe thead th {\n",
       "        text-align: right;\n",
       "    }\n",
       "</style>\n",
       "<table border=\"1\" class=\"dataframe\">\n",
       "  <thead>\n",
       "    <tr style=\"text-align: right;\">\n",
       "      <th></th>\n",
       "      <th>Credit_History</th>\n",
       "      <th>LoanAmount</th>\n",
       "      <th>CoapplicantIncome</th>\n",
       "    </tr>\n",
       "  </thead>\n",
       "  <tbody>\n",
       "    <tr>\n",
       "      <th>0</th>\n",
       "      <td>1.0</td>\n",
       "      <td>146.412162</td>\n",
       "      <td>0.0</td>\n",
       "    </tr>\n",
       "    <tr>\n",
       "      <th>1</th>\n",
       "      <td>1.0</td>\n",
       "      <td>128.000000</td>\n",
       "      <td>1508.0</td>\n",
       "    </tr>\n",
       "    <tr>\n",
       "      <th>2</th>\n",
       "      <td>1.0</td>\n",
       "      <td>66.000000</td>\n",
       "      <td>0.0</td>\n",
       "    </tr>\n",
       "    <tr>\n",
       "      <th>3</th>\n",
       "      <td>1.0</td>\n",
       "      <td>120.000000</td>\n",
       "      <td>2358.0</td>\n",
       "    </tr>\n",
       "    <tr>\n",
       "      <th>4</th>\n",
       "      <td>1.0</td>\n",
       "      <td>141.000000</td>\n",
       "      <td>0.0</td>\n",
       "    </tr>\n",
       "    <tr>\n",
       "      <th>...</th>\n",
       "      <td>...</td>\n",
       "      <td>...</td>\n",
       "      <td>...</td>\n",
       "    </tr>\n",
       "    <tr>\n",
       "      <th>609</th>\n",
       "      <td>1.0</td>\n",
       "      <td>71.000000</td>\n",
       "      <td>0.0</td>\n",
       "    </tr>\n",
       "    <tr>\n",
       "      <th>610</th>\n",
       "      <td>1.0</td>\n",
       "      <td>40.000000</td>\n",
       "      <td>0.0</td>\n",
       "    </tr>\n",
       "    <tr>\n",
       "      <th>611</th>\n",
       "      <td>1.0</td>\n",
       "      <td>253.000000</td>\n",
       "      <td>240.0</td>\n",
       "    </tr>\n",
       "    <tr>\n",
       "      <th>612</th>\n",
       "      <td>1.0</td>\n",
       "      <td>187.000000</td>\n",
       "      <td>0.0</td>\n",
       "    </tr>\n",
       "    <tr>\n",
       "      <th>613</th>\n",
       "      <td>0.0</td>\n",
       "      <td>133.000000</td>\n",
       "      <td>0.0</td>\n",
       "    </tr>\n",
       "  </tbody>\n",
       "</table>\n",
       "<p>614 rows × 3 columns</p>\n",
       "</div>"
      ],
      "text/plain": [
       "     Credit_History  LoanAmount  CoapplicantIncome\n",
       "0               1.0  146.412162                0.0\n",
       "1               1.0  128.000000             1508.0\n",
       "2               1.0   66.000000                0.0\n",
       "3               1.0  120.000000             2358.0\n",
       "4               1.0  141.000000                0.0\n",
       "..              ...         ...                ...\n",
       "609             1.0   71.000000                0.0\n",
       "610             1.0   40.000000                0.0\n",
       "611             1.0  253.000000              240.0\n",
       "612             1.0  187.000000                0.0\n",
       "613             0.0  133.000000                0.0\n",
       "\n",
       "[614 rows x 3 columns]"
      ]
     },
     "execution_count": 58,
     "metadata": {},
     "output_type": "execute_result"
    }
   ],
   "source": [
    "P"
   ]
  },
  {
   "cell_type": "code",
   "execution_count": 59,
   "id": "b5bf937d",
   "metadata": {},
   "outputs": [],
   "source": [
    "C=pd.DataFrame(ss.fit_transform(P),columns=P.columns)\n",
    "#standardized features"
   ]
  },
  {
   "cell_type": "code",
   "execution_count": 60,
   "id": "528d6d77",
   "metadata": {},
   "outputs": [
    {
     "data": {
      "text/plain": [
       "array([0, 0, 0, 0, 0, 0, 0, 1, 0, 0, 0, 0, 0, 0, 0, 0, 0, 1, 0, 0, 1, 0,\n",
       "       1, 1, 0, 0, 0, 0, 0, 0, 0, 0, 0, 0, 0, 0, 1, 0, 0, 0, 0, 0, 0, 0,\n",
       "       0, 0, 0, 0, 1, 0, 0, 0, 0, 0, 1, 0, 0, 0, 0, 0, 0, 0, 1, 1, 1, 0,\n",
       "       1, 0, 0, 1, 0, 0, 0, 1, 0, 0, 0, 0, 1, 0, 0, 0, 0, 0, 0, 0, 0, 0,\n",
       "       0, 0, 0, 0, 0, 0, 0, 0, 0, 0, 0, 0, 0, 0, 0, 0, 0, 0, 0, 0, 1, 0,\n",
       "       0, 0, 1, 0, 0, 0, 0, 0, 0, 0, 0, 0, 1, 0, 0, 0, 0, 0, 1, 0, 0, 0,\n",
       "       0, 0, 0, 0, 0, 0, 1, 0, 0, 0, 0, 0, 0, 0, 0, 0, 0, 0, 1, 0, 0, 0,\n",
       "       0, 1, 0, 0, 0, 0, 0, 0, 1, 0, 0, 0, 0, 0, 1, 0, 0, 0, 0, 0, 0, 0,\n",
       "       0, 1, 0, 1, 1, 0, 0, 0, 0, 0, 1, 0, 0, 0, 0, 0, 0, 0, 0, 0, 0, 0,\n",
       "       0, 0, 0, 1, 0, 0, 0, 0, 0, 0, 0, 0, 0, 1, 0, 0, 0, 0, 0, 0, 1, 0,\n",
       "       1, 0, 0, 0, 0, 0, 0, 0, 0, 0, 0, 0, 0, 0, 0, 0, 0, 0, 0, 0, 0, 0,\n",
       "       0, 0, 0, 0, 0, 0, 0, 0, 1, 0, 0, 0, 1, 0, 1, 0, 0, 0, 0, 0, 0, 0,\n",
       "       0, 0, 0, 1, 0, 0, 0, 0, 0, 0, 0, 0, 0, 0, 0, 0, 1, 0, 0, 0, 0, 0,\n",
       "       0, 0, 0, 0, 0, 1, 0, 1, 0, 0, 0, 0, 0, 0, 1, 0, 0, 0, 0, 0, 0, 1,\n",
       "       0, 0, 0, 0, 0, 0, 0, 0, 0, 0, 0, 0, 0, 0, 0, 0, 0, 1, 1, 0, 0, 0,\n",
       "       0, 0, 0, 0, 0, 0, 0, 0, 1, 0, 0, 0, 0, 0, 0, 0, 1, 0, 0, 0, 0, 0,\n",
       "       0, 1, 0, 0, 0, 0, 1, 0, 0, 0, 0, 0, 0, 0, 0, 1, 0, 0, 0, 0, 0, 1,\n",
       "       0, 0, 0, 0, 0, 0, 0, 0, 0, 0, 0, 0, 0, 1, 0, 0, 0, 0, 0, 0, 0, 0,\n",
       "       1, 0, 0, 1, 1, 0, 0, 0, 0, 0, 0, 0, 1, 1, 0, 0, 1, 0, 1, 0, 0, 0,\n",
       "       0, 0, 0, 1, 0, 1, 0, 0, 0, 0, 0, 0, 0, 1, 0, 0, 0, 0, 0, 0, 1, 0,\n",
       "       0, 0, 0, 0, 0, 0, 0, 0, 1, 0, 1, 0, 1, 1, 0, 0, 0, 0, 0, 0, 0, 0,\n",
       "       0, 0, 1, 0, 1, 0, 0, 0, 0, 1, 0, 0, 0, 0, 0, 1, 0, 0, 0, 0, 0, 0,\n",
       "       0, 0, 1, 0, 0, 0, 0, 0, 0, 0, 1, 0, 0, 0, 0, 1, 0, 0, 0, 0, 0, 0,\n",
       "       0, 0, 0, 0, 0, 0, 0, 0, 0, 0, 0, 1, 0, 0, 0, 0, 0, 0, 0, 0, 0, 1,\n",
       "       0, 0, 0, 0, 1, 0, 0, 0, 0, 0, 0, 0, 0, 1, 0, 0, 0, 0, 0, 0, 1, 0,\n",
       "       1, 0, 0, 1, 1, 0, 0, 0, 0, 0, 0, 0, 0, 0, 1, 0, 0, 1, 0, 1, 0, 1,\n",
       "       0, 0, 0, 0, 1, 0, 0, 0, 0, 0, 0, 0, 1, 0, 0, 0, 0, 1, 0, 0, 0, 0,\n",
       "       0, 0, 0, 1, 0, 0, 0, 0, 0, 0, 0, 0, 0, 0, 0, 0, 0, 0, 0, 1])"
      ]
     },
     "execution_count": 60,
     "metadata": {},
     "output_type": "execute_result"
    }
   ],
   "source": [
    "from sklearn.cluster import KMeans\n",
    "km = KMeans(n_clusters=2)\n",
    "model = km.fit(C)\n",
    "model.labels_"
   ]
  },
  {
   "cell_type": "code",
   "execution_count": 61,
   "id": "0b649276",
   "metadata": {},
   "outputs": [],
   "source": [
    "P['Cluster'] = model.labels_"
   ]
  },
  {
   "cell_type": "code",
   "execution_count": 62,
   "id": "c147ff30",
   "metadata": {},
   "outputs": [
    {
     "data": {
      "text/html": [
       "<div>\n",
       "<style scoped>\n",
       "    .dataframe tbody tr th:only-of-type {\n",
       "        vertical-align: middle;\n",
       "    }\n",
       "\n",
       "    .dataframe tbody tr th {\n",
       "        vertical-align: top;\n",
       "    }\n",
       "\n",
       "    .dataframe thead th {\n",
       "        text-align: right;\n",
       "    }\n",
       "</style>\n",
       "<table border=\"1\" class=\"dataframe\">\n",
       "  <thead>\n",
       "    <tr style=\"text-align: right;\">\n",
       "      <th></th>\n",
       "      <th>Credit_History</th>\n",
       "      <th>LoanAmount</th>\n",
       "      <th>CoapplicantIncome</th>\n",
       "      <th>Cluster</th>\n",
       "    </tr>\n",
       "  </thead>\n",
       "  <tbody>\n",
       "    <tr>\n",
       "      <th>0</th>\n",
       "      <td>1.0</td>\n",
       "      <td>146.412162</td>\n",
       "      <td>0.0</td>\n",
       "      <td>0</td>\n",
       "    </tr>\n",
       "    <tr>\n",
       "      <th>1</th>\n",
       "      <td>1.0</td>\n",
       "      <td>128.000000</td>\n",
       "      <td>1508.0</td>\n",
       "      <td>0</td>\n",
       "    </tr>\n",
       "    <tr>\n",
       "      <th>2</th>\n",
       "      <td>1.0</td>\n",
       "      <td>66.000000</td>\n",
       "      <td>0.0</td>\n",
       "      <td>0</td>\n",
       "    </tr>\n",
       "    <tr>\n",
       "      <th>3</th>\n",
       "      <td>1.0</td>\n",
       "      <td>120.000000</td>\n",
       "      <td>2358.0</td>\n",
       "      <td>0</td>\n",
       "    </tr>\n",
       "    <tr>\n",
       "      <th>4</th>\n",
       "      <td>1.0</td>\n",
       "      <td>141.000000</td>\n",
       "      <td>0.0</td>\n",
       "      <td>0</td>\n",
       "    </tr>\n",
       "    <tr>\n",
       "      <th>...</th>\n",
       "      <td>...</td>\n",
       "      <td>...</td>\n",
       "      <td>...</td>\n",
       "      <td>...</td>\n",
       "    </tr>\n",
       "    <tr>\n",
       "      <th>609</th>\n",
       "      <td>1.0</td>\n",
       "      <td>71.000000</td>\n",
       "      <td>0.0</td>\n",
       "      <td>0</td>\n",
       "    </tr>\n",
       "    <tr>\n",
       "      <th>610</th>\n",
       "      <td>1.0</td>\n",
       "      <td>40.000000</td>\n",
       "      <td>0.0</td>\n",
       "      <td>0</td>\n",
       "    </tr>\n",
       "    <tr>\n",
       "      <th>611</th>\n",
       "      <td>1.0</td>\n",
       "      <td>253.000000</td>\n",
       "      <td>240.0</td>\n",
       "      <td>0</td>\n",
       "    </tr>\n",
       "    <tr>\n",
       "      <th>612</th>\n",
       "      <td>1.0</td>\n",
       "      <td>187.000000</td>\n",
       "      <td>0.0</td>\n",
       "      <td>0</td>\n",
       "    </tr>\n",
       "    <tr>\n",
       "      <th>613</th>\n",
       "      <td>0.0</td>\n",
       "      <td>133.000000</td>\n",
       "      <td>0.0</td>\n",
       "      <td>1</td>\n",
       "    </tr>\n",
       "  </tbody>\n",
       "</table>\n",
       "<p>614 rows × 4 columns</p>\n",
       "</div>"
      ],
      "text/plain": [
       "     Credit_History  LoanAmount  CoapplicantIncome  Cluster\n",
       "0               1.0  146.412162                0.0        0\n",
       "1               1.0  128.000000             1508.0        0\n",
       "2               1.0   66.000000                0.0        0\n",
       "3               1.0  120.000000             2358.0        0\n",
       "4               1.0  141.000000                0.0        0\n",
       "..              ...         ...                ...      ...\n",
       "609             1.0   71.000000                0.0        0\n",
       "610             1.0   40.000000                0.0        0\n",
       "611             1.0  253.000000              240.0        0\n",
       "612             1.0  187.000000                0.0        0\n",
       "613             0.0  133.000000                0.0        1\n",
       "\n",
       "[614 rows x 4 columns]"
      ]
     },
     "execution_count": 62,
     "metadata": {},
     "output_type": "execute_result"
    }
   ],
   "source": [
    "P"
   ]
  },
  {
   "cell_type": "code",
   "execution_count": 63,
   "id": "911b9d70",
   "metadata": {},
   "outputs": [
    {
     "data": {
      "text/html": [
       "<div>\n",
       "<style scoped>\n",
       "    .dataframe tbody tr th:only-of-type {\n",
       "        vertical-align: middle;\n",
       "    }\n",
       "\n",
       "    .dataframe tbody tr th {\n",
       "        vertical-align: top;\n",
       "    }\n",
       "\n",
       "    .dataframe thead th {\n",
       "        text-align: right;\n",
       "    }\n",
       "</style>\n",
       "<table border=\"1\" class=\"dataframe\">\n",
       "  <thead>\n",
       "    <tr style=\"text-align: right;\">\n",
       "      <th></th>\n",
       "      <th>Credit_History</th>\n",
       "      <th>LoanAmount</th>\n",
       "      <th>CoapplicantIncome</th>\n",
       "    </tr>\n",
       "  </thead>\n",
       "  <tbody>\n",
       "    <tr>\n",
       "      <th>0</th>\n",
       "      <td>0.451640</td>\n",
       "      <td>0.000000</td>\n",
       "      <td>-0.554368</td>\n",
       "    </tr>\n",
       "    <tr>\n",
       "      <th>1</th>\n",
       "      <td>0.451640</td>\n",
       "      <td>-0.219273</td>\n",
       "      <td>-0.038610</td>\n",
       "    </tr>\n",
       "    <tr>\n",
       "      <th>2</th>\n",
       "      <td>0.451640</td>\n",
       "      <td>-0.957641</td>\n",
       "      <td>-0.554368</td>\n",
       "    </tr>\n",
       "    <tr>\n",
       "      <th>3</th>\n",
       "      <td>0.451640</td>\n",
       "      <td>-0.314547</td>\n",
       "      <td>0.252103</td>\n",
       "    </tr>\n",
       "    <tr>\n",
       "      <th>4</th>\n",
       "      <td>0.451640</td>\n",
       "      <td>-0.064454</td>\n",
       "      <td>-0.554368</td>\n",
       "    </tr>\n",
       "    <tr>\n",
       "      <th>...</th>\n",
       "      <td>...</td>\n",
       "      <td>...</td>\n",
       "      <td>...</td>\n",
       "    </tr>\n",
       "    <tr>\n",
       "      <th>609</th>\n",
       "      <td>0.451640</td>\n",
       "      <td>-0.898095</td>\n",
       "      <td>-0.554368</td>\n",
       "    </tr>\n",
       "    <tr>\n",
       "      <th>610</th>\n",
       "      <td>0.451640</td>\n",
       "      <td>-1.267279</td>\n",
       "      <td>-0.554368</td>\n",
       "    </tr>\n",
       "    <tr>\n",
       "      <th>611</th>\n",
       "      <td>0.451640</td>\n",
       "      <td>1.269371</td>\n",
       "      <td>-0.472284</td>\n",
       "    </tr>\n",
       "    <tr>\n",
       "      <th>612</th>\n",
       "      <td>0.451640</td>\n",
       "      <td>0.483367</td>\n",
       "      <td>-0.554368</td>\n",
       "    </tr>\n",
       "    <tr>\n",
       "      <th>613</th>\n",
       "      <td>-2.410441</td>\n",
       "      <td>-0.159728</td>\n",
       "      <td>-0.554368</td>\n",
       "    </tr>\n",
       "  </tbody>\n",
       "</table>\n",
       "<p>614 rows × 3 columns</p>\n",
       "</div>"
      ],
      "text/plain": [
       "     Credit_History  LoanAmount  CoapplicantIncome\n",
       "0          0.451640    0.000000          -0.554368\n",
       "1          0.451640   -0.219273          -0.038610\n",
       "2          0.451640   -0.957641          -0.554368\n",
       "3          0.451640   -0.314547           0.252103\n",
       "4          0.451640   -0.064454          -0.554368\n",
       "..              ...         ...                ...\n",
       "609        0.451640   -0.898095          -0.554368\n",
       "610        0.451640   -1.267279          -0.554368\n",
       "611        0.451640    1.269371          -0.472284\n",
       "612        0.451640    0.483367          -0.554368\n",
       "613       -2.410441   -0.159728          -0.554368\n",
       "\n",
       "[614 rows x 3 columns]"
      ]
     },
     "execution_count": 63,
     "metadata": {},
     "output_type": "execute_result"
    }
   ],
   "source": [
    "C"
   ]
  },
  {
   "cell_type": "code",
   "execution_count": 64,
   "id": "612d2b31",
   "metadata": {},
   "outputs": [
    {
     "data": {
      "text/plain": [
       "1.000000    475\n",
       "0.000000     89\n",
       "0.842199     50\n",
       "Name: Credit_History, dtype: int64"
      ]
     },
     "execution_count": 64,
     "metadata": {},
     "output_type": "execute_result"
    }
   ],
   "source": [
    "P.Credit_History.value_counts()"
   ]
  },
  {
   "cell_type": "code",
   "execution_count": 65,
   "id": "5d04f0e8",
   "metadata": {},
   "outputs": [],
   "source": [
    "q = []\n",
    "for i in P.Credit_History:\n",
    "    if(i < 0.5):\n",
    "        q.append(0)\n",
    "    else:\n",
    "        q.append(1)"
   ]
  },
  {
   "cell_type": "code",
   "execution_count": 66,
   "id": "af31a93b",
   "metadata": {},
   "outputs": [],
   "source": [
    "P.Credit_History = q"
   ]
  },
  {
   "cell_type": "code",
   "execution_count": 67,
   "id": "0058e7f0",
   "metadata": {},
   "outputs": [
    {
     "data": {
      "text/plain": [
       "<matplotlib.collections.PathCollection at 0x214db6323d0>"
      ]
     },
     "execution_count": 67,
     "metadata": {},
     "output_type": "execute_result"
    },
    {
     "data": {
      "image/png": "[encoded data removed]",
      "text/plain": [
       "<Figure size 432x288 with 1 Axes>"
      ]
     },
     "metadata": {
      "needs_background": "light"
     },
     "output_type": "display_data"
    }
   ],
   "source": [
    "plt.scatter(P['LoanAmount'],P['CoapplicantIncome'],c=q)"
   ]
  },
  {
   "cell_type": "code",
   "execution_count": null,
   "id": "0a74e9a7",
   "metadata": {},
   "outputs": [],
   "source": []
  },
  {
   "cell_type": "code",
   "execution_count": 68,
   "id": "66897e85",
   "metadata": {},
   "outputs": [],
   "source": [
    "from sklearn.preprocessing import LabelEncoder\n",
    "le = LabelEncoder()\n",
    "w = le.fit_transform(df1['Loan_Status'])"
   ]
  },
  {
   "cell_type": "code",
   "execution_count": 69,
   "id": "ded1feaa",
   "metadata": {},
   "outputs": [
    {
     "data": {
      "text/plain": [
       "<matplotlib.collections.PathCollection at 0x214db66fd00>"
      ]
     },
     "execution_count": 69,
     "metadata": {},
     "output_type": "execute_result"
    },
    {
     "data": {
      "image/png": "[encoded data removed]",
      "text/plain": [
       "<Figure size 432x288 with 1 Axes>"
      ]
     },
     "metadata": {
      "needs_background": "light"
     },
     "output_type": "display_data"
    }
   ],
   "source": [
    "plt.scatter(P.LoanAmount,P.CoapplicantIncome,c=w)"
   ]
  },
  {
   "cell_type": "code",
   "execution_count": 70,
   "id": "5fa1b541",
   "metadata": {},
   "outputs": [
    {
     "data": {
      "text/plain": [
       "<matplotlib.collections.PathCollection at 0x214dc6ccc70>"
      ]
     },
     "execution_count": 70,
     "metadata": {},
     "output_type": "execute_result"
    },
    {
     "data": {
      "image/png": "[encoded data removed]",
      "text/plain": [
       "<Figure size 432x288 with 1 Axes>"
      ]
     },
     "metadata": {
      "needs_background": "light"
     },
     "output_type": "display_data"
    }
   ],
   "source": [
    "plt.scatter(P.LoanAmount,P.CoapplicantIncome,c=P.Cluster)"
   ]
  },
  {
   "cell_type": "code",
   "execution_count": 71,
   "id": "daf9a944",
   "metadata": {},
   "outputs": [
    {
     "data": {
      "text/plain": [
       "<matplotlib.collections.PathCollection at 0x214dc7a9a60>"
      ]
     },
     "execution_count": 71,
     "metadata": {},
     "output_type": "execute_result"
    },
    {
     "data": {
      "image/png": "[encoded data removed]",
      "text/plain": [
       "<Figure size 1080x288 with 3 Axes>"
      ]
     },
     "metadata": {
      "needs_background": "light"
     },
     "output_type": "display_data"
    }
   ],
   "source": [
    "plt.figure(figsize=(15,4))\n",
    "plt.subplot(1,3,1)\n",
    "plt.scatter(P.LoanAmount,P.CoapplicantIncome,c=q)\n",
    "plt.subplot(1,3,2)\n",
    "plt.scatter(P.LoanAmount,P.CoapplicantIncome,c=w)\n",
    "plt.subplot(1,3,3)\n",
    "plt.scatter(P.LoanAmount,P.CoapplicantIncome,c=P.Cluster)"
   ]
  },
  {
   "cell_type": "code",
   "execution_count": null,
   "id": "10052cef",
   "metadata": {},
   "outputs": [],
   "source": []
  },
  {
   "cell_type": "markdown",
   "id": "81557492",
   "metadata": {},
   "source": [
    "# 3.)If customer is not eligible for the input required amount and duration:\n",
    "   a.)what can be amount for the given duration.(Regression)\n",
    "  "
   ]
  },
  {
   "cell_type": "code",
   "execution_count": 72,
   "id": "23898ede",
   "metadata": {},
   "outputs": [
    {
     "data": {
      "text/html": [
       "<div>\n",
       "<style scoped>\n",
       "    .dataframe tbody tr th:only-of-type {\n",
       "        vertical-align: middle;\n",
       "    }\n",
       "\n",
       "    .dataframe tbody tr th {\n",
       "        vertical-align: top;\n",
       "    }\n",
       "\n",
       "    .dataframe thead th {\n",
       "        text-align: right;\n",
       "    }\n",
       "</style>\n",
       "<table border=\"1\" class=\"dataframe\">\n",
       "  <thead>\n",
       "    <tr style=\"text-align: right;\">\n",
       "      <th></th>\n",
       "      <th>index</th>\n",
       "      <th>Gender</th>\n",
       "      <th>Married</th>\n",
       "      <th>Dependents</th>\n",
       "      <th>Education</th>\n",
       "      <th>Self_Employed</th>\n",
       "      <th>ApplicantIncome</th>\n",
       "      <th>CoapplicantIncome</th>\n",
       "      <th>LoanAmount</th>\n",
       "      <th>Loan_Amount_Term</th>\n",
       "      <th>Credit_History</th>\n",
       "      <th>Property_Area</th>\n",
       "      <th>Loan_Status</th>\n",
       "    </tr>\n",
       "  </thead>\n",
       "  <tbody>\n",
       "    <tr>\n",
       "      <th>0</th>\n",
       "      <td>0</td>\n",
       "      <td>Male</td>\n",
       "      <td>No</td>\n",
       "      <td>0</td>\n",
       "      <td>Graduate</td>\n",
       "      <td>No</td>\n",
       "      <td>8.674026</td>\n",
       "      <td>0.0</td>\n",
       "      <td>146.412162</td>\n",
       "      <td>360.0</td>\n",
       "      <td>1.0</td>\n",
       "      <td>Urban</td>\n",
       "      <td>Y</td>\n",
       "    </tr>\n",
       "    <tr>\n",
       "      <th>1</th>\n",
       "      <td>2</td>\n",
       "      <td>Male</td>\n",
       "      <td>Yes</td>\n",
       "      <td>0</td>\n",
       "      <td>Graduate</td>\n",
       "      <td>Yes</td>\n",
       "      <td>8.006368</td>\n",
       "      <td>0.0</td>\n",
       "      <td>66.000000</td>\n",
       "      <td>360.0</td>\n",
       "      <td>1.0</td>\n",
       "      <td>Urban</td>\n",
       "      <td>Y</td>\n",
       "    </tr>\n",
       "  </tbody>\n",
       "</table>\n",
       "</div>"
      ],
      "text/plain": [
       "   index Gender Married Dependents Education Self_Employed  ApplicantIncome  \\\n",
       "0      0   Male      No          0  Graduate            No         8.674026   \n",
       "1      2   Male     Yes          0  Graduate           Yes         8.006368   \n",
       "\n",
       "   CoapplicantIncome  LoanAmount  Loan_Amount_Term  Credit_History  \\\n",
       "0                0.0  146.412162             360.0             1.0   \n",
       "1                0.0   66.000000             360.0             1.0   \n",
       "\n",
       "  Property_Area Loan_Status  \n",
       "0         Urban           Y  \n",
       "1         Urban           Y  "
      ]
     },
     "execution_count": 72,
     "metadata": {},
     "output_type": "execute_result"
    }
   ],
   "source": [
    "a=df1[df1.Loan_Status == \"Y\"].reset_index()\n",
    "a.head(2)    \n",
    "#from train data"
   ]
  },
  {
   "cell_type": "code",
   "execution_count": null,
   "id": "499a2275",
   "metadata": {},
   "outputs": [],
   "source": []
  },
  {
   "cell_type": "code",
   "execution_count": 73,
   "id": "3640e567",
   "metadata": {},
   "outputs": [],
   "source": [
    "dft1.rename(columns={\"Loan_Status_pred\": \"Loan_Status\"},inplace=True)\n",
    "\n",
    "#test data"
   ]
  },
  {
   "cell_type": "code",
   "execution_count": 74,
   "id": "b656c9d3",
   "metadata": {},
   "outputs": [
    {
     "data": {
      "text/html": [
       "<div>\n",
       "<style scoped>\n",
       "    .dataframe tbody tr th:only-of-type {\n",
       "        vertical-align: middle;\n",
       "    }\n",
       "\n",
       "    .dataframe tbody tr th {\n",
       "        vertical-align: top;\n",
       "    }\n",
       "\n",
       "    .dataframe thead th {\n",
       "        text-align: right;\n",
       "    }\n",
       "</style>\n",
       "<table border=\"1\" class=\"dataframe\">\n",
       "  <thead>\n",
       "    <tr style=\"text-align: right;\">\n",
       "      <th></th>\n",
       "      <th>index</th>\n",
       "      <th>Gender</th>\n",
       "      <th>Married</th>\n",
       "      <th>Dependents</th>\n",
       "      <th>Education</th>\n",
       "      <th>Self_Employed</th>\n",
       "      <th>ApplicantIncome</th>\n",
       "      <th>CoapplicantIncome</th>\n",
       "      <th>LoanAmount</th>\n",
       "      <th>Loan_Amount_Term</th>\n",
       "      <th>Credit_History</th>\n",
       "      <th>Property_Area</th>\n",
       "      <th>Loan_Status</th>\n",
       "    </tr>\n",
       "  </thead>\n",
       "  <tbody>\n",
       "    <tr>\n",
       "      <th>0</th>\n",
       "      <td>0</td>\n",
       "      <td>Male</td>\n",
       "      <td>Yes</td>\n",
       "      <td>0</td>\n",
       "      <td>Graduate</td>\n",
       "      <td>No</td>\n",
       "      <td>5720</td>\n",
       "      <td>0</td>\n",
       "      <td>110.0</td>\n",
       "      <td>360.0</td>\n",
       "      <td>1.0</td>\n",
       "      <td>Urban</td>\n",
       "      <td>Y</td>\n",
       "    </tr>\n",
       "    <tr>\n",
       "      <th>1</th>\n",
       "      <td>1</td>\n",
       "      <td>Male</td>\n",
       "      <td>Yes</td>\n",
       "      <td>1</td>\n",
       "      <td>Graduate</td>\n",
       "      <td>No</td>\n",
       "      <td>3076</td>\n",
       "      <td>1500</td>\n",
       "      <td>126.0</td>\n",
       "      <td>360.0</td>\n",
       "      <td>1.0</td>\n",
       "      <td>Urban</td>\n",
       "      <td>Y</td>\n",
       "    </tr>\n",
       "  </tbody>\n",
       "</table>\n",
       "</div>"
      ],
      "text/plain": [
       "   index Gender Married Dependents Education Self_Employed  ApplicantIncome  \\\n",
       "0      0   Male     Yes          0  Graduate            No             5720   \n",
       "1      1   Male     Yes          1  Graduate            No             3076   \n",
       "\n",
       "   CoapplicantIncome  LoanAmount  Loan_Amount_Term  Credit_History  \\\n",
       "0                  0       110.0             360.0             1.0   \n",
       "1               1500       126.0             360.0             1.0   \n",
       "\n",
       "  Property_Area Loan_Status  \n",
       "0         Urban           Y  \n",
       "1         Urban           Y  "
      ]
     },
     "execution_count": 74,
     "metadata": {},
     "output_type": "execute_result"
    }
   ],
   "source": [
    "b=dft1[dft1.Loan_Status == \"Y\"].reset_index()\n",
    "b.head(2)\n",
    "\n",
    "#test data"
   ]
  },
  {
   "cell_type": "code",
   "execution_count": 75,
   "id": "de56dbba",
   "metadata": {},
   "outputs": [],
   "source": [
    "A=pd.concat([a,b])    #combine train test data"
   ]
  },
  {
   "cell_type": "code",
   "execution_count": 76,
   "id": "2c5bd3df",
   "metadata": {},
   "outputs": [],
   "source": [
    "A.drop(['index'],axis=1,inplace=True)"
   ]
  },
  {
   "cell_type": "code",
   "execution_count": 77,
   "id": "c43113e1",
   "metadata": {},
   "outputs": [],
   "source": [
    "A.index=range(0,718)"
   ]
  },
  {
   "cell_type": "code",
   "execution_count": 241,
   "id": "68bed897",
   "metadata": {},
   "outputs": [
    {
     "data": {
      "text/html": [
       "<div>\n",
       "<style scoped>\n",
       "    .dataframe tbody tr th:only-of-type {\n",
       "        vertical-align: middle;\n",
       "    }\n",
       "\n",
       "    .dataframe tbody tr th {\n",
       "        vertical-align: top;\n",
       "    }\n",
       "\n",
       "    .dataframe thead th {\n",
       "        text-align: right;\n",
       "    }\n",
       "</style>\n",
       "<table border=\"1\" class=\"dataframe\">\n",
       "  <thead>\n",
       "    <tr style=\"text-align: right;\">\n",
       "      <th></th>\n",
       "      <th>Gender</th>\n",
       "      <th>Married</th>\n",
       "      <th>Dependents</th>\n",
       "      <th>Education</th>\n",
       "      <th>Self_Employed</th>\n",
       "      <th>ApplicantIncome</th>\n",
       "      <th>CoapplicantIncome</th>\n",
       "      <th>LoanAmount</th>\n",
       "      <th>Loan_Amount_Term</th>\n",
       "      <th>Credit_History</th>\n",
       "      <th>Property_Area</th>\n",
       "      <th>Loan_Status</th>\n",
       "    </tr>\n",
       "  </thead>\n",
       "  <tbody>\n",
       "    <tr>\n",
       "      <th>0</th>\n",
       "      <td>Male</td>\n",
       "      <td>No</td>\n",
       "      <td>0</td>\n",
       "      <td>Graduate</td>\n",
       "      <td>No</td>\n",
       "      <td>8.674026</td>\n",
       "      <td>0.000000</td>\n",
       "      <td>146.412162</td>\n",
       "      <td>360.0</td>\n",
       "      <td>1</td>\n",
       "      <td>Urban</td>\n",
       "      <td>Y</td>\n",
       "    </tr>\n",
       "    <tr>\n",
       "      <th>1</th>\n",
       "      <td>Male</td>\n",
       "      <td>Yes</td>\n",
       "      <td>0</td>\n",
       "      <td>Graduate</td>\n",
       "      <td>Yes</td>\n",
       "      <td>8.006368</td>\n",
       "      <td>0.000000</td>\n",
       "      <td>66.000000</td>\n",
       "      <td>360.0</td>\n",
       "      <td>1</td>\n",
       "      <td>Urban</td>\n",
       "      <td>Y</td>\n",
       "    </tr>\n",
       "    <tr>\n",
       "      <th>2</th>\n",
       "      <td>Male</td>\n",
       "      <td>Yes</td>\n",
       "      <td>0</td>\n",
       "      <td>Not Graduate</td>\n",
       "      <td>No</td>\n",
       "      <td>7.856707</td>\n",
       "      <td>7.765569</td>\n",
       "      <td>120.000000</td>\n",
       "      <td>360.0</td>\n",
       "      <td>1</td>\n",
       "      <td>Urban</td>\n",
       "      <td>Y</td>\n",
       "    </tr>\n",
       "    <tr>\n",
       "      <th>3</th>\n",
       "      <td>Male</td>\n",
       "      <td>No</td>\n",
       "      <td>0</td>\n",
       "      <td>Graduate</td>\n",
       "      <td>No</td>\n",
       "      <td>8.699515</td>\n",
       "      <td>0.000000</td>\n",
       "      <td>141.000000</td>\n",
       "      <td>360.0</td>\n",
       "      <td>1</td>\n",
       "      <td>Urban</td>\n",
       "      <td>Y</td>\n",
       "    </tr>\n",
       "    <tr>\n",
       "      <th>4</th>\n",
       "      <td>Male</td>\n",
       "      <td>Yes</td>\n",
       "      <td>2</td>\n",
       "      <td>Graduate</td>\n",
       "      <td>Yes</td>\n",
       "      <td>8.597297</td>\n",
       "      <td>8.341887</td>\n",
       "      <td>267.000000</td>\n",
       "      <td>360.0</td>\n",
       "      <td>1</td>\n",
       "      <td>Urban</td>\n",
       "      <td>Y</td>\n",
       "    </tr>\n",
       "  </tbody>\n",
       "</table>\n",
       "</div>"
      ],
      "text/plain": [
       "  Gender Married Dependents     Education Self_Employed  ApplicantIncome  \\\n",
       "0   Male      No          0      Graduate            No         8.674026   \n",
       "1   Male     Yes          0      Graduate           Yes         8.006368   \n",
       "2   Male     Yes          0  Not Graduate            No         7.856707   \n",
       "3   Male      No          0      Graduate            No         8.699515   \n",
       "4   Male     Yes          2      Graduate           Yes         8.597297   \n",
       "\n",
       "   CoapplicantIncome  LoanAmount  Loan_Amount_Term  Credit_History  \\\n",
       "0           0.000000  146.412162             360.0               1   \n",
       "1           0.000000   66.000000             360.0               1   \n",
       "2           7.765569  120.000000             360.0               1   \n",
       "3           0.000000  141.000000             360.0               1   \n",
       "4           8.341887  267.000000             360.0               1   \n",
       "\n",
       "  Property_Area Loan_Status  \n",
       "0         Urban           Y  \n",
       "1         Urban           Y  \n",
       "2         Urban           Y  \n",
       "3         Urban           Y  \n",
       "4         Urban           Y  "
      ]
     },
     "execution_count": 241,
     "metadata": {},
     "output_type": "execute_result"
    }
   ],
   "source": [
    "A.head()"
   ]
  },
  {
   "cell_type": "markdown",
   "id": "4320e724",
   "metadata": {},
   "source": [
    "# Missing Data treatment"
   ]
  },
  {
   "cell_type": "code",
   "execution_count": 79,
   "id": "a553f923",
   "metadata": {},
   "outputs": [],
   "source": [
    "cat = []\n",
    "con = []\n",
    "for i in A.columns:\n",
    "    if(A[i].dtypes == \"object\"):\n",
    "        cat.append(i)\n",
    "    else:\n",
    "        con.append(i)"
   ]
  },
  {
   "cell_type": "code",
   "execution_count": 80,
   "id": "cd9ce025",
   "metadata": {},
   "outputs": [],
   "source": [
    "for i in cat:\n",
    "        c=A[i].mode()[0]\n",
    "        A[i]=A[i].fillna(c)  #-----> For catrgorical missisng values we will replace it with mode value of that feature       \n",
    "\n",
    "        \n",
    "for i in con:\n",
    "        c=A[i].mean()\n",
    "        A[i]=A[i].fillna(c)     #---->for numerical missing values we will replace it with mean value of that feature"
   ]
  },
  {
   "cell_type": "code",
   "execution_count": 81,
   "id": "5b708113",
   "metadata": {},
   "outputs": [
    {
     "data": {
      "text/plain": [
       "Gender               0\n",
       "Married              0\n",
       "Dependents           0\n",
       "Education            0\n",
       "Self_Employed        0\n",
       "ApplicantIncome      0\n",
       "CoapplicantIncome    0\n",
       "LoanAmount           0\n",
       "Loan_Amount_Term     0\n",
       "Credit_History       0\n",
       "Property_Area        0\n",
       "Loan_Status          0\n",
       "dtype: int64"
      ]
     },
     "execution_count": 81,
     "metadata": {},
     "output_type": "execute_result"
    }
   ],
   "source": [
    "A.isna().sum()"
   ]
  },
  {
   "cell_type": "code",
   "execution_count": 82,
   "id": "3f4b7348",
   "metadata": {},
   "outputs": [
    {
     "data": {
      "text/plain": [
       "1.000000    647\n",
       "0.842199     37\n",
       "0.825444     27\n",
       "0.000000      7\n",
       "Name: Credit_History, dtype: int64"
      ]
     },
     "execution_count": 82,
     "metadata": {},
     "output_type": "execute_result"
    }
   ],
   "source": [
    "A.Credit_History.value_counts()"
   ]
  },
  {
   "cell_type": "code",
   "execution_count": 83,
   "id": "92176680",
   "metadata": {},
   "outputs": [],
   "source": [
    "q = []\n",
    "for i in A.Credit_History:\n",
    "    if(i < 0.5):\n",
    "        q.append(0)\n",
    "    else:\n",
    "        q.append(1)"
   ]
  },
  {
   "cell_type": "code",
   "execution_count": 84,
   "id": "43a42292",
   "metadata": {},
   "outputs": [],
   "source": [
    "A.Credit_History = q"
   ]
  },
  {
   "cell_type": "code",
   "execution_count": 85,
   "id": "5083632a",
   "metadata": {},
   "outputs": [
    {
     "data": {
      "text/plain": [
       "1    711\n",
       "0      7\n",
       "Name: Credit_History, dtype: int64"
      ]
     },
     "execution_count": 85,
     "metadata": {},
     "output_type": "execute_result"
    }
   ],
   "source": [
    "A.Credit_History.value_counts()"
   ]
  },
  {
   "cell_type": "code",
   "execution_count": null,
   "id": "bcbf5911",
   "metadata": {},
   "outputs": [],
   "source": []
  },
  {
   "cell_type": "code",
   "execution_count": 86,
   "id": "085581c3",
   "metadata": {},
   "outputs": [
    {
     "data": {
      "text/html": [
       "<div>\n",
       "<style scoped>\n",
       "    .dataframe tbody tr th:only-of-type {\n",
       "        vertical-align: middle;\n",
       "    }\n",
       "\n",
       "    .dataframe tbody tr th {\n",
       "        vertical-align: top;\n",
       "    }\n",
       "\n",
       "    .dataframe thead th {\n",
       "        text-align: right;\n",
       "    }\n",
       "</style>\n",
       "<table border=\"1\" class=\"dataframe\">\n",
       "  <thead>\n",
       "    <tr style=\"text-align: right;\">\n",
       "      <th></th>\n",
       "      <th>LoanAmount</th>\n",
       "    </tr>\n",
       "  </thead>\n",
       "  <tbody>\n",
       "    <tr>\n",
       "      <th>ApplicantIncome</th>\n",
       "      <td>0.186911</td>\n",
       "    </tr>\n",
       "    <tr>\n",
       "      <th>CoapplicantIncome</th>\n",
       "      <td>0.040225</td>\n",
       "    </tr>\n",
       "    <tr>\n",
       "      <th>LoanAmount</th>\n",
       "      <td>1.000000</td>\n",
       "    </tr>\n",
       "    <tr>\n",
       "      <th>Loan_Amount_Term</th>\n",
       "      <td>0.059433</td>\n",
       "    </tr>\n",
       "    <tr>\n",
       "      <th>Credit_History</th>\n",
       "      <td>-0.086221</td>\n",
       "    </tr>\n",
       "  </tbody>\n",
       "</table>\n",
       "</div>"
      ],
      "text/plain": [
       "                   LoanAmount\n",
       "ApplicantIncome      0.186911\n",
       "CoapplicantIncome    0.040225\n",
       "LoanAmount           1.000000\n",
       "Loan_Amount_Term     0.059433\n",
       "Credit_History      -0.086221"
      ]
     },
     "execution_count": 86,
     "metadata": {},
     "output_type": "execute_result"
    }
   ],
   "source": [
    "A.corr()[['LoanAmount']]"
   ]
  },
  {
   "cell_type": "code",
   "execution_count": 87,
   "id": "5777a27c",
   "metadata": {},
   "outputs": [
    {
     "name": "stdout",
     "output_type": "stream",
     "text": [
      "------------------------\n",
      "Loan AMt vs Gender\n",
      "0.004\n",
      "------------------------\n",
      "Loan AMt vs Married\n",
      "0.0\n",
      "------------------------\n",
      "Loan AMt vs Dependents\n",
      "0.0\n",
      "------------------------\n",
      "Loan AMt vs Education\n",
      "0.0\n",
      "------------------------\n",
      "Loan AMt vs Self_Employed\n",
      "0.0\n",
      "------------------------\n",
      "Loan AMt vs Property_Area\n",
      "0.766\n",
      "------------------------\n",
      "Loan AMt vs Loan_Status\n",
      "nan\n"
     ]
    }
   ],
   "source": [
    "for i in A.columns:\n",
    "    if(A[i].dtypes == \"object\"):\n",
    "        print(\"------------------------\")\n",
    "        print(\"Loan AMt vs\",i)\n",
    "        print(ANOVA(A,i,\"LoanAmount\"))"
   ]
  },
  {
   "cell_type": "code",
   "execution_count": 88,
   "id": "a9b2fa17",
   "metadata": {},
   "outputs": [],
   "source": [
    "A2=A.drop(['Credit_History','Loan_Status','LoanAmount'],axis=1)"
   ]
  },
  {
   "cell_type": "code",
   "execution_count": 89,
   "id": "d509ea57",
   "metadata": {},
   "outputs": [
    {
     "data": {
      "text/html": [
       "<div>\n",
       "<style scoped>\n",
       "    .dataframe tbody tr th:only-of-type {\n",
       "        vertical-align: middle;\n",
       "    }\n",
       "\n",
       "    .dataframe tbody tr th {\n",
       "        vertical-align: top;\n",
       "    }\n",
       "\n",
       "    .dataframe thead th {\n",
       "        text-align: right;\n",
       "    }\n",
       "</style>\n",
       "<table border=\"1\" class=\"dataframe\">\n",
       "  <thead>\n",
       "    <tr style=\"text-align: right;\">\n",
       "      <th></th>\n",
       "      <th>Gender</th>\n",
       "      <th>Married</th>\n",
       "      <th>Dependents</th>\n",
       "      <th>Education</th>\n",
       "      <th>Self_Employed</th>\n",
       "      <th>ApplicantIncome</th>\n",
       "      <th>CoapplicantIncome</th>\n",
       "      <th>Loan_Amount_Term</th>\n",
       "      <th>Property_Area</th>\n",
       "    </tr>\n",
       "  </thead>\n",
       "  <tbody>\n",
       "    <tr>\n",
       "      <th>0</th>\n",
       "      <td>Male</td>\n",
       "      <td>No</td>\n",
       "      <td>0</td>\n",
       "      <td>Graduate</td>\n",
       "      <td>No</td>\n",
       "      <td>8.674026</td>\n",
       "      <td>0.0</td>\n",
       "      <td>360.0</td>\n",
       "      <td>Urban</td>\n",
       "    </tr>\n",
       "    <tr>\n",
       "      <th>1</th>\n",
       "      <td>Male</td>\n",
       "      <td>Yes</td>\n",
       "      <td>0</td>\n",
       "      <td>Graduate</td>\n",
       "      <td>Yes</td>\n",
       "      <td>8.006368</td>\n",
       "      <td>0.0</td>\n",
       "      <td>360.0</td>\n",
       "      <td>Urban</td>\n",
       "    </tr>\n",
       "  </tbody>\n",
       "</table>\n",
       "</div>"
      ],
      "text/plain": [
       "  Gender Married Dependents Education Self_Employed  ApplicantIncome  \\\n",
       "0   Male      No          0  Graduate            No         8.674026   \n",
       "1   Male     Yes          0  Graduate           Yes         8.006368   \n",
       "\n",
       "   CoapplicantIncome  Loan_Amount_Term Property_Area  \n",
       "0                0.0             360.0         Urban  \n",
       "1                0.0             360.0         Urban  "
      ]
     },
     "execution_count": 89,
     "metadata": {},
     "output_type": "execute_result"
    }
   ],
   "source": [
    "A2.head(2)"
   ]
  },
  {
   "cell_type": "code",
   "execution_count": 90,
   "id": "9ead6127",
   "metadata": {},
   "outputs": [],
   "source": [
    "Y=A['LoanAmount']"
   ]
  },
  {
   "cell_type": "code",
   "execution_count": 91,
   "id": "3c502613",
   "metadata": {},
   "outputs": [
    {
     "data": {
      "text/html": [
       "<div>\n",
       "<style scoped>\n",
       "    .dataframe tbody tr th:only-of-type {\n",
       "        vertical-align: middle;\n",
       "    }\n",
       "\n",
       "    .dataframe tbody tr th {\n",
       "        vertical-align: top;\n",
       "    }\n",
       "\n",
       "    .dataframe thead th {\n",
       "        text-align: right;\n",
       "    }\n",
       "</style>\n",
       "<table border=\"1\" class=\"dataframe\">\n",
       "  <thead>\n",
       "    <tr style=\"text-align: right;\">\n",
       "      <th></th>\n",
       "      <th>Gender_Female</th>\n",
       "      <th>Gender_Male</th>\n",
       "      <th>Married_No</th>\n",
       "      <th>Married_Yes</th>\n",
       "      <th>Dependents_0</th>\n",
       "      <th>Dependents_1</th>\n",
       "      <th>Dependents_2</th>\n",
       "      <th>Dependents_3+</th>\n",
       "      <th>Education_Graduate</th>\n",
       "      <th>Education_Not Graduate</th>\n",
       "      <th>Self_Employed_No</th>\n",
       "      <th>Self_Employed_Yes</th>\n",
       "      <th>Property_Area_Rural</th>\n",
       "      <th>Property_Area_Semiurban</th>\n",
       "      <th>Property_Area_Urban</th>\n",
       "    </tr>\n",
       "  </thead>\n",
       "  <tbody>\n",
       "    <tr>\n",
       "      <th>0</th>\n",
       "      <td>0</td>\n",
       "      <td>1</td>\n",
       "      <td>1</td>\n",
       "      <td>0</td>\n",
       "      <td>1</td>\n",
       "      <td>0</td>\n",
       "      <td>0</td>\n",
       "      <td>0</td>\n",
       "      <td>1</td>\n",
       "      <td>0</td>\n",
       "      <td>1</td>\n",
       "      <td>0</td>\n",
       "      <td>0</td>\n",
       "      <td>0</td>\n",
       "      <td>1</td>\n",
       "    </tr>\n",
       "    <tr>\n",
       "      <th>1</th>\n",
       "      <td>0</td>\n",
       "      <td>1</td>\n",
       "      <td>0</td>\n",
       "      <td>1</td>\n",
       "      <td>1</td>\n",
       "      <td>0</td>\n",
       "      <td>0</td>\n",
       "      <td>0</td>\n",
       "      <td>1</td>\n",
       "      <td>0</td>\n",
       "      <td>0</td>\n",
       "      <td>1</td>\n",
       "      <td>0</td>\n",
       "      <td>0</td>\n",
       "      <td>1</td>\n",
       "    </tr>\n",
       "  </tbody>\n",
       "</table>\n",
       "</div>"
      ],
      "text/plain": [
       "   Gender_Female  Gender_Male  Married_No  Married_Yes  Dependents_0  \\\n",
       "0              0            1           1            0             1   \n",
       "1              0            1           0            1             1   \n",
       "\n",
       "   Dependents_1  Dependents_2  Dependents_3+  Education_Graduate  \\\n",
       "0             0             0              0                   1   \n",
       "1             0             0              0                   1   \n",
       "\n",
       "   Education_Not Graduate  Self_Employed_No  Self_Employed_Yes  \\\n",
       "0                       0                 1                  0   \n",
       "1                       0                 0                  1   \n",
       "\n",
       "   Property_Area_Rural  Property_Area_Semiurban  Property_Area_Urban  \n",
       "0                    0                        0                    1  \n",
       "1                    0                        0                    1  "
      ]
     },
     "execution_count": 91,
     "metadata": {},
     "output_type": "execute_result"
    }
   ],
   "source": [
    "f=pd.get_dummies(A2[['Gender','Married','Dependents','Education','Self_Employed','Property_Area']])\n",
    "f.head(2)"
   ]
  },
  {
   "cell_type": "code",
   "execution_count": 92,
   "id": "6a3dd029",
   "metadata": {},
   "outputs": [
    {
     "data": {
      "text/html": [
       "<div>\n",
       "<style scoped>\n",
       "    .dataframe tbody tr th:only-of-type {\n",
       "        vertical-align: middle;\n",
       "    }\n",
       "\n",
       "    .dataframe tbody tr th {\n",
       "        vertical-align: top;\n",
       "    }\n",
       "\n",
       "    .dataframe thead th {\n",
       "        text-align: right;\n",
       "    }\n",
       "</style>\n",
       "<table border=\"1\" class=\"dataframe\">\n",
       "  <thead>\n",
       "    <tr style=\"text-align: right;\">\n",
       "      <th></th>\n",
       "      <th>ApplicantIncome</th>\n",
       "      <th>CoapplicantIncome</th>\n",
       "      <th>Loan_Amount_Term</th>\n",
       "    </tr>\n",
       "  </thead>\n",
       "  <tbody>\n",
       "    <tr>\n",
       "      <th>0</th>\n",
       "      <td>-0.489456</td>\n",
       "      <td>-0.476959</td>\n",
       "      <td>0.298449</td>\n",
       "    </tr>\n",
       "    <tr>\n",
       "      <th>1</th>\n",
       "      <td>-0.489617</td>\n",
       "      <td>-0.476959</td>\n",
       "      <td>0.298449</td>\n",
       "    </tr>\n",
       "  </tbody>\n",
       "</table>\n",
       "</div>"
      ],
      "text/plain": [
       "   ApplicantIncome  CoapplicantIncome  Loan_Amount_Term\n",
       "0        -0.489456          -0.476959          0.298449\n",
       "1        -0.489617          -0.476959          0.298449"
      ]
     },
     "execution_count": 92,
     "metadata": {},
     "output_type": "execute_result"
    }
   ],
   "source": [
    "g=pd.DataFrame(ss.fit_transform(A2[['ApplicantIncome','CoapplicantIncome','Loan_Amount_Term']]),columns=['ApplicantIncome','CoapplicantIncome','Loan_Amount_Term'])\n",
    "g.head(2)"
   ]
  },
  {
   "cell_type": "code",
   "execution_count": 93,
   "id": "37a65a00",
   "metadata": {},
   "outputs": [
    {
     "data": {
      "text/html": [
       "<div>\n",
       "<style scoped>\n",
       "    .dataframe tbody tr th:only-of-type {\n",
       "        vertical-align: middle;\n",
       "    }\n",
       "\n",
       "    .dataframe tbody tr th {\n",
       "        vertical-align: top;\n",
       "    }\n",
       "\n",
       "    .dataframe thead th {\n",
       "        text-align: right;\n",
       "    }\n",
       "</style>\n",
       "<table border=\"1\" class=\"dataframe\">\n",
       "  <thead>\n",
       "    <tr style=\"text-align: right;\">\n",
       "      <th></th>\n",
       "      <th>ApplicantIncome</th>\n",
       "      <th>CoapplicantIncome</th>\n",
       "      <th>Loan_Amount_Term</th>\n",
       "      <th>Gender_Female</th>\n",
       "      <th>Gender_Male</th>\n",
       "      <th>Married_No</th>\n",
       "      <th>Married_Yes</th>\n",
       "      <th>Dependents_0</th>\n",
       "      <th>Dependents_1</th>\n",
       "      <th>Dependents_2</th>\n",
       "      <th>Dependents_3+</th>\n",
       "      <th>Education_Graduate</th>\n",
       "      <th>Education_Not Graduate</th>\n",
       "      <th>Self_Employed_No</th>\n",
       "      <th>Self_Employed_Yes</th>\n",
       "      <th>Property_Area_Rural</th>\n",
       "      <th>Property_Area_Semiurban</th>\n",
       "      <th>Property_Area_Urban</th>\n",
       "    </tr>\n",
       "  </thead>\n",
       "  <tbody>\n",
       "    <tr>\n",
       "      <th>0</th>\n",
       "      <td>-0.489456</td>\n",
       "      <td>-0.476959</td>\n",
       "      <td>0.298449</td>\n",
       "      <td>0</td>\n",
       "      <td>1</td>\n",
       "      <td>1</td>\n",
       "      <td>0</td>\n",
       "      <td>1</td>\n",
       "      <td>0</td>\n",
       "      <td>0</td>\n",
       "      <td>0</td>\n",
       "      <td>1</td>\n",
       "      <td>0</td>\n",
       "      <td>1</td>\n",
       "      <td>0</td>\n",
       "      <td>0</td>\n",
       "      <td>0</td>\n",
       "      <td>1</td>\n",
       "    </tr>\n",
       "    <tr>\n",
       "      <th>1</th>\n",
       "      <td>-0.489617</td>\n",
       "      <td>-0.476959</td>\n",
       "      <td>0.298449</td>\n",
       "      <td>0</td>\n",
       "      <td>1</td>\n",
       "      <td>0</td>\n",
       "      <td>1</td>\n",
       "      <td>1</td>\n",
       "      <td>0</td>\n",
       "      <td>0</td>\n",
       "      <td>0</td>\n",
       "      <td>1</td>\n",
       "      <td>0</td>\n",
       "      <td>0</td>\n",
       "      <td>1</td>\n",
       "      <td>0</td>\n",
       "      <td>0</td>\n",
       "      <td>1</td>\n",
       "    </tr>\n",
       "  </tbody>\n",
       "</table>\n",
       "</div>"
      ],
      "text/plain": [
       "   ApplicantIncome  CoapplicantIncome  Loan_Amount_Term  Gender_Female  \\\n",
       "0        -0.489456          -0.476959          0.298449              0   \n",
       "1        -0.489617          -0.476959          0.298449              0   \n",
       "\n",
       "   Gender_Male  Married_No  Married_Yes  Dependents_0  Dependents_1  \\\n",
       "0            1           1            0             1             0   \n",
       "1            1           0            1             1             0   \n",
       "\n",
       "   Dependents_2  Dependents_3+  Education_Graduate  Education_Not Graduate  \\\n",
       "0             0              0                   1                       0   \n",
       "1             0              0                   1                       0   \n",
       "\n",
       "   Self_Employed_No  Self_Employed_Yes  Property_Area_Rural  \\\n",
       "0                 1                  0                    0   \n",
       "1                 0                  1                    0   \n",
       "\n",
       "   Property_Area_Semiurban  Property_Area_Urban  \n",
       "0                        0                    1  \n",
       "1                        0                    1  "
      ]
     },
     "execution_count": 93,
     "metadata": {},
     "output_type": "execute_result"
    }
   ],
   "source": [
    "h=pd.concat([g,f],axis=1)\n",
    "h.head(2)"
   ]
  },
  {
   "cell_type": "code",
   "execution_count": 94,
   "id": "6e194283",
   "metadata": {},
   "outputs": [],
   "source": [
    "from sklearn.model_selection import train_test_split\n",
    "xtrain,xtest,ytrain,ytest=train_test_split(h,Y,test_size=0.2,random_state=21)"
   ]
  },
  {
   "cell_type": "code",
   "execution_count": 95,
   "id": "856f0ef7",
   "metadata": {},
   "outputs": [],
   "source": [
    "from sklearn.linear_model import LinearRegression\n",
    "lm = LinearRegression()\n",
    "lrmodel = lm.fit(xtrain,ytrain)"
   ]
  },
  {
   "cell_type": "code",
   "execution_count": 96,
   "id": "19c6c937",
   "metadata": {},
   "outputs": [],
   "source": [
    "from sklearn.metrics import mean_absolute_error\n",
    "pred_tr=lrmodel.predict(xtrain)\n",
    "pred_ts=lrmodel.predict(xtest)\n",
    "\n",
    "tr_err=mean_absolute_error(ytrain,pred_tr)\n",
    "ts_err=mean_absolute_error(ytest,pred_ts)"
   ]
  },
  {
   "cell_type": "code",
   "execution_count": 97,
   "id": "7f1969af",
   "metadata": {},
   "outputs": [
    {
     "data": {
      "text/plain": [
       "45.163552638591895"
      ]
     },
     "execution_count": 97,
     "metadata": {},
     "output_type": "execute_result"
    }
   ],
   "source": [
    "tr_err"
   ]
  },
  {
   "cell_type": "code",
   "execution_count": 98,
   "id": "e42525d2",
   "metadata": {},
   "outputs": [
    {
     "data": {
      "text/plain": [
       "46.468037257259425"
      ]
     },
     "execution_count": 98,
     "metadata": {},
     "output_type": "execute_result"
    }
   ],
   "source": [
    "ts_err"
   ]
  },
  {
   "cell_type": "code",
   "execution_count": null,
   "id": "592aaa58",
   "metadata": {},
   "outputs": [],
   "source": []
  },
  {
   "cell_type": "markdown",
   "id": "c6f060b2",
   "metadata": {},
   "source": [
    "# Regularisation"
   ]
  },
  {
   "cell_type": "code",
   "execution_count": 99,
   "id": "824396f7",
   "metadata": {},
   "outputs": [],
   "source": [
    "W = []\n",
    "x = 1\n",
    "for i in range(0,100,1):\n",
    "    W.append(round(x+0.5,2))\n",
    "    x = x+0.5 "
   ]
  },
  {
   "cell_type": "code",
   "execution_count": 100,
   "id": "5e3a05fe",
   "metadata": {},
   "outputs": [],
   "source": [
    "from sklearn.linear_model import Ridge\n",
    "rr=Ridge()\n",
    "tg ={\"alpha\":[170]}\n",
    "from sklearn.model_selection import GridSearchCV\n",
    "cv = GridSearchCV(rr,tg,scoring=\"neg_mean_squared_error\",cv=4)\n",
    "\n",
    "cvmodel = cv.fit(xtrain,ytrain)\n",
    "cvmodel.best_params_\n",
    "c = cvmodel.best_params_['alpha']\n",
    "rr = Ridge(alpha=c)\n",
    "ridgemodel = rr.fit(xtrain,ytrain)\n",
    "pred_tr=ridgemodel.predict(xtrain)\n",
    "pred_ts=ridgemodel.predict(xtest)"
   ]
  },
  {
   "cell_type": "code",
   "execution_count": 101,
   "id": "e0c39bd5",
   "metadata": {},
   "outputs": [
    {
     "data": {
      "text/plain": [
       "170"
      ]
     },
     "execution_count": 101,
     "metadata": {},
     "output_type": "execute_result"
    }
   ],
   "source": [
    "c"
   ]
  },
  {
   "cell_type": "code",
   "execution_count": 102,
   "id": "48ca2173",
   "metadata": {},
   "outputs": [
    {
     "name": "stdout",
     "output_type": "stream",
     "text": [
      "training error 44.86\n",
      "testing error 44.73\n",
      "Diff -0.13000000000000256\n"
     ]
    }
   ],
   "source": [
    "pred_tr=ridgemodel.predict(xtrain)\n",
    "trr=round(mean_absolute_error(ytrain,pred_tr),2)\n",
    "print('training error',trr)\n",
    "\n",
    "pred_ts=ridgemodel.predict(xtest)\n",
    "trs=round(mean_absolute_error(ytest,pred_ts),2)\n",
    "print('testing error',trs)\n",
    "\n",
    "print('Diff',trs-trr)"
   ]
  },
  {
   "cell_type": "code",
   "execution_count": null,
   "id": "092bf93b",
   "metadata": {},
   "outputs": [],
   "source": []
  },
  {
   "cell_type": "markdown",
   "id": "fff71a84",
   "metadata": {},
   "source": [
    "# preparing data prediction"
   ]
  },
  {
   "cell_type": "code",
   "execution_count": 103,
   "id": "140d3c3b",
   "metadata": {},
   "outputs": [
    {
     "data": {
      "text/html": [
       "<div>\n",
       "<style scoped>\n",
       "    .dataframe tbody tr th:only-of-type {\n",
       "        vertical-align: middle;\n",
       "    }\n",
       "\n",
       "    .dataframe tbody tr th {\n",
       "        vertical-align: top;\n",
       "    }\n",
       "\n",
       "    .dataframe thead th {\n",
       "        text-align: right;\n",
       "    }\n",
       "</style>\n",
       "<table border=\"1\" class=\"dataframe\">\n",
       "  <thead>\n",
       "    <tr style=\"text-align: right;\">\n",
       "      <th></th>\n",
       "      <th>Gender</th>\n",
       "      <th>Married</th>\n",
       "      <th>Dependents</th>\n",
       "      <th>Education</th>\n",
       "      <th>Self_Employed</th>\n",
       "      <th>ApplicantIncome</th>\n",
       "      <th>CoapplicantIncome</th>\n",
       "      <th>LoanAmount</th>\n",
       "      <th>Loan_Amount_Term</th>\n",
       "      <th>Credit_History</th>\n",
       "      <th>Property_Area</th>\n",
       "      <th>Loan_Status</th>\n",
       "    </tr>\n",
       "  </thead>\n",
       "  <tbody>\n",
       "    <tr>\n",
       "      <th>0</th>\n",
       "      <td>Male</td>\n",
       "      <td>Yes</td>\n",
       "      <td>2</td>\n",
       "      <td>Not Graduate</td>\n",
       "      <td>No</td>\n",
       "      <td>3881</td>\n",
       "      <td>0</td>\n",
       "      <td>147.0</td>\n",
       "      <td>360.0</td>\n",
       "      <td>0.0</td>\n",
       "      <td>Rural</td>\n",
       "      <td>N</td>\n",
       "    </tr>\n",
       "    <tr>\n",
       "      <th>1</th>\n",
       "      <td>Male</td>\n",
       "      <td>Yes</td>\n",
       "      <td>2</td>\n",
       "      <td>Graduate</td>\n",
       "      <td>No</td>\n",
       "      <td>12173</td>\n",
       "      <td>0</td>\n",
       "      <td>166.0</td>\n",
       "      <td>360.0</td>\n",
       "      <td>0.0</td>\n",
       "      <td>Semiurban</td>\n",
       "      <td>N</td>\n",
       "    </tr>\n",
       "  </tbody>\n",
       "</table>\n",
       "</div>"
      ],
      "text/plain": [
       "  Gender Married Dependents     Education Self_Employed  ApplicantIncome  \\\n",
       "0   Male     Yes          2  Not Graduate            No             3881   \n",
       "1   Male     Yes          2      Graduate            No            12173   \n",
       "\n",
       "   CoapplicantIncome  LoanAmount  Loan_Amount_Term  Credit_History  \\\n",
       "0                  0       147.0             360.0             0.0   \n",
       "1                  0       166.0             360.0             0.0   \n",
       "\n",
       "  Property_Area Loan_Status  \n",
       "0         Rural           N  \n",
       "1     Semiurban           N  "
      ]
     },
     "execution_count": 103,
     "metadata": {},
     "output_type": "execute_result"
    }
   ],
   "source": [
    "d=dft1[dft1.Loan_Status == \"N\"].reset_index()\n",
    "d=d.drop(['index'],axis=1)\n",
    "d.head(2)\n",
    "\n",
    "#test data of rejected loan_status"
   ]
  },
  {
   "cell_type": "code",
   "execution_count": null,
   "id": "d16da572",
   "metadata": {},
   "outputs": [],
   "source": []
  },
  {
   "cell_type": "code",
   "execution_count": 104,
   "id": "1f5f633e",
   "metadata": {},
   "outputs": [
    {
     "data": {
      "text/html": [
       "<div>\n",
       "<style scoped>\n",
       "    .dataframe tbody tr th:only-of-type {\n",
       "        vertical-align: middle;\n",
       "    }\n",
       "\n",
       "    .dataframe tbody tr th {\n",
       "        vertical-align: top;\n",
       "    }\n",
       "\n",
       "    .dataframe thead th {\n",
       "        text-align: right;\n",
       "    }\n",
       "</style>\n",
       "<table border=\"1\" class=\"dataframe\">\n",
       "  <thead>\n",
       "    <tr style=\"text-align: right;\">\n",
       "      <th></th>\n",
       "      <th>Gender_Female</th>\n",
       "      <th>Gender_Male</th>\n",
       "      <th>Married_No</th>\n",
       "      <th>Married_Yes</th>\n",
       "      <th>Dependents_0</th>\n",
       "      <th>Dependents_1</th>\n",
       "      <th>Dependents_2</th>\n",
       "      <th>Dependents_3+</th>\n",
       "      <th>Education_Graduate</th>\n",
       "      <th>Education_Not Graduate</th>\n",
       "      <th>Self_Employed_No</th>\n",
       "      <th>Self_Employed_Yes</th>\n",
       "      <th>Property_Area_Rural</th>\n",
       "      <th>Property_Area_Semiurban</th>\n",
       "      <th>Property_Area_Urban</th>\n",
       "    </tr>\n",
       "  </thead>\n",
       "  <tbody>\n",
       "    <tr>\n",
       "      <th>0</th>\n",
       "      <td>0</td>\n",
       "      <td>1</td>\n",
       "      <td>0</td>\n",
       "      <td>1</td>\n",
       "      <td>0</td>\n",
       "      <td>0</td>\n",
       "      <td>1</td>\n",
       "      <td>0</td>\n",
       "      <td>0</td>\n",
       "      <td>1</td>\n",
       "      <td>1</td>\n",
       "      <td>0</td>\n",
       "      <td>1</td>\n",
       "      <td>0</td>\n",
       "      <td>0</td>\n",
       "    </tr>\n",
       "    <tr>\n",
       "      <th>1</th>\n",
       "      <td>0</td>\n",
       "      <td>1</td>\n",
       "      <td>0</td>\n",
       "      <td>1</td>\n",
       "      <td>0</td>\n",
       "      <td>0</td>\n",
       "      <td>1</td>\n",
       "      <td>0</td>\n",
       "      <td>1</td>\n",
       "      <td>0</td>\n",
       "      <td>1</td>\n",
       "      <td>0</td>\n",
       "      <td>0</td>\n",
       "      <td>1</td>\n",
       "      <td>0</td>\n",
       "    </tr>\n",
       "  </tbody>\n",
       "</table>\n",
       "</div>"
      ],
      "text/plain": [
       "   Gender_Female  Gender_Male  Married_No  Married_Yes  Dependents_0  \\\n",
       "0              0            1           0            1             0   \n",
       "1              0            1           0            1             0   \n",
       "\n",
       "   Dependents_1  Dependents_2  Dependents_3+  Education_Graduate  \\\n",
       "0             0             1              0                   0   \n",
       "1             0             1              0                   1   \n",
       "\n",
       "   Education_Not Graduate  Self_Employed_No  Self_Employed_Yes  \\\n",
       "0                       1                 1                  0   \n",
       "1                       0                 1                  0   \n",
       "\n",
       "   Property_Area_Rural  Property_Area_Semiurban  Property_Area_Urban  \n",
       "0                    1                        0                    0  \n",
       "1                    0                        1                    0  "
      ]
     },
     "execution_count": 104,
     "metadata": {},
     "output_type": "execute_result"
    }
   ],
   "source": [
    "j=pd.get_dummies(d[['Gender','Married','Dependents','Education','Self_Employed','Property_Area']])\n",
    "j.head(2)"
   ]
  },
  {
   "cell_type": "code",
   "execution_count": 105,
   "id": "1b461763",
   "metadata": {},
   "outputs": [
    {
     "data": {
      "text/html": [
       "<div>\n",
       "<style scoped>\n",
       "    .dataframe tbody tr th:only-of-type {\n",
       "        vertical-align: middle;\n",
       "    }\n",
       "\n",
       "    .dataframe tbody tr th {\n",
       "        vertical-align: top;\n",
       "    }\n",
       "\n",
       "    .dataframe thead th {\n",
       "        text-align: right;\n",
       "    }\n",
       "</style>\n",
       "<table border=\"1\" class=\"dataframe\">\n",
       "  <thead>\n",
       "    <tr style=\"text-align: right;\">\n",
       "      <th></th>\n",
       "      <th>ApplicantIncome</th>\n",
       "      <th>CoapplicantIncome</th>\n",
       "      <th>Loan_Amount_Term</th>\n",
       "    </tr>\n",
       "  </thead>\n",
       "  <tbody>\n",
       "    <tr>\n",
       "      <th>0</th>\n",
       "      <td>-0.120253</td>\n",
       "      <td>-0.703445</td>\n",
       "      <td>0.191007</td>\n",
       "    </tr>\n",
       "    <tr>\n",
       "      <th>1</th>\n",
       "      <td>2.635022</td>\n",
       "      <td>-0.703445</td>\n",
       "      <td>0.191007</td>\n",
       "    </tr>\n",
       "  </tbody>\n",
       "</table>\n",
       "</div>"
      ],
      "text/plain": [
       "   ApplicantIncome  CoapplicantIncome  Loan_Amount_Term\n",
       "0        -0.120253          -0.703445          0.191007\n",
       "1         2.635022          -0.703445          0.191007"
      ]
     },
     "execution_count": 105,
     "metadata": {},
     "output_type": "execute_result"
    }
   ],
   "source": [
    "k=pd.DataFrame(ss.fit_transform(d[['ApplicantIncome','CoapplicantIncome','Loan_Amount_Term']]),columns=['ApplicantIncome','CoapplicantIncome','Loan_Amount_Term'])\n",
    "k.head(2)"
   ]
  },
  {
   "cell_type": "code",
   "execution_count": 106,
   "id": "d6b17dc2",
   "metadata": {},
   "outputs": [
    {
     "data": {
      "text/html": [
       "<div>\n",
       "<style scoped>\n",
       "    .dataframe tbody tr th:only-of-type {\n",
       "        vertical-align: middle;\n",
       "    }\n",
       "\n",
       "    .dataframe tbody tr th {\n",
       "        vertical-align: top;\n",
       "    }\n",
       "\n",
       "    .dataframe thead th {\n",
       "        text-align: right;\n",
       "    }\n",
       "</style>\n",
       "<table border=\"1\" class=\"dataframe\">\n",
       "  <thead>\n",
       "    <tr style=\"text-align: right;\">\n",
       "      <th></th>\n",
       "      <th>ApplicantIncome</th>\n",
       "      <th>CoapplicantIncome</th>\n",
       "      <th>Loan_Amount_Term</th>\n",
       "      <th>Gender_Female</th>\n",
       "      <th>Gender_Male</th>\n",
       "      <th>Married_No</th>\n",
       "      <th>Married_Yes</th>\n",
       "      <th>Dependents_0</th>\n",
       "      <th>Dependents_1</th>\n",
       "      <th>Dependents_2</th>\n",
       "      <th>Dependents_3+</th>\n",
       "      <th>Education_Graduate</th>\n",
       "      <th>Education_Not Graduate</th>\n",
       "      <th>Self_Employed_No</th>\n",
       "      <th>Self_Employed_Yes</th>\n",
       "      <th>Property_Area_Rural</th>\n",
       "      <th>Property_Area_Semiurban</th>\n",
       "      <th>Property_Area_Urban</th>\n",
       "    </tr>\n",
       "  </thead>\n",
       "  <tbody>\n",
       "    <tr>\n",
       "      <th>0</th>\n",
       "      <td>-0.120253</td>\n",
       "      <td>-0.703445</td>\n",
       "      <td>0.191007</td>\n",
       "      <td>0</td>\n",
       "      <td>1</td>\n",
       "      <td>0</td>\n",
       "      <td>1</td>\n",
       "      <td>0</td>\n",
       "      <td>0</td>\n",
       "      <td>1</td>\n",
       "      <td>0</td>\n",
       "      <td>0</td>\n",
       "      <td>1</td>\n",
       "      <td>1</td>\n",
       "      <td>0</td>\n",
       "      <td>1</td>\n",
       "      <td>0</td>\n",
       "      <td>0</td>\n",
       "    </tr>\n",
       "    <tr>\n",
       "      <th>1</th>\n",
       "      <td>2.635022</td>\n",
       "      <td>-0.703445</td>\n",
       "      <td>0.191007</td>\n",
       "      <td>0</td>\n",
       "      <td>1</td>\n",
       "      <td>0</td>\n",
       "      <td>1</td>\n",
       "      <td>0</td>\n",
       "      <td>0</td>\n",
       "      <td>1</td>\n",
       "      <td>0</td>\n",
       "      <td>1</td>\n",
       "      <td>0</td>\n",
       "      <td>1</td>\n",
       "      <td>0</td>\n",
       "      <td>0</td>\n",
       "      <td>1</td>\n",
       "      <td>0</td>\n",
       "    </tr>\n",
       "  </tbody>\n",
       "</table>\n",
       "</div>"
      ],
      "text/plain": [
       "   ApplicantIncome  CoapplicantIncome  Loan_Amount_Term  Gender_Female  \\\n",
       "0        -0.120253          -0.703445          0.191007              0   \n",
       "1         2.635022          -0.703445          0.191007              0   \n",
       "\n",
       "   Gender_Male  Married_No  Married_Yes  Dependents_0  Dependents_1  \\\n",
       "0            1           0            1             0             0   \n",
       "1            1           0            1             0             0   \n",
       "\n",
       "   Dependents_2  Dependents_3+  Education_Graduate  Education_Not Graduate  \\\n",
       "0             1              0                   0                       1   \n",
       "1             1              0                   1                       0   \n",
       "\n",
       "   Self_Employed_No  Self_Employed_Yes  Property_Area_Rural  \\\n",
       "0                 1                  0                    1   \n",
       "1                 1                  0                    0   \n",
       "\n",
       "   Property_Area_Semiurban  Property_Area_Urban  \n",
       "0                        0                    0  \n",
       "1                        1                    0  "
      ]
     },
     "execution_count": 106,
     "metadata": {},
     "output_type": "execute_result"
    }
   ],
   "source": [
    "m=pd.concat([k,j],axis=1)\n",
    "m.head(2)"
   ]
  },
  {
   "cell_type": "code",
   "execution_count": null,
   "id": "c0243553",
   "metadata": {},
   "outputs": [],
   "source": []
  },
  {
   "cell_type": "code",
   "execution_count": 107,
   "id": "a6e58305",
   "metadata": {},
   "outputs": [],
   "source": [
    "pred_Loan_Amount=ridgemodel.predict(m)"
   ]
  },
  {
   "cell_type": "code",
   "execution_count": 108,
   "id": "27b00206",
   "metadata": {},
   "outputs": [
    {
     "data": {
      "text/plain": [
       "array([138.33111673, 176.62133072, 157.98502523, 126.01630693,\n",
       "       128.66649177, 124.7637601 , 148.33220185, 120.22312575,\n",
       "       130.75631676, 144.37221734, 142.5110498 , 153.56281971,\n",
       "       148.42182797, 132.74509588, 144.8049292 , 158.54569282,\n",
       "       145.30447859, 122.29173256, 146.72792865, 148.8878603 ,\n",
       "       117.39561168, 148.02283799, 127.97658409, 143.77759657,\n",
       "       134.20656259, 132.00330767, 144.11110037, 137.54840334,\n",
       "       133.47695595, 128.19812877, 109.66945281, 114.70456952,\n",
       "       146.13736486, 111.96447516, 124.85722189, 158.84069428,\n",
       "       138.80718493, 136.30990146, 158.44149265, 149.6417093 ,\n",
       "       134.12086121, 150.83142193, 139.91676691, 161.85759376,\n",
       "       124.14066337, 122.20770734, 147.53172106, 145.85914738,\n",
       "       141.87667258, 130.32237155, 161.36913896, 127.29701491,\n",
       "       131.01839104, 140.60627463, 160.20737595, 160.34715731,\n",
       "       124.01037   , 139.14362734, 165.59224477, 133.40049602,\n",
       "       159.33318657, 146.19301601, 132.6674807 , 121.02142132,\n",
       "       172.92366968, 100.69618822, 126.04881513, 141.62958755,\n",
       "       144.08665994, 129.54659763, 129.02791951])"
      ]
     },
     "execution_count": 108,
     "metadata": {},
     "output_type": "execute_result"
    }
   ],
   "source": [
    "pred_Loan_Amount"
   ]
  },
  {
   "cell_type": "code",
   "execution_count": null,
   "id": "d922350a",
   "metadata": {},
   "outputs": [],
   "source": []
  },
  {
   "cell_type": "markdown",
   "id": "a8804b39",
   "metadata": {},
   "source": [
    "# b.)if duration is less than equal to 20 years, is customer eligible for required amount for some longer duration?What is that duration?(Regression)"
   ]
  },
  {
   "cell_type": "code",
   "execution_count": null,
   "id": "b079331d",
   "metadata": {},
   "outputs": [],
   "source": [
    "df1+dft1"
   ]
  },
  {
   "cell_type": "code",
   "execution_count": 296,
   "id": "a5f93101",
   "metadata": {},
   "outputs": [],
   "source": [
    "train_data=pd.concat([df1,dft1])"
   ]
  },
  {
   "cell_type": "code",
   "execution_count": 297,
   "id": "cda539bc",
   "metadata": {},
   "outputs": [
    {
     "data": {
      "text/html": [
       "<div>\n",
       "<style scoped>\n",
       "    .dataframe tbody tr th:only-of-type {\n",
       "        vertical-align: middle;\n",
       "    }\n",
       "\n",
       "    .dataframe tbody tr th {\n",
       "        vertical-align: top;\n",
       "    }\n",
       "\n",
       "    .dataframe thead th {\n",
       "        text-align: right;\n",
       "    }\n",
       "</style>\n",
       "<table border=\"1\" class=\"dataframe\">\n",
       "  <thead>\n",
       "    <tr style=\"text-align: right;\">\n",
       "      <th></th>\n",
       "      <th>index</th>\n",
       "      <th>Gender</th>\n",
       "      <th>Married</th>\n",
       "      <th>Dependents</th>\n",
       "      <th>Education</th>\n",
       "      <th>Self_Employed</th>\n",
       "      <th>ApplicantIncome</th>\n",
       "      <th>CoapplicantIncome</th>\n",
       "      <th>LoanAmount</th>\n",
       "      <th>Loan_Amount_Term</th>\n",
       "      <th>Credit_History</th>\n",
       "      <th>Property_Area</th>\n",
       "      <th>Loan_Status</th>\n",
       "    </tr>\n",
       "  </thead>\n",
       "  <tbody>\n",
       "    <tr>\n",
       "      <th>0</th>\n",
       "      <td>0</td>\n",
       "      <td>Male</td>\n",
       "      <td>No</td>\n",
       "      <td>0</td>\n",
       "      <td>Graduate</td>\n",
       "      <td>No</td>\n",
       "      <td>8.674026</td>\n",
       "      <td>0.000000</td>\n",
       "      <td>146.412162</td>\n",
       "      <td>360.0</td>\n",
       "      <td>1.000000</td>\n",
       "      <td>Urban</td>\n",
       "      <td>Y</td>\n",
       "    </tr>\n",
       "    <tr>\n",
       "      <th>1</th>\n",
       "      <td>1</td>\n",
       "      <td>Male</td>\n",
       "      <td>Yes</td>\n",
       "      <td>1</td>\n",
       "      <td>Graduate</td>\n",
       "      <td>No</td>\n",
       "      <td>8.595180</td>\n",
       "      <td>7.318540</td>\n",
       "      <td>128.000000</td>\n",
       "      <td>360.0</td>\n",
       "      <td>1.000000</td>\n",
       "      <td>Rural</td>\n",
       "      <td>N</td>\n",
       "    </tr>\n",
       "    <tr>\n",
       "      <th>2</th>\n",
       "      <td>2</td>\n",
       "      <td>Male</td>\n",
       "      <td>Yes</td>\n",
       "      <td>0</td>\n",
       "      <td>Graduate</td>\n",
       "      <td>Yes</td>\n",
       "      <td>8.006368</td>\n",
       "      <td>0.000000</td>\n",
       "      <td>66.000000</td>\n",
       "      <td>360.0</td>\n",
       "      <td>1.000000</td>\n",
       "      <td>Urban</td>\n",
       "      <td>Y</td>\n",
       "    </tr>\n",
       "    <tr>\n",
       "      <th>3</th>\n",
       "      <td>3</td>\n",
       "      <td>Male</td>\n",
       "      <td>Yes</td>\n",
       "      <td>0</td>\n",
       "      <td>Not Graduate</td>\n",
       "      <td>No</td>\n",
       "      <td>7.856707</td>\n",
       "      <td>7.765569</td>\n",
       "      <td>120.000000</td>\n",
       "      <td>360.0</td>\n",
       "      <td>1.000000</td>\n",
       "      <td>Urban</td>\n",
       "      <td>Y</td>\n",
       "    </tr>\n",
       "    <tr>\n",
       "      <th>4</th>\n",
       "      <td>4</td>\n",
       "      <td>Male</td>\n",
       "      <td>No</td>\n",
       "      <td>0</td>\n",
       "      <td>Graduate</td>\n",
       "      <td>No</td>\n",
       "      <td>8.699515</td>\n",
       "      <td>0.000000</td>\n",
       "      <td>141.000000</td>\n",
       "      <td>360.0</td>\n",
       "      <td>1.000000</td>\n",
       "      <td>Urban</td>\n",
       "      <td>Y</td>\n",
       "    </tr>\n",
       "    <tr>\n",
       "      <th>...</th>\n",
       "      <td>...</td>\n",
       "      <td>...</td>\n",
       "      <td>...</td>\n",
       "      <td>...</td>\n",
       "      <td>...</td>\n",
       "      <td>...</td>\n",
       "      <td>...</td>\n",
       "      <td>...</td>\n",
       "      <td>...</td>\n",
       "      <td>...</td>\n",
       "      <td>...</td>\n",
       "      <td>...</td>\n",
       "      <td>...</td>\n",
       "    </tr>\n",
       "    <tr>\n",
       "      <th>976</th>\n",
       "      <td>362</td>\n",
       "      <td>Male</td>\n",
       "      <td>Yes</td>\n",
       "      <td>3+</td>\n",
       "      <td>Not Graduate</td>\n",
       "      <td>Yes</td>\n",
       "      <td>4009.000000</td>\n",
       "      <td>1777.000000</td>\n",
       "      <td>113.000000</td>\n",
       "      <td>360.0</td>\n",
       "      <td>1.000000</td>\n",
       "      <td>Urban</td>\n",
       "      <td>Y</td>\n",
       "    </tr>\n",
       "    <tr>\n",
       "      <th>977</th>\n",
       "      <td>363</td>\n",
       "      <td>Male</td>\n",
       "      <td>Yes</td>\n",
       "      <td>0</td>\n",
       "      <td>Graduate</td>\n",
       "      <td>No</td>\n",
       "      <td>4158.000000</td>\n",
       "      <td>709.000000</td>\n",
       "      <td>115.000000</td>\n",
       "      <td>360.0</td>\n",
       "      <td>1.000000</td>\n",
       "      <td>Urban</td>\n",
       "      <td>Y</td>\n",
       "    </tr>\n",
       "    <tr>\n",
       "      <th>978</th>\n",
       "      <td>364</td>\n",
       "      <td>Male</td>\n",
       "      <td>No</td>\n",
       "      <td>0</td>\n",
       "      <td>Graduate</td>\n",
       "      <td>No</td>\n",
       "      <td>3250.000000</td>\n",
       "      <td>1993.000000</td>\n",
       "      <td>126.000000</td>\n",
       "      <td>360.0</td>\n",
       "      <td>0.825444</td>\n",
       "      <td>Semiurban</td>\n",
       "      <td>Y</td>\n",
       "    </tr>\n",
       "    <tr>\n",
       "      <th>979</th>\n",
       "      <td>365</td>\n",
       "      <td>Male</td>\n",
       "      <td>Yes</td>\n",
       "      <td>0</td>\n",
       "      <td>Graduate</td>\n",
       "      <td>No</td>\n",
       "      <td>5000.000000</td>\n",
       "      <td>2393.000000</td>\n",
       "      <td>158.000000</td>\n",
       "      <td>360.0</td>\n",
       "      <td>1.000000</td>\n",
       "      <td>Rural</td>\n",
       "      <td>Y</td>\n",
       "    </tr>\n",
       "    <tr>\n",
       "      <th>980</th>\n",
       "      <td>366</td>\n",
       "      <td>Male</td>\n",
       "      <td>No</td>\n",
       "      <td>0</td>\n",
       "      <td>Graduate</td>\n",
       "      <td>Yes</td>\n",
       "      <td>9200.000000</td>\n",
       "      <td>0.000000</td>\n",
       "      <td>98.000000</td>\n",
       "      <td>180.0</td>\n",
       "      <td>1.000000</td>\n",
       "      <td>Rural</td>\n",
       "      <td>Y</td>\n",
       "    </tr>\n",
       "  </tbody>\n",
       "</table>\n",
       "<p>981 rows × 13 columns</p>\n",
       "</div>"
      ],
      "text/plain": [
       "     index Gender Married Dependents     Education Self_Employed  \\\n",
       "0        0   Male      No          0      Graduate            No   \n",
       "1        1   Male     Yes          1      Graduate            No   \n",
       "2        2   Male     Yes          0      Graduate           Yes   \n",
       "3        3   Male     Yes          0  Not Graduate            No   \n",
       "4        4   Male      No          0      Graduate            No   \n",
       "..     ...    ...     ...        ...           ...           ...   \n",
       "976    362   Male     Yes         3+  Not Graduate           Yes   \n",
       "977    363   Male     Yes          0      Graduate            No   \n",
       "978    364   Male      No          0      Graduate            No   \n",
       "979    365   Male     Yes          0      Graduate            No   \n",
       "980    366   Male      No          0      Graduate           Yes   \n",
       "\n",
       "     ApplicantIncome  CoapplicantIncome  LoanAmount  Loan_Amount_Term  \\\n",
       "0           8.674026           0.000000  146.412162             360.0   \n",
       "1           8.595180           7.318540  128.000000             360.0   \n",
       "2           8.006368           0.000000   66.000000             360.0   \n",
       "3           7.856707           7.765569  120.000000             360.0   \n",
       "4           8.699515           0.000000  141.000000             360.0   \n",
       "..               ...                ...         ...               ...   \n",
       "976      4009.000000        1777.000000  113.000000             360.0   \n",
       "977      4158.000000         709.000000  115.000000             360.0   \n",
       "978      3250.000000        1993.000000  126.000000             360.0   \n",
       "979      5000.000000        2393.000000  158.000000             360.0   \n",
       "980      9200.000000           0.000000   98.000000             180.0   \n",
       "\n",
       "     Credit_History Property_Area Loan_Status  \n",
       "0          1.000000         Urban           Y  \n",
       "1          1.000000         Rural           N  \n",
       "2          1.000000         Urban           Y  \n",
       "3          1.000000         Urban           Y  \n",
       "4          1.000000         Urban           Y  \n",
       "..              ...           ...         ...  \n",
       "976        1.000000         Urban           Y  \n",
       "977        1.000000         Urban           Y  \n",
       "978        0.825444     Semiurban           Y  \n",
       "979        1.000000         Rural           Y  \n",
       "980        1.000000         Rural           Y  \n",
       "\n",
       "[981 rows x 13 columns]"
      ]
     },
     "execution_count": 297,
     "metadata": {},
     "output_type": "execute_result"
    }
   ],
   "source": [
    "train_data=train_data.reset_index()\n",
    "train_data"
   ]
  },
  {
   "cell_type": "code",
   "execution_count": 298,
   "id": "49bda704",
   "metadata": {},
   "outputs": [
    {
     "data": {
      "text/html": [
       "<div>\n",
       "<style scoped>\n",
       "    .dataframe tbody tr th:only-of-type {\n",
       "        vertical-align: middle;\n",
       "    }\n",
       "\n",
       "    .dataframe tbody tr th {\n",
       "        vertical-align: top;\n",
       "    }\n",
       "\n",
       "    .dataframe thead th {\n",
       "        text-align: right;\n",
       "    }\n",
       "</style>\n",
       "<table border=\"1\" class=\"dataframe\">\n",
       "  <thead>\n",
       "    <tr style=\"text-align: right;\">\n",
       "      <th></th>\n",
       "      <th>level_0</th>\n",
       "      <th>index</th>\n",
       "      <th>Gender</th>\n",
       "      <th>Married</th>\n",
       "      <th>Dependents</th>\n",
       "      <th>Education</th>\n",
       "      <th>Self_Employed</th>\n",
       "      <th>ApplicantIncome</th>\n",
       "      <th>CoapplicantIncome</th>\n",
       "      <th>LoanAmount</th>\n",
       "      <th>Loan_Amount_Term</th>\n",
       "      <th>Credit_History</th>\n",
       "      <th>Property_Area</th>\n",
       "      <th>Loan_Status</th>\n",
       "    </tr>\n",
       "  </thead>\n",
       "  <tbody>\n",
       "    <tr>\n",
       "      <th>0</th>\n",
       "      <td>14</td>\n",
       "      <td>14</td>\n",
       "      <td>Male</td>\n",
       "      <td>Yes</td>\n",
       "      <td>2</td>\n",
       "      <td>Graduate</td>\n",
       "      <td>No</td>\n",
       "      <td>7.169350</td>\n",
       "      <td>6.990257</td>\n",
       "      <td>17.0</td>\n",
       "      <td>120.0</td>\n",
       "      <td>1.000000</td>\n",
       "      <td>Urban</td>\n",
       "      <td>Y</td>\n",
       "    </tr>\n",
       "    <tr>\n",
       "      <th>1</th>\n",
       "      <td>16</td>\n",
       "      <td>16</td>\n",
       "      <td>Male</td>\n",
       "      <td>No</td>\n",
       "      <td>1</td>\n",
       "      <td>Not Graduate</td>\n",
       "      <td>No</td>\n",
       "      <td>8.187577</td>\n",
       "      <td>0.000000</td>\n",
       "      <td>100.0</td>\n",
       "      <td>240.0</td>\n",
       "      <td>0.842199</td>\n",
       "      <td>Urban</td>\n",
       "      <td>Y</td>\n",
       "    </tr>\n",
       "    <tr>\n",
       "      <th>2</th>\n",
       "      <td>62</td>\n",
       "      <td>62</td>\n",
       "      <td>Male</td>\n",
       "      <td>Yes</td>\n",
       "      <td>0</td>\n",
       "      <td>Not Graduate</td>\n",
       "      <td>Yes</td>\n",
       "      <td>7.866722</td>\n",
       "      <td>8.145840</td>\n",
       "      <td>165.0</td>\n",
       "      <td>180.0</td>\n",
       "      <td>0.000000</td>\n",
       "      <td>Rural</td>\n",
       "      <td>N</td>\n",
       "    </tr>\n",
       "    <tr>\n",
       "      <th>3</th>\n",
       "      <td>66</td>\n",
       "      <td>66</td>\n",
       "      <td>Male</td>\n",
       "      <td>No</td>\n",
       "      <td>0</td>\n",
       "      <td>Not Graduate</td>\n",
       "      <td>No</td>\n",
       "      <td>8.070906</td>\n",
       "      <td>7.720462</td>\n",
       "      <td>126.0</td>\n",
       "      <td>180.0</td>\n",
       "      <td>0.000000</td>\n",
       "      <td>Urban</td>\n",
       "      <td>N</td>\n",
       "    </tr>\n",
       "    <tr>\n",
       "      <th>4</th>\n",
       "      <td>68</td>\n",
       "      <td>68</td>\n",
       "      <td>Male</td>\n",
       "      <td>Yes</td>\n",
       "      <td>3+</td>\n",
       "      <td>Not Graduate</td>\n",
       "      <td>Yes</td>\n",
       "      <td>8.867850</td>\n",
       "      <td>0.000000</td>\n",
       "      <td>125.0</td>\n",
       "      <td>60.0</td>\n",
       "      <td>1.000000</td>\n",
       "      <td>Urban</td>\n",
       "      <td>Y</td>\n",
       "    </tr>\n",
       "  </tbody>\n",
       "</table>\n",
       "</div>"
      ],
      "text/plain": [
       "   level_0  index Gender Married Dependents     Education Self_Employed  \\\n",
       "0       14     14   Male     Yes          2      Graduate            No   \n",
       "1       16     16   Male      No          1  Not Graduate            No   \n",
       "2       62     62   Male     Yes          0  Not Graduate           Yes   \n",
       "3       66     66   Male      No          0  Not Graduate            No   \n",
       "4       68     68   Male     Yes         3+  Not Graduate           Yes   \n",
       "\n",
       "   ApplicantIncome  CoapplicantIncome  LoanAmount  Loan_Amount_Term  \\\n",
       "0         7.169350           6.990257        17.0             120.0   \n",
       "1         8.187577           0.000000       100.0             240.0   \n",
       "2         7.866722           8.145840       165.0             180.0   \n",
       "3         8.070906           7.720462       126.0             180.0   \n",
       "4         8.867850           0.000000       125.0              60.0   \n",
       "\n",
       "   Credit_History Property_Area Loan_Status  \n",
       "0        1.000000         Urban           Y  \n",
       "1        0.842199         Urban           Y  \n",
       "2        0.000000         Rural           N  \n",
       "3        0.000000         Urban           N  \n",
       "4        1.000000         Urban           Y  "
      ]
     },
     "execution_count": 298,
     "metadata": {},
     "output_type": "execute_result"
    }
   ],
   "source": [
    "train_data1=train_data[train_data.Loan_Amount_Term <= 240].reset_index()\n",
    "train_data1.head()"
   ]
  },
  {
   "cell_type": "code",
   "execution_count": 299,
   "id": "13b1b97a",
   "metadata": {},
   "outputs": [
    {
     "name": "stdout",
     "output_type": "stream",
     "text": [
      "<class 'pandas.core.frame.DataFrame'>\n",
      "RangeIndex: 94 entries, 0 to 93\n",
      "Data columns (total 14 columns):\n",
      " #   Column             Non-Null Count  Dtype  \n",
      "---  ------             --------------  -----  \n",
      " 0   level_0            94 non-null     int64  \n",
      " 1   index              94 non-null     int64  \n",
      " 2   Gender             94 non-null     object \n",
      " 3   Married            94 non-null     object \n",
      " 4   Dependents         94 non-null     object \n",
      " 5   Education          94 non-null     object \n",
      " 6   Self_Employed      94 non-null     object \n",
      " 7   ApplicantIncome    94 non-null     float64\n",
      " 8   CoapplicantIncome  94 non-null     float64\n",
      " 9   LoanAmount         94 non-null     float64\n",
      " 10  Loan_Amount_Term   94 non-null     float64\n",
      " 11  Credit_History     94 non-null     float64\n",
      " 12  Property_Area      94 non-null     object \n",
      " 13  Loan_Status        94 non-null     object \n",
      "dtypes: float64(5), int64(2), object(7)\n",
      "memory usage: 10.4+ KB\n"
     ]
    }
   ],
   "source": [
    "train_data1.info()"
   ]
  },
  {
   "cell_type": "code",
   "execution_count": 301,
   "id": "4d60b4f9",
   "metadata": {},
   "outputs": [],
   "source": [
    "train_data1=train_data1.drop(['index','level_0'],axis=1)"
   ]
  },
  {
   "cell_type": "code",
   "execution_count": 302,
   "id": "557b5523",
   "metadata": {},
   "outputs": [
    {
     "data": {
      "text/plain": [
       "1.000000    73\n",
       "0.000000    15\n",
       "0.842199     4\n",
       "0.825444     2\n",
       "Name: Credit_History, dtype: int64"
      ]
     },
     "execution_count": 302,
     "metadata": {},
     "output_type": "execute_result"
    }
   ],
   "source": [
    "train_data1.Credit_History.value_counts()"
   ]
  },
  {
   "cell_type": "code",
   "execution_count": 303,
   "id": "65072ab5",
   "metadata": {},
   "outputs": [],
   "source": [
    "q = []\n",
    "for i in train_data1.Credit_History:\n",
    "    if(i < 0.5):\n",
    "        q.append(0)\n",
    "    else:\n",
    "        q.append(1)"
   ]
  },
  {
   "cell_type": "code",
   "execution_count": 304,
   "id": "1b624db9",
   "metadata": {},
   "outputs": [],
   "source": [
    "train_data1.Credit_History=q"
   ]
  },
  {
   "cell_type": "code",
   "execution_count": 305,
   "id": "eac3044f",
   "metadata": {},
   "outputs": [
    {
     "data": {
      "text/plain": [
       "1    79\n",
       "0    15\n",
       "Name: Credit_History, dtype: int64"
      ]
     },
     "execution_count": 305,
     "metadata": {},
     "output_type": "execute_result"
    }
   ],
   "source": [
    "train_data1.Credit_History.value_counts()"
   ]
  },
  {
   "cell_type": "code",
   "execution_count": 306,
   "id": "ebf1d812",
   "metadata": {},
   "outputs": [
    {
     "data": {
      "text/plain": [
       "Gender               0\n",
       "Married              0\n",
       "Dependents           0\n",
       "Education            0\n",
       "Self_Employed        0\n",
       "ApplicantIncome      0\n",
       "CoapplicantIncome    0\n",
       "LoanAmount           0\n",
       "Loan_Amount_Term     0\n",
       "Credit_History       0\n",
       "Property_Area        0\n",
       "Loan_Status          0\n",
       "dtype: int64"
      ]
     },
     "execution_count": 306,
     "metadata": {},
     "output_type": "execute_result"
    }
   ],
   "source": [
    "train_data1.isna().sum()"
   ]
  },
  {
   "cell_type": "code",
   "execution_count": 307,
   "id": "2638e5c9",
   "metadata": {},
   "outputs": [],
   "source": [
    "#con.remove('Loan_Amount_Term')"
   ]
  },
  {
   "cell_type": "code",
   "execution_count": 308,
   "id": "d8c38578",
   "metadata": {},
   "outputs": [
    {
     "data": {
      "text/html": [
       "<div>\n",
       "<style scoped>\n",
       "    .dataframe tbody tr th:only-of-type {\n",
       "        vertical-align: middle;\n",
       "    }\n",
       "\n",
       "    .dataframe tbody tr th {\n",
       "        vertical-align: top;\n",
       "    }\n",
       "\n",
       "    .dataframe thead th {\n",
       "        text-align: right;\n",
       "    }\n",
       "</style>\n",
       "<table border=\"1\" class=\"dataframe\">\n",
       "  <thead>\n",
       "    <tr style=\"text-align: right;\">\n",
       "      <th></th>\n",
       "      <th>Gender_Female</th>\n",
       "      <th>Gender_Male</th>\n",
       "      <th>Married_No</th>\n",
       "      <th>Married_Yes</th>\n",
       "      <th>Dependents_0</th>\n",
       "      <th>Dependents_1</th>\n",
       "      <th>Dependents_2</th>\n",
       "      <th>Dependents_3+</th>\n",
       "      <th>Education_Graduate</th>\n",
       "      <th>Education_Not Graduate</th>\n",
       "      <th>Self_Employed_No</th>\n",
       "      <th>Self_Employed_Yes</th>\n",
       "      <th>Property_Area_Rural</th>\n",
       "      <th>Property_Area_Semiurban</th>\n",
       "      <th>Property_Area_Urban</th>\n",
       "    </tr>\n",
       "  </thead>\n",
       "  <tbody>\n",
       "    <tr>\n",
       "      <th>0</th>\n",
       "      <td>0</td>\n",
       "      <td>1</td>\n",
       "      <td>0</td>\n",
       "      <td>1</td>\n",
       "      <td>0</td>\n",
       "      <td>0</td>\n",
       "      <td>1</td>\n",
       "      <td>0</td>\n",
       "      <td>1</td>\n",
       "      <td>0</td>\n",
       "      <td>1</td>\n",
       "      <td>0</td>\n",
       "      <td>0</td>\n",
       "      <td>0</td>\n",
       "      <td>1</td>\n",
       "    </tr>\n",
       "    <tr>\n",
       "      <th>1</th>\n",
       "      <td>0</td>\n",
       "      <td>1</td>\n",
       "      <td>1</td>\n",
       "      <td>0</td>\n",
       "      <td>0</td>\n",
       "      <td>1</td>\n",
       "      <td>0</td>\n",
       "      <td>0</td>\n",
       "      <td>0</td>\n",
       "      <td>1</td>\n",
       "      <td>1</td>\n",
       "      <td>0</td>\n",
       "      <td>0</td>\n",
       "      <td>0</td>\n",
       "      <td>1</td>\n",
       "    </tr>\n",
       "  </tbody>\n",
       "</table>\n",
       "</div>"
      ],
      "text/plain": [
       "   Gender_Female  Gender_Male  Married_No  Married_Yes  Dependents_0  \\\n",
       "0              0            1           0            1             0   \n",
       "1              0            1           1            0             0   \n",
       "\n",
       "   Dependents_1  Dependents_2  Dependents_3+  Education_Graduate  \\\n",
       "0             0             1              0                   1   \n",
       "1             1             0              0                   0   \n",
       "\n",
       "   Education_Not Graduate  Self_Employed_No  Self_Employed_Yes  \\\n",
       "0                       0                 1                  0   \n",
       "1                       1                 1                  0   \n",
       "\n",
       "   Property_Area_Rural  Property_Area_Semiurban  Property_Area_Urban  \n",
       "0                    0                        0                    1  \n",
       "1                    0                        0                    1  "
      ]
     },
     "execution_count": 308,
     "metadata": {},
     "output_type": "execute_result"
    }
   ],
   "source": [
    "i=pd.get_dummies(train_data1[cat])\n",
    "i.head(2)"
   ]
  },
  {
   "cell_type": "code",
   "execution_count": 309,
   "id": "80dd0834",
   "metadata": {},
   "outputs": [
    {
     "data": {
      "text/html": [
       "<div>\n",
       "<style scoped>\n",
       "    .dataframe tbody tr th:only-of-type {\n",
       "        vertical-align: middle;\n",
       "    }\n",
       "\n",
       "    .dataframe tbody tr th {\n",
       "        vertical-align: top;\n",
       "    }\n",
       "\n",
       "    .dataframe thead th {\n",
       "        text-align: right;\n",
       "    }\n",
       "</style>\n",
       "<table border=\"1\" class=\"dataframe\">\n",
       "  <thead>\n",
       "    <tr style=\"text-align: right;\">\n",
       "      <th></th>\n",
       "      <th>ApplicantIncome</th>\n",
       "      <th>CoapplicantIncome</th>\n",
       "      <th>LoanAmount</th>\n",
       "      <th>Credit_History</th>\n",
       "    </tr>\n",
       "  </thead>\n",
       "  <tbody>\n",
       "    <tr>\n",
       "      <th>0</th>\n",
       "      <td>-0.598012</td>\n",
       "      <td>-0.417853</td>\n",
       "      <td>-1.301631</td>\n",
       "      <td>0.435745</td>\n",
       "    </tr>\n",
       "    <tr>\n",
       "      <th>1</th>\n",
       "      <td>-0.597621</td>\n",
       "      <td>-0.423038</td>\n",
       "      <td>-0.322166</td>\n",
       "      <td>0.435745</td>\n",
       "    </tr>\n",
       "  </tbody>\n",
       "</table>\n",
       "</div>"
      ],
      "text/plain": [
       "   ApplicantIncome  CoapplicantIncome  LoanAmount  Credit_History\n",
       "0        -0.598012          -0.417853   -1.301631        0.435745\n",
       "1        -0.597621          -0.423038   -0.322166        0.435745"
      ]
     },
     "execution_count": 309,
     "metadata": {},
     "output_type": "execute_result"
    }
   ],
   "source": [
    "u=pd.DataFrame(ss.fit_transform(train_data1[con]),columns=con)\n",
    "u.head(2)"
   ]
  },
  {
   "cell_type": "code",
   "execution_count": 310,
   "id": "9ef58137",
   "metadata": {},
   "outputs": [
    {
     "data": {
      "text/html": [
       "<div>\n",
       "<style scoped>\n",
       "    .dataframe tbody tr th:only-of-type {\n",
       "        vertical-align: middle;\n",
       "    }\n",
       "\n",
       "    .dataframe tbody tr th {\n",
       "        vertical-align: top;\n",
       "    }\n",
       "\n",
       "    .dataframe thead th {\n",
       "        text-align: right;\n",
       "    }\n",
       "</style>\n",
       "<table border=\"1\" class=\"dataframe\">\n",
       "  <thead>\n",
       "    <tr style=\"text-align: right;\">\n",
       "      <th></th>\n",
       "      <th>ApplicantIncome</th>\n",
       "      <th>CoapplicantIncome</th>\n",
       "      <th>LoanAmount</th>\n",
       "      <th>Credit_History</th>\n",
       "      <th>Gender_Female</th>\n",
       "      <th>Gender_Male</th>\n",
       "      <th>Married_No</th>\n",
       "      <th>Married_Yes</th>\n",
       "      <th>Dependents_0</th>\n",
       "      <th>Dependents_1</th>\n",
       "      <th>Dependents_2</th>\n",
       "      <th>Dependents_3+</th>\n",
       "      <th>Education_Graduate</th>\n",
       "      <th>Education_Not Graduate</th>\n",
       "      <th>Self_Employed_No</th>\n",
       "      <th>Self_Employed_Yes</th>\n",
       "      <th>Property_Area_Rural</th>\n",
       "      <th>Property_Area_Semiurban</th>\n",
       "      <th>Property_Area_Urban</th>\n",
       "    </tr>\n",
       "  </thead>\n",
       "  <tbody>\n",
       "    <tr>\n",
       "      <th>0</th>\n",
       "      <td>-0.598012</td>\n",
       "      <td>-0.417853</td>\n",
       "      <td>-1.301631</td>\n",
       "      <td>0.435745</td>\n",
       "      <td>0</td>\n",
       "      <td>1</td>\n",
       "      <td>0</td>\n",
       "      <td>1</td>\n",
       "      <td>0</td>\n",
       "      <td>0</td>\n",
       "      <td>1</td>\n",
       "      <td>0</td>\n",
       "      <td>1</td>\n",
       "      <td>0</td>\n",
       "      <td>1</td>\n",
       "      <td>0</td>\n",
       "      <td>0</td>\n",
       "      <td>0</td>\n",
       "      <td>1</td>\n",
       "    </tr>\n",
       "    <tr>\n",
       "      <th>1</th>\n",
       "      <td>-0.597621</td>\n",
       "      <td>-0.423038</td>\n",
       "      <td>-0.322166</td>\n",
       "      <td>0.435745</td>\n",
       "      <td>0</td>\n",
       "      <td>1</td>\n",
       "      <td>1</td>\n",
       "      <td>0</td>\n",
       "      <td>0</td>\n",
       "      <td>1</td>\n",
       "      <td>0</td>\n",
       "      <td>0</td>\n",
       "      <td>0</td>\n",
       "      <td>1</td>\n",
       "      <td>1</td>\n",
       "      <td>0</td>\n",
       "      <td>0</td>\n",
       "      <td>0</td>\n",
       "      <td>1</td>\n",
       "    </tr>\n",
       "  </tbody>\n",
       "</table>\n",
       "</div>"
      ],
      "text/plain": [
       "   ApplicantIncome  CoapplicantIncome  LoanAmount  Credit_History  \\\n",
       "0        -0.598012          -0.417853   -1.301631        0.435745   \n",
       "1        -0.597621          -0.423038   -0.322166        0.435745   \n",
       "\n",
       "   Gender_Female  Gender_Male  Married_No  Married_Yes  Dependents_0  \\\n",
       "0              0            1           0            1             0   \n",
       "1              0            1           1            0             0   \n",
       "\n",
       "   Dependents_1  Dependents_2  Dependents_3+  Education_Graduate  \\\n",
       "0             0             1              0                   1   \n",
       "1             1             0              0                   0   \n",
       "\n",
       "   Education_Not Graduate  Self_Employed_No  Self_Employed_Yes  \\\n",
       "0                       0                 1                  0   \n",
       "1                       1                 1                  0   \n",
       "\n",
       "   Property_Area_Rural  Property_Area_Semiurban  Property_Area_Urban  \n",
       "0                    0                        0                    1  \n",
       "1                    0                        0                    1  "
      ]
     },
     "execution_count": 310,
     "metadata": {},
     "output_type": "execute_result"
    }
   ],
   "source": [
    "t1=pd.concat([u,i],axis=1)\n",
    "t1.head(2)"
   ]
  },
  {
   "cell_type": "code",
   "execution_count": 318,
   "id": "b4186869",
   "metadata": {},
   "outputs": [
    {
     "data": {
      "text/plain": [
       "0     360.0\n",
       "1     360.0\n",
       "2     360.0\n",
       "3     360.0\n",
       "4     360.0\n",
       "      ...  \n",
       "89    360.0\n",
       "90    300.0\n",
       "91    360.0\n",
       "92    480.0\n",
       "93    480.0\n",
       "Name: Loan_Amount_Term, Length: 94, dtype: float64"
      ]
     },
     "execution_count": 318,
     "metadata": {},
     "output_type": "execute_result"
    }
   ],
   "source": [
    "Y=train_data[train_data.Loan_Status == 'N'].reset_index()['Loan_Amount_Term'][:94]\n",
    "Y"
   ]
  },
  {
   "cell_type": "code",
   "execution_count": 277,
   "id": "c861be66",
   "metadata": {},
   "outputs": [
    {
     "data": {
      "text/html": [
       "<div>\n",
       "<style scoped>\n",
       "    .dataframe tbody tr th:only-of-type {\n",
       "        vertical-align: middle;\n",
       "    }\n",
       "\n",
       "    .dataframe tbody tr th {\n",
       "        vertical-align: top;\n",
       "    }\n",
       "\n",
       "    .dataframe thead th {\n",
       "        text-align: right;\n",
       "    }\n",
       "</style>\n",
       "<table border=\"1\" class=\"dataframe\">\n",
       "  <thead>\n",
       "    <tr style=\"text-align: right;\">\n",
       "      <th></th>\n",
       "      <th>ApplicantIncome</th>\n",
       "      <th>CoapplicantIncome</th>\n",
       "      <th>LoanAmount</th>\n",
       "      <th>Credit_History</th>\n",
       "      <th>Gender_Female</th>\n",
       "      <th>Gender_Male</th>\n",
       "      <th>Married_No</th>\n",
       "      <th>Married_Yes</th>\n",
       "      <th>Dependents_0</th>\n",
       "      <th>Dependents_1</th>\n",
       "      <th>Dependents_2</th>\n",
       "      <th>Dependents_3+</th>\n",
       "      <th>Education_Graduate</th>\n",
       "      <th>Education_Not Graduate</th>\n",
       "      <th>Self_Employed_No</th>\n",
       "      <th>Self_Employed_Yes</th>\n",
       "      <th>Property_Area_Rural</th>\n",
       "      <th>Property_Area_Semiurban</th>\n",
       "      <th>Property_Area_Urban</th>\n",
       "    </tr>\n",
       "  </thead>\n",
       "  <tbody>\n",
       "    <tr>\n",
       "      <th>0</th>\n",
       "      <td>-0.598012</td>\n",
       "      <td>-0.417853</td>\n",
       "      <td>-1.301631</td>\n",
       "      <td>0.435745</td>\n",
       "      <td>0</td>\n",
       "      <td>1</td>\n",
       "      <td>0</td>\n",
       "      <td>1</td>\n",
       "      <td>0</td>\n",
       "      <td>0</td>\n",
       "      <td>1</td>\n",
       "      <td>0</td>\n",
       "      <td>1</td>\n",
       "      <td>0</td>\n",
       "      <td>1</td>\n",
       "      <td>0</td>\n",
       "      <td>0</td>\n",
       "      <td>0</td>\n",
       "      <td>1</td>\n",
       "    </tr>\n",
       "    <tr>\n",
       "      <th>1</th>\n",
       "      <td>-0.597621</td>\n",
       "      <td>-0.423038</td>\n",
       "      <td>-0.322166</td>\n",
       "      <td>0.435745</td>\n",
       "      <td>0</td>\n",
       "      <td>1</td>\n",
       "      <td>1</td>\n",
       "      <td>0</td>\n",
       "      <td>0</td>\n",
       "      <td>1</td>\n",
       "      <td>0</td>\n",
       "      <td>0</td>\n",
       "      <td>0</td>\n",
       "      <td>1</td>\n",
       "      <td>1</td>\n",
       "      <td>0</td>\n",
       "      <td>0</td>\n",
       "      <td>0</td>\n",
       "      <td>1</td>\n",
       "    </tr>\n",
       "    <tr>\n",
       "      <th>2</th>\n",
       "      <td>-0.597744</td>\n",
       "      <td>-0.416996</td>\n",
       "      <td>0.444885</td>\n",
       "      <td>-2.294922</td>\n",
       "      <td>0</td>\n",
       "      <td>1</td>\n",
       "      <td>0</td>\n",
       "      <td>1</td>\n",
       "      <td>1</td>\n",
       "      <td>0</td>\n",
       "      <td>0</td>\n",
       "      <td>0</td>\n",
       "      <td>0</td>\n",
       "      <td>1</td>\n",
       "      <td>0</td>\n",
       "      <td>1</td>\n",
       "      <td>1</td>\n",
       "      <td>0</td>\n",
       "      <td>0</td>\n",
       "    </tr>\n",
       "    <tr>\n",
       "      <th>3</th>\n",
       "      <td>-0.597666</td>\n",
       "      <td>-0.417312</td>\n",
       "      <td>-0.015346</td>\n",
       "      <td>-2.294922</td>\n",
       "      <td>0</td>\n",
       "      <td>1</td>\n",
       "      <td>1</td>\n",
       "      <td>0</td>\n",
       "      <td>1</td>\n",
       "      <td>0</td>\n",
       "      <td>0</td>\n",
       "      <td>0</td>\n",
       "      <td>0</td>\n",
       "      <td>1</td>\n",
       "      <td>1</td>\n",
       "      <td>0</td>\n",
       "      <td>0</td>\n",
       "      <td>0</td>\n",
       "      <td>1</td>\n",
       "    </tr>\n",
       "    <tr>\n",
       "      <th>4</th>\n",
       "      <td>-0.597359</td>\n",
       "      <td>-0.423038</td>\n",
       "      <td>-0.027146</td>\n",
       "      <td>0.435745</td>\n",
       "      <td>0</td>\n",
       "      <td>1</td>\n",
       "      <td>0</td>\n",
       "      <td>1</td>\n",
       "      <td>0</td>\n",
       "      <td>0</td>\n",
       "      <td>0</td>\n",
       "      <td>1</td>\n",
       "      <td>0</td>\n",
       "      <td>1</td>\n",
       "      <td>0</td>\n",
       "      <td>1</td>\n",
       "      <td>0</td>\n",
       "      <td>0</td>\n",
       "      <td>1</td>\n",
       "    </tr>\n",
       "    <tr>\n",
       "      <th>...</th>\n",
       "      <td>...</td>\n",
       "      <td>...</td>\n",
       "      <td>...</td>\n",
       "      <td>...</td>\n",
       "      <td>...</td>\n",
       "      <td>...</td>\n",
       "      <td>...</td>\n",
       "      <td>...</td>\n",
       "      <td>...</td>\n",
       "      <td>...</td>\n",
       "      <td>...</td>\n",
       "      <td>...</td>\n",
       "      <td>...</td>\n",
       "      <td>...</td>\n",
       "      <td>...</td>\n",
       "      <td>...</td>\n",
       "      <td>...</td>\n",
       "      <td>...</td>\n",
       "      <td>...</td>\n",
       "    </tr>\n",
       "    <tr>\n",
       "      <th>89</th>\n",
       "      <td>0.306540</td>\n",
       "      <td>2.065152</td>\n",
       "      <td>-0.475576</td>\n",
       "      <td>0.435745</td>\n",
       "      <td>0</td>\n",
       "      <td>1</td>\n",
       "      <td>0</td>\n",
       "      <td>1</td>\n",
       "      <td>0</td>\n",
       "      <td>1</td>\n",
       "      <td>0</td>\n",
       "      <td>0</td>\n",
       "      <td>1</td>\n",
       "      <td>0</td>\n",
       "      <td>0</td>\n",
       "      <td>1</td>\n",
       "      <td>1</td>\n",
       "      <td>0</td>\n",
       "      <td>0</td>\n",
       "    </tr>\n",
       "    <tr>\n",
       "      <th>90</th>\n",
       "      <td>0.407651</td>\n",
       "      <td>3.159808</td>\n",
       "      <td>-0.062549</td>\n",
       "      <td>0.435745</td>\n",
       "      <td>0</td>\n",
       "      <td>1</td>\n",
       "      <td>0</td>\n",
       "      <td>1</td>\n",
       "      <td>1</td>\n",
       "      <td>0</td>\n",
       "      <td>0</td>\n",
       "      <td>0</td>\n",
       "      <td>1</td>\n",
       "      <td>0</td>\n",
       "      <td>0</td>\n",
       "      <td>1</td>\n",
       "      <td>0</td>\n",
       "      <td>1</td>\n",
       "      <td>0</td>\n",
       "    </tr>\n",
       "    <tr>\n",
       "      <th>91</th>\n",
       "      <td>0.753274</td>\n",
       "      <td>-0.423038</td>\n",
       "      <td>-0.546381</td>\n",
       "      <td>0.435745</td>\n",
       "      <td>0</td>\n",
       "      <td>1</td>\n",
       "      <td>0</td>\n",
       "      <td>1</td>\n",
       "      <td>0</td>\n",
       "      <td>0</td>\n",
       "      <td>0</td>\n",
       "      <td>1</td>\n",
       "      <td>0</td>\n",
       "      <td>1</td>\n",
       "      <td>1</td>\n",
       "      <td>0</td>\n",
       "      <td>1</td>\n",
       "      <td>0</td>\n",
       "      <td>0</td>\n",
       "    </tr>\n",
       "    <tr>\n",
       "      <th>92</th>\n",
       "      <td>1.442982</td>\n",
       "      <td>-0.284352</td>\n",
       "      <td>0.362279</td>\n",
       "      <td>-2.294922</td>\n",
       "      <td>0</td>\n",
       "      <td>1</td>\n",
       "      <td>0</td>\n",
       "      <td>1</td>\n",
       "      <td>0</td>\n",
       "      <td>0</td>\n",
       "      <td>0</td>\n",
       "      <td>1</td>\n",
       "      <td>0</td>\n",
       "      <td>1</td>\n",
       "      <td>1</td>\n",
       "      <td>0</td>\n",
       "      <td>0</td>\n",
       "      <td>1</td>\n",
       "      <td>0</td>\n",
       "    </tr>\n",
       "    <tr>\n",
       "      <th>93</th>\n",
       "      <td>2.936195</td>\n",
       "      <td>-0.423038</td>\n",
       "      <td>-0.345767</td>\n",
       "      <td>0.435745</td>\n",
       "      <td>0</td>\n",
       "      <td>1</td>\n",
       "      <td>1</td>\n",
       "      <td>0</td>\n",
       "      <td>1</td>\n",
       "      <td>0</td>\n",
       "      <td>0</td>\n",
       "      <td>0</td>\n",
       "      <td>1</td>\n",
       "      <td>0</td>\n",
       "      <td>0</td>\n",
       "      <td>1</td>\n",
       "      <td>1</td>\n",
       "      <td>0</td>\n",
       "      <td>0</td>\n",
       "    </tr>\n",
       "  </tbody>\n",
       "</table>\n",
       "<p>94 rows × 19 columns</p>\n",
       "</div>"
      ],
      "text/plain": [
       "    ApplicantIncome  CoapplicantIncome  LoanAmount  Credit_History  \\\n",
       "0         -0.598012          -0.417853   -1.301631        0.435745   \n",
       "1         -0.597621          -0.423038   -0.322166        0.435745   \n",
       "2         -0.597744          -0.416996    0.444885       -2.294922   \n",
       "3         -0.597666          -0.417312   -0.015346       -2.294922   \n",
       "4         -0.597359          -0.423038   -0.027146        0.435745   \n",
       "..              ...                ...         ...             ...   \n",
       "89         0.306540           2.065152   -0.475576        0.435745   \n",
       "90         0.407651           3.159808   -0.062549        0.435745   \n",
       "91         0.753274          -0.423038   -0.546381        0.435745   \n",
       "92         1.442982          -0.284352    0.362279       -2.294922   \n",
       "93         2.936195          -0.423038   -0.345767        0.435745   \n",
       "\n",
       "    Gender_Female  Gender_Male  Married_No  Married_Yes  Dependents_0  \\\n",
       "0               0            1           0            1             0   \n",
       "1               0            1           1            0             0   \n",
       "2               0            1           0            1             1   \n",
       "3               0            1           1            0             1   \n",
       "4               0            1           0            1             0   \n",
       "..            ...          ...         ...          ...           ...   \n",
       "89              0            1           0            1             0   \n",
       "90              0            1           0            1             1   \n",
       "91              0            1           0            1             0   \n",
       "92              0            1           0            1             0   \n",
       "93              0            1           1            0             1   \n",
       "\n",
       "    Dependents_1  Dependents_2  Dependents_3+  Education_Graduate  \\\n",
       "0              0             1              0                   1   \n",
       "1              1             0              0                   0   \n",
       "2              0             0              0                   0   \n",
       "3              0             0              0                   0   \n",
       "4              0             0              1                   0   \n",
       "..           ...           ...            ...                 ...   \n",
       "89             1             0              0                   1   \n",
       "90             0             0              0                   1   \n",
       "91             0             0              1                   0   \n",
       "92             0             0              1                   0   \n",
       "93             0             0              0                   1   \n",
       "\n",
       "    Education_Not Graduate  Self_Employed_No  Self_Employed_Yes  \\\n",
       "0                        0                 1                  0   \n",
       "1                        1                 1                  0   \n",
       "2                        1                 0                  1   \n",
       "3                        1                 1                  0   \n",
       "4                        1                 0                  1   \n",
       "..                     ...               ...                ...   \n",
       "89                       0                 0                  1   \n",
       "90                       0                 0                  1   \n",
       "91                       1                 1                  0   \n",
       "92                       1                 1                  0   \n",
       "93                       0                 0                  1   \n",
       "\n",
       "    Property_Area_Rural  Property_Area_Semiurban  Property_Area_Urban  \n",
       "0                     0                        0                    1  \n",
       "1                     0                        0                    1  \n",
       "2                     1                        0                    0  \n",
       "3                     0                        0                    1  \n",
       "4                     0                        0                    1  \n",
       "..                  ...                      ...                  ...  \n",
       "89                    1                        0                    0  \n",
       "90                    0                        1                    0  \n",
       "91                    1                        0                    0  \n",
       "92                    0                        1                    0  \n",
       "93                    1                        0                    0  \n",
       "\n",
       "[94 rows x 19 columns]"
      ]
     },
     "execution_count": 277,
     "metadata": {},
     "output_type": "execute_result"
    }
   ],
   "source": [
    "X = t1\n",
    "X"
   ]
  },
  {
   "cell_type": "code",
   "execution_count": 319,
   "id": "c752fcef",
   "metadata": {},
   "outputs": [],
   "source": [
    "from sklearn.model_selection import train_test_split\n",
    "xtrain,xtest,ytrain,ytest=train_test_split(X,Y,test_size=0.2,random_state=21)"
   ]
  },
  {
   "cell_type": "code",
   "execution_count": 320,
   "id": "a75b2d21",
   "metadata": {},
   "outputs": [
    {
     "data": {
      "text/plain": [
       "(94, 19)"
      ]
     },
     "execution_count": 320,
     "metadata": {},
     "output_type": "execute_result"
    }
   ],
   "source": [
    "X.shape"
   ]
  },
  {
   "cell_type": "code",
   "execution_count": 321,
   "id": "32a12e86",
   "metadata": {},
   "outputs": [],
   "source": [
    "from sklearn.linear_model import LinearRegression\n",
    "lm1 = LinearRegression()\n",
    "lrmodel1 = lm1.fit(xtrain,ytrain)"
   ]
  },
  {
   "cell_type": "code",
   "execution_count": 322,
   "id": "af5c6c89",
   "metadata": {},
   "outputs": [],
   "source": [
    "from sklearn.metrics import mean_absolute_error\n",
    "pred_tr=lrmodel1.predict(xtrain)\n",
    "pred_ts=lrmodel1.predict(xtest)\n",
    "\n",
    "tr_err=mean_absolute_error(ytrain,pred_tr)\n",
    "ts_err=mean_absolute_error(ytest,pred_ts)"
   ]
  },
  {
   "cell_type": "code",
   "execution_count": 323,
   "id": "8e999bcb",
   "metadata": {},
   "outputs": [
    {
     "data": {
      "text/plain": [
       "37.91816630181814"
      ]
     },
     "execution_count": 323,
     "metadata": {},
     "output_type": "execute_result"
    }
   ],
   "source": [
    "tr_err"
   ]
  },
  {
   "cell_type": "code",
   "execution_count": 324,
   "id": "73a2c5e4",
   "metadata": {},
   "outputs": [
    {
     "data": {
      "text/plain": [
       "41.26580004527335"
      ]
     },
     "execution_count": 324,
     "metadata": {},
     "output_type": "execute_result"
    }
   ],
   "source": [
    "ts_err"
   ]
  },
  {
   "cell_type": "markdown",
   "id": "3a52ee09",
   "metadata": {},
   "source": [
    "# Regularization"
   ]
  },
  {
   "cell_type": "code",
   "execution_count": 334,
   "id": "b473f33f",
   "metadata": {},
   "outputs": [],
   "source": [
    "from sklearn.linear_model import Ridge\n",
    "rr=Ridge()\n",
    "tg ={\"alpha\":[170]}\n",
    "from sklearn.model_selection import GridSearchCV\n",
    "cv = GridSearchCV(rr,tg,scoring=\"neg_mean_squared_error\",cv=4)\n",
    "\n",
    "cvmodel = cv.fit(xtrain,ytrain)\n",
    "cvmodel.best_params_\n",
    "c = cvmodel.best_params_['alpha']\n",
    "rr = Ridge(alpha=c)\n",
    "ridgemodel = rr.fit(xtrain,ytrain)\n",
    "pred_tr=ridgemodel.predict(xtrain)\n",
    "pred_ts=ridgemodel.predict(xtest)"
   ]
  },
  {
   "cell_type": "code",
   "execution_count": 335,
   "id": "c8e8344b",
   "metadata": {},
   "outputs": [
    {
     "data": {
      "text/plain": [
       "170"
      ]
     },
     "execution_count": 335,
     "metadata": {},
     "output_type": "execute_result"
    }
   ],
   "source": [
    "c"
   ]
  },
  {
   "cell_type": "code",
   "execution_count": 336,
   "id": "aeeb219f",
   "metadata": {},
   "outputs": [
    {
     "name": "stdout",
     "output_type": "stream",
     "text": [
      "training error 35.4\n",
      "testing error 37.66\n",
      "Diff 2.259999999999998\n"
     ]
    }
   ],
   "source": [
    "pred_tr=ridgemodel.predict(xtrain)\n",
    "trr=round(mean_absolute_error(ytrain,pred_tr),2)\n",
    "print('training error',trr)\n",
    "\n",
    "pred_ts=ridgemodel.predict(xtest)\n",
    "trs=round(mean_absolute_error(ytest,pred_ts),2)\n",
    "print('testing error',trs)\n",
    "\n",
    "print('Diff',trs-trr)"
   ]
  },
  {
   "cell_type": "code",
   "execution_count": null,
   "id": "9c0667a3",
   "metadata": {},
   "outputs": [],
   "source": []
  },
  {
   "cell_type": "markdown",
   "id": "f1042171",
   "metadata": {},
   "source": [
    "# Getting final predictions"
   ]
  },
  {
   "cell_type": "code",
   "execution_count": 337,
   "id": "57e57cc5",
   "metadata": {},
   "outputs": [],
   "source": [
    "pred_term=ridgemodel.predict(X)"
   ]
  },
  {
   "cell_type": "code",
   "execution_count": 329,
   "id": "6ff9caa7",
   "metadata": {},
   "outputs": [
    {
     "data": {
      "text/plain": [
       "(94, 19)"
      ]
     },
     "execution_count": 329,
     "metadata": {},
     "output_type": "execute_result"
    }
   ],
   "source": [
    "X.shape"
   ]
  },
  {
   "cell_type": "code",
   "execution_count": 332,
   "id": "91086c6b",
   "metadata": {},
   "outputs": [
    {
     "data": {
      "text/plain": [
       "(94,)"
      ]
     },
     "execution_count": 332,
     "metadata": {},
     "output_type": "execute_result"
    }
   ],
   "source": [
    "pred_term.shape"
   ]
  },
  {
   "cell_type": "code",
   "execution_count": 338,
   "id": "c7a60687",
   "metadata": {},
   "outputs": [
    {
     "data": {
      "text/plain": [
       "array([350.05596956, 348.14198027, 349.99139938, 351.73651778,\n",
       "       349.48496189, 348.2381448 , 338.86905643, 348.88136186,\n",
       "       344.37514021, 346.52852309, 342.52965718, 347.30205811,\n",
       "       346.84437203, 340.56693877, 342.43813824, 326.75999833,\n",
       "       347.98280715, 351.70605368, 344.57422654, 343.26297276,\n",
       "       348.40955377, 349.82308014, 345.85981305, 344.825083  ,\n",
       "       346.51181148, 346.01706838, 336.11200772, 336.77732595,\n",
       "       347.31536742, 344.8411005 , 347.16335249, 329.33601365,\n",
       "       342.39813273, 342.89622726, 349.85479247, 345.9406668 ,\n",
       "       345.86984562, 343.9307896 , 354.42425195, 350.80732786,\n",
       "       337.56874037, 351.56083943, 347.54873348, 355.73849055,\n",
       "       351.3488551 , 338.54125784, 346.34169442, 344.68292937,\n",
       "       346.60316498, 336.96523582, 346.41014099, 349.67204213,\n",
       "       345.96964483, 343.09010584, 345.31391561, 338.2443243 ,\n",
       "       345.30583348, 334.29817386, 346.43783083, 351.86020114,\n",
       "       336.56556049, 351.44818999, 333.34233653, 350.22751596,\n",
       "       338.7493605 , 329.63216699, 346.00754867, 330.34716047,\n",
       "       345.17182948, 338.45336983, 345.33284358, 322.24587829,\n",
       "       350.30625748, 348.28887858, 347.5895071 , 339.86159814,\n",
       "       338.27607283, 340.26674003, 339.75295349, 340.66658096,\n",
       "       336.58920629, 345.56639654, 335.28315563, 350.01264504,\n",
       "       338.95099665, 340.61677681, 333.14319149, 349.28380328,\n",
       "       340.4236292 , 336.77560561, 327.79246691, 351.26914618,\n",
       "       347.09187827, 346.73979148])"
      ]
     },
     "execution_count": 338,
     "metadata": {},
     "output_type": "execute_result"
    }
   ],
   "source": [
    "pred_term"
   ]
  },
  {
   "cell_type": "code",
   "execution_count": null,
   "id": "578ff8c3",
   "metadata": {},
   "outputs": [],
   "source": []
  },
  {
   "cell_type": "code",
   "execution_count": null,
   "id": "aabdafd5",
   "metadata": {},
   "outputs": [],
   "source": []
  },
  {
   "cell_type": "raw",
   "id": "91bc7ea3",
   "metadata": {},
   "source": []
  }
 ],
 "metadata": {
  "kernelspec": {
   "display_name": "Python 3 (ipykernel)",
   "language": "python",
   "name": "python3"
  },
  "language_info": {
   "codemirror_mode": {
    "name": "ipython",
    "version": 3
   },
   "file_extension": ".py",
   "mimetype": "text/x-python",
   "name": "python",
   "nbconvert_exporter": "python",
   "pygments_lexer": "ipython3",
   "version": "3.8.12"
  }
 },
 "nbformat": 4,
 "nbformat_minor": 5
}
