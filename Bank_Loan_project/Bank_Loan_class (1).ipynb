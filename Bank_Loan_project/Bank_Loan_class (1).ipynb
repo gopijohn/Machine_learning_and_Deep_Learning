{
 "cells": [
  {
   "cell_type": "markdown",
   "id": "f29240bf",
   "metadata": {},
   "source": [
    "# Problem Statement:\n",
    "A Company wants to automate the loan eligibility process based on customer details provided while filling online application form. The details filled by the customer are Gender, Marital Status, Education, Number of Dependents, Income of self and co applicant, Required Loan Amount,Required Loan Term, Credit History and others. The requirements are as follows:\n",
    "\n",
    "1.)Check eligibility of the Customer given the inputs described above.(Classification)"
   ]
  },
  {
   "cell_type": "raw",
   "id": "37631913",
   "metadata": {},
   "source": [
    "# The steps which are followed to solve this problem statement :\n",
    "1.Data Cleaning \n",
    "2.Exploratory Data Analysis \n",
    "  -Visualization of Data.\n",
    "  -checking corelation of features\n",
    "  -skewness in data\n",
    "  -data standardisation. \n",
    "3.feature selection \n",
    "4.model seection depending on problem \n",
    "5.evaluating the model using various metrics."
   ]
  },
  {
   "cell_type": "code",
   "execution_count": 1,
   "id": "1acbf5ef",
   "metadata": {},
   "outputs": [],
   "source": [
    "from warnings import filterwarnings\n",
    "filterwarnings('ignore')\n",
    "import pandas as pd\n",
    "import numpy as np\n",
    "import seaborn as sb\n",
    "import matplotlib.pyplot as plt"
   ]
  },
  {
   "cell_type": "markdown",
   "id": "080a022a",
   "metadata": {},
   "source": [
    "# Importing training Data"
   ]
  },
  {
   "cell_type": "code",
   "execution_count": 2,
   "id": "3e930fc9",
   "metadata": {},
   "outputs": [
    {
     "data": {
      "text/html": [
       "<div>\n",
       "<style scoped>\n",
       "    .dataframe tbody tr th:only-of-type {\n",
       "        vertical-align: middle;\n",
       "    }\n",
       "\n",
       "    .dataframe tbody tr th {\n",
       "        vertical-align: top;\n",
       "    }\n",
       "\n",
       "    .dataframe thead th {\n",
       "        text-align: right;\n",
       "    }\n",
       "</style>\n",
       "<table border=\"1\" class=\"dataframe\">\n",
       "  <thead>\n",
       "    <tr style=\"text-align: right;\">\n",
       "      <th></th>\n",
       "      <th>Loan_ID</th>\n",
       "      <th>Gender</th>\n",
       "      <th>Married</th>\n",
       "      <th>Dependents</th>\n",
       "      <th>Education</th>\n",
       "      <th>Self_Employed</th>\n",
       "      <th>ApplicantIncome</th>\n",
       "      <th>CoapplicantIncome</th>\n",
       "      <th>LoanAmount</th>\n",
       "      <th>Loan_Amount_Term</th>\n",
       "      <th>Credit_History</th>\n",
       "      <th>Property_Area</th>\n",
       "      <th>Loan_Status</th>\n",
       "    </tr>\n",
       "  </thead>\n",
       "  <tbody>\n",
       "    <tr>\n",
       "      <th>0</th>\n",
       "      <td>LP001002</td>\n",
       "      <td>Male</td>\n",
       "      <td>No</td>\n",
       "      <td>0</td>\n",
       "      <td>Graduate</td>\n",
       "      <td>No</td>\n",
       "      <td>5849.0</td>\n",
       "      <td>0.0</td>\n",
       "      <td>NaN</td>\n",
       "      <td>360.0</td>\n",
       "      <td>1.0</td>\n",
       "      <td>Urban</td>\n",
       "      <td>Y</td>\n",
       "    </tr>\n",
       "    <tr>\n",
       "      <th>1</th>\n",
       "      <td>LP001003</td>\n",
       "      <td>Male</td>\n",
       "      <td>Yes</td>\n",
       "      <td>1</td>\n",
       "      <td>Graduate</td>\n",
       "      <td>No</td>\n",
       "      <td>NaN</td>\n",
       "      <td>1508.0</td>\n",
       "      <td>128.0</td>\n",
       "      <td>360.0</td>\n",
       "      <td>1.0</td>\n",
       "      <td>Rural</td>\n",
       "      <td>N</td>\n",
       "    </tr>\n",
       "  </tbody>\n",
       "</table>\n",
       "</div>"
      ],
      "text/plain": [
       "    Loan_ID Gender Married Dependents Education Self_Employed  \\\n",
       "0  LP001002   Male      No          0  Graduate            No   \n",
       "1  LP001003   Male     Yes          1  Graduate            No   \n",
       "\n",
       "   ApplicantIncome  CoapplicantIncome  LoanAmount  Loan_Amount_Term  \\\n",
       "0           5849.0                0.0         NaN             360.0   \n",
       "1              NaN             1508.0       128.0             360.0   \n",
       "\n",
       "   Credit_History Property_Area Loan_Status  \n",
       "0             1.0         Urban           Y  \n",
       "1             1.0         Rural           N  "
      ]
     },
     "execution_count": 2,
     "metadata": {},
     "output_type": "execute_result"
    }
   ],
   "source": [
    "df=pd.read_csv('C:/Users/cmscomputers/Downloads/Skype/Loan_project/training_set (1).csv')\n",
    "df.head(2)"
   ]
  },
  {
   "cell_type": "code",
   "execution_count": 3,
   "id": "d8dda7df",
   "metadata": {},
   "outputs": [
    {
     "name": "stdout",
     "output_type": "stream",
     "text": [
      "<class 'pandas.core.frame.DataFrame'>\n",
      "RangeIndex: 614 entries, 0 to 613\n",
      "Data columns (total 13 columns):\n",
      " #   Column             Non-Null Count  Dtype  \n",
      "---  ------             --------------  -----  \n",
      " 0   Loan_ID            614 non-null    object \n",
      " 1   Gender             599 non-null    object \n",
      " 2   Married            611 non-null    object \n",
      " 3   Dependents         599 non-null    object \n",
      " 4   Education          613 non-null    object \n",
      " 5   Self_Employed      582 non-null    object \n",
      " 6   ApplicantIncome    612 non-null    float64\n",
      " 7   CoapplicantIncome  613 non-null    float64\n",
      " 8   LoanAmount         592 non-null    float64\n",
      " 9   Loan_Amount_Term   600 non-null    float64\n",
      " 10  Credit_History     564 non-null    float64\n",
      " 11  Property_Area      614 non-null    object \n",
      " 12  Loan_Status        614 non-null    object \n",
      "dtypes: float64(5), object(8)\n",
      "memory usage: 62.5+ KB\n"
     ]
    }
   ],
   "source": [
    "df.info()"
   ]
  },
  {
   "cell_type": "markdown",
   "id": "99d19c03",
   "metadata": {},
   "source": [
    "# Looking for missing values"
   ]
  },
  {
   "cell_type": "code",
   "execution_count": 4,
   "id": "f6226e46",
   "metadata": {},
   "outputs": [
    {
     "data": {
      "text/plain": [
       "Loan_ID               0\n",
       "Gender               15\n",
       "Married               3\n",
       "Dependents           15\n",
       "Education             1\n",
       "Self_Employed        32\n",
       "ApplicantIncome       2\n",
       "CoapplicantIncome     1\n",
       "LoanAmount           22\n",
       "Loan_Amount_Term     14\n",
       "Credit_History       50\n",
       "Property_Area         0\n",
       "Loan_Status           0\n",
       "dtype: int64"
      ]
     },
     "execution_count": 4,
     "metadata": {},
     "output_type": "execute_result"
    }
   ],
   "source": [
    "df.isna().sum()"
   ]
  },
  {
   "cell_type": "code",
   "execution_count": null,
   "id": "a3eca77e",
   "metadata": {},
   "outputs": [],
   "source": []
  },
  {
   "cell_type": "markdown",
   "id": "01c823a7",
   "metadata": {},
   "source": [
    "# Missing value treatment"
   ]
  },
  {
   "cell_type": "markdown",
   "id": "0f7837bc",
   "metadata": {},
   "source": [
    "Divide data according to their datatypes, categorical and numerical"
   ]
  },
  {
   "cell_type": "code",
   "execution_count": 5,
   "id": "c09a87ce",
   "metadata": {},
   "outputs": [],
   "source": [
    "cat=[]\n",
    "con=[]\n",
    "for i in df.columns:\n",
    "    if(df[i].dtypes=='object'):\n",
    "        cat.append(i)\n",
    "    else:\n",
    "        con.append(i)"
   ]
  },
  {
   "cell_type": "code",
   "execution_count": null,
   "id": "ef47e8ba",
   "metadata": {},
   "outputs": [],
   "source": []
  },
  {
   "cell_type": "code",
   "execution_count": 6,
   "id": "1aa45a9a",
   "metadata": {},
   "outputs": [],
   "source": [
    "for i in cat:\n",
    "        c=df[i].mode()[0]\n",
    "        df[i]=df[i].fillna(c)  #-----> For catrgorical missisng values we will replace it with mode value of that feature       \n",
    "\n",
    "        \n",
    "for i in con:\n",
    "        c=df[i].mean()\n",
    "        df[i]=df[i].fillna(c)     #---->for numerical missing values we will replace it with mean value of that feature"
   ]
  },
  {
   "cell_type": "code",
   "execution_count": 7,
   "id": "9e9f739a",
   "metadata": {},
   "outputs": [
    {
     "data": {
      "text/plain": [
       "Loan_ID              0\n",
       "Gender               0\n",
       "Married              0\n",
       "Dependents           0\n",
       "Education            0\n",
       "Self_Employed        0\n",
       "ApplicantIncome      0\n",
       "CoapplicantIncome    0\n",
       "LoanAmount           0\n",
       "Loan_Amount_Term     0\n",
       "Credit_History       0\n",
       "Property_Area        0\n",
       "Loan_Status          0\n",
       "dtype: int64"
      ]
     },
     "execution_count": 7,
     "metadata": {},
     "output_type": "execute_result"
    }
   ],
   "source": [
    "df.isna().sum()"
   ]
  },
  {
   "cell_type": "markdown",
   "id": "5beb8571",
   "metadata": {},
   "source": [
    "# Dropping Un-necessary features"
   ]
  },
  {
   "cell_type": "code",
   "execution_count": 8,
   "id": "1c2d5850",
   "metadata": {},
   "outputs": [
    {
     "name": "stdout",
     "output_type": "stream",
     "text": [
      "<class 'pandas.core.frame.DataFrame'>\n",
      "RangeIndex: 614 entries, 0 to 613\n",
      "Data columns (total 12 columns):\n",
      " #   Column             Non-Null Count  Dtype  \n",
      "---  ------             --------------  -----  \n",
      " 0   Gender             614 non-null    object \n",
      " 1   Married            614 non-null    object \n",
      " 2   Dependents         614 non-null    object \n",
      " 3   Education          614 non-null    object \n",
      " 4   Self_Employed      614 non-null    object \n",
      " 5   ApplicantIncome    614 non-null    float64\n",
      " 6   CoapplicantIncome  614 non-null    float64\n",
      " 7   LoanAmount         614 non-null    float64\n",
      " 8   Loan_Amount_Term   614 non-null    float64\n",
      " 9   Credit_History     614 non-null    float64\n",
      " 10  Property_Area      614 non-null    object \n",
      " 11  Loan_Status        614 non-null    object \n",
      "dtypes: float64(5), object(7)\n",
      "memory usage: 57.7+ KB\n"
     ]
    }
   ],
   "source": [
    "df1=df.drop(['Loan_ID'],axis=1)\n",
    "df1.info()"
   ]
  },
  {
   "cell_type": "markdown",
   "id": "451f64d5",
   "metadata": {},
   "source": [
    "# 1.)Check eligibility of the Customer given the inputs described above.(Classification)"
   ]
  },
  {
   "cell_type": "markdown",
   "id": "701eb3ac",
   "metadata": {},
   "source": [
    "Here we are classifying the loan eligibility.In our data feature called 'Loan_Status' ,which have YES and NO values means customer is eligible or not."
   ]
  },
  {
   "cell_type": "markdown",
   "id": "ea20925b",
   "metadata": {},
   "source": [
    "we will do exploratory data analysis with respect to Loan_Status."
   ]
  },
  {
   "cell_type": "markdown",
   "id": "4c4a5fe6",
   "metadata": {},
   "source": [
    "Bivariate analysis"
   ]
  },
  {
   "cell_type": "code",
   "execution_count": 9,
   "id": "bc76f325",
   "metadata": {},
   "outputs": [
    {
     "data": {
      "image/png": "[encoded data removed]",
      "text/plain": [
       "<Figure size 432x288 with 1 Axes>"
      ]
     },
     "metadata": {
      "needs_background": "light"
     },
     "output_type": "display_data"
    },
    {
     "data": {
      "image/png": "[encoded data removed]",
      "text/plain": [
       "<Figure size 432x288 with 1 Axes>"
      ]
     },
     "metadata": {
      "needs_background": "light"
     },
     "output_type": "display_data"
    },
    {
     "data": {
      "image/png": "[encoded data removed]",
      "text/plain": [
       "<Figure size 432x288 with 1 Axes>"
      ]
     },
     "metadata": {
      "needs_background": "light"
     },
     "output_type": "display_data"
    },
    {
     "data": {
      "image/png": "[encoded data removed]",
      "text/plain": [
       "<Figure size 432x288 with 1 Axes>"
      ]
     },
     "metadata": {
      "needs_background": "light"
     },
     "output_type": "display_data"
    },
    {
     "data": {
      "image/png": "[encoded data removed]",
      "text/plain": [
       "<Figure size 432x288 with 1 Axes>"
      ]
     },
     "metadata": {
      "needs_background": "light"
     },
     "output_type": "display_data"
    },
    {
     "data": {
      "image/png": "[encoded data removed]",
      "text/plain": [
       "<Figure size 432x288 with 1 Axes>"
      ]
     },
     "metadata": {
      "needs_background": "light"
     },
     "output_type": "display_data"
    },
    {
     "data": {
      "image/png": "[encoded data removed]",
      "text/plain": [
       "<Figure size 432x288 with 1 Axes>"
      ]
     },
     "metadata": {
      "needs_background": "light"
     },
     "output_type": "display_data"
    },
    {
     "data": {
      "image/png": "[encoded data removed]",
      "text/plain": [
       "<Figure size 432x288 with 1 Axes>"
      ]
     },
     "metadata": {
      "needs_background": "light"
     },
     "output_type": "display_data"
    },
    {
     "data": {
      "image/png": "[encoded data removed]",
      "text/plain": [
       "<Figure size 432x288 with 1 Axes>"
      ]
     },
     "metadata": {
      "needs_background": "light"
     },
     "output_type": "display_data"
    },
    {
     "data": {
      "image/png": "[encoded data removed]",
      "text/plain": [
       "<Figure size 432x288 with 1 Axes>"
      ]
     },
     "metadata": {
      "needs_background": "light"
     },
     "output_type": "display_data"
    },
    {
     "data": {
      "image/png": "[encoded data removed]",
      "text/plain": [
       "<Figure size 432x288 with 1 Axes>"
      ]
     },
     "metadata": {
      "needs_background": "light"
     },
     "output_type": "display_data"
    },
    {
     "data": {
      "image/png": "[encoded data removed]",
      "text/plain": [
       "<Figure size 432x288 with 1 Axes>"
      ]
     },
     "metadata": {
      "needs_background": "light"
     },
     "output_type": "display_data"
    }
   ],
   "source": [
    "for i in df1.columns:\n",
    "    if(df1[i].dtypes=='object'):\n",
    "        sb.countplot(df1[i],hue=df1['Loan_Status'])\n",
    "        plt.show()\n",
    "    else:\n",
    "        sb.boxplot(df1['Loan_Status'],df1[i])\n",
    "        plt.show()"
   ]
  },
  {
   "cell_type": "raw",
   "id": "9d309350",
   "metadata": {},
   "source": [
    "In our initial exploratory data analysis using graphs we can colclude following things:\n",
    "    1.Gender--Most men are elligible for Loan than woman.\n",
    "    2.Married--here married overtaking the unmarried.\n",
    "    3.Dependants--with less dependatns possibility of getting loan is high.\n",
    "    4.Education--Graduates are eligible than Non-graduate.\n",
    "    5.Self-Employed---self employed are non-working class and bank has rejected them mostly.\n",
    "    6.Loan_status doesn't show any varaition with ApplicantIncome and CoApplicantIncome.\n",
    "    7.Loan_Amount_Term is given in months.\n",
    "    8.Mostly customer with credit history 1 are ineligible.\n",
    "    9.Property_Area--Semiurban property is accepted mostely for loan aproval."
   ]
  },
  {
   "cell_type": "code",
   "execution_count": 10,
   "id": "bbcb16f0",
   "metadata": {},
   "outputs": [
    {
     "data": {
      "text/plain": [
       "<seaborn.axisgrid.PairGrid at 0x1b355576ca0>"
      ]
     },
     "execution_count": 10,
     "metadata": {},
     "output_type": "execute_result"
    },
    {
     "data": {
      "image/png": "[encoded data removed]",
      "text/plain": [
       "<Figure size 900x900 with 30 Axes>"
      ]
     },
     "metadata": {
      "needs_background": "light"
     },
     "output_type": "display_data"
    }
   ],
   "source": [
    "sb.pairplot(df1)"
   ]
  },
  {
   "cell_type": "markdown",
   "id": "bbd94987",
   "metadata": {},
   "source": [
    "The data here is skewed and non linear"
   ]
  },
  {
   "cell_type": "markdown",
   "id": "59b11f42",
   "metadata": {},
   "source": [
    "# Skewness in data"
   ]
  },
  {
   "cell_type": "code",
   "execution_count": 11,
   "id": "08045bd1",
   "metadata": {},
   "outputs": [
    {
     "data": {
      "text/plain": [
       "<AxesSubplot:xlabel='LoanAmount', ylabel='Count'>"
      ]
     },
     "execution_count": 11,
     "metadata": {},
     "output_type": "execute_result"
    },
    {
     "data": {
      "image/png": "[encoded data removed]",
      "text/plain": [
       "<Figure size 720x720 with 3 Axes>"
      ]
     },
     "metadata": {
      "needs_background": "light"
     },
     "output_type": "display_data"
    }
   ],
   "source": [
    "plt.figure(figsize=(10,10))\n",
    "plt.subplot(3,3,1)\n",
    "sb.histplot(df1['ApplicantIncome'])\n",
    "plt.subplot(3,3,2)\n",
    "sb.histplot(df1['CoapplicantIncome'])\n",
    "plt.subplot(3,3,3)\n",
    "sb.histplot(df1['LoanAmount'])"
   ]
  },
  {
   "cell_type": "markdown",
   "id": "a82bc190",
   "metadata": {},
   "source": [
    "It shows features are suffering from Negative skewness in data . Negative Skewness is where Mean < Median. skewness can be trated with log function."
   ]
  },
  {
   "cell_type": "code",
   "execution_count": 12,
   "id": "3368050e",
   "metadata": {},
   "outputs": [
    {
     "data": {
      "text/plain": [
       "ApplicantIncome      6.538870\n",
       "CoapplicantIncome    7.492000\n",
       "LoanAmount           2.726601\n",
       "Loan_Amount_Term    -2.389680\n",
       "Credit_History      -1.963600\n",
       "dtype: float64"
      ]
     },
     "execution_count": 12,
     "metadata": {},
     "output_type": "execute_result"
    }
   ],
   "source": [
    "df1.skew()"
   ]
  },
  {
   "cell_type": "code",
   "execution_count": 13,
   "id": "94ef60ed",
   "metadata": {},
   "outputs": [],
   "source": [
    "\n",
    "def skew_rem(df,col):\n",
    "    q = []\n",
    "    for i in df[col]:\n",
    "        if(i != 0):\n",
    "            q.append(np.log(i))\n",
    "        else:\n",
    "            q.append(i)\n",
    "    df[col] = q"
   ]
  },
  {
   "cell_type": "code",
   "execution_count": 14,
   "id": "51736ef4",
   "metadata": {},
   "outputs": [],
   "source": [
    "skew_rem(df1,'CoapplicantIncome')\n",
    "skew_rem(df1,'ApplicantIncome')            \n",
    "\n",
    "#Feature selected with skew >3"
   ]
  },
  {
   "cell_type": "code",
   "execution_count": null,
   "id": "ad972667",
   "metadata": {},
   "outputs": [],
   "source": []
  },
  {
   "cell_type": "code",
   "execution_count": 15,
   "id": "e325a36c",
   "metadata": {},
   "outputs": [
    {
     "data": {
      "text/plain": [
       "<AxesSubplot:xlabel='CoapplicantIncome', ylabel='Count'>"
      ]
     },
     "execution_count": 15,
     "metadata": {},
     "output_type": "execute_result"
    },
    {
     "data": {
      "image/png": "[encoded data removed]",
      "text/plain": [
       "<Figure size 720x720 with 2 Axes>"
      ]
     },
     "metadata": {
      "needs_background": "light"
     },
     "output_type": "display_data"
    }
   ],
   "source": [
    "plt.figure(figsize=(10,10))\n",
    "plt.subplot(2,2,1)\n",
    "sb.histplot(df1['ApplicantIncome'])\n",
    "plt.subplot(2,2,2)\n",
    "sb.histplot(df1['CoapplicantIncome'])"
   ]
  },
  {
   "cell_type": "markdown",
   "id": "338ccb59",
   "metadata": {},
   "source": [
    "# Feature selection Uisng Anova and ChiSquare test"
   ]
  },
  {
   "cell_type": "code",
   "execution_count": 16,
   "id": "6139bce5",
   "metadata": {},
   "outputs": [],
   "source": [
    "def ANOVA(df,cat,con):\n",
    "    from statsmodels.api import OLS\n",
    "    from statsmodels.formula.api import ols\n",
    "    rel = con + \" ~ \" + cat\n",
    "    model = ols(rel,df).fit()\n",
    "    from statsmodels.stats.anova import anova_lm\n",
    "    anova_results = anova_lm(model)\n",
    "    Q = DataFrame(anova_results)\n",
    "    a = Q['PR(>F)'][cat]\n",
    "    return round(a,3)"
   ]
  },
  {
   "cell_type": "code",
   "execution_count": 17,
   "id": "6539accc",
   "metadata": {},
   "outputs": [],
   "source": [
    "from scipy.stats import chi2_contingency\n",
    "def chisquare(df,cat1,cat2):\n",
    "    import pandas as pd\n",
    "    ct = pd.crosstab(df[cat1],df[cat2])\n",
    "    a,b,c,d = chi2_contingency(ct)\n",
    "    return b"
   ]
  },
  {
   "cell_type": "code",
   "execution_count": 18,
   "id": "1f8fe35d",
   "metadata": {},
   "outputs": [
    {
     "name": "stdout",
     "output_type": "stream",
     "text": [
      "-------------\n",
      "Loan_Status vs ApplicantIncome\n",
      "Pval:  0.795\n",
      "-------------\n",
      "Loan_Status vs CoapplicantIncome\n",
      "Pval:  0.134\n",
      "-------------\n",
      "Loan_Status vs LoanAmount\n",
      "Pval:  0.368\n",
      "-------------\n",
      "Loan_Status vs Loan_Amount_Term\n",
      "Pval:  0.604\n",
      "-------------\n",
      "Loan_Status vs Credit_History\n",
      "Pval:  0.0\n"
     ]
    }
   ],
   "source": [
    "from preprocessing_6PM import ANOVA,chisquare\n",
    "imp_cols = []\n",
    "for i in con:\n",
    "    q = ANOVA(df1,\"Loan_Status\",i)\n",
    "    print(\"-------------\")\n",
    "    print(\"Loan_Status vs\",i)\n",
    "    print(\"Pval: \",q)\n",
    "    if(q < 0.15):\n",
    "        imp_cols.append(i)"
   ]
  },
  {
   "cell_type": "code",
   "execution_count": 19,
   "id": "14d7e414",
   "metadata": {},
   "outputs": [],
   "source": [
    "cat.remove('Loan_ID')"
   ]
  },
  {
   "cell_type": "code",
   "execution_count": 20,
   "id": "059ce123",
   "metadata": {},
   "outputs": [
    {
     "name": "stdout",
     "output_type": "stream",
     "text": [
      "-------------\n",
      "Loan_Status vs Gender\n",
      "Pval:  0.7391461310869638\n",
      "-------------\n",
      "Loan_Status vs Married\n",
      "Pval:  0.029608580862582116\n",
      "-------------\n",
      "Loan_Status vs Dependents\n",
      "Pval:  0.3688663081366005\n",
      "-------------\n",
      "Loan_Status vs Education\n",
      "Pval:  0.04309962129357355\n",
      "-------------\n",
      "Loan_Status vs Self_Employed\n",
      "Pval:  1.0\n",
      "-------------\n",
      "Loan_Status vs Property_Area\n",
      "Pval:  0.0021360187811644915\n",
      "-------------\n",
      "Loan_Status vs Loan_Status\n",
      "Pval:  1.544676456058992e-134\n"
     ]
    }
   ],
   "source": [
    "for i in cat:\n",
    "    q = chisquare(df1,\"Loan_Status\",i)\n",
    "    print(\"-------------\")\n",
    "    print(\"Loan_Status vs\",i)\n",
    "    print(\"Pval: \",q)\n",
    "    if(q < 0.15):\n",
    "        imp_cols.append(i)"
   ]
  },
  {
   "cell_type": "code",
   "execution_count": 21,
   "id": "deea8f21",
   "metadata": {},
   "outputs": [
    {
     "data": {
      "text/plain": [
       "['CoapplicantIncome',\n",
       " 'Credit_History',\n",
       " 'Married',\n",
       " 'Education',\n",
       " 'Property_Area',\n",
       " 'Loan_Status']"
      ]
     },
     "execution_count": 21,
     "metadata": {},
     "output_type": "execute_result"
    }
   ],
   "source": [
    "imp_cols"
   ]
  },
  {
   "cell_type": "code",
   "execution_count": null,
   "id": "663ab60c",
   "metadata": {},
   "outputs": [],
   "source": []
  },
  {
   "cell_type": "markdown",
   "id": "79dcd153",
   "metadata": {},
   "source": [
    "# Standardisation of Data"
   ]
  },
  {
   "cell_type": "markdown",
   "id": "b1e947ff",
   "metadata": {},
   "source": [
    "For categorical features we will use OHE(One Hot Encoding"
   ]
  },
  {
   "cell_type": "code",
   "execution_count": 22,
   "id": "9c6556b6",
   "metadata": {},
   "outputs": [],
   "source": [
    "dep = []\n",
    "for i in df1.Dependents:\n",
    "    dep.append(int(i.replace(\"3+\",\"3\")))\n",
    "df1.Dependents=dep"
   ]
  },
  {
   "cell_type": "code",
   "execution_count": 23,
   "id": "9c19115c",
   "metadata": {},
   "outputs": [
    {
     "data": {
      "text/plain": [
       "0    360\n",
       "1    102\n",
       "2    101\n",
       "3     51\n",
       "Name: Dependents, dtype: int64"
      ]
     },
     "execution_count": 23,
     "metadata": {},
     "output_type": "execute_result"
    }
   ],
   "source": [
    "df1.Dependents.value_counts()"
   ]
  },
  {
   "cell_type": "code",
   "execution_count": 24,
   "id": "dff2755b",
   "metadata": {},
   "outputs": [
    {
     "data": {
      "text/plain": [
       "['CoapplicantIncome',\n",
       " 'Credit_History',\n",
       " 'Married',\n",
       " 'Education',\n",
       " 'Property_Area',\n",
       " 'Loan_Status']"
      ]
     },
     "execution_count": 24,
     "metadata": {},
     "output_type": "execute_result"
    }
   ],
   "source": [
    "imp_cols"
   ]
  },
  {
   "cell_type": "code",
   "execution_count": 25,
   "id": "bdcd66ee",
   "metadata": {},
   "outputs": [],
   "source": [
    "con1=list((set(imp_cols)-set(cat)))"
   ]
  },
  {
   "cell_type": "code",
   "execution_count": 26,
   "id": "c2a0a430",
   "metadata": {},
   "outputs": [
    {
     "data": {
      "text/plain": [
       "['CoapplicantIncome', 'Credit_History']"
      ]
     },
     "execution_count": 26,
     "metadata": {},
     "output_type": "execute_result"
    }
   ],
   "source": [
    "con1"
   ]
  },
  {
   "cell_type": "code",
   "execution_count": 27,
   "id": "5267685f",
   "metadata": {},
   "outputs": [],
   "source": [
    "cat1=['Married','Education','Property_Area']"
   ]
  },
  {
   "cell_type": "code",
   "execution_count": 28,
   "id": "4e1cad05",
   "metadata": {},
   "outputs": [
    {
     "data": {
      "text/html": [
       "<div>\n",
       "<style scoped>\n",
       "    .dataframe tbody tr th:only-of-type {\n",
       "        vertical-align: middle;\n",
       "    }\n",
       "\n",
       "    .dataframe tbody tr th {\n",
       "        vertical-align: top;\n",
       "    }\n",
       "\n",
       "    .dataframe thead th {\n",
       "        text-align: right;\n",
       "    }\n",
       "</style>\n",
       "<table border=\"1\" class=\"dataframe\">\n",
       "  <thead>\n",
       "    <tr style=\"text-align: right;\">\n",
       "      <th></th>\n",
       "      <th>Married_No</th>\n",
       "      <th>Married_Yes</th>\n",
       "      <th>Education_Graduate</th>\n",
       "      <th>Education_Not Graduate</th>\n",
       "      <th>Property_Area_Rural</th>\n",
       "      <th>Property_Area_Semiurban</th>\n",
       "      <th>Property_Area_Urban</th>\n",
       "    </tr>\n",
       "  </thead>\n",
       "  <tbody>\n",
       "    <tr>\n",
       "      <th>0</th>\n",
       "      <td>1</td>\n",
       "      <td>0</td>\n",
       "      <td>1</td>\n",
       "      <td>0</td>\n",
       "      <td>0</td>\n",
       "      <td>0</td>\n",
       "      <td>1</td>\n",
       "    </tr>\n",
       "    <tr>\n",
       "      <th>1</th>\n",
       "      <td>0</td>\n",
       "      <td>1</td>\n",
       "      <td>1</td>\n",
       "      <td>0</td>\n",
       "      <td>1</td>\n",
       "      <td>0</td>\n",
       "      <td>0</td>\n",
       "    </tr>\n",
       "    <tr>\n",
       "      <th>2</th>\n",
       "      <td>0</td>\n",
       "      <td>1</td>\n",
       "      <td>1</td>\n",
       "      <td>0</td>\n",
       "      <td>0</td>\n",
       "      <td>0</td>\n",
       "      <td>1</td>\n",
       "    </tr>\n",
       "    <tr>\n",
       "      <th>3</th>\n",
       "      <td>0</td>\n",
       "      <td>1</td>\n",
       "      <td>0</td>\n",
       "      <td>1</td>\n",
       "      <td>0</td>\n",
       "      <td>0</td>\n",
       "      <td>1</td>\n",
       "    </tr>\n",
       "    <tr>\n",
       "      <th>4</th>\n",
       "      <td>1</td>\n",
       "      <td>0</td>\n",
       "      <td>1</td>\n",
       "      <td>0</td>\n",
       "      <td>0</td>\n",
       "      <td>0</td>\n",
       "      <td>1</td>\n",
       "    </tr>\n",
       "    <tr>\n",
       "      <th>...</th>\n",
       "      <td>...</td>\n",
       "      <td>...</td>\n",
       "      <td>...</td>\n",
       "      <td>...</td>\n",
       "      <td>...</td>\n",
       "      <td>...</td>\n",
       "      <td>...</td>\n",
       "    </tr>\n",
       "    <tr>\n",
       "      <th>609</th>\n",
       "      <td>1</td>\n",
       "      <td>0</td>\n",
       "      <td>1</td>\n",
       "      <td>0</td>\n",
       "      <td>1</td>\n",
       "      <td>0</td>\n",
       "      <td>0</td>\n",
       "    </tr>\n",
       "    <tr>\n",
       "      <th>610</th>\n",
       "      <td>0</td>\n",
       "      <td>1</td>\n",
       "      <td>1</td>\n",
       "      <td>0</td>\n",
       "      <td>1</td>\n",
       "      <td>0</td>\n",
       "      <td>0</td>\n",
       "    </tr>\n",
       "    <tr>\n",
       "      <th>611</th>\n",
       "      <td>0</td>\n",
       "      <td>1</td>\n",
       "      <td>1</td>\n",
       "      <td>0</td>\n",
       "      <td>0</td>\n",
       "      <td>0</td>\n",
       "      <td>1</td>\n",
       "    </tr>\n",
       "    <tr>\n",
       "      <th>612</th>\n",
       "      <td>0</td>\n",
       "      <td>1</td>\n",
       "      <td>1</td>\n",
       "      <td>0</td>\n",
       "      <td>0</td>\n",
       "      <td>0</td>\n",
       "      <td>1</td>\n",
       "    </tr>\n",
       "    <tr>\n",
       "      <th>613</th>\n",
       "      <td>1</td>\n",
       "      <td>0</td>\n",
       "      <td>1</td>\n",
       "      <td>0</td>\n",
       "      <td>0</td>\n",
       "      <td>1</td>\n",
       "      <td>0</td>\n",
       "    </tr>\n",
       "  </tbody>\n",
       "</table>\n",
       "<p>614 rows × 7 columns</p>\n",
       "</div>"
      ],
      "text/plain": [
       "     Married_No  Married_Yes  Education_Graduate  Education_Not Graduate  \\\n",
       "0             1            0                   1                       0   \n",
       "1             0            1                   1                       0   \n",
       "2             0            1                   1                       0   \n",
       "3             0            1                   0                       1   \n",
       "4             1            0                   1                       0   \n",
       "..          ...          ...                 ...                     ...   \n",
       "609           1            0                   1                       0   \n",
       "610           0            1                   1                       0   \n",
       "611           0            1                   1                       0   \n",
       "612           0            1                   1                       0   \n",
       "613           1            0                   1                       0   \n",
       "\n",
       "     Property_Area_Rural  Property_Area_Semiurban  Property_Area_Urban  \n",
       "0                      0                        0                    1  \n",
       "1                      1                        0                    0  \n",
       "2                      0                        0                    1  \n",
       "3                      0                        0                    1  \n",
       "4                      0                        0                    1  \n",
       "..                   ...                      ...                  ...  \n",
       "609                    1                        0                    0  \n",
       "610                    1                        0                    0  \n",
       "611                    0                        0                    1  \n",
       "612                    0                        0                    1  \n",
       "613                    0                        1                    0  \n",
       "\n",
       "[614 rows x 7 columns]"
      ]
     },
     "execution_count": 28,
     "metadata": {},
     "output_type": "execute_result"
    }
   ],
   "source": [
    "dfcat=pd.get_dummies(df1[cat1])\n",
    "dfcat"
   ]
  },
  {
   "cell_type": "markdown",
   "id": "8b43249c",
   "metadata": {},
   "source": [
    "For Numerical or continuos features we will use StandardScalar Standardisation"
   ]
  },
  {
   "cell_type": "code",
   "execution_count": 29,
   "id": "033aa093",
   "metadata": {},
   "outputs": [],
   "source": [
    "from sklearn.preprocessing import StandardScaler\n",
    "ss=StandardScaler()\n",
    "dfcon=pd.DataFrame(ss.fit_transform(df1[con1]),columns=con1)"
   ]
  },
  {
   "cell_type": "code",
   "execution_count": 30,
   "id": "5b7b665a",
   "metadata": {},
   "outputs": [
    {
     "data": {
      "text/html": [
       "<div>\n",
       "<style scoped>\n",
       "    .dataframe tbody tr th:only-of-type {\n",
       "        vertical-align: middle;\n",
       "    }\n",
       "\n",
       "    .dataframe tbody tr th {\n",
       "        vertical-align: top;\n",
       "    }\n",
       "\n",
       "    .dataframe thead th {\n",
       "        text-align: right;\n",
       "    }\n",
       "</style>\n",
       "<table border=\"1\" class=\"dataframe\">\n",
       "  <thead>\n",
       "    <tr style=\"text-align: right;\">\n",
       "      <th></th>\n",
       "      <th>CoapplicantIncome</th>\n",
       "      <th>Credit_History</th>\n",
       "    </tr>\n",
       "  </thead>\n",
       "  <tbody>\n",
       "    <tr>\n",
       "      <th>0</th>\n",
       "      <td>-1.107731</td>\n",
       "      <td>0.451640</td>\n",
       "    </tr>\n",
       "    <tr>\n",
       "      <th>1</th>\n",
       "      <td>0.782215</td>\n",
       "      <td>0.451640</td>\n",
       "    </tr>\n",
       "    <tr>\n",
       "      <th>2</th>\n",
       "      <td>-1.107731</td>\n",
       "      <td>0.451640</td>\n",
       "    </tr>\n",
       "    <tr>\n",
       "      <th>3</th>\n",
       "      <td>0.897656</td>\n",
       "      <td>0.451640</td>\n",
       "    </tr>\n",
       "    <tr>\n",
       "      <th>4</th>\n",
       "      <td>-1.107731</td>\n",
       "      <td>0.451640</td>\n",
       "    </tr>\n",
       "    <tr>\n",
       "      <th>...</th>\n",
       "      <td>...</td>\n",
       "      <td>...</td>\n",
       "    </tr>\n",
       "    <tr>\n",
       "      <th>609</th>\n",
       "      <td>-1.107731</td>\n",
       "      <td>0.451640</td>\n",
       "    </tr>\n",
       "    <tr>\n",
       "      <th>610</th>\n",
       "      <td>-1.107731</td>\n",
       "      <td>0.451640</td>\n",
       "    </tr>\n",
       "    <tr>\n",
       "      <th>611</th>\n",
       "      <td>0.307594</td>\n",
       "      <td>0.451640</td>\n",
       "    </tr>\n",
       "    <tr>\n",
       "      <th>612</th>\n",
       "      <td>-1.107731</td>\n",
       "      <td>0.451640</td>\n",
       "    </tr>\n",
       "    <tr>\n",
       "      <th>613</th>\n",
       "      <td>-1.107731</td>\n",
       "      <td>-2.410441</td>\n",
       "    </tr>\n",
       "  </tbody>\n",
       "</table>\n",
       "<p>614 rows × 2 columns</p>\n",
       "</div>"
      ],
      "text/plain": [
       "     CoapplicantIncome  Credit_History\n",
       "0            -1.107731        0.451640\n",
       "1             0.782215        0.451640\n",
       "2            -1.107731        0.451640\n",
       "3             0.897656        0.451640\n",
       "4            -1.107731        0.451640\n",
       "..                 ...             ...\n",
       "609          -1.107731        0.451640\n",
       "610          -1.107731        0.451640\n",
       "611           0.307594        0.451640\n",
       "612          -1.107731        0.451640\n",
       "613          -1.107731       -2.410441\n",
       "\n",
       "[614 rows x 2 columns]"
      ]
     },
     "execution_count": 30,
     "metadata": {},
     "output_type": "execute_result"
    }
   ],
   "source": [
    "dfcon"
   ]
  },
  {
   "cell_type": "code",
   "execution_count": null,
   "id": "100ef91f",
   "metadata": {},
   "outputs": [],
   "source": []
  },
  {
   "cell_type": "markdown",
   "id": "15b70e39",
   "metadata": {},
   "source": [
    "joining cat and con dataframes"
   ]
  },
  {
   "cell_type": "code",
   "execution_count": 31,
   "id": "cd815c2c",
   "metadata": {},
   "outputs": [
    {
     "data": {
      "text/html": [
       "<div>\n",
       "<style scoped>\n",
       "    .dataframe tbody tr th:only-of-type {\n",
       "        vertical-align: middle;\n",
       "    }\n",
       "\n",
       "    .dataframe tbody tr th {\n",
       "        vertical-align: top;\n",
       "    }\n",
       "\n",
       "    .dataframe thead th {\n",
       "        text-align: right;\n",
       "    }\n",
       "</style>\n",
       "<table border=\"1\" class=\"dataframe\">\n",
       "  <thead>\n",
       "    <tr style=\"text-align: right;\">\n",
       "      <th></th>\n",
       "      <th>CoapplicantIncome</th>\n",
       "      <th>Credit_History</th>\n",
       "      <th>Married_No</th>\n",
       "      <th>Married_Yes</th>\n",
       "      <th>Education_Graduate</th>\n",
       "      <th>Education_Not Graduate</th>\n",
       "      <th>Property_Area_Rural</th>\n",
       "      <th>Property_Area_Semiurban</th>\n",
       "      <th>Property_Area_Urban</th>\n",
       "    </tr>\n",
       "  </thead>\n",
       "  <tbody>\n",
       "    <tr>\n",
       "      <th>0</th>\n",
       "      <td>-1.107731</td>\n",
       "      <td>0.451640</td>\n",
       "      <td>1</td>\n",
       "      <td>0</td>\n",
       "      <td>1</td>\n",
       "      <td>0</td>\n",
       "      <td>0</td>\n",
       "      <td>0</td>\n",
       "      <td>1</td>\n",
       "    </tr>\n",
       "    <tr>\n",
       "      <th>1</th>\n",
       "      <td>0.782215</td>\n",
       "      <td>0.451640</td>\n",
       "      <td>0</td>\n",
       "      <td>1</td>\n",
       "      <td>1</td>\n",
       "      <td>0</td>\n",
       "      <td>1</td>\n",
       "      <td>0</td>\n",
       "      <td>0</td>\n",
       "    </tr>\n",
       "    <tr>\n",
       "      <th>2</th>\n",
       "      <td>-1.107731</td>\n",
       "      <td>0.451640</td>\n",
       "      <td>0</td>\n",
       "      <td>1</td>\n",
       "      <td>1</td>\n",
       "      <td>0</td>\n",
       "      <td>0</td>\n",
       "      <td>0</td>\n",
       "      <td>1</td>\n",
       "    </tr>\n",
       "    <tr>\n",
       "      <th>3</th>\n",
       "      <td>0.897656</td>\n",
       "      <td>0.451640</td>\n",
       "      <td>0</td>\n",
       "      <td>1</td>\n",
       "      <td>0</td>\n",
       "      <td>1</td>\n",
       "      <td>0</td>\n",
       "      <td>0</td>\n",
       "      <td>1</td>\n",
       "    </tr>\n",
       "    <tr>\n",
       "      <th>4</th>\n",
       "      <td>-1.107731</td>\n",
       "      <td>0.451640</td>\n",
       "      <td>1</td>\n",
       "      <td>0</td>\n",
       "      <td>1</td>\n",
       "      <td>0</td>\n",
       "      <td>0</td>\n",
       "      <td>0</td>\n",
       "      <td>1</td>\n",
       "    </tr>\n",
       "    <tr>\n",
       "      <th>...</th>\n",
       "      <td>...</td>\n",
       "      <td>...</td>\n",
       "      <td>...</td>\n",
       "      <td>...</td>\n",
       "      <td>...</td>\n",
       "      <td>...</td>\n",
       "      <td>...</td>\n",
       "      <td>...</td>\n",
       "      <td>...</td>\n",
       "    </tr>\n",
       "    <tr>\n",
       "      <th>609</th>\n",
       "      <td>-1.107731</td>\n",
       "      <td>0.451640</td>\n",
       "      <td>1</td>\n",
       "      <td>0</td>\n",
       "      <td>1</td>\n",
       "      <td>0</td>\n",
       "      <td>1</td>\n",
       "      <td>0</td>\n",
       "      <td>0</td>\n",
       "    </tr>\n",
       "    <tr>\n",
       "      <th>610</th>\n",
       "      <td>-1.107731</td>\n",
       "      <td>0.451640</td>\n",
       "      <td>0</td>\n",
       "      <td>1</td>\n",
       "      <td>1</td>\n",
       "      <td>0</td>\n",
       "      <td>1</td>\n",
       "      <td>0</td>\n",
       "      <td>0</td>\n",
       "    </tr>\n",
       "    <tr>\n",
       "      <th>611</th>\n",
       "      <td>0.307594</td>\n",
       "      <td>0.451640</td>\n",
       "      <td>0</td>\n",
       "      <td>1</td>\n",
       "      <td>1</td>\n",
       "      <td>0</td>\n",
       "      <td>0</td>\n",
       "      <td>0</td>\n",
       "      <td>1</td>\n",
       "    </tr>\n",
       "    <tr>\n",
       "      <th>612</th>\n",
       "      <td>-1.107731</td>\n",
       "      <td>0.451640</td>\n",
       "      <td>0</td>\n",
       "      <td>1</td>\n",
       "      <td>1</td>\n",
       "      <td>0</td>\n",
       "      <td>0</td>\n",
       "      <td>0</td>\n",
       "      <td>1</td>\n",
       "    </tr>\n",
       "    <tr>\n",
       "      <th>613</th>\n",
       "      <td>-1.107731</td>\n",
       "      <td>-2.410441</td>\n",
       "      <td>1</td>\n",
       "      <td>0</td>\n",
       "      <td>1</td>\n",
       "      <td>0</td>\n",
       "      <td>0</td>\n",
       "      <td>1</td>\n",
       "      <td>0</td>\n",
       "    </tr>\n",
       "  </tbody>\n",
       "</table>\n",
       "<p>614 rows × 9 columns</p>\n",
       "</div>"
      ],
      "text/plain": [
       "     CoapplicantIncome  Credit_History  Married_No  Married_Yes  \\\n",
       "0            -1.107731        0.451640           1            0   \n",
       "1             0.782215        0.451640           0            1   \n",
       "2            -1.107731        0.451640           0            1   \n",
       "3             0.897656        0.451640           0            1   \n",
       "4            -1.107731        0.451640           1            0   \n",
       "..                 ...             ...         ...          ...   \n",
       "609          -1.107731        0.451640           1            0   \n",
       "610          -1.107731        0.451640           0            1   \n",
       "611           0.307594        0.451640           0            1   \n",
       "612          -1.107731        0.451640           0            1   \n",
       "613          -1.107731       -2.410441           1            0   \n",
       "\n",
       "     Education_Graduate  Education_Not Graduate  Property_Area_Rural  \\\n",
       "0                     1                       0                    0   \n",
       "1                     1                       0                    1   \n",
       "2                     1                       0                    0   \n",
       "3                     0                       1                    0   \n",
       "4                     1                       0                    0   \n",
       "..                  ...                     ...                  ...   \n",
       "609                   1                       0                    1   \n",
       "610                   1                       0                    1   \n",
       "611                   1                       0                    0   \n",
       "612                   1                       0                    0   \n",
       "613                   1                       0                    0   \n",
       "\n",
       "     Property_Area_Semiurban  Property_Area_Urban  \n",
       "0                          0                    1  \n",
       "1                          0                    0  \n",
       "2                          0                    1  \n",
       "3                          0                    1  \n",
       "4                          0                    1  \n",
       "..                       ...                  ...  \n",
       "609                        0                    0  \n",
       "610                        0                    0  \n",
       "611                        0                    1  \n",
       "612                        0                    1  \n",
       "613                        1                    0  \n",
       "\n",
       "[614 rows x 9 columns]"
      ]
     },
     "execution_count": 31,
     "metadata": {},
     "output_type": "execute_result"
    }
   ],
   "source": [
    "X1=pd.concat([dfcon,dfcat],axis=1)\n",
    "X1"
   ]
  },
  {
   "cell_type": "markdown",
   "id": "739283c1",
   "metadata": {},
   "source": [
    "Here we are classifying eligibility for loan ,so the target variable will be 'Loan_Status'."
   ]
  },
  {
   "cell_type": "code",
   "execution_count": 32,
   "id": "29dad5cb",
   "metadata": {},
   "outputs": [],
   "source": [
    "Y=df1[['Loan_Status']]"
   ]
  },
  {
   "cell_type": "code",
   "execution_count": null,
   "id": "7882c634",
   "metadata": {},
   "outputs": [],
   "source": []
  },
  {
   "cell_type": "code",
   "execution_count": 33,
   "id": "cda32b2e",
   "metadata": {},
   "outputs": [],
   "source": [
    "def model_builder(mod):\n",
    "    from sklearn.model_selection import train_test_split\n",
    "    from sklearn.metrics import accuracy_score,confusion_matrix\n",
    "    xtrain,xtest,ytrain,ytest=train_test_split(X1,Y,test_size=0.2,random_state=31)\n",
    "    model = mod.fit(xtrain,ytrain)\n",
    "    pred_tr = model.predict(xtrain)\n",
    "    pred_ts = model.predict(xtest)\n",
    "    tr_acc = accuracy_score(ytrain,pred_tr)\n",
    "    ts_acc = accuracy_score(ytest,pred_ts)\n",
    "    tr_acc1=round(tr_acc,3)\n",
    "    ts_acc1=round(ts_acc,3)\n",
    "    pred = model.predict(xtest)\n",
    "    return tr_acc1,ts_acc1,confusion_matrix(ytest,pred)"
   ]
  },
  {
   "cell_type": "code",
   "execution_count": 34,
   "id": "397942b9",
   "metadata": {},
   "outputs": [
    {
     "data": {
      "text/plain": [
       "(0.796,\n",
       " 0.854,\n",
       " array([[16, 18],\n",
       "        [ 0, 89]], dtype=int64))"
      ]
     },
     "execution_count": 34,
     "metadata": {},
     "output_type": "execute_result"
    }
   ],
   "source": [
    "from sklearn.linear_model import LogisticRegression\n",
    "lo=LogisticRegression()\n",
    "model_builder(lo)"
   ]
  },
  {
   "cell_type": "code",
   "execution_count": 35,
   "id": "ca31563d",
   "metadata": {},
   "outputs": [
    {
     "data": {
      "text/plain": [
       "(0.894,\n",
       " 0.74,\n",
       " array([[17, 17],\n",
       "        [15, 74]], dtype=int64))"
      ]
     },
     "execution_count": 35,
     "metadata": {},
     "output_type": "execute_result"
    }
   ],
   "source": [
    "from sklearn.tree import DecisionTreeClassifier\n",
    "dtc=DecisionTreeClassifier(criterion='entropy',random_state=31)\n",
    "model_builder(dtc)"
   ]
  },
  {
   "cell_type": "code",
   "execution_count": 36,
   "id": "dda45b6c",
   "metadata": {},
   "outputs": [
    {
     "data": {
      "text/plain": [
       "(0.802,\n",
       " 0.854,\n",
       " array([[16, 18],\n",
       "        [ 0, 89]], dtype=int64))"
      ]
     },
     "execution_count": 36,
     "metadata": {},
     "output_type": "execute_result"
    }
   ],
   "source": [
    "from sklearn.ensemble import RandomForestClassifier\n",
    "rf=RandomForestClassifier(random_state=31,max_depth=2)\n",
    "model_builder(rf)"
   ]
  },
  {
   "cell_type": "code",
   "execution_count": 37,
   "id": "50bde7c5",
   "metadata": {},
   "outputs": [
    {
     "data": {
      "text/plain": [
       "(0.894,\n",
       " 0.78,\n",
       " array([[17, 17],\n",
       "        [10, 79]], dtype=int64))"
      ]
     },
     "execution_count": 37,
     "metadata": {},
     "output_type": "execute_result"
    }
   ],
   "source": [
    "from sklearn.ensemble import AdaBoostClassifier\n",
    "adb=AdaBoostClassifier(dtc)\n",
    "model_builder(adb)"
   ]
  },
  {
   "cell_type": "code",
   "execution_count": 38,
   "id": "fe19006b",
   "metadata": {},
   "outputs": [
    {
     "name": "stdout",
     "output_type": "stream",
     "text": [
      "Results for max depth: 1\n",
      "(0.798, 0.854, array([[16, 18],\n",
      "       [ 0, 89]], dtype=int64))\n",
      "Results for max depth: 2\n",
      "(0.804, 0.854, array([[16, 18],\n",
      "       [ 0, 89]], dtype=int64))\n",
      "Results for max depth: 3\n",
      "(0.807, 0.854, array([[16, 18],\n",
      "       [ 0, 89]], dtype=int64))\n",
      "Results for max depth: 4\n",
      "(0.811, 0.829, array([[13, 21],\n",
      "       [ 0, 89]], dtype=int64))\n",
      "Results for max depth: 5\n",
      "(0.817, 0.821, array([[14, 20],\n",
      "       [ 2, 87]], dtype=int64))\n",
      "Results for max depth: 6\n",
      "(0.827, 0.821, array([[15, 19],\n",
      "       [ 3, 86]], dtype=int64))\n",
      "Results for max depth: 7\n",
      "(0.831, 0.813, array([[15, 19],\n",
      "       [ 4, 85]], dtype=int64))\n",
      "Results for max depth: 8\n",
      "(0.837, 0.797, array([[15, 19],\n",
      "       [ 6, 83]], dtype=int64))\n",
      "Results for max depth: 9\n",
      "(0.847, 0.78, array([[15, 19],\n",
      "       [ 8, 81]], dtype=int64))\n",
      "Results for max depth: 10\n",
      "(0.855, 0.756, array([[15, 19],\n",
      "       [11, 78]], dtype=int64))\n",
      "Results for max depth: 11\n",
      "(0.866, 0.772, array([[16, 18],\n",
      "       [10, 79]], dtype=int64))\n",
      "Results for max depth: 12\n",
      "(0.87, 0.772, array([[16, 18],\n",
      "       [10, 79]], dtype=int64))\n",
      "Results for max depth: 13\n",
      "(0.878, 0.764, array([[17, 17],\n",
      "       [12, 77]], dtype=int64))\n",
      "Results for max depth: 14\n",
      "(0.882, 0.756, array([[17, 17],\n",
      "       [13, 76]], dtype=int64))\n",
      "Results for max depth: 15\n",
      "(0.884, 0.756, array([[17, 17],\n",
      "       [13, 76]], dtype=int64))\n",
      "Results for max depth: 16\n",
      "(0.888, 0.764, array([[17, 17],\n",
      "       [12, 77]], dtype=int64))\n",
      "Results for max depth: 17\n",
      "(0.89, 0.764, array([[17, 17],\n",
      "       [12, 77]], dtype=int64))\n",
      "Results for max depth: 18\n",
      "(0.892, 0.764, array([[17, 17],\n",
      "       [12, 77]], dtype=int64))\n",
      "Results for max depth: 19\n",
      "(0.894, 0.764, array([[18, 16],\n",
      "       [13, 76]], dtype=int64))\n",
      "Results for max depth: 20\n",
      "(0.894, 0.764, array([[18, 16],\n",
      "       [13, 76]], dtype=int64))\n",
      "Results for max depth: 21\n",
      "(0.894, 0.764, array([[18, 16],\n",
      "       [13, 76]], dtype=int64))\n",
      "Results for max depth: 22\n",
      "(0.894, 0.764, array([[18, 16],\n",
      "       [13, 76]], dtype=int64))\n",
      "Results for max depth: 23\n",
      "(0.894, 0.764, array([[18, 16],\n",
      "       [13, 76]], dtype=int64))\n",
      "Results for max depth: 24\n",
      "(0.894, 0.764, array([[18, 16],\n",
      "       [13, 76]], dtype=int64))\n",
      "Results for max depth: 25\n",
      "(0.894, 0.764, array([[18, 16],\n",
      "       [13, 76]], dtype=int64))\n",
      "Results for max depth: 26\n",
      "(0.894, 0.764, array([[18, 16],\n",
      "       [13, 76]], dtype=int64))\n",
      "Results for max depth: 27\n",
      "(0.894, 0.764, array([[18, 16],\n",
      "       [13, 76]], dtype=int64))\n",
      "Results for max depth: 28\n",
      "(0.894, 0.764, array([[18, 16],\n",
      "       [13, 76]], dtype=int64))\n",
      "Results for max depth: 29\n",
      "(0.894, 0.764, array([[18, 16],\n",
      "       [13, 76]], dtype=int64))\n",
      "Results for max depth: 30\n",
      "(0.894, 0.764, array([[18, 16],\n",
      "       [13, 76]], dtype=int64))\n",
      "Results for max depth: 31\n",
      "(0.894, 0.764, array([[18, 16],\n",
      "       [13, 76]], dtype=int64))\n",
      "Results for max depth: 32\n",
      "(0.894, 0.764, array([[18, 16],\n",
      "       [13, 76]], dtype=int64))\n",
      "Results for max depth: 33\n",
      "(0.894, 0.764, array([[18, 16],\n",
      "       [13, 76]], dtype=int64))\n",
      "Results for max depth: 34\n",
      "(0.894, 0.764, array([[18, 16],\n",
      "       [13, 76]], dtype=int64))\n",
      "Results for max depth: 35\n",
      "(0.894, 0.764, array([[18, 16],\n",
      "       [13, 76]], dtype=int64))\n",
      "Results for max depth: 36\n",
      "(0.894, 0.764, array([[18, 16],\n",
      "       [13, 76]], dtype=int64))\n",
      "Results for max depth: 37\n",
      "(0.894, 0.764, array([[18, 16],\n",
      "       [13, 76]], dtype=int64))\n",
      "Results for max depth: 38\n",
      "(0.894, 0.764, array([[18, 16],\n",
      "       [13, 76]], dtype=int64))\n",
      "Results for max depth: 39\n",
      "(0.894, 0.764, array([[18, 16],\n",
      "       [13, 76]], dtype=int64))\n"
     ]
    }
   ],
   "source": [
    "for i in range(1,40,1):\n",
    "    dtc = DecisionTreeClassifier(random_state=21,max_depth=i)\n",
    "    print(\"Results for max depth: %d\"%i)\n",
    "    print(model_builder(dtc))"
   ]
  },
  {
   "cell_type": "code",
   "execution_count": 41,
   "id": "e519b61b",
   "metadata": {},
   "outputs": [
    {
     "name": "stdout",
     "output_type": "stream",
     "text": [
      "Results for min_samples_leaf: 1\n",
      "(0.894, 0.764, array([[18, 16],\n",
      "       [13, 76]], dtype=int64))\n",
      "Results for min_samples_leaf: 2\n",
      "(0.837, 0.756, array([[23, 11],\n",
      "       [19, 70]], dtype=int64))\n",
      "Results for min_samples_leaf: 3\n",
      "(0.823, 0.813, array([[18, 16],\n",
      "       [ 7, 82]], dtype=int64))\n",
      "Results for min_samples_leaf: 4\n",
      "(0.817, 0.821, array([[18, 16],\n",
      "       [ 6, 83]], dtype=int64))\n",
      "Results for min_samples_leaf: 5\n",
      "(0.815, 0.829, array([[17, 17],\n",
      "       [ 4, 85]], dtype=int64))\n",
      "Results for min_samples_leaf: 6\n",
      "(0.807, 0.829, array([[17, 17],\n",
      "       [ 4, 85]], dtype=int64))\n",
      "Results for min_samples_leaf: 7\n",
      "(0.802, 0.846, array([[18, 16],\n",
      "       [ 3, 86]], dtype=int64))\n",
      "Results for min_samples_leaf: 8\n",
      "(0.802, 0.846, array([[18, 16],\n",
      "       [ 3, 86]], dtype=int64))\n",
      "Results for min_samples_leaf: 9\n",
      "(0.802, 0.846, array([[18, 16],\n",
      "       [ 3, 86]], dtype=int64))\n",
      "Results for min_samples_leaf: 10\n",
      "(0.8, 0.837, array([[17, 17],\n",
      "       [ 3, 86]], dtype=int64))\n",
      "Results for min_samples_leaf: 11\n",
      "(0.798, 0.837, array([[17, 17],\n",
      "       [ 3, 86]], dtype=int64))\n",
      "Results for min_samples_leaf: 12\n",
      "(0.798, 0.837, array([[17, 17],\n",
      "       [ 3, 86]], dtype=int64))\n",
      "Results for min_samples_leaf: 13\n",
      "(0.798, 0.837, array([[17, 17],\n",
      "       [ 3, 86]], dtype=int64))\n",
      "Results for min_samples_leaf: 14\n",
      "(0.798, 0.837, array([[16, 18],\n",
      "       [ 2, 87]], dtype=int64))\n",
      "Results for min_samples_leaf: 15\n",
      "(0.798, 0.854, array([[16, 18],\n",
      "       [ 0, 89]], dtype=int64))\n",
      "Results for min_samples_leaf: 16\n",
      "(0.798, 0.854, array([[16, 18],\n",
      "       [ 0, 89]], dtype=int64))\n",
      "Results for min_samples_leaf: 17\n",
      "(0.798, 0.854, array([[16, 18],\n",
      "       [ 0, 89]], dtype=int64))\n",
      "Results for min_samples_leaf: 18\n",
      "(0.798, 0.854, array([[16, 18],\n",
      "       [ 0, 89]], dtype=int64))\n",
      "Results for min_samples_leaf: 19\n",
      "(0.798, 0.854, array([[16, 18],\n",
      "       [ 0, 89]], dtype=int64))\n",
      "Results for min_samples_leaf: 20\n",
      "(0.798, 0.854, array([[16, 18],\n",
      "       [ 0, 89]], dtype=int64))\n",
      "Results for min_samples_leaf: 21\n",
      "(0.798, 0.854, array([[16, 18],\n",
      "       [ 0, 89]], dtype=int64))\n",
      "Results for min_samples_leaf: 22\n",
      "(0.798, 0.854, array([[16, 18],\n",
      "       [ 0, 89]], dtype=int64))\n",
      "Results for min_samples_leaf: 23\n",
      "(0.798, 0.854, array([[16, 18],\n",
      "       [ 0, 89]], dtype=int64))\n",
      "Results for min_samples_leaf: 24\n",
      "(0.798, 0.854, array([[16, 18],\n",
      "       [ 0, 89]], dtype=int64))\n",
      "Results for min_samples_leaf: 25\n",
      "(0.798, 0.854, array([[16, 18],\n",
      "       [ 0, 89]], dtype=int64))\n",
      "Results for min_samples_leaf: 26\n",
      "(0.798, 0.854, array([[16, 18],\n",
      "       [ 0, 89]], dtype=int64))\n",
      "Results for min_samples_leaf: 27\n",
      "(0.798, 0.854, array([[16, 18],\n",
      "       [ 0, 89]], dtype=int64))\n",
      "Results for min_samples_leaf: 28\n",
      "(0.798, 0.854, array([[16, 18],\n",
      "       [ 0, 89]], dtype=int64))\n",
      "Results for min_samples_leaf: 29\n",
      "(0.798, 0.854, array([[16, 18],\n",
      "       [ 0, 89]], dtype=int64))\n",
      "Results for min_samples_leaf: 30\n",
      "(0.798, 0.854, array([[16, 18],\n",
      "       [ 0, 89]], dtype=int64))\n",
      "Results for min_samples_leaf: 31\n",
      "(0.798, 0.854, array([[16, 18],\n",
      "       [ 0, 89]], dtype=int64))\n",
      "Results for min_samples_leaf: 32\n",
      "(0.798, 0.854, array([[16, 18],\n",
      "       [ 0, 89]], dtype=int64))\n",
      "Results for min_samples_leaf: 33\n",
      "(0.798, 0.854, array([[16, 18],\n",
      "       [ 0, 89]], dtype=int64))\n",
      "Results for min_samples_leaf: 34\n",
      "(0.798, 0.854, array([[16, 18],\n",
      "       [ 0, 89]], dtype=int64))\n",
      "Results for min_samples_leaf: 35\n",
      "(0.798, 0.854, array([[16, 18],\n",
      "       [ 0, 89]], dtype=int64))\n",
      "Results for min_samples_leaf: 36\n",
      "(0.798, 0.854, array([[16, 18],\n",
      "       [ 0, 89]], dtype=int64))\n",
      "Results for min_samples_leaf: 37\n",
      "(0.798, 0.854, array([[16, 18],\n",
      "       [ 0, 89]], dtype=int64))\n",
      "Results for min_samples_leaf: 38\n",
      "(0.798, 0.854, array([[16, 18],\n",
      "       [ 0, 89]], dtype=int64))\n",
      "Results for min_samples_leaf: 39\n",
      "(0.798, 0.854, array([[16, 18],\n",
      "       [ 0, 89]], dtype=int64))\n"
     ]
    }
   ],
   "source": [
    "for i in range(1,40,1):\n",
    "    dtc = DecisionTreeClassifier(random_state=21,min_samples_leaf=i)\n",
    "    print(\"Results for min_samples_leaf: %d\"%i)\n",
    "    print(model_builder(dtc))"
   ]
  },
  {
   "cell_type": "code",
   "execution_count": 44,
   "id": "197db37a",
   "metadata": {},
   "outputs": [
    {
     "name": "stdout",
     "output_type": "stream",
     "text": [
      "Results for n_estimators: 2\n",
      "(0.804, 0.854, array([[16, 18],\n",
      "       [ 0, 89]], dtype=int64))\n",
      "Results for n_estimators: 3\n",
      "(0.804, 0.854, array([[16, 18],\n",
      "       [ 0, 89]], dtype=int64))\n",
      "Results for n_estimators: 4\n",
      "(0.813, 0.829, array([[14, 20],\n",
      "       [ 1, 88]], dtype=int64))\n",
      "Results for n_estimators: 5\n",
      "(0.815, 0.829, array([[14, 20],\n",
      "       [ 1, 88]], dtype=int64))\n",
      "Results for n_estimators: 6\n",
      "(0.817, 0.821, array([[14, 20],\n",
      "       [ 2, 87]], dtype=int64))\n",
      "Results for n_estimators: 7\n",
      "(0.819, 0.821, array([[15, 19],\n",
      "       [ 3, 86]], dtype=int64))\n",
      "Results for n_estimators: 8\n",
      "(0.823, 0.821, array([[15, 19],\n",
      "       [ 3, 86]], dtype=int64))\n",
      "Results for n_estimators: 9\n",
      "(0.827, 0.821, array([[15, 19],\n",
      "       [ 3, 86]], dtype=int64))\n",
      "Results for n_estimators: 10\n",
      "(0.829, 0.821, array([[15, 19],\n",
      "       [ 3, 86]], dtype=int64))\n",
      "Results for n_estimators: 11\n",
      "(0.831, 0.821, array([[15, 19],\n",
      "       [ 3, 86]], dtype=int64))\n",
      "Results for n_estimators: 12\n",
      "(0.831, 0.813, array([[14, 20],\n",
      "       [ 3, 86]], dtype=int64))\n",
      "Results for n_estimators: 13\n",
      "(0.833, 0.813, array([[14, 20],\n",
      "       [ 3, 86]], dtype=int64))\n",
      "Results for n_estimators: 14\n",
      "(0.837, 0.813, array([[15, 19],\n",
      "       [ 4, 85]], dtype=int64))\n",
      "Results for n_estimators: 15\n",
      "(0.839, 0.805, array([[15, 19],\n",
      "       [ 5, 84]], dtype=int64))\n",
      "Results for n_estimators: 16\n",
      "(0.839, 0.78, array([[15, 19],\n",
      "       [ 8, 81]], dtype=int64))\n",
      "Results for n_estimators: 17\n",
      "(0.837, 0.78, array([[15, 19],\n",
      "       [ 8, 81]], dtype=int64))\n",
      "Results for n_estimators: 18\n",
      "(0.835, 0.78, array([[15, 19],\n",
      "       [ 8, 81]], dtype=int64))\n",
      "Results for n_estimators: 19\n",
      "(0.839, 0.789, array([[16, 18],\n",
      "       [ 8, 81]], dtype=int64))\n",
      "Results for n_estimators: 20\n",
      "(0.841, 0.789, array([[16, 18],\n",
      "       [ 8, 81]], dtype=int64))\n",
      "Results for n_estimators: 21\n",
      "(0.843, 0.789, array([[16, 18],\n",
      "       [ 8, 81]], dtype=int64))\n",
      "Results for n_estimators: 22\n",
      "(0.841, 0.789, array([[16, 18],\n",
      "       [ 8, 81]], dtype=int64))\n",
      "Results for n_estimators: 23\n",
      "(0.845, 0.789, array([[16, 18],\n",
      "       [ 8, 81]], dtype=int64))\n",
      "Results for n_estimators: 24\n",
      "(0.847, 0.789, array([[17, 17],\n",
      "       [ 9, 80]], dtype=int64))\n",
      "Results for n_estimators: 25\n",
      "(0.847, 0.789, array([[17, 17],\n",
      "       [ 9, 80]], dtype=int64))\n",
      "Results for n_estimators: 26\n",
      "(0.849, 0.789, array([[17, 17],\n",
      "       [ 9, 80]], dtype=int64))\n",
      "Results for n_estimators: 27\n",
      "(0.851, 0.789, array([[17, 17],\n",
      "       [ 9, 80]], dtype=int64))\n",
      "Results for n_estimators: 28\n",
      "(0.853, 0.789, array([[17, 17],\n",
      "       [ 9, 80]], dtype=int64))\n",
      "Results for n_estimators: 29\n",
      "(0.855, 0.789, array([[17, 17],\n",
      "       [ 9, 80]], dtype=int64))\n",
      "Results for n_estimators: 30\n",
      "(0.857, 0.789, array([[17, 17],\n",
      "       [ 9, 80]], dtype=int64))\n",
      "Results for n_estimators: 31\n",
      "(0.855, 0.797, array([[16, 18],\n",
      "       [ 7, 82]], dtype=int64))\n",
      "Results for n_estimators: 32\n",
      "(0.859, 0.789, array([[16, 18],\n",
      "       [ 8, 81]], dtype=int64))\n",
      "Results for n_estimators: 33\n",
      "(0.864, 0.78, array([[15, 19],\n",
      "       [ 8, 81]], dtype=int64))\n",
      "Results for n_estimators: 34\n",
      "(0.866, 0.78, array([[15, 19],\n",
      "       [ 8, 81]], dtype=int64))\n",
      "Results for n_estimators: 35\n",
      "(0.866, 0.78, array([[15, 19],\n",
      "       [ 8, 81]], dtype=int64))\n",
      "Results for n_estimators: 36\n",
      "(0.868, 0.78, array([[15, 19],\n",
      "       [ 8, 81]], dtype=int64))\n",
      "Results for n_estimators: 37\n",
      "(0.872, 0.797, array([[15, 19],\n",
      "       [ 6, 83]], dtype=int64))\n",
      "Results for n_estimators: 38\n",
      "(0.872, 0.797, array([[14, 20],\n",
      "       [ 5, 84]], dtype=int64))\n",
      "Results for n_estimators: 39\n",
      "(0.876, 0.797, array([[14, 20],\n",
      "       [ 5, 84]], dtype=int64))\n",
      "Results for n_estimators: 40\n",
      "(0.878, 0.805, array([[15, 19],\n",
      "       [ 5, 84]], dtype=int64))\n",
      "Results for n_estimators: 41\n",
      "(0.882, 0.805, array([[15, 19],\n",
      "       [ 5, 84]], dtype=int64))\n",
      "Results for n_estimators: 42\n",
      "(0.884, 0.805, array([[15, 19],\n",
      "       [ 5, 84]], dtype=int64))\n",
      "Results for n_estimators: 43\n",
      "(0.888, 0.789, array([[15, 19],\n",
      "       [ 7, 82]], dtype=int64))\n",
      "Results for n_estimators: 44\n",
      "(0.89, 0.789, array([[15, 19],\n",
      "       [ 7, 82]], dtype=int64))\n",
      "Results for n_estimators: 45\n",
      "(0.888, 0.789, array([[15, 19],\n",
      "       [ 7, 82]], dtype=int64))\n",
      "Results for n_estimators: 46\n",
      "(0.886, 0.797, array([[15, 19],\n",
      "       [ 6, 83]], dtype=int64))\n",
      "Results for n_estimators: 47\n",
      "(0.89, 0.789, array([[15, 19],\n",
      "       [ 7, 82]], dtype=int64))\n",
      "Results for n_estimators: 48\n",
      "(0.886, 0.797, array([[15, 19],\n",
      "       [ 6, 83]], dtype=int64))\n",
      "Results for n_estimators: 49\n",
      "(0.886, 0.797, array([[15, 19],\n",
      "       [ 6, 83]], dtype=int64))\n"
     ]
    }
   ],
   "source": [
    "for i in range(2,50):\n",
    "    abc = AdaBoostClassifier(DecisionTreeClassifier(random_state=31,max_depth=2),n_estimators=i)\n",
    "    print(\"Results for n_estimators: %d\"%i)\n",
    "    print(model_builder(abc))"
   ]
  },
  {
   "cell_type": "code",
   "execution_count": null,
   "id": "c6b677b9",
   "metadata": {},
   "outputs": [],
   "source": []
  },
  {
   "cell_type": "code",
   "execution_count": null,
   "id": "bc8b3971",
   "metadata": {},
   "outputs": [],
   "source": []
  },
  {
   "cell_type": "markdown",
   "id": "af46d9b1",
   "metadata": {},
   "source": [
    "# ML Model for test data"
   ]
  },
  {
   "cell_type": "markdown",
   "id": "55ac55e0",
   "metadata": {},
   "source": [
    "we are getting good results with LogisticRegression coz its binary classification . we will work on test data with Logistic."
   ]
  },
  {
   "cell_type": "code",
   "execution_count": 45,
   "id": "864e0ca0",
   "metadata": {},
   "outputs": [
    {
     "data": {
      "text/html": [
       "<div>\n",
       "<style scoped>\n",
       "    .dataframe tbody tr th:only-of-type {\n",
       "        vertical-align: middle;\n",
       "    }\n",
       "\n",
       "    .dataframe tbody tr th {\n",
       "        vertical-align: top;\n",
       "    }\n",
       "\n",
       "    .dataframe thead th {\n",
       "        text-align: right;\n",
       "    }\n",
       "</style>\n",
       "<table border=\"1\" class=\"dataframe\">\n",
       "  <thead>\n",
       "    <tr style=\"text-align: right;\">\n",
       "      <th></th>\n",
       "      <th>Loan_ID</th>\n",
       "      <th>Gender</th>\n",
       "      <th>Married</th>\n",
       "      <th>Dependents</th>\n",
       "      <th>Education</th>\n",
       "      <th>Self_Employed</th>\n",
       "      <th>ApplicantIncome</th>\n",
       "      <th>CoapplicantIncome</th>\n",
       "      <th>LoanAmount</th>\n",
       "      <th>Loan_Amount_Term</th>\n",
       "      <th>Credit_History</th>\n",
       "      <th>Property_Area</th>\n",
       "    </tr>\n",
       "  </thead>\n",
       "  <tbody>\n",
       "    <tr>\n",
       "      <th>0</th>\n",
       "      <td>LP001015</td>\n",
       "      <td>Male</td>\n",
       "      <td>Yes</td>\n",
       "      <td>0</td>\n",
       "      <td>Graduate</td>\n",
       "      <td>No</td>\n",
       "      <td>5720</td>\n",
       "      <td>0</td>\n",
       "      <td>110.0</td>\n",
       "      <td>360.0</td>\n",
       "      <td>1.0</td>\n",
       "      <td>Urban</td>\n",
       "    </tr>\n",
       "    <tr>\n",
       "      <th>1</th>\n",
       "      <td>LP001022</td>\n",
       "      <td>Male</td>\n",
       "      <td>Yes</td>\n",
       "      <td>1</td>\n",
       "      <td>Graduate</td>\n",
       "      <td>No</td>\n",
       "      <td>3076</td>\n",
       "      <td>1500</td>\n",
       "      <td>126.0</td>\n",
       "      <td>360.0</td>\n",
       "      <td>1.0</td>\n",
       "      <td>Urban</td>\n",
       "    </tr>\n",
       "    <tr>\n",
       "      <th>2</th>\n",
       "      <td>LP001031</td>\n",
       "      <td>Male</td>\n",
       "      <td>Yes</td>\n",
       "      <td>2</td>\n",
       "      <td>Graduate</td>\n",
       "      <td>No</td>\n",
       "      <td>5000</td>\n",
       "      <td>1800</td>\n",
       "      <td>208.0</td>\n",
       "      <td>360.0</td>\n",
       "      <td>1.0</td>\n",
       "      <td>Urban</td>\n",
       "    </tr>\n",
       "    <tr>\n",
       "      <th>3</th>\n",
       "      <td>LP001035</td>\n",
       "      <td>Male</td>\n",
       "      <td>Yes</td>\n",
       "      <td>2</td>\n",
       "      <td>Graduate</td>\n",
       "      <td>No</td>\n",
       "      <td>2340</td>\n",
       "      <td>2546</td>\n",
       "      <td>100.0</td>\n",
       "      <td>360.0</td>\n",
       "      <td>NaN</td>\n",
       "      <td>Urban</td>\n",
       "    </tr>\n",
       "    <tr>\n",
       "      <th>4</th>\n",
       "      <td>LP001051</td>\n",
       "      <td>Male</td>\n",
       "      <td>No</td>\n",
       "      <td>0</td>\n",
       "      <td>Not Graduate</td>\n",
       "      <td>No</td>\n",
       "      <td>3276</td>\n",
       "      <td>0</td>\n",
       "      <td>78.0</td>\n",
       "      <td>360.0</td>\n",
       "      <td>1.0</td>\n",
       "      <td>Urban</td>\n",
       "    </tr>\n",
       "    <tr>\n",
       "      <th>...</th>\n",
       "      <td>...</td>\n",
       "      <td>...</td>\n",
       "      <td>...</td>\n",
       "      <td>...</td>\n",
       "      <td>...</td>\n",
       "      <td>...</td>\n",
       "      <td>...</td>\n",
       "      <td>...</td>\n",
       "      <td>...</td>\n",
       "      <td>...</td>\n",
       "      <td>...</td>\n",
       "      <td>...</td>\n",
       "    </tr>\n",
       "    <tr>\n",
       "      <th>362</th>\n",
       "      <td>LP002971</td>\n",
       "      <td>Male</td>\n",
       "      <td>Yes</td>\n",
       "      <td>3+</td>\n",
       "      <td>Not Graduate</td>\n",
       "      <td>Yes</td>\n",
       "      <td>4009</td>\n",
       "      <td>1777</td>\n",
       "      <td>113.0</td>\n",
       "      <td>360.0</td>\n",
       "      <td>1.0</td>\n",
       "      <td>Urban</td>\n",
       "    </tr>\n",
       "    <tr>\n",
       "      <th>363</th>\n",
       "      <td>LP002975</td>\n",
       "      <td>Male</td>\n",
       "      <td>Yes</td>\n",
       "      <td>0</td>\n",
       "      <td>Graduate</td>\n",
       "      <td>No</td>\n",
       "      <td>4158</td>\n",
       "      <td>709</td>\n",
       "      <td>115.0</td>\n",
       "      <td>360.0</td>\n",
       "      <td>1.0</td>\n",
       "      <td>Urban</td>\n",
       "    </tr>\n",
       "    <tr>\n",
       "      <th>364</th>\n",
       "      <td>LP002980</td>\n",
       "      <td>Male</td>\n",
       "      <td>No</td>\n",
       "      <td>0</td>\n",
       "      <td>Graduate</td>\n",
       "      <td>No</td>\n",
       "      <td>3250</td>\n",
       "      <td>1993</td>\n",
       "      <td>126.0</td>\n",
       "      <td>360.0</td>\n",
       "      <td>NaN</td>\n",
       "      <td>Semiurban</td>\n",
       "    </tr>\n",
       "    <tr>\n",
       "      <th>365</th>\n",
       "      <td>LP002986</td>\n",
       "      <td>Male</td>\n",
       "      <td>Yes</td>\n",
       "      <td>0</td>\n",
       "      <td>Graduate</td>\n",
       "      <td>No</td>\n",
       "      <td>5000</td>\n",
       "      <td>2393</td>\n",
       "      <td>158.0</td>\n",
       "      <td>360.0</td>\n",
       "      <td>1.0</td>\n",
       "      <td>Rural</td>\n",
       "    </tr>\n",
       "    <tr>\n",
       "      <th>366</th>\n",
       "      <td>LP002989</td>\n",
       "      <td>Male</td>\n",
       "      <td>No</td>\n",
       "      <td>0</td>\n",
       "      <td>Graduate</td>\n",
       "      <td>Yes</td>\n",
       "      <td>9200</td>\n",
       "      <td>0</td>\n",
       "      <td>98.0</td>\n",
       "      <td>180.0</td>\n",
       "      <td>1.0</td>\n",
       "      <td>Rural</td>\n",
       "    </tr>\n",
       "  </tbody>\n",
       "</table>\n",
       "<p>367 rows × 12 columns</p>\n",
       "</div>"
      ],
      "text/plain": [
       "      Loan_ID Gender Married Dependents     Education Self_Employed  \\\n",
       "0    LP001015   Male     Yes          0      Graduate            No   \n",
       "1    LP001022   Male     Yes          1      Graduate            No   \n",
       "2    LP001031   Male     Yes          2      Graduate            No   \n",
       "3    LP001035   Male     Yes          2      Graduate            No   \n",
       "4    LP001051   Male      No          0  Not Graduate            No   \n",
       "..        ...    ...     ...        ...           ...           ...   \n",
       "362  LP002971   Male     Yes         3+  Not Graduate           Yes   \n",
       "363  LP002975   Male     Yes          0      Graduate            No   \n",
       "364  LP002980   Male      No          0      Graduate            No   \n",
       "365  LP002986   Male     Yes          0      Graduate            No   \n",
       "366  LP002989   Male      No          0      Graduate           Yes   \n",
       "\n",
       "     ApplicantIncome  CoapplicantIncome  LoanAmount  Loan_Amount_Term  \\\n",
       "0               5720                  0       110.0             360.0   \n",
       "1               3076               1500       126.0             360.0   \n",
       "2               5000               1800       208.0             360.0   \n",
       "3               2340               2546       100.0             360.0   \n",
       "4               3276                  0        78.0             360.0   \n",
       "..               ...                ...         ...               ...   \n",
       "362             4009               1777       113.0             360.0   \n",
       "363             4158                709       115.0             360.0   \n",
       "364             3250               1993       126.0             360.0   \n",
       "365             5000               2393       158.0             360.0   \n",
       "366             9200                  0        98.0             180.0   \n",
       "\n",
       "     Credit_History Property_Area  \n",
       "0               1.0         Urban  \n",
       "1               1.0         Urban  \n",
       "2               1.0         Urban  \n",
       "3               NaN         Urban  \n",
       "4               1.0         Urban  \n",
       "..              ...           ...  \n",
       "362             1.0         Urban  \n",
       "363             1.0         Urban  \n",
       "364             NaN     Semiurban  \n",
       "365             1.0         Rural  \n",
       "366             1.0         Rural  \n",
       "\n",
       "[367 rows x 12 columns]"
      ]
     },
     "execution_count": 45,
     "metadata": {},
     "output_type": "execute_result"
    }
   ],
   "source": [
    "dft=pd.read_csv('C:/Users/cmscomputers/Downloads/Skype/Loan_project/testing_set (1).csv')\n",
    "dft"
   ]
  },
  {
   "cell_type": "code",
   "execution_count": 46,
   "id": "7a03c7d7",
   "metadata": {},
   "outputs": [],
   "source": [
    "dft1=dft.drop(['Loan_ID'],axis=1)"
   ]
  },
  {
   "cell_type": "code",
   "execution_count": 51,
   "id": "3180a16b",
   "metadata": {},
   "outputs": [
    {
     "data": {
      "text/plain": [
       "['CoapplicantIncome',\n",
       " 'Credit_History',\n",
       " 'Married',\n",
       " 'Education',\n",
       " 'Property_Area',\n",
       " 'Loan_Status']"
      ]
     },
     "execution_count": 51,
     "metadata": {},
     "output_type": "execute_result"
    }
   ],
   "source": [
    "imp_cols"
   ]
  },
  {
   "cell_type": "code",
   "execution_count": null,
   "id": "dd4059eb",
   "metadata": {},
   "outputs": [],
   "source": []
  },
  {
   "cell_type": "code",
   "execution_count": 50,
   "id": "229f43c3",
   "metadata": {},
   "outputs": [],
   "source": [
    "cat.remove('Loan_Status')"
   ]
  },
  {
   "cell_type": "code",
   "execution_count": 52,
   "id": "148f5ab6",
   "metadata": {},
   "outputs": [],
   "source": [
    "for i in cat:\n",
    "        c=dft1[i].mode()[0]\n",
    "        dft1[i]=dft1[i].fillna(c)  #-----> For catrgorical missisng values we will replace it with mode value of that feature       \n",
    "\n",
    "        \n",
    "for i in con:\n",
    "        c=dft1[i].mean()\n",
    "        dft1[i]=dft1[i].fillna(c)     #---->for numerical missing values we will replace it with mean value of that feature"
   ]
  },
  {
   "cell_type": "code",
   "execution_count": 53,
   "id": "34672b48",
   "metadata": {},
   "outputs": [
    {
     "data": {
      "text/plain": [
       "Gender               0\n",
       "Married              0\n",
       "Dependents           0\n",
       "Education            0\n",
       "Self_Employed        0\n",
       "ApplicantIncome      0\n",
       "CoapplicantIncome    0\n",
       "LoanAmount           0\n",
       "Loan_Amount_Term     0\n",
       "Credit_History       0\n",
       "Property_Area        0\n",
       "dtype: int64"
      ]
     },
     "execution_count": 53,
     "metadata": {},
     "output_type": "execute_result"
    }
   ],
   "source": [
    "dft1.isna().sum()"
   ]
  },
  {
   "cell_type": "code",
   "execution_count": 54,
   "id": "7afeaf24",
   "metadata": {},
   "outputs": [
    {
     "data": {
      "text/plain": [
       "0     210\n",
       "2      59\n",
       "1      58\n",
       "3+     40\n",
       "Name: Dependents, dtype: int64"
      ]
     },
     "execution_count": 54,
     "metadata": {},
     "output_type": "execute_result"
    }
   ],
   "source": [
    "dft1.Dependents.value_counts()"
   ]
  },
  {
   "cell_type": "code",
   "execution_count": 55,
   "id": "7440cb3a",
   "metadata": {},
   "outputs": [],
   "source": [
    "dep = []\n",
    "for i in dft1.Dependents:\n",
    "    dep.append(int(i.replace(\"3+\",\"3\")))\n",
    "dft1.Dependents=dep"
   ]
  },
  {
   "cell_type": "code",
   "execution_count": 56,
   "id": "f2d9cfb3",
   "metadata": {},
   "outputs": [
    {
     "data": {
      "text/plain": [
       "['Married', 'Education', 'Property_Area']"
      ]
     },
     "execution_count": 56,
     "metadata": {},
     "output_type": "execute_result"
    }
   ],
   "source": [
    "cat1"
   ]
  },
  {
   "cell_type": "code",
   "execution_count": 57,
   "id": "82a3d53e",
   "metadata": {},
   "outputs": [
    {
     "data": {
      "text/html": [
       "<div>\n",
       "<style scoped>\n",
       "    .dataframe tbody tr th:only-of-type {\n",
       "        vertical-align: middle;\n",
       "    }\n",
       "\n",
       "    .dataframe tbody tr th {\n",
       "        vertical-align: top;\n",
       "    }\n",
       "\n",
       "    .dataframe thead th {\n",
       "        text-align: right;\n",
       "    }\n",
       "</style>\n",
       "<table border=\"1\" class=\"dataframe\">\n",
       "  <thead>\n",
       "    <tr style=\"text-align: right;\">\n",
       "      <th></th>\n",
       "      <th>Married_No</th>\n",
       "      <th>Married_Yes</th>\n",
       "      <th>Education_Graduate</th>\n",
       "      <th>Education_Not Graduate</th>\n",
       "      <th>Property_Area_Rural</th>\n",
       "      <th>Property_Area_Semiurban</th>\n",
       "      <th>Property_Area_Urban</th>\n",
       "    </tr>\n",
       "  </thead>\n",
       "  <tbody>\n",
       "    <tr>\n",
       "      <th>0</th>\n",
       "      <td>0</td>\n",
       "      <td>1</td>\n",
       "      <td>1</td>\n",
       "      <td>0</td>\n",
       "      <td>0</td>\n",
       "      <td>0</td>\n",
       "      <td>1</td>\n",
       "    </tr>\n",
       "    <tr>\n",
       "      <th>1</th>\n",
       "      <td>0</td>\n",
       "      <td>1</td>\n",
       "      <td>1</td>\n",
       "      <td>0</td>\n",
       "      <td>0</td>\n",
       "      <td>0</td>\n",
       "      <td>1</td>\n",
       "    </tr>\n",
       "    <tr>\n",
       "      <th>2</th>\n",
       "      <td>0</td>\n",
       "      <td>1</td>\n",
       "      <td>1</td>\n",
       "      <td>0</td>\n",
       "      <td>0</td>\n",
       "      <td>0</td>\n",
       "      <td>1</td>\n",
       "    </tr>\n",
       "    <tr>\n",
       "      <th>3</th>\n",
       "      <td>0</td>\n",
       "      <td>1</td>\n",
       "      <td>1</td>\n",
       "      <td>0</td>\n",
       "      <td>0</td>\n",
       "      <td>0</td>\n",
       "      <td>1</td>\n",
       "    </tr>\n",
       "    <tr>\n",
       "      <th>4</th>\n",
       "      <td>1</td>\n",
       "      <td>0</td>\n",
       "      <td>0</td>\n",
       "      <td>1</td>\n",
       "      <td>0</td>\n",
       "      <td>0</td>\n",
       "      <td>1</td>\n",
       "    </tr>\n",
       "    <tr>\n",
       "      <th>...</th>\n",
       "      <td>...</td>\n",
       "      <td>...</td>\n",
       "      <td>...</td>\n",
       "      <td>...</td>\n",
       "      <td>...</td>\n",
       "      <td>...</td>\n",
       "      <td>...</td>\n",
       "    </tr>\n",
       "    <tr>\n",
       "      <th>362</th>\n",
       "      <td>0</td>\n",
       "      <td>1</td>\n",
       "      <td>0</td>\n",
       "      <td>1</td>\n",
       "      <td>0</td>\n",
       "      <td>0</td>\n",
       "      <td>1</td>\n",
       "    </tr>\n",
       "    <tr>\n",
       "      <th>363</th>\n",
       "      <td>0</td>\n",
       "      <td>1</td>\n",
       "      <td>1</td>\n",
       "      <td>0</td>\n",
       "      <td>0</td>\n",
       "      <td>0</td>\n",
       "      <td>1</td>\n",
       "    </tr>\n",
       "    <tr>\n",
       "      <th>364</th>\n",
       "      <td>1</td>\n",
       "      <td>0</td>\n",
       "      <td>1</td>\n",
       "      <td>0</td>\n",
       "      <td>0</td>\n",
       "      <td>1</td>\n",
       "      <td>0</td>\n",
       "    </tr>\n",
       "    <tr>\n",
       "      <th>365</th>\n",
       "      <td>0</td>\n",
       "      <td>1</td>\n",
       "      <td>1</td>\n",
       "      <td>0</td>\n",
       "      <td>1</td>\n",
       "      <td>0</td>\n",
       "      <td>0</td>\n",
       "    </tr>\n",
       "    <tr>\n",
       "      <th>366</th>\n",
       "      <td>1</td>\n",
       "      <td>0</td>\n",
       "      <td>1</td>\n",
       "      <td>0</td>\n",
       "      <td>1</td>\n",
       "      <td>0</td>\n",
       "      <td>0</td>\n",
       "    </tr>\n",
       "  </tbody>\n",
       "</table>\n",
       "<p>367 rows × 7 columns</p>\n",
       "</div>"
      ],
      "text/plain": [
       "     Married_No  Married_Yes  Education_Graduate  Education_Not Graduate  \\\n",
       "0             0            1                   1                       0   \n",
       "1             0            1                   1                       0   \n",
       "2             0            1                   1                       0   \n",
       "3             0            1                   1                       0   \n",
       "4             1            0                   0                       1   \n",
       "..          ...          ...                 ...                     ...   \n",
       "362           0            1                   0                       1   \n",
       "363           0            1                   1                       0   \n",
       "364           1            0                   1                       0   \n",
       "365           0            1                   1                       0   \n",
       "366           1            0                   1                       0   \n",
       "\n",
       "     Property_Area_Rural  Property_Area_Semiurban  Property_Area_Urban  \n",
       "0                      0                        0                    1  \n",
       "1                      0                        0                    1  \n",
       "2                      0                        0                    1  \n",
       "3                      0                        0                    1  \n",
       "4                      0                        0                    1  \n",
       "..                   ...                      ...                  ...  \n",
       "362                    0                        0                    1  \n",
       "363                    0                        0                    1  \n",
       "364                    0                        1                    0  \n",
       "365                    1                        0                    0  \n",
       "366                    1                        0                    0  \n",
       "\n",
       "[367 rows x 7 columns]"
      ]
     },
     "execution_count": 57,
     "metadata": {},
     "output_type": "execute_result"
    }
   ],
   "source": [
    "m=pd.get_dummies(dft1[cat1])\n",
    "m"
   ]
  },
  {
   "cell_type": "code",
   "execution_count": 58,
   "id": "22600d10",
   "metadata": {},
   "outputs": [
    {
     "data": {
      "text/plain": [
       "['CoapplicantIncome', 'Credit_History']"
      ]
     },
     "execution_count": 58,
     "metadata": {},
     "output_type": "execute_result"
    }
   ],
   "source": [
    "con1"
   ]
  },
  {
   "cell_type": "code",
   "execution_count": 60,
   "id": "70c45f04",
   "metadata": {},
   "outputs": [
    {
     "data": {
      "text/html": [
       "<div>\n",
       "<style scoped>\n",
       "    .dataframe tbody tr th:only-of-type {\n",
       "        vertical-align: middle;\n",
       "    }\n",
       "\n",
       "    .dataframe tbody tr th {\n",
       "        vertical-align: top;\n",
       "    }\n",
       "\n",
       "    .dataframe thead tr th {\n",
       "        text-align: left;\n",
       "    }\n",
       "</style>\n",
       "<table border=\"1\" class=\"dataframe\">\n",
       "  <thead>\n",
       "    <tr>\n",
       "      <th></th>\n",
       "      <th>CoapplicantIncome</th>\n",
       "      <th>Credit_History</th>\n",
       "    </tr>\n",
       "  </thead>\n",
       "  <tbody>\n",
       "    <tr>\n",
       "      <th>0</th>\n",
       "      <td>-0.673335</td>\n",
       "      <td>0.47918</td>\n",
       "    </tr>\n",
       "    <tr>\n",
       "      <th>1</th>\n",
       "      <td>-0.029848</td>\n",
       "      <td>0.47918</td>\n",
       "    </tr>\n",
       "    <tr>\n",
       "      <th>2</th>\n",
       "      <td>0.098849</td>\n",
       "      <td>0.47918</td>\n",
       "    </tr>\n",
       "    <tr>\n",
       "      <th>3</th>\n",
       "      <td>0.418877</td>\n",
       "      <td>0.00000</td>\n",
       "    </tr>\n",
       "    <tr>\n",
       "      <th>4</th>\n",
       "      <td>-0.673335</td>\n",
       "      <td>0.47918</td>\n",
       "    </tr>\n",
       "    <tr>\n",
       "      <th>...</th>\n",
       "      <td>...</td>\n",
       "      <td>...</td>\n",
       "    </tr>\n",
       "    <tr>\n",
       "      <th>362</th>\n",
       "      <td>0.088982</td>\n",
       "      <td>0.47918</td>\n",
       "    </tr>\n",
       "    <tr>\n",
       "      <th>363</th>\n",
       "      <td>-0.369180</td>\n",
       "      <td>0.47918</td>\n",
       "    </tr>\n",
       "    <tr>\n",
       "      <th>364</th>\n",
       "      <td>0.181644</td>\n",
       "      <td>0.00000</td>\n",
       "    </tr>\n",
       "    <tr>\n",
       "      <th>365</th>\n",
       "      <td>0.353241</td>\n",
       "      <td>0.47918</td>\n",
       "    </tr>\n",
       "    <tr>\n",
       "      <th>366</th>\n",
       "      <td>-0.673335</td>\n",
       "      <td>0.47918</td>\n",
       "    </tr>\n",
       "  </tbody>\n",
       "</table>\n",
       "<p>367 rows × 2 columns</p>\n",
       "</div>"
      ],
      "text/plain": [
       "    CoapplicantIncome Credit_History\n",
       "0           -0.673335        0.47918\n",
       "1           -0.029848        0.47918\n",
       "2            0.098849        0.47918\n",
       "3            0.418877        0.00000\n",
       "4           -0.673335        0.47918\n",
       "..                ...            ...\n",
       "362          0.088982        0.47918\n",
       "363         -0.369180        0.47918\n",
       "364          0.181644        0.00000\n",
       "365          0.353241        0.47918\n",
       "366         -0.673335        0.47918\n",
       "\n",
       "[367 rows x 2 columns]"
      ]
     },
     "execution_count": 60,
     "metadata": {},
     "output_type": "execute_result"
    }
   ],
   "source": [
    "n=pd.DataFrame(ss.fit_transform(dft1[con1]),columns=[con1])\n",
    "n"
   ]
  },
  {
   "cell_type": "code",
   "execution_count": 61,
   "id": "dcff4524",
   "metadata": {},
   "outputs": [],
   "source": [
    "x=pd.concat([n,m],axis=1)\n",
    "Xt=pd.DataFrame(x)"
   ]
  },
  {
   "cell_type": "code",
   "execution_count": 62,
   "id": "d9e3e9d9",
   "metadata": {},
   "outputs": [
    {
     "name": "stdout",
     "output_type": "stream",
     "text": [
      "<class 'pandas.core.frame.DataFrame'>\n",
      "RangeIndex: 367 entries, 0 to 366\n",
      "Data columns (total 9 columns):\n",
      " #   Column                   Non-Null Count  Dtype  \n",
      "---  ------                   --------------  -----  \n",
      " 0   (CoapplicantIncome,)     367 non-null    float64\n",
      " 1   (Credit_History,)        367 non-null    float64\n",
      " 2   Married_No               367 non-null    uint8  \n",
      " 3   Married_Yes              367 non-null    uint8  \n",
      " 4   Education_Graduate       367 non-null    uint8  \n",
      " 5   Education_Not Graduate   367 non-null    uint8  \n",
      " 6   Property_Area_Rural      367 non-null    uint8  \n",
      " 7   Property_Area_Semiurban  367 non-null    uint8  \n",
      " 8   Property_Area_Urban      367 non-null    uint8  \n",
      "dtypes: float64(2), uint8(7)\n",
      "memory usage: 8.4 KB\n"
     ]
    }
   ],
   "source": [
    "Xt.info()"
   ]
  },
  {
   "cell_type": "markdown",
   "id": "b78ac5eb",
   "metadata": {},
   "source": [
    "# Creating model for train data"
   ]
  },
  {
   "cell_type": "code",
   "execution_count": 64,
   "id": "81d8cdbd",
   "metadata": {},
   "outputs": [],
   "source": [
    "from sklearn.model_selection import train_test_split\n",
    "xtrain,xtest,ytrain,ytest=train_test_split(X1,Y,test_size=0.2,random_state=31)\n",
    "from sklearn.tree import DecisionTreeClassifier\n",
    "dtc=DecisionTreeClassifier(criterion='entropy',random_state=31,max_depth=2)\n",
    "model=dtc.fit(xtrain,ytrain)"
   ]
  },
  {
   "cell_type": "code",
   "execution_count": 65,
   "id": "0532e9d6",
   "metadata": {},
   "outputs": [
    {
     "data": {
      "text/plain": [
       "array(['Y', 'Y', 'Y', 'Y', 'Y', 'Y', 'Y', 'N', 'Y', 'Y', 'Y', 'Y', 'Y',\n",
       "       'N', 'Y', 'Y', 'Y', 'Y', 'Y', 'Y', 'Y', 'Y', 'Y', 'Y', 'Y', 'N',\n",
       "       'Y', 'Y', 'Y', 'Y', 'Y', 'Y', 'Y', 'Y', 'Y', 'N', 'Y', 'Y', 'Y',\n",
       "       'Y', 'Y', 'Y', 'Y', 'Y', 'Y', 'Y', 'Y', 'Y', 'Y', 'Y', 'Y', 'Y',\n",
       "       'Y', 'Y', 'Y', 'N', 'Y', 'Y', 'N', 'Y', 'Y', 'Y', 'Y', 'N', 'Y',\n",
       "       'Y', 'N', 'N', 'Y', 'N', 'Y', 'Y', 'Y', 'Y', 'Y', 'Y', 'Y', 'Y',\n",
       "       'Y', 'Y', 'N', 'Y', 'N', 'Y', 'N', 'Y', 'Y', 'Y', 'Y', 'Y', 'Y',\n",
       "       'Y', 'Y', 'Y', 'N', 'Y', 'Y', 'Y', 'Y', 'Y', 'Y', 'N', 'Y', 'Y',\n",
       "       'Y', 'Y', 'N', 'Y', 'Y', 'Y', 'Y', 'Y', 'Y', 'Y', 'Y', 'Y', 'Y',\n",
       "       'N', 'N', 'N', 'Y', 'Y', 'Y', 'N', 'N', 'Y', 'N', 'Y', 'Y', 'Y',\n",
       "       'Y', 'Y', 'Y', 'Y', 'Y', 'Y', 'Y', 'Y', 'Y', 'Y', 'N', 'Y', 'N',\n",
       "       'Y', 'Y', 'Y', 'Y', 'N', 'Y', 'Y', 'Y', 'Y', 'Y', 'N', 'Y', 'Y',\n",
       "       'Y', 'Y', 'Y', 'Y', 'Y', 'N', 'Y', 'Y', 'Y', 'N', 'N', 'Y', 'N',\n",
       "       'Y', 'Y', 'Y', 'Y', 'N', 'N', 'Y', 'Y', 'Y', 'Y', 'Y', 'Y', 'Y',\n",
       "       'Y', 'Y', 'Y', 'Y', 'Y', 'Y', 'Y', 'Y', 'Y', 'Y', 'N', 'N', 'Y',\n",
       "       'Y', 'N', 'Y', 'N', 'Y', 'Y', 'Y', 'Y', 'Y', 'Y', 'Y', 'Y', 'Y',\n",
       "       'Y', 'Y', 'Y', 'N', 'Y', 'Y', 'Y', 'Y', 'Y', 'Y', 'Y', 'Y', 'Y',\n",
       "       'Y', 'Y', 'Y', 'N', 'Y', 'Y', 'Y', 'Y', 'N', 'Y', 'Y', 'Y', 'Y',\n",
       "       'Y', 'N', 'N', 'Y', 'Y', 'Y', 'Y', 'N', 'Y', 'N', 'Y', 'N', 'Y',\n",
       "       'Y', 'Y', 'Y', 'N', 'Y', 'Y', 'Y', 'Y', 'N', 'Y', 'Y', 'Y', 'Y',\n",
       "       'Y', 'Y', 'Y', 'Y', 'Y', 'Y', 'N', 'Y', 'N', 'Y', 'Y', 'Y', 'Y',\n",
       "       'N', 'N', 'Y', 'Y', 'Y', 'N', 'Y', 'Y', 'Y', 'Y', 'Y', 'Y', 'Y',\n",
       "       'Y', 'Y', 'Y', 'Y', 'Y', 'Y', 'Y', 'N', 'Y', 'Y', 'Y', 'Y', 'Y',\n",
       "       'Y', 'Y', 'N', 'Y', 'Y', 'Y', 'Y', 'Y', 'Y', 'Y', 'Y', 'Y', 'N',\n",
       "       'Y', 'Y', 'Y', 'Y', 'Y', 'N', 'Y', 'Y', 'Y', 'Y', 'Y', 'Y', 'Y',\n",
       "       'N', 'Y', 'Y', 'Y', 'Y', 'Y', 'Y', 'Y', 'Y', 'Y', 'Y', 'Y', 'Y',\n",
       "       'Y', 'N', 'Y', 'Y', 'Y', 'Y', 'Y', 'Y', 'N', 'Y', 'Y', 'Y', 'Y',\n",
       "       'Y', 'Y', 'Y', 'N', 'Y', 'Y', 'Y', 'Y', 'Y', 'Y', 'Y', 'Y', 'Y',\n",
       "       'Y', 'Y', 'Y'], dtype=object)"
      ]
     },
     "execution_count": 65,
     "metadata": {},
     "output_type": "execute_result"
    }
   ],
   "source": [
    "model.predict(Xt)"
   ]
  },
  {
   "cell_type": "code",
   "execution_count": null,
   "id": "388c3820",
   "metadata": {},
   "outputs": [],
   "source": []
  },
  {
   "cell_type": "markdown",
   "id": "3f5be33c",
   "metadata": {},
   "source": [
    "# Getting prediction on test data"
   ]
  },
  {
   "cell_type": "code",
   "execution_count": 67,
   "id": "532cf0d5",
   "metadata": {},
   "outputs": [
    {
     "data": {
      "text/plain": [
       "(614, 9)"
      ]
     },
     "execution_count": 67,
     "metadata": {},
     "output_type": "execute_result"
    }
   ],
   "source": [
    "X1.shape"
   ]
  },
  {
   "cell_type": "code",
   "execution_count": 68,
   "id": "1fb5afc9",
   "metadata": {},
   "outputs": [
    {
     "data": {
      "text/plain": [
       "(367, 9)"
      ]
     },
     "execution_count": 68,
     "metadata": {},
     "output_type": "execute_result"
    }
   ],
   "source": [
    "Xt.shape"
   ]
  },
  {
   "cell_type": "code",
   "execution_count": 69,
   "id": "075d3be5",
   "metadata": {},
   "outputs": [],
   "source": [
    "dft1['Loan_Status']=model.predict(Xt)"
   ]
  },
  {
   "cell_type": "code",
   "execution_count": 70,
   "id": "94e7954d",
   "metadata": {},
   "outputs": [
    {
     "data": {
      "text/html": [
       "<div>\n",
       "<style scoped>\n",
       "    .dataframe tbody tr th:only-of-type {\n",
       "        vertical-align: middle;\n",
       "    }\n",
       "\n",
       "    .dataframe tbody tr th {\n",
       "        vertical-align: top;\n",
       "    }\n",
       "\n",
       "    .dataframe thead th {\n",
       "        text-align: right;\n",
       "    }\n",
       "</style>\n",
       "<table border=\"1\" class=\"dataframe\">\n",
       "  <thead>\n",
       "    <tr style=\"text-align: right;\">\n",
       "      <th></th>\n",
       "      <th>Gender</th>\n",
       "      <th>Married</th>\n",
       "      <th>Dependents</th>\n",
       "      <th>Education</th>\n",
       "      <th>Self_Employed</th>\n",
       "      <th>ApplicantIncome</th>\n",
       "      <th>CoapplicantIncome</th>\n",
       "      <th>LoanAmount</th>\n",
       "      <th>Loan_Amount_Term</th>\n",
       "      <th>Credit_History</th>\n",
       "      <th>Property_Area</th>\n",
       "      <th>Loan_Status</th>\n",
       "    </tr>\n",
       "  </thead>\n",
       "  <tbody>\n",
       "    <tr>\n",
       "      <th>0</th>\n",
       "      <td>Male</td>\n",
       "      <td>Yes</td>\n",
       "      <td>0</td>\n",
       "      <td>Graduate</td>\n",
       "      <td>No</td>\n",
       "      <td>5720</td>\n",
       "      <td>0</td>\n",
       "      <td>110.0</td>\n",
       "      <td>360.0</td>\n",
       "      <td>1.000000</td>\n",
       "      <td>Urban</td>\n",
       "      <td>Y</td>\n",
       "    </tr>\n",
       "    <tr>\n",
       "      <th>1</th>\n",
       "      <td>Male</td>\n",
       "      <td>Yes</td>\n",
       "      <td>1</td>\n",
       "      <td>Graduate</td>\n",
       "      <td>No</td>\n",
       "      <td>3076</td>\n",
       "      <td>1500</td>\n",
       "      <td>126.0</td>\n",
       "      <td>360.0</td>\n",
       "      <td>1.000000</td>\n",
       "      <td>Urban</td>\n",
       "      <td>Y</td>\n",
       "    </tr>\n",
       "    <tr>\n",
       "      <th>2</th>\n",
       "      <td>Male</td>\n",
       "      <td>Yes</td>\n",
       "      <td>2</td>\n",
       "      <td>Graduate</td>\n",
       "      <td>No</td>\n",
       "      <td>5000</td>\n",
       "      <td>1800</td>\n",
       "      <td>208.0</td>\n",
       "      <td>360.0</td>\n",
       "      <td>1.000000</td>\n",
       "      <td>Urban</td>\n",
       "      <td>Y</td>\n",
       "    </tr>\n",
       "    <tr>\n",
       "      <th>3</th>\n",
       "      <td>Male</td>\n",
       "      <td>Yes</td>\n",
       "      <td>2</td>\n",
       "      <td>Graduate</td>\n",
       "      <td>No</td>\n",
       "      <td>2340</td>\n",
       "      <td>2546</td>\n",
       "      <td>100.0</td>\n",
       "      <td>360.0</td>\n",
       "      <td>0.825444</td>\n",
       "      <td>Urban</td>\n",
       "      <td>Y</td>\n",
       "    </tr>\n",
       "    <tr>\n",
       "      <th>4</th>\n",
       "      <td>Male</td>\n",
       "      <td>No</td>\n",
       "      <td>0</td>\n",
       "      <td>Not Graduate</td>\n",
       "      <td>No</td>\n",
       "      <td>3276</td>\n",
       "      <td>0</td>\n",
       "      <td>78.0</td>\n",
       "      <td>360.0</td>\n",
       "      <td>1.000000</td>\n",
       "      <td>Urban</td>\n",
       "      <td>Y</td>\n",
       "    </tr>\n",
       "    <tr>\n",
       "      <th>...</th>\n",
       "      <td>...</td>\n",
       "      <td>...</td>\n",
       "      <td>...</td>\n",
       "      <td>...</td>\n",
       "      <td>...</td>\n",
       "      <td>...</td>\n",
       "      <td>...</td>\n",
       "      <td>...</td>\n",
       "      <td>...</td>\n",
       "      <td>...</td>\n",
       "      <td>...</td>\n",
       "      <td>...</td>\n",
       "    </tr>\n",
       "    <tr>\n",
       "      <th>362</th>\n",
       "      <td>Male</td>\n",
       "      <td>Yes</td>\n",
       "      <td>3</td>\n",
       "      <td>Not Graduate</td>\n",
       "      <td>Yes</td>\n",
       "      <td>4009</td>\n",
       "      <td>1777</td>\n",
       "      <td>113.0</td>\n",
       "      <td>360.0</td>\n",
       "      <td>1.000000</td>\n",
       "      <td>Urban</td>\n",
       "      <td>Y</td>\n",
       "    </tr>\n",
       "    <tr>\n",
       "      <th>363</th>\n",
       "      <td>Male</td>\n",
       "      <td>Yes</td>\n",
       "      <td>0</td>\n",
       "      <td>Graduate</td>\n",
       "      <td>No</td>\n",
       "      <td>4158</td>\n",
       "      <td>709</td>\n",
       "      <td>115.0</td>\n",
       "      <td>360.0</td>\n",
       "      <td>1.000000</td>\n",
       "      <td>Urban</td>\n",
       "      <td>Y</td>\n",
       "    </tr>\n",
       "    <tr>\n",
       "      <th>364</th>\n",
       "      <td>Male</td>\n",
       "      <td>No</td>\n",
       "      <td>0</td>\n",
       "      <td>Graduate</td>\n",
       "      <td>No</td>\n",
       "      <td>3250</td>\n",
       "      <td>1993</td>\n",
       "      <td>126.0</td>\n",
       "      <td>360.0</td>\n",
       "      <td>0.825444</td>\n",
       "      <td>Semiurban</td>\n",
       "      <td>Y</td>\n",
       "    </tr>\n",
       "    <tr>\n",
       "      <th>365</th>\n",
       "      <td>Male</td>\n",
       "      <td>Yes</td>\n",
       "      <td>0</td>\n",
       "      <td>Graduate</td>\n",
       "      <td>No</td>\n",
       "      <td>5000</td>\n",
       "      <td>2393</td>\n",
       "      <td>158.0</td>\n",
       "      <td>360.0</td>\n",
       "      <td>1.000000</td>\n",
       "      <td>Rural</td>\n",
       "      <td>Y</td>\n",
       "    </tr>\n",
       "    <tr>\n",
       "      <th>366</th>\n",
       "      <td>Male</td>\n",
       "      <td>No</td>\n",
       "      <td>0</td>\n",
       "      <td>Graduate</td>\n",
       "      <td>Yes</td>\n",
       "      <td>9200</td>\n",
       "      <td>0</td>\n",
       "      <td>98.0</td>\n",
       "      <td>180.0</td>\n",
       "      <td>1.000000</td>\n",
       "      <td>Rural</td>\n",
       "      <td>Y</td>\n",
       "    </tr>\n",
       "  </tbody>\n",
       "</table>\n",
       "<p>367 rows × 12 columns</p>\n",
       "</div>"
      ],
      "text/plain": [
       "    Gender Married  Dependents     Education Self_Employed  ApplicantIncome  \\\n",
       "0     Male     Yes           0      Graduate            No             5720   \n",
       "1     Male     Yes           1      Graduate            No             3076   \n",
       "2     Male     Yes           2      Graduate            No             5000   \n",
       "3     Male     Yes           2      Graduate            No             2340   \n",
       "4     Male      No           0  Not Graduate            No             3276   \n",
       "..     ...     ...         ...           ...           ...              ...   \n",
       "362   Male     Yes           3  Not Graduate           Yes             4009   \n",
       "363   Male     Yes           0      Graduate            No             4158   \n",
       "364   Male      No           0      Graduate            No             3250   \n",
       "365   Male     Yes           0      Graduate            No             5000   \n",
       "366   Male      No           0      Graduate           Yes             9200   \n",
       "\n",
       "     CoapplicantIncome  LoanAmount  Loan_Amount_Term  Credit_History  \\\n",
       "0                    0       110.0             360.0        1.000000   \n",
       "1                 1500       126.0             360.0        1.000000   \n",
       "2                 1800       208.0             360.0        1.000000   \n",
       "3                 2546       100.0             360.0        0.825444   \n",
       "4                    0        78.0             360.0        1.000000   \n",
       "..                 ...         ...               ...             ...   \n",
       "362               1777       113.0             360.0        1.000000   \n",
       "363                709       115.0             360.0        1.000000   \n",
       "364               1993       126.0             360.0        0.825444   \n",
       "365               2393       158.0             360.0        1.000000   \n",
       "366                  0        98.0             180.0        1.000000   \n",
       "\n",
       "    Property_Area Loan_Status  \n",
       "0           Urban           Y  \n",
       "1           Urban           Y  \n",
       "2           Urban           Y  \n",
       "3           Urban           Y  \n",
       "4           Urban           Y  \n",
       "..            ...         ...  \n",
       "362         Urban           Y  \n",
       "363         Urban           Y  \n",
       "364     Semiurban           Y  \n",
       "365         Rural           Y  \n",
       "366         Rural           Y  \n",
       "\n",
       "[367 rows x 12 columns]"
      ]
     },
     "execution_count": 70,
     "metadata": {},
     "output_type": "execute_result"
    }
   ],
   "source": [
    "dft1"
   ]
  },
  {
   "cell_type": "code",
   "execution_count": null,
   "id": "7ad898be",
   "metadata": {},
   "outputs": [],
   "source": []
  }
 ],
 "metadata": {
  "kernelspec": {
   "display_name": "Python 3 (ipykernel)",
   "language": "python",
   "name": "python3"
  },
  "language_info": {
   "codemirror_mode": {
    "name": "ipython",
    "version": 3
   },
   "file_extension": ".py",
   "mimetype": "text/x-python",
   "name": "python",
   "nbconvert_exporter": "python",
   "pygments_lexer": "ipython3",
   "version": "3.8.12"
  }
 },
 "nbformat": 4,
 "nbformat_minor": 5
}
